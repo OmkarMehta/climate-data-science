{
 "cells": [
  {
   "cell_type": "code",
   "execution_count": 1,
   "id": "2ecca880",
   "metadata": {},
   "outputs": [],
   "source": [
    "import pandas as pd\n",
    "import numpy as np\n",
    "from matplotlib import pyplot as plt"
   ]
  },
  {
   "cell_type": "markdown",
   "id": "deb091ff",
   "metadata": {},
   "source": [
    "## Overview of climate temperature project data\n",
    "- Annual, average daily maximum temperature projections for Champaign County, based on output from various climate models\n",
    "<br><br>\n",
    "- *More info*: https://crt-climate-explorer.nemac.org/climate_graphs/?city=Champaign%2C+IL&county=Champaign%2BCounty&area-id=17019&fips=17019&zoom=7&lat=40.1164204&lon=-88.2433829\n",
    "<br><br>\n",
    "\n",
    "## Greenhouse gas concentration scenarios used\n",
    "- Greenhouse gas concentrations = radiative forcing of climate\n",
    "<br><br>\n",
    "- **RCP4.5**:  Based on a future in which humans stop increasing global emissions of heat-trapping gases by 2040 and then dramatically reduce them through 2100\n",
    "<br><br>\n",
    "- **RCP8.5**:  Bbased on a future in which global emissions of heat-trapping gases continue increasing through 2100\n",
    "<br><br>\n",
    "\n",
    "## Important caveat regarding interpretation\n",
    "- Projections are typically considered on a decadal (decade) scale, rather than annual scale - so don't interpret annual values themselves too much!"
   ]
  },
  {
   "cell_type": "code",
   "execution_count": 2,
   "id": "a803f2a3",
   "metadata": {},
   "outputs": [],
   "source": [
    "#(1) Read in the data. What logically should you set as your index?\n",
    "\n",
    "data = pd.read_csv('Champaign_County-annual-proj_mod-tmax.csv')"
   ]
  },
  {
   "cell_type": "code",
   "execution_count": 3,
   "id": "14de9aed",
   "metadata": {},
   "outputs": [],
   "source": [
    "# (2) \n",
    "# (a) Drop the last column after reading the note\n",
    "data = data.drop(columns=data.columns[-1],axis=1)"
   ]
  },
  {
   "cell_type": "code",
   "execution_count": 4,
   "id": "d47607d5",
   "metadata": {},
   "outputs": [
    {
     "name": "stdout",
     "output_type": "stream",
     "text": [
      "Index(['year', ' rcp45_weighted_mean', ' rcp45_min', ' rcp45_max',\n",
      "       ' rcp85_weighted_mean', ' rcp85_min', ' rcp85_max'],\n",
      "      dtype='object')\n",
      "Index(['year', 'rcp45_weighted_mean', 'rcp45_min', 'rcp45_max',\n",
      "       'rcp85_weighted_mean', 'rcp85_min', 'rcp85_max'],\n",
      "      dtype='object')\n"
     ]
    }
   ],
   "source": [
    "# (2)\n",
    "print(data.columns) # leading whitespaces - awkward when referencing column names moving forward\n",
    "#(b.) Strip leading whitespaces using string manipulation functionality \n",
    "data.columns = data.columns.str.lstrip()\n",
    "print(data.columns)\n",
    "\n",
    "# This would work too, remvoves ALL whitespaces - fine for this as our column names ONLY have \n",
    "# extra whitespaces and not actually legitimate ones, i.e., our column names do not consist of\n",
    "# multiple words\n",
    "#data.columns = data.columns.str.replace(' ', '')"
   ]
  },
  {
   "cell_type": "code",
   "execution_count": 5,
   "id": "c6e361bb",
   "metadata": {},
   "outputs": [
    {
     "name": "stdout",
     "output_type": "stream",
     "text": [
      "year                   0\n",
      "rcp45_weighted_mean    0\n",
      "rcp45_min              0\n",
      "rcp45_max              0\n",
      "rcp85_weighted_mean    0\n",
      "rcp85_min              0\n",
      "rcp85_max              0\n",
      "dtype: int64\n"
     ]
    }
   ],
   "source": [
    "# (2)\n",
    "#(c.) Check for NaNs!\n",
    "print(data.isnull().sum())\n",
    "\n"
   ]
  },
  {
   "cell_type": "code",
   "execution_count": 9,
   "id": "666e39a6",
   "metadata": {},
   "outputs": [
    {
     "data": {
      "text/html": [
       "<div>\n",
       "<style scoped>\n",
       "    .dataframe tbody tr th:only-of-type {\n",
       "        vertical-align: middle;\n",
       "    }\n",
       "\n",
       "    .dataframe tbody tr th {\n",
       "        vertical-align: top;\n",
       "    }\n",
       "\n",
       "    .dataframe thead th {\n",
       "        text-align: right;\n",
       "    }\n",
       "</style>\n",
       "<table border=\"1\" class=\"dataframe\">\n",
       "  <thead>\n",
       "    <tr style=\"text-align: right;\">\n",
       "      <th></th>\n",
       "      <th>rcp45_weighted_mean</th>\n",
       "      <th>rcp85_weighted_mean</th>\n",
       "    </tr>\n",
       "  </thead>\n",
       "  <tbody>\n",
       "    <tr>\n",
       "      <th>0</th>\n",
       "      <td>63.7</td>\n",
       "      <td>63.7</td>\n",
       "    </tr>\n",
       "    <tr>\n",
       "      <th>1</th>\n",
       "      <td>63.7</td>\n",
       "      <td>63.5</td>\n",
       "    </tr>\n",
       "    <tr>\n",
       "      <th>2</th>\n",
       "      <td>64.1</td>\n",
       "      <td>63.4</td>\n",
       "    </tr>\n",
       "    <tr>\n",
       "      <th>3</th>\n",
       "      <td>63.3</td>\n",
       "      <td>64.1</td>\n",
       "    </tr>\n",
       "    <tr>\n",
       "      <th>4</th>\n",
       "      <td>63.4</td>\n",
       "      <td>63.5</td>\n",
       "    </tr>\n",
       "  </tbody>\n",
       "</table>\n",
       "</div>"
      ],
      "text/plain": [
       "   rcp45_weighted_mean  rcp85_weighted_mean\n",
       "0                 63.7                 63.7\n",
       "1                 63.7                 63.5\n",
       "2                 64.1                 63.4\n",
       "3                 63.3                 64.1\n",
       "4                 63.4                 63.5"
      ]
     },
     "execution_count": 9,
     "metadata": {},
     "output_type": "execute_result"
    }
   ],
   "source": [
    "# (3) Indexing practice - access just the rcp45_weight_mean and rcp85_weight_mean columns \n",
    "# and save to weighted_means variable \n",
    "weighted_means = data.loc[:,['rcp45_weighted_mean','rcp85_weighted_mean']]\n",
    "\n",
    "# SCIENCE ALERT\n",
    "# What are these weighted means?\n",
    "weighted_means.head()\n",
    "\n",
    "# Global climate models are weighted using an approach that considers skill in climatological \n",
    "# performance of models over North America and interdependency of models arising from common parameterizations\n",
    "\n",
    "\n",
    "\n",
    "\n"
   ]
  },
  {
   "cell_type": "code",
   "execution_count": 11,
   "id": "694d1077",
   "metadata": {},
   "outputs": [
    {
     "data": {
      "text/html": [
       "<div>\n",
       "<style scoped>\n",
       "    .dataframe tbody tr th:only-of-type {\n",
       "        vertical-align: middle;\n",
       "    }\n",
       "\n",
       "    .dataframe tbody tr th {\n",
       "        vertical-align: top;\n",
       "    }\n",
       "\n",
       "    .dataframe thead th {\n",
       "        text-align: right;\n",
       "    }\n",
       "</style>\n",
       "<table border=\"1\" class=\"dataframe\">\n",
       "  <thead>\n",
       "    <tr style=\"text-align: right;\">\n",
       "      <th></th>\n",
       "      <th>year</th>\n",
       "      <th>rcp45_weighted_mean</th>\n",
       "      <th>rcp45_min</th>\n",
       "      <th>rcp45_max</th>\n",
       "      <th>rcp85_weighted_mean</th>\n",
       "      <th>rcp85_min</th>\n",
       "      <th>rcp85_max</th>\n",
       "      <th>difference</th>\n",
       "    </tr>\n",
       "  </thead>\n",
       "  <tbody>\n",
       "    <tr>\n",
       "      <th>0</th>\n",
       "      <td>2005</td>\n",
       "      <td>63.7</td>\n",
       "      <td>59.5</td>\n",
       "      <td>66.7</td>\n",
       "      <td>63.7</td>\n",
       "      <td>59.5</td>\n",
       "      <td>66.7</td>\n",
       "      <td>0.0</td>\n",
       "    </tr>\n",
       "    <tr>\n",
       "      <th>1</th>\n",
       "      <td>2006</td>\n",
       "      <td>63.7</td>\n",
       "      <td>60.2</td>\n",
       "      <td>67.3</td>\n",
       "      <td>63.5</td>\n",
       "      <td>60.7</td>\n",
       "      <td>66.4</td>\n",
       "      <td>-0.2</td>\n",
       "    </tr>\n",
       "    <tr>\n",
       "      <th>2</th>\n",
       "      <td>2007</td>\n",
       "      <td>64.1</td>\n",
       "      <td>60.8</td>\n",
       "      <td>67.4</td>\n",
       "      <td>63.4</td>\n",
       "      <td>61.3</td>\n",
       "      <td>66.2</td>\n",
       "      <td>-0.7</td>\n",
       "    </tr>\n",
       "    <tr>\n",
       "      <th>3</th>\n",
       "      <td>2008</td>\n",
       "      <td>63.3</td>\n",
       "      <td>58.4</td>\n",
       "      <td>67.1</td>\n",
       "      <td>64.1</td>\n",
       "      <td>59.5</td>\n",
       "      <td>69.8</td>\n",
       "      <td>0.8</td>\n",
       "    </tr>\n",
       "    <tr>\n",
       "      <th>4</th>\n",
       "      <td>2009</td>\n",
       "      <td>63.4</td>\n",
       "      <td>61.0</td>\n",
       "      <td>67.3</td>\n",
       "      <td>63.5</td>\n",
       "      <td>59.7</td>\n",
       "      <td>67.9</td>\n",
       "      <td>0.1</td>\n",
       "    </tr>\n",
       "    <tr>\n",
       "      <th>...</th>\n",
       "      <td>...</td>\n",
       "      <td>...</td>\n",
       "      <td>...</td>\n",
       "      <td>...</td>\n",
       "      <td>...</td>\n",
       "      <td>...</td>\n",
       "      <td>...</td>\n",
       "      <td>...</td>\n",
       "    </tr>\n",
       "    <tr>\n",
       "      <th>90</th>\n",
       "      <td>2095</td>\n",
       "      <td>68.3</td>\n",
       "      <td>62.6</td>\n",
       "      <td>75.4</td>\n",
       "      <td>73.0</td>\n",
       "      <td>66.7</td>\n",
       "      <td>78.1</td>\n",
       "      <td>4.7</td>\n",
       "    </tr>\n",
       "    <tr>\n",
       "      <th>91</th>\n",
       "      <td>2096</td>\n",
       "      <td>68.3</td>\n",
       "      <td>63.0</td>\n",
       "      <td>74.4</td>\n",
       "      <td>73.4</td>\n",
       "      <td>67.6</td>\n",
       "      <td>79.3</td>\n",
       "      <td>5.1</td>\n",
       "    </tr>\n",
       "    <tr>\n",
       "      <th>92</th>\n",
       "      <td>2097</td>\n",
       "      <td>68.1</td>\n",
       "      <td>64.0</td>\n",
       "      <td>73.9</td>\n",
       "      <td>73.2</td>\n",
       "      <td>67.4</td>\n",
       "      <td>79.1</td>\n",
       "      <td>5.1</td>\n",
       "    </tr>\n",
       "    <tr>\n",
       "      <th>93</th>\n",
       "      <td>2098</td>\n",
       "      <td>68.3</td>\n",
       "      <td>63.0</td>\n",
       "      <td>74.0</td>\n",
       "      <td>73.2</td>\n",
       "      <td>66.6</td>\n",
       "      <td>79.7</td>\n",
       "      <td>4.9</td>\n",
       "    </tr>\n",
       "    <tr>\n",
       "      <th>94</th>\n",
       "      <td>2099</td>\n",
       "      <td>68.8</td>\n",
       "      <td>64.2</td>\n",
       "      <td>74.3</td>\n",
       "      <td>73.4</td>\n",
       "      <td>69.0</td>\n",
       "      <td>80.4</td>\n",
       "      <td>4.6</td>\n",
       "    </tr>\n",
       "  </tbody>\n",
       "</table>\n",
       "<p>95 rows × 8 columns</p>\n",
       "</div>"
      ],
      "text/plain": [
       "    year  rcp45_weighted_mean  rcp45_min  rcp45_max  rcp85_weighted_mean  \\\n",
       "0   2005                 63.7       59.5       66.7                 63.7   \n",
       "1   2006                 63.7       60.2       67.3                 63.5   \n",
       "2   2007                 64.1       60.8       67.4                 63.4   \n",
       "3   2008                 63.3       58.4       67.1                 64.1   \n",
       "4   2009                 63.4       61.0       67.3                 63.5   \n",
       "..   ...                  ...        ...        ...                  ...   \n",
       "90  2095                 68.3       62.6       75.4                 73.0   \n",
       "91  2096                 68.3       63.0       74.4                 73.4   \n",
       "92  2097                 68.1       64.0       73.9                 73.2   \n",
       "93  2098                 68.3       63.0       74.0                 73.2   \n",
       "94  2099                 68.8       64.2       74.3                 73.4   \n",
       "\n",
       "    rcp85_min  rcp85_max  difference  \n",
       "0        59.5       66.7         0.0  \n",
       "1        60.7       66.4        -0.2  \n",
       "2        61.3       66.2        -0.7  \n",
       "3        59.5       69.8         0.8  \n",
       "4        59.7       67.9         0.1  \n",
       "..        ...        ...         ...  \n",
       "90       66.7       78.1         4.7  \n",
       "91       67.6       79.3         5.1  \n",
       "92       67.4       79.1         5.1  \n",
       "93       66.6       79.7         4.9  \n",
       "94       69.0       80.4         4.6  \n",
       "\n",
       "[95 rows x 8 columns]"
      ]
     },
     "execution_count": 11,
     "metadata": {},
     "output_type": "execute_result"
    }
   ],
   "source": [
    "# (4) Subtract the rcp45_weighted_mean column from the rcp85_weighted_mean column, save the result in a new column.\n",
    "data['difference'] = data['rcp85_weighted_mean'] - data['rcp45_weighted_mean']\n",
    "data\n",
    "\n",
    "\n",
    "\n",
    "\n"
   ]
  },
  {
   "cell_type": "code",
   "execution_count": 14,
   "id": "29315d80",
   "metadata": {},
   "outputs": [
    {
     "data": {
      "text/plain": [
       "2096"
      ]
     },
     "execution_count": 14,
     "metadata": {},
     "output_type": "execute_result"
    }
   ],
   "source": [
    "# (5) Using idxmax, determine which year the projections have the greatest difference\n",
    "max_year_id = data['difference'].idxmax()\n",
    "data.iloc[max_year_id, 0]\n",
    "\n",
    "\n",
    "\n",
    "\n",
    "\n"
   ]
  },
  {
   "cell_type": "code",
   "execution_count": 19,
   "id": "00fa7652",
   "metadata": {},
   "outputs": [
    {
     "data": {
      "text/plain": [
       "[0,\n",
       " 1,\n",
       " 2,\n",
       " 3,\n",
       " 4,\n",
       " 5,\n",
       " 6,\n",
       " 7,\n",
       " 8,\n",
       " 9,\n",
       " 10,\n",
       " 11,\n",
       " 12,\n",
       " 13,\n",
       " 14,\n",
       " 15,\n",
       " 16,\n",
       " 17,\n",
       " 18,\n",
       " 19,\n",
       " 20,\n",
       " 21,\n",
       " 22,\n",
       " 23,\n",
       " 24,\n",
       " 25,\n",
       " 26,\n",
       " 27,\n",
       " 28,\n",
       " 29,\n",
       " 30,\n",
       " 31,\n",
       " 32,\n",
       " 33,\n",
       " 34,\n",
       " 35,\n",
       " 36,\n",
       " 37,\n",
       " 38,\n",
       " 39,\n",
       " 40,\n",
       " 41,\n",
       " 42,\n",
       " 43,\n",
       " 44,\n",
       " 45,\n",
       " 46,\n",
       " 47,\n",
       " 48,\n",
       " 49,\n",
       " 50,\n",
       " 51,\n",
       " 52,\n",
       " 53,\n",
       " 54,\n",
       " 55,\n",
       " 56,\n",
       " 57,\n",
       " 58,\n",
       " 59,\n",
       " 60,\n",
       " 61,\n",
       " 62,\n",
       " 63,\n",
       " 64,\n",
       " 65,\n",
       " 66,\n",
       " 67,\n",
       " 68,\n",
       " 69,\n",
       " 70,\n",
       " 71,\n",
       " 72,\n",
       " 73,\n",
       " 74,\n",
       " 75,\n",
       " 76,\n",
       " 77,\n",
       " 78,\n",
       " 79,\n",
       " 80,\n",
       " 81,\n",
       " 82,\n",
       " 83,\n",
       " 84,\n",
       " 85,\n",
       " 86,\n",
       " 87,\n",
       " 88,\n",
       " 89,\n",
       " 90,\n",
       " 91,\n",
       " 92,\n",
       " 93,\n",
       " 94]"
      ]
     },
     "execution_count": 19,
     "metadata": {},
     "output_type": "execute_result"
    }
   ],
   "source": [
    "list(data.index)[max_year_id]"
   ]
  },
  {
   "cell_type": "code",
   "execution_count": 15,
   "id": "90aed2ce",
   "metadata": {},
   "outputs": [
    {
     "data": {
      "text/plain": [
       "5.1000000000000085"
      ]
     },
     "execution_count": 15,
     "metadata": {},
     "output_type": "execute_result"
    }
   ],
   "source": [
    "# (6) And - what is this greatest difference?  Do you think this is physically significant?\n",
    "data.iloc[max_year_id, 7]\n",
    "\n",
    "\n",
    "\n",
    "\n",
    "\n",
    "\n"
   ]
  },
  {
   "cell_type": "code",
   "execution_count": 16,
   "id": "2a3eaa40",
   "metadata": {},
   "outputs": [
    {
     "data": {
      "text/plain": [
       "<matplotlib.collections.PolyCollection at 0x12fcb3e50>"
      ]
     },
     "execution_count": 16,
     "metadata": {},
     "output_type": "execute_result"
    },
    {
     "data": {
      "image/png": "[encoded data removed]",
      "text/plain": [
       "<Figure size 720x360 with 1 Axes>"
      ]
     },
     "metadata": {
      "needs_background": "light"
     },
     "output_type": "display_data"
    }
   ],
   "source": [
    "# (7) Finally - let's visualize \n",
    "# Create a line plot of the rcp45_weighted_mean and rcp85_weighted_mean data!\n",
    "# Both on the same line plot!\n",
    "# Let's use Pandas built-in functionality\n",
    "# Which remember is just a 'shortcut' to accessing Matplotlib functionality\n",
    "\n",
    "fig,ax = plt.subplots(figsize=(10,5))\n",
    "\n",
    "# to remind you that we're passing a subset of the dataframe...aka your weighted_means variable!\n",
    "\n",
    "data[['rcp45_weighted_mean','rcp85_weighted_mean']].plot(ax=ax) # connecting this plot to the figure/axes we established\n",
    "                                                                # in previous line allows for customization via ax.___\n",
    "ax.set_ylabel('Projected Average Temperature (\\u00b0F)')  # creates degree symbol! useful!\n",
    "ax.set_xlabel('Year')\n",
    "ax.set_title('Projected Average Temperature in Champaign County')\n",
    "ax.set_xlim(np.min(data.index.values),np.max(data.index.values))\n",
    "\n",
    "# This is a useful function that fills between values we pass it\n",
    "# One way we can visualize uncertainty, ranges, etc!\n",
    "ax.fill_between(data.index, data['rcp45_min'], data['rcp45_max'], color='C0',alpha=0.3)\n",
    "ax.fill_between(data.index, data['rcp85_min'], data['rcp85_max'], color='C1',alpha=0.3)"
   ]
  },
  {
   "cell_type": "code",
   "execution_count": null,
   "id": "7cfaba1c",
   "metadata": {},
   "outputs": [],
   "source": []
  }
 ],
 "metadata": {
  "kernelspec": {
   "display_name": "Python 3",
   "language": "python",
   "name": "python3"
  },
  "language_info": {
   "codemirror_mode": {
    "name": "ipython",
    "version": 3
   },
   "file_extension": ".py",
   "mimetype": "text/x-python",
   "name": "python",
   "nbconvert_exporter": "python",
   "pygments_lexer": "ipython3",
   "version": "3.8.11"
  }
 },
 "nbformat": 4,
 "nbformat_minor": 5
}
