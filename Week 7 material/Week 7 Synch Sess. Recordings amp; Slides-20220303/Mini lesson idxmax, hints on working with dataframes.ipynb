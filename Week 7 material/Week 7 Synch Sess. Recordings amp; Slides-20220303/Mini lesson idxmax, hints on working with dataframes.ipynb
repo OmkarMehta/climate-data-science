{
 "cells": [
  {
   "cell_type": "code",
   "execution_count": 1,
   "id": "873cf7c1",
   "metadata": {},
   "outputs": [],
   "source": [
    "import cartopy.crs as ccrs\n",
    "import cartopy.feature as cfeature\n",
    "import matplotlib.pyplot as plt\n",
    "import pandas as pd\n",
    "import seaborn as sb\n",
    "import numpy as np\n",
    "import urllib"
   ]
  },
  {
   "cell_type": "code",
   "execution_count": 2,
   "id": "db038836",
   "metadata": {},
   "outputs": [
    {
     "name": "stdout",
     "output_type": "stream",
     "text": [
      "                          time  latitude  longitude  depth  mag magType  nst  \\\n",
      "0     2022-01-31T22:18:32.343Z  -20.8636  -175.3691  10.00  4.6      mb  NaN   \n",
      "1     2022-01-31T22:01:27.405Z   31.9193   104.3384  10.00  4.6      mb  NaN   \n",
      "2     2022-01-31T21:36:17.102Z  -29.8948   -71.9834   9.43  4.5     mwr  NaN   \n",
      "3     2022-01-31T20:07:12.636Z  -20.5450  -175.3251  10.00  4.7      mb  NaN   \n",
      "4     2022-01-31T19:18:23.415Z  -30.0451  -177.5443  20.72  4.8      mb  NaN   \n",
      "...                        ...       ...        ...    ...  ...     ...  ...   \n",
      "9117  2021-02-01T05:47:52.716Z   38.8807    25.9761  10.00  4.8      mb  NaN   \n",
      "9118  2021-02-01T05:46:52.958Z   38.9677    26.0599  10.00  4.8      mb  NaN   \n",
      "9119  2021-02-01T05:31:49.212Z    4.1646   126.5903  49.04  4.5      mb  NaN   \n",
      "9120  2021-02-01T05:19:59.928Z  -59.1499   -25.9477  71.80  5.1      mb  NaN   \n",
      "9121  2021-02-01T00:12:47.586Z  -28.9953  -177.2697  63.01  4.6      mb  NaN   \n",
      "\n",
      "        gap   dmin   rms  ...                   updated  \\\n",
      "0      86.0  6.943  0.64  ...  2022-02-09T06:30:12.040Z   \n",
      "1      69.0  4.062  0.94  ...  2022-02-09T06:26:33.040Z   \n",
      "2      94.0  0.647  0.68  ...  2022-02-09T06:24:27.040Z   \n",
      "3     124.0  6.752  0.92  ...  2022-02-25T19:27:48.040Z   \n",
      "4     188.0  0.846  0.51  ...  2022-02-28T16:48:31.040Z   \n",
      "...     ...    ...   ...  ...                       ...   \n",
      "9117   95.0  0.748  0.57  ...  2021-04-16T19:03:48.040Z   \n",
      "9118   32.0  0.666  0.76  ...  2021-04-16T19:02:47.040Z   \n",
      "9119  117.0  3.056  0.42  ...  2021-04-16T19:02:46.040Z   \n",
      "9120   69.0  7.573  0.82  ...  2021-04-16T19:02:46.040Z   \n",
      "9121   90.0  0.628  0.86  ...  2021-04-16T19:03:47.040Z   \n",
      "\n",
      "                                    place        type horizontalError  \\\n",
      "0                                   Tonga  earthquake             8.0   \n",
      "1            39 km WNW of Jiangyou, China  earthquake             8.0   \n",
      "2              62 km W of Coquimbo, Chile  earthquake             4.4   \n",
      "3            67 km N of Nuku‘alofa, Tonga  earthquake             8.9   \n",
      "4           Kermadec Islands, New Zealand  earthquake             5.7   \n",
      "...                                   ...         ...             ...   \n",
      "9117      28 km SW of Polichnítos, Greece  earthquake             5.1   \n",
      "9118      16 km SW of Polichnítos, Greece  earthquake             3.7   \n",
      "9119  185 km SE of Sarangani, Philippines  earthquake             5.4   \n",
      "9120        South Sandwich Islands region  earthquake            11.1   \n",
      "9121              Kermadec Islands region  earthquake             8.7   \n",
      "\n",
      "     depthError  magError  magNst    status  locationSource magSource  \n",
      "0           1.9     0.206     9.0  reviewed              us        us  \n",
      "1           1.9     0.085    41.0  reviewed              us        us  \n",
      "2           2.1     0.039    64.0  reviewed              us        us  \n",
      "3           1.8     0.118    22.0  reviewed              us        us  \n",
      "4           5.7     0.197     8.0  reviewed              us        us  \n",
      "...         ...       ...     ...       ...             ...       ...  \n",
      "9117        1.5     0.076    54.0  reviewed              us        us  \n",
      "9118        1.8     0.121    21.0  reviewed              us        us  \n",
      "9119        8.5     0.131    17.0  reviewed              us        us  \n",
      "9120        5.9     0.067    71.0  reviewed              us        us  \n",
      "9121        5.2     0.137    16.0  reviewed              us        us  \n",
      "\n",
      "[9122 rows x 22 columns]\n"
     ]
    }
   ],
   "source": [
    "# Automated way to download earthquake data!\n",
    "url = 'https://earthquake.usgs.gov/fdsnws/event/1/query?format=csv&starttime=2021-2-1&endtime=2022-2-1&minmagnitude=4.5&orderby=time'\n",
    "urllib.request.urlretrieve(url,'query.csv')\n",
    "\n",
    "earth = pd.read_csv('query.csv')\n",
    "print(earth)"
   ]
  },
  {
   "cell_type": "markdown",
   "id": "080f2a59",
   "metadata": {},
   "source": [
    "## !!!!!!!!!!!!!!!!!!!!!!!!!!!!!!!!!!!!!!!!!!!!!!!!!!!!!!!!!!!!!!!!!!!!!!!!!!!!!!!!!!!!!!!!!!!!!!!!!!!!!!!!!!!!!!!!!!!!!!!!!!\n",
    "\n",
    "## Mini lesson on idxmax (idxmin), which is similar to argmax (argmin) in NumPy: https://pandas.pydata.org/docs/reference/api/pandas.DataFrame.idxmax.html\n",
    "\n",
    "## Remember, this type of function gives us the INDEX of the maximum (or minimum) value in the data structure\n",
    "## We'll also use a similar function in Xarray!\n",
    "\n",
    "## !!!!!!!!!!!!!!!!!!!!!!!!!!!!!!!!!!!!!!!!!!!!!!!!!!!!!!!!!!!!!!!!!!!!!!!!!!!!!!!!!!!!!!!!!!!!!!!!!!!!!!!!!!!!!!!!!!!!!!!!!!"
   ]
  },
  {
   "cell_type": "markdown",
   "id": "a7f1cb3c",
   "metadata": {},
   "source": [
    "### Let's look for highest latitude in Northern Hemisphere where an earthquake event occured in this dataset!"
   ]
  },
  {
   "cell_type": "code",
   "execution_count": 3,
   "id": "cd6a94bc",
   "metadata": {},
   "outputs": [
    {
     "name": "stdout",
     "output_type": "stream",
     "text": [
      "latitude            87.3752\n",
      "longitude          179.9962\n",
      "depth              664.7400\n",
      "mag                  8.2000\n",
      "nst                145.0000\n",
      "gap                290.0000\n",
      "dmin                50.1330\n",
      "rms                  2.8200\n",
      "horizontalError     22.2000\n",
      "depthError          31.6100\n",
      "magError             0.5580\n",
      "magNst             706.0000\n",
      "dtype: float64\n",
      "<class 'pandas.core.series.Series'>\n",
      "Index(['latitude', 'longitude', 'depth', 'mag', 'nst', 'gap', 'dmin', 'rms',\n",
      "       'horizontalError', 'depthError', 'magError', 'magNst'],\n",
      "      dtype='object')\n"
     ]
    }
   ],
   "source": [
    "mlat1 = earth.max(numeric_only=True) # applied to whole dataframe, returns max of each column by default \n",
    "print(mlat1)\n",
    "print(type(mlat1)) # This is a series\n",
    "print(mlat1.index) # This is the index of the series"
   ]
  },
  {
   "cell_type": "code",
   "execution_count": 4,
   "id": "395ba95c",
   "metadata": {},
   "outputs": [
    {
     "name": "stdout",
     "output_type": "stream",
     "text": [
      "87.3752\n"
     ]
    }
   ],
   "source": [
    "# REMINDERS\n",
    "# dataframe['col name'] is a Series!\n",
    "# So we will get the max in just that column if we apply the max method to it \n",
    "mlat = earth['latitude'].max()\n",
    "print(mlat) # the actual maximum latitude"
   ]
  },
  {
   "cell_type": "code",
   "execution_count": 5,
   "id": "ea630887",
   "metadata": {},
   "outputs": [
    {
     "name": "stdout",
     "output_type": "stream",
     "text": [
      "8210\n"
     ]
    }
   ],
   "source": [
    "mlat_ind = earth['latitude'].idxmax() \n",
    "print(mlat_ind) # the row index of this maximum latitude "
   ]
  },
  {
   "cell_type": "code",
   "execution_count": 6,
   "id": "96591210",
   "metadata": {},
   "outputs": [
    {
     "name": "stdout",
     "output_type": "stream",
     "text": [
      "87.3752\n",
      "time               2021-03-03T13:09:22.048Z\n",
      "latitude                            87.3752\n",
      "longitude                          -72.5536\n",
      "depth                                  10.0\n",
      "mag                                     5.0\n",
      "magType                                  mb\n",
      "nst                                     NaN\n",
      "gap                                    46.0\n",
      "dmin                                 10.914\n",
      "rms                                     0.5\n",
      "net                                      us\n",
      "id                               us7000df50\n",
      "updated            2021-05-13T22:42:18.040Z\n",
      "place                       Lomonosov Ridge\n",
      "type                             earthquake\n",
      "horizontalError                         9.0\n",
      "depthError                              1.8\n",
      "magError                              0.028\n",
      "magNst                                394.0\n",
      "status                             reviewed\n",
      "locationSource                           us\n",
      "magSource                                us\n",
      "Name: 8210, dtype: object\n"
     ]
    }
   ],
   "source": [
    "# Let's confirm...\n",
    "       # for loc, we use index labels, not positional integer indices, remember?\n",
    "       # row index label  # column index label\n",
    "print(earth.loc[mlat_ind,'latitude']) # One of multiple ways to do this \n",
    "\n",
    "print(earth.loc[mlat_ind,:])"
   ]
  },
  {
   "cell_type": "markdown",
   "id": "312c8f65",
   "metadata": {},
   "source": [
    "## !!!!!!!!!!!!!!!!!!!!!!!!!!!!!!!!!!!!!!!!!!!!!!!!!!!!!!!!!!!!!!!!!!!!!!!!!!!!!!!!!!!!!!!!!!!!!!!!!!!!!!!!!!!!!!!!!!!!!!!!!!\n",
    "## Reminders on working with data structures in Pandas: \n",
    "## !!!!!!!!!!!!!!!!!!!!!!!!!!!!!!!!!!!!!!!!!!!!!!!!!!!!!!!!!!!!!!!!!!!!!!!!!!!!!!!!!!!!!!!!!!!!!!!!!!!!!!!!!!!!!!!!!!!!!!!!!!\n",
    "\n",
    "## What if....I want the magnitudes of earthquakes that occur at a latitude north of 35 deg N?\n",
    "\n",
    "## Let's break down, step by step, what we'd do"
   ]
  },
  {
   "cell_type": "code",
   "execution_count": 7,
   "id": "909690d0",
   "metadata": {},
   "outputs": [
    {
     "data": {
      "text/plain": [
       "0       False\n",
       "1       False\n",
       "2       False\n",
       "3       False\n",
       "4       False\n",
       "        ...  \n",
       "9117     True\n",
       "9118     True\n",
       "9119    False\n",
       "9120    False\n",
       "9121    False\n",
       "Name: latitude, Length: 9122, dtype: bool"
      ]
     },
     "execution_count": 7,
     "metadata": {},
     "output_type": "execute_result"
    }
   ],
   "source": [
    "earth['latitude']>35  # True for each row where lat > 35, false for each row where lat < 35"
   ]
  },
  {
   "cell_type": "code",
   "execution_count": 8,
   "id": "33317d23",
   "metadata": {},
   "outputs": [
    {
     "name": "stdout",
     "output_type": "stream",
     "text": [
      "                          time  latitude  longitude  depth  mag magType   nst  \\\n",
      "6     2022-01-31T17:10:21.129Z   36.8510   -97.7935   7.85  4.5     mww  96.0   \n",
      "19    2022-01-31T09:30:36.617Z   37.9265    32.0980  10.00  4.5      mb   NaN   \n",
      "21    2022-01-31T00:49:57.322Z   39.1923    40.1603  10.00  4.7     mwr   NaN   \n",
      "41    2022-01-30T10:14:38.004Z   53.7360   161.1118  44.13  4.7      mb   NaN   \n",
      "72    2022-01-29T10:23:00.165Z   53.8399  -164.0710  35.00  4.6      mb   NaN   \n",
      "...                        ...       ...        ...    ...  ...     ...   ...   \n",
      "9114  2021-02-01T08:34:45.955Z   37.3523   141.8861  34.92  4.6      mb   NaN   \n",
      "9115  2021-02-01T07:43:08.929Z   49.9861   -28.9615  10.00  4.6      mb   NaN   \n",
      "9116  2021-02-01T06:00:05.082Z   38.9080    26.0285  10.00  4.8      mb   NaN   \n",
      "9117  2021-02-01T05:47:52.716Z   38.8807    25.9761  10.00  4.8      mb   NaN   \n",
      "9118  2021-02-01T05:46:52.958Z   38.9677    26.0599  10.00  4.8      mb   NaN   \n",
      "\n",
      "        gap    dmin   rms  ...                   updated  \\\n",
      "6      91.0   0.000  0.23  ...  2022-02-25T15:39:06.994Z   \n",
      "19     45.0   1.259  0.87  ...  2022-02-21T07:22:02.040Z   \n",
      "21     38.0   0.864  0.81  ...  2022-02-13T05:47:16.040Z   \n",
      "41    104.0   1.638  0.60  ...  2022-02-18T12:02:55.040Z   \n",
      "72    137.0   0.702  0.85  ...  2022-03-01T01:02:40.866Z   \n",
      "...     ...     ...   ...  ...                       ...   \n",
      "9114  115.0   1.762  0.81  ...  2021-04-16T19:02:49.040Z   \n",
      "9115  136.0  16.464  0.44  ...  2021-04-16T19:03:50.040Z   \n",
      "9116   32.0   0.702  0.56  ...  2021-04-16T19:02:47.040Z   \n",
      "9117   95.0   0.748  0.57  ...  2021-04-16T19:03:48.040Z   \n",
      "9118   32.0   0.666  0.76  ...  2021-04-16T19:02:47.040Z   \n",
      "\n",
      "                                               place        type  \\\n",
      "6                       7 km NW of Medford, Oklahoma  earthquake   \n",
      "19                       12 km SE of Derbent, Turkey  earthquake   \n",
      "21                     8 km ESE of Yayladere, Turkey  earthquake   \n",
      "41    181 km ENE of Petropavlovsk-Kamchatsky, Russia  earthquake   \n",
      "72                      116 km ESE of Akutan, Alaska  earthquake   \n",
      "...                                              ...         ...   \n",
      "9114                         79 km E of Namie, Japan  earthquake   \n",
      "9115                     northern Mid-Atlantic Ridge  earthquake   \n",
      "9116                 23 km SW of Polichnítos, Greece  earthquake   \n",
      "9117                 28 km SW of Polichnítos, Greece  earthquake   \n",
      "9118                 16 km SW of Polichnítos, Greece  earthquake   \n",
      "\n",
      "     horizontalError depthError  magError  magNst    status  locationSource  \\\n",
      "6                NaN        0.5       NaN    35.0  reviewed              ok   \n",
      "19               4.4        1.8     0.099    30.0  reviewed              us   \n",
      "21               4.8        1.9     0.069    20.0  reviewed              us   \n",
      "41               7.7        5.6     0.035   251.0  reviewed              us   \n",
      "72               4.0        1.9     0.049   123.0  reviewed              us   \n",
      "...              ...        ...       ...     ...       ...             ...   \n",
      "9114             6.8        5.0     0.097    32.0  reviewed              us   \n",
      "9115            12.4        1.9     0.091    36.0  reviewed              us   \n",
      "9116             3.0        1.8     0.071    61.0  reviewed              us   \n",
      "9117             5.1        1.5     0.076    54.0  reviewed              us   \n",
      "9118             3.7        1.8     0.121    21.0  reviewed              us   \n",
      "\n",
      "     magSource  \n",
      "6           us  \n",
      "19          us  \n",
      "21          us  \n",
      "41          us  \n",
      "72          us  \n",
      "...        ...  \n",
      "9114        us  \n",
      "9115        us  \n",
      "9116        us  \n",
      "9117        us  \n",
      "9118        us  \n",
      "\n",
      "[1075 rows x 22 columns]\n"
     ]
    }
   ],
   "source": [
    "higher_lat = earth[earth['latitude']>35] # displays any rows (spanning over all columns) in dataframe whose lat > 35\n",
    "print(higher_lat)\n",
    "# Why?\n",
    "\n",
    "# We are indexing our original dataframe that contains ALL earthquake data\n",
    "# Using a Boolean array \n",
    "# So - what results is only the rows in our dataframe whose lat > 35"
   ]
  },
  {
   "cell_type": "code",
   "execution_count": 9,
   "id": "21c067be",
   "metadata": {},
   "outputs": [
    {
     "data": {
      "text/plain": [
       "6       4.5\n",
       "19      4.5\n",
       "21      4.7\n",
       "41      4.7\n",
       "72      4.6\n",
       "       ... \n",
       "9114    4.6\n",
       "9115    4.6\n",
       "9116    4.8\n",
       "9117    4.8\n",
       "9118    4.8\n",
       "Name: mag, Length: 1075, dtype: float64"
      ]
     },
     "execution_count": 9,
     "metadata": {},
     "output_type": "execute_result"
    }
   ],
   "source": [
    "# what if I only want to access the magnitude column?\n",
    "higher_lat['mag']"
   ]
  }
 ],
 "metadata": {
  "kernelspec": {
   "display_name": "Python 3",
   "language": "python",
   "name": "python3"
  },
  "language_info": {
   "codemirror_mode": {
    "name": "ipython",
    "version": 3
   },
   "file_extension": ".py",
   "mimetype": "text/x-python",
   "name": "python",
   "nbconvert_exporter": "python",
   "pygments_lexer": "ipython3",
   "version": "3.7.10"
  }
 },
 "nbformat": 4,
 "nbformat_minor": 5
}
