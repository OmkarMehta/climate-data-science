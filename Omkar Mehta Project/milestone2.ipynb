{
  "cells": [
    {
      "cell_type": "markdown",
      "metadata": {},
      "source": [
        "# Analysis and Forecasting of Precipitation ERA5 land data of Mahad"
      ]
    },
    {
      "cell_type": "markdown",
      "metadata": {},
      "source": [
        "## Problem Statement/Objectives"
      ]
    },
    {
      "cell_type": "markdown",
      "metadata": {
        "id": "8kXRdPsffCdS"
      },
      "source": [
        "\n",
        "- I have chosen [ERA5-land hourly data](https://cds.climate.copernicus.eu/cdsapp#!/dataset/reanalysis-era5-land?tab=form) for my project. \n",
        "- The **objective** is to find useful information about the weather in the Konkan area of Maharashtra, which receives the highest rainfall, leading to the floods. \n",
        "- If we are able to find useful patterns in the data that could help us forecast the precipitation in the future, even by an hour, it could help the people to better prepare for the flood. \n",
        "- The data is in `netCDF` file format. Hence, we can use `xarray` to read the data.\n",
        "\n",
        "**Floods in Mahad**\n",
        "- My hometown is Mahad, a small town in the Konkan district of Maharashtra, India. \n",
        "- On July 21 and July 22, 2021, the torrential rains had left `94` houses completely damaged and `9649` partially wrecked.\n",
        "- About `3709` houses were damaged. \n",
        "- The landslide in **Taliye** village in the Mahad tehshil killed at least 84 people.\n",
        "\n",
        "**The parameters that I have chosen are:**\n",
        "- `10m_v_component_of_wind` or `v10` : northward component of the 10m wind, in `m/s` units, moving at a height of 10m above the surface,\n",
        "- `2m_temperature` or `t2m`: the temperature of air at 2m above the surface, in `Kelvin` units,\n",
        "- `surface_net_solar_radiation` or `ssr`: the amount of solar radiation that reaches a horizontal plane at the surface minus the amount reflected by the Earth's surface, in `W/m^2` units,\n",
        "- `surface_pressure` or `sp`: pressue of the atmosphere on the surface of land, in `Pa` units,\n",
        "- `total_precipitation` or `tp`: the accumulated liquid and frozen water, comprising rain and snow, that falls to the surface in `m` units.\n",
        "\n",
        "**Further information about the floods in Mahad and the havoc it caused**\n",
        "- https://www.business-standard.com/article/current-affairs/maha-over-9-700-houses-45-buildings-damaged-in-mahad-due-to-july-floods-121081301002_1.html#:~:text=A%20total%20of%2045%20buildings,occurred%20on%20July%2021%2D22. \n",
        "\n"
      ]
    },
    {
      "cell_type": "markdown",
      "metadata": {},
      "source": [
        "## Data Collection.\n",
        "\n",
        "- This is explained in `data_collection.ipynb` file."
      ]
    },
    {
      "cell_type": "markdown",
      "metadata": {
        "id": "ACnly_MyfCdU"
      },
      "source": [
        "### Install required libraries and [Contourf and cartopy issues resolved](https://linuxtut.com/en/8f0d69169dc6ab753e08/)"
      ]
    },
    {
      "cell_type": "code",
      "execution_count": 1,
      "metadata": {
        "colab": {
          "base_uri": "https://localhost:8080/"
        },
        "id": "1Zb5va2lfCdV",
        "outputId": "ce9f75fc-83ed-4262-e6c7-e987b79eaebd"
      },
      "outputs": [
        {
          "name": "stdout",
          "output_type": "stream",
          "text": [
            "Requirement already satisfied: xarray in /usr/local/lib/python3.7/dist-packages (0.18.2)\n",
            "Requirement already satisfied: numpy>=1.17 in /usr/local/lib/python3.7/dist-packages (from xarray) (1.21.5)\n",
            "Requirement already satisfied: pandas>=1.0 in /usr/local/lib/python3.7/dist-packages (from xarray) (1.3.5)\n",
            "Requirement already satisfied: setuptools>=40.4 in /usr/local/lib/python3.7/dist-packages (from xarray) (57.4.0)\n",
            "Requirement already satisfied: pytz>=2017.3 in /usr/local/lib/python3.7/dist-packages (from pandas>=1.0->xarray) (2018.9)\n",
            "Requirement already satisfied: python-dateutil>=2.7.3 in /usr/local/lib/python3.7/dist-packages (from pandas>=1.0->xarray) (2.8.2)\n",
            "Requirement already satisfied: six>=1.5 in /usr/local/lib/python3.7/dist-packages (from python-dateutil>=2.7.3->pandas>=1.0->xarray) (1.15.0)\n",
            "Collecting cartopy\n",
            "  Downloading Cartopy-0.20.2.tar.gz (10.8 MB)\n",
            "\u001b[K     |████████████████████████████████| 10.8 MB 4.7 MB/s \n",
            "\u001b[?25h  Installing build dependencies ... \u001b[?25l\u001b[?25hdone\n",
            "  Getting requirements to build wheel ... \u001b[?25l\u001b[?25herror\n",
            "\u001b[33mWARNING: Discarding https://files.pythonhosted.org/packages/f6/55/1e1c737dc9436b320deead73d1c455ddbb74b8b6992081863492f6f6378a/Cartopy-0.20.2.tar.gz#sha256=4d08c198ecaa50a6a6b109d0f14c070e813defc046a83ac5d7ab494f85599e35 (from https://pypi.org/simple/cartopy/) (requires-python:>=3.7). Command errored out with exit status 1: /usr/bin/python3 /usr/local/lib/python3.7/dist-packages/pip/_vendor/pep517/in_process/_in_process.py get_requires_for_build_wheel /tmp/tmpsdlbx9_l Check the logs for full command output.\u001b[0m\n",
            "  Downloading Cartopy-0.20.1.tar.gz (10.8 MB)\n",
            "\u001b[K     |████████████████████████████████| 10.8 MB 24.7 MB/s \n",
            "\u001b[?25h  Installing build dependencies ... \u001b[?25l\u001b[?25hdone\n",
            "  Getting requirements to build wheel ... \u001b[?25l\u001b[?25herror\n",
            "\u001b[33mWARNING: Discarding https://files.pythonhosted.org/packages/fc/59/aa52698e3838f4cd0e7eaa75bd86837e9e0b05041dbdaee3cda2fffced06/Cartopy-0.20.1.tar.gz#sha256=91f87b130e2574547a20cd634498df97d797abd12dcfd0235bc0cdbcec8b05e3 (from https://pypi.org/simple/cartopy/) (requires-python:>=3.7). Command errored out with exit status 1: /usr/bin/python3 /usr/local/lib/python3.7/dist-packages/pip/_vendor/pep517/in_process/_in_process.py get_requires_for_build_wheel /tmp/tmp34nedsnv Check the logs for full command output.\u001b[0m\n",
            "  Downloading Cartopy-0.20.0.tar.gz (10.8 MB)\n",
            "\u001b[K     |████████████████████████████████| 10.8 MB 43.0 MB/s \n",
            "\u001b[?25h  Installing build dependencies ... \u001b[?25l\u001b[?25hdone\n",
            "  Getting requirements to build wheel ... \u001b[?25l\u001b[?25herror\n",
            "\u001b[33mWARNING: Discarding https://files.pythonhosted.org/packages/0f/c0/58453b036e79046d211f083880d58dcce787e7e07647ac25dc46c6555099/Cartopy-0.20.0.tar.gz#sha256=eae58aff26806e63cf115b2bce9477cedc4aa9f578c5e477b2c25cfa404f2b7a (from https://pypi.org/simple/cartopy/) (requires-python:>=3.7). Command errored out with exit status 1: /usr/bin/python3 /usr/local/lib/python3.7/dist-packages/pip/_vendor/pep517/in_process/_in_process.py get_requires_for_build_wheel /tmp/tmpxofoqj4r Check the logs for full command output.\u001b[0m\n",
            "  Downloading Cartopy-0.19.0.post1.tar.gz (12.1 MB)\n",
            "\u001b[K     |████████████████████████████████| 12.1 MB 42.4 MB/s \n",
            "\u001b[?25h  Installing build dependencies ... \u001b[?25l\u001b[?25hdone\n",
            "  Getting requirements to build wheel ... \u001b[?25l\u001b[?25hdone\n",
            "    Preparing wheel metadata ... \u001b[?25l\u001b[?25hdone\n",
            "Requirement already satisfied: shapely>=1.5.6 in /usr/local/lib/python3.7/dist-packages (from cartopy) (1.8.1.post1)\n",
            "Collecting pyshp>=2\n",
            "  Downloading pyshp-2.2.0-py3-none-any.whl (44 kB)\n",
            "\u001b[K     |████████████████████████████████| 44 kB 2.0 MB/s \n",
            "\u001b[?25hRequirement already satisfied: numpy>=1.13.3 in /usr/local/lib/python3.7/dist-packages (from cartopy) (1.21.5)\n",
            "Building wheels for collected packages: cartopy\n",
            "  Building wheel for cartopy (PEP 517) ... \u001b[?25l\u001b[?25hdone\n",
            "  Created wheel for cartopy: filename=Cartopy-0.19.0.post1-cp37-cp37m-linux_x86_64.whl size=12516278 sha256=02fc347d2403403e77cceaaf7550b1cd986d98db20cd04fe3af5a7e29fa4685e\n",
            "  Stored in directory: /root/.cache/pip/wheels/98/01/f7/bd10aeb96fe4b518cde5f7c4f5e12c7202f85b7353a5017847\n",
            "Successfully built cartopy\n",
            "Installing collected packages: pyshp, cartopy\n",
            "Successfully installed cartopy-0.19.0.post1 pyshp-2.2.0\n",
            "deb-src http://archive.ubuntu.com/ubuntu/ bionic main restricted\n",
            "deb-src http://archive.ubuntu.com/ubuntu/ bionic-updates main restricted\n",
            "deb-src http://archive.ubuntu.com/ubuntu/ bionic universe\n",
            "deb-src http://archive.ubuntu.com/ubuntu/ bionic-updates universe\n",
            "deb-src http://archive.ubuntu.com/ubuntu/ bionic multiverse\n",
            "deb-src http://archive.ubuntu.com/ubuntu/ bionic-updates multiverse\n",
            "deb-src http://archive.ubuntu.com/ubuntu/ bionic-backports main restricted universe multiverse\n",
            "deb-src http://security.ubuntu.com/ubuntu/ bionic-security main restricted\n",
            "deb-src http://security.ubuntu.com/ubuntu/ bionic-security universe\n",
            "deb-src http://security.ubuntu.com/ubuntu/ bionic-security multiverse\n",
            "deb-src https://cloud.r-project.org/bin/linux/ubuntu bionic-cran40/\n",
            "deb-src http://archive.ubuntu.com/ubuntu/ bionic main restricted\n",
            "deb-src http://archive.ubuntu.com/ubuntu/ bionic-updates main restricted\n",
            "deb-src http://archive.ubuntu.com/ubuntu/ bionic universe\n",
            "deb-src http://archive.ubuntu.com/ubuntu/ bionic-updates universe\n",
            "deb-src http://archive.ubuntu.com/ubuntu/ bionic multiverse\n",
            "deb-src http://archive.ubuntu.com/ubuntu/ bionic-updates multiverse\n",
            "deb-src http://archive.ubuntu.com/ubuntu/ bionic-backports main restricted universe multiverse\n",
            "deb-src http://security.ubuntu.com/ubuntu/ bionic-security main restricted\n",
            "deb-src http://security.ubuntu.com/ubuntu/ bionic-security universe\n",
            "deb-src http://security.ubuntu.com/ubuntu/ bionic-security multiverse\n",
            "deb-src https://cloud.r-project.org/bin/linux/ubuntu bionic-cran40/\n",
            "Hit:1 http://security.ubuntu.com/ubuntu bionic-security InRelease\n",
            "Hit:2 http://archive.ubuntu.com/ubuntu bionic InRelease\n",
            "Hit:3 https://cloud.r-project.org/bin/linux/ubuntu bionic-cran40/ InRelease\n",
            "Hit:4 http://archive.ubuntu.com/ubuntu bionic-updates InRelease\n",
            "Ign:5 https://developer.download.nvidia.com/compute/cuda/repos/ubuntu1804/x86_64  InRelease\n",
            "Hit:6 http://archive.ubuntu.com/ubuntu bionic-backports InRelease\n",
            "Ign:7 https://developer.download.nvidia.com/compute/machine-learning/repos/ubuntu1804/x86_64  InRelease\n",
            "Hit:8 http://ppa.launchpad.net/c2d4u.team/c2d4u4.0+/ubuntu bionic InRelease\n",
            "Hit:9 https://developer.download.nvidia.com/compute/cuda/repos/ubuntu1804/x86_64  Release\n",
            "Hit:10 https://developer.download.nvidia.com/compute/machine-learning/repos/ubuntu1804/x86_64  Release\n",
            "Hit:11 http://ppa.launchpad.net/cran/libgit2/ubuntu bionic InRelease\n",
            "Hit:12 http://ppa.launchpad.net/deadsnakes/ppa/ubuntu bionic InRelease\n",
            "Hit:13 http://ppa.launchpad.net/graphics-drivers/ppa/ubuntu bionic InRelease\n",
            "Reading package lists... Done\n",
            "Extracting templates from packages: 100%\n",
            "Selecting previously unselected package libmagic-mgc.\n",
            "(Reading database ... 156210 files and directories currently installed.)\n",
            "Preparing to unpack .../00-libmagic-mgc_1%3a5.32-2ubuntu0.4_amd64.deb ...\n",
            "Unpacking libmagic-mgc (1:5.32-2ubuntu0.4) ...\n",
            "Selecting previously unselected package libmagic1:amd64.\n",
            "Preparing to unpack .../01-libmagic1_1%3a5.32-2ubuntu0.4_amd64.deb ...\n",
            "Unpacking libmagic1:amd64 (1:5.32-2ubuntu0.4) ...\n",
            "Selecting previously unselected package file.\n",
            "Preparing to unpack .../02-file_1%3a5.32-2ubuntu0.4_amd64.deb ...\n",
            "Unpacking file (1:5.32-2ubuntu0.4) ...\n",
            "Selecting previously unselected package gettext-base.\n",
            "Preparing to unpack .../03-gettext-base_0.19.8.1-6ubuntu0.3_amd64.deb ...\n",
            "Unpacking gettext-base (0.19.8.1-6ubuntu0.3) ...\n",
            "Selecting previously unselected package libsigsegv2:amd64.\n",
            "Preparing to unpack .../04-libsigsegv2_2.12-1_amd64.deb ...\n",
            "Unpacking libsigsegv2:amd64 (2.12-1) ...\n",
            "Selecting previously unselected package m4.\n",
            "Preparing to unpack .../05-m4_1.4.18-1_amd64.deb ...\n",
            "Unpacking m4 (1.4.18-1) ...\n",
            "Selecting previously unselected package autoconf.\n",
            "Preparing to unpack .../06-autoconf_2.69-11_all.deb ...\n",
            "Unpacking autoconf (2.69-11) ...\n",
            "Selecting previously unselected package autotools-dev.\n",
            "Preparing to unpack .../07-autotools-dev_20180224.1_all.deb ...\n",
            "Unpacking autotools-dev (20180224.1) ...\n",
            "Selecting previously unselected package automake.\n",
            "Preparing to unpack .../08-automake_1%3a1.15.1-3ubuntu2_all.deb ...\n",
            "Unpacking automake (1:1.15.1-3ubuntu2) ...\n",
            "Selecting previously unselected package autopoint.\n",
            "Preparing to unpack .../09-autopoint_0.19.8.1-6ubuntu0.3_all.deb ...\n",
            "Unpacking autopoint (0.19.8.1-6ubuntu0.3) ...\n",
            "Selecting previously unselected package cython.\n",
            "Preparing to unpack .../10-cython_0.26.1-0.4_amd64.deb ...\n",
            "Unpacking cython (0.26.1-0.4) ...\n",
            "Selecting previously unselected package cython3.\n",
            "Preparing to unpack .../11-cython3_0.26.1-0.4_amd64.deb ...\n",
            "Unpacking cython3 (0.26.1-0.4) ...\n",
            "Selecting previously unselected package libtool.\n",
            "Preparing to unpack .../12-libtool_2.4.6-2_all.deb ...\n",
            "Unpacking libtool (2.4.6-2) ...\n",
            "Selecting previously unselected package dh-autoreconf.\n",
            "Preparing to unpack .../13-dh-autoreconf_17_all.deb ...\n",
            "Unpacking dh-autoreconf (17) ...\n",
            "Selecting previously unselected package libarchive-zip-perl.\n",
            "Preparing to unpack .../14-libarchive-zip-perl_1.60-1ubuntu0.1_all.deb ...\n",
            "Unpacking libarchive-zip-perl (1.60-1ubuntu0.1) ...\n",
            "Selecting previously unselected package libfile-stripnondeterminism-perl.\n",
            "Preparing to unpack .../15-libfile-stripnondeterminism-perl_0.040-1.1~build1_all.deb ...\n",
            "Unpacking libfile-stripnondeterminism-perl (0.040-1.1~build1) ...\n",
            "Selecting previously unselected package libtimedate-perl.\n",
            "Preparing to unpack .../16-libtimedate-perl_2.3000-2_all.deb ...\n",
            "Unpacking libtimedate-perl (2.3000-2) ...\n",
            "Selecting previously unselected package dh-strip-nondeterminism.\n",
            "Preparing to unpack .../17-dh-strip-nondeterminism_0.040-1.1~build1_all.deb ...\n",
            "Unpacking dh-strip-nondeterminism (0.040-1.1~build1) ...\n",
            "Selecting previously unselected package gettext.\n",
            "Preparing to unpack .../18-gettext_0.19.8.1-6ubuntu0.3_amd64.deb ...\n",
            "Unpacking gettext (0.19.8.1-6ubuntu0.3) ...\n",
            "Selecting previously unselected package intltool-debian.\n",
            "Preparing to unpack .../19-intltool-debian_0.35.0+20060710.4_all.deb ...\n",
            "Unpacking intltool-debian (0.35.0+20060710.4) ...\n",
            "Selecting previously unselected package po-debconf.\n",
            "Preparing to unpack .../20-po-debconf_1.0.20_all.deb ...\n",
            "Unpacking po-debconf (1.0.20) ...\n",
            "Selecting previously unselected package debhelper.\n",
            "Preparing to unpack .../21-debhelper_11.1.6ubuntu2_all.deb ...\n",
            "Unpacking debhelper (11.1.6ubuntu2) ...\n",
            "Selecting previously unselected package libpython-all-dev:amd64.\n",
            "Preparing to unpack .../22-libpython-all-dev_2.7.15~rc1-1_amd64.deb ...\n",
            "Unpacking libpython-all-dev:amd64 (2.7.15~rc1-1) ...\n",
            "Selecting previously unselected package libpython3-all-dev:amd64.\n",
            "Preparing to unpack .../23-libpython3-all-dev_3.6.7-1~18.04_amd64.deb ...\n",
            "Unpacking libpython3-all-dev:amd64 (3.6.7-1~18.04) ...\n",
            "Selecting previously unselected package python-all.\n",
            "Preparing to unpack .../24-python-all_2.7.15~rc1-1_amd64.deb ...\n",
            "Unpacking python-all (2.7.15~rc1-1) ...\n",
            "Selecting previously unselected package python-all-dev.\n",
            "Preparing to unpack .../25-python-all-dev_2.7.15~rc1-1_amd64.deb ...\n",
            "Unpacking python-all-dev (2.7.15~rc1-1) ...\n",
            "Selecting previously unselected package python-pkg-resources.\n",
            "Preparing to unpack .../26-python-pkg-resources_39.0.1-2_all.deb ...\n",
            "Unpacking python-pkg-resources (39.0.1-2) ...\n",
            "Selecting previously unselected package python-nose.\n",
            "Preparing to unpack .../27-python-nose_1.3.7-3_all.deb ...\n",
            "Unpacking python-nose (1.3.7-3) ...\n",
            "Selecting previously unselected package python-setuptools.\n",
            "Preparing to unpack .../28-python-setuptools_39.0.1-2_all.deb ...\n",
            "Unpacking python-setuptools (39.0.1-2) ...\n",
            "Selecting previously unselected package python-shapely.\n",
            "Preparing to unpack .../29-python-shapely_1.6.4-1_amd64.deb ...\n",
            "Unpacking python-shapely (1.6.4-1) ...\n",
            "Selecting previously unselected package python-six.\n",
            "Preparing to unpack .../30-python-six_1.11.0-2_all.deb ...\n",
            "Unpacking python-six (1.11.0-2) ...\n",
            "Selecting previously unselected package python3-all.\n",
            "Preparing to unpack .../31-python3-all_3.6.7-1~18.04_amd64.deb ...\n",
            "Unpacking python3-all (3.6.7-1~18.04) ...\n",
            "Selecting previously unselected package python3-all-dev.\n",
            "Preparing to unpack .../32-python3-all-dev_3.6.7-1~18.04_amd64.deb ...\n",
            "Unpacking python3-all-dev (3.6.7-1~18.04) ...\n",
            "Selecting previously unselected package python3-pkg-resources.\n",
            "Preparing to unpack .../33-python3-pkg-resources_39.0.1-2_all.deb ...\n",
            "Unpacking python3-pkg-resources (39.0.1-2) ...\n",
            "Selecting previously unselected package python3-nose.\n",
            "Preparing to unpack .../34-python3-nose_1.3.7-3_all.deb ...\n",
            "Unpacking python3-nose (1.3.7-3) ...\n",
            "Selecting previously unselected package python3-numpy.\n",
            "Preparing to unpack .../35-python3-numpy_1%3a1.13.3-2ubuntu1_amd64.deb ...\n",
            "Unpacking python3-numpy (1:1.13.3-2ubuntu1) ...\n",
            "Selecting previously unselected package python3-setuptools.\n",
            "Preparing to unpack .../36-python3-setuptools_39.0.1-2_all.deb ...\n",
            "Unpacking python3-setuptools (39.0.1-2) ...\n",
            "Selecting previously unselected package python3-shapely.\n",
            "Preparing to unpack .../37-python3-shapely_1.6.4-1_amd64.deb ...\n",
            "Unpacking python3-shapely (1.6.4-1) ...\n",
            "Selecting previously unselected package python3-six.\n",
            "Preparing to unpack .../38-python3-six_1.11.0-2_all.deb ...\n",
            "Unpacking python3-six (1.11.0-2) ...\n",
            "Selecting previously unselected package proj-bin.\n",
            "Preparing to unpack .../39-proj-bin_4.9.3-2_amd64.deb ...\n",
            "Unpacking proj-bin (4.9.3-2) ...\n",
            "Selecting previously unselected package python-pyshp.\n",
            "Preparing to unpack .../40-python-pyshp_1.2.12+ds-1_all.deb ...\n",
            "Unpacking python-pyshp (1.2.12+ds-1) ...\n",
            "Selecting previously unselected package python3-pyshp.\n",
            "Preparing to unpack .../41-python3-pyshp_1.2.12+ds-1_all.deb ...\n",
            "Unpacking python3-pyshp (1.2.12+ds-1) ...\n",
            "Setting up python-shapely (1.6.4-1) ...\n",
            "Setting up libarchive-zip-perl (1.60-1ubuntu0.1) ...\n",
            "Setting up python-pyshp (1.2.12+ds-1) ...\n",
            "Setting up libtimedate-perl (2.3000-2) ...\n",
            "Setting up libsigsegv2:amd64 (2.12-1) ...\n",
            "Setting up python3-numpy (1:1.13.3-2ubuntu1) ...\n",
            "Setting up python3-six (1.11.0-2) ...\n",
            "Setting up libpython-all-dev:amd64 (2.7.15~rc1-1) ...\n",
            "Setting up gettext-base (0.19.8.1-6ubuntu0.3) ...\n",
            "Setting up python3-shapely (1.6.4-1) ...\n",
            "Setting up python3-pyshp (1.2.12+ds-1) ...\n",
            "Setting up m4 (1.4.18-1) ...\n",
            "Setting up python3-pkg-resources (39.0.1-2) ...\n",
            "Setting up python-pkg-resources (39.0.1-2) ...\n",
            "Setting up cython (0.26.1-0.4) ...\n",
            "Setting up libmagic-mgc (1:5.32-2ubuntu0.4) ...\n",
            "Setting up libmagic1:amd64 (1:5.32-2ubuntu0.4) ...\n",
            "Setting up python-six (1.11.0-2) ...\n",
            "Setting up libpython3-all-dev:amd64 (3.6.7-1~18.04) ...\n",
            "Setting up autotools-dev (20180224.1) ...\n",
            "Setting up python3-nose (1.3.7-3) ...\n",
            "Setting up proj-bin (4.9.3-2) ...\n",
            "Setting up python3-all (3.6.7-1~18.04) ...\n",
            "Setting up cython3 (0.26.1-0.4) ...\n",
            "Setting up python3-setuptools (39.0.1-2) ...\n",
            "Setting up python-nose (1.3.7-3) ...\n",
            "Setting up python-all (2.7.15~rc1-1) ...\n",
            "Setting up autopoint (0.19.8.1-6ubuntu0.3) ...\n",
            "Setting up libfile-stripnondeterminism-perl (0.040-1.1~build1) ...\n",
            "Setting up python-setuptools (39.0.1-2) ...\n",
            "Setting up gettext (0.19.8.1-6ubuntu0.3) ...\n",
            "Setting up python3-all-dev (3.6.7-1~18.04) ...\n",
            "Setting up autoconf (2.69-11) ...\n",
            "Setting up file (1:5.32-2ubuntu0.4) ...\n",
            "Setting up intltool-debian (0.35.0+20060710.4) ...\n",
            "Setting up python-all-dev (2.7.15~rc1-1) ...\n",
            "Setting up automake (1:1.15.1-3ubuntu2) ...\n",
            "update-alternatives: using /usr/bin/automake-1.15 to provide /usr/bin/automake (automake) in auto mode\n",
            "Setting up libtool (2.4.6-2) ...\n",
            "Setting up po-debconf (1.0.20) ...\n",
            "Setting up dh-autoreconf (17) ...\n",
            "Setting up debhelper (11.1.6ubuntu2) ...\n",
            "Setting up dh-strip-nondeterminism (0.040-1.1~build1) ...\n",
            "Processing triggers for libc-bin (2.27-3ubuntu1.3) ...\n",
            "/sbin/ldconfig.real: /usr/local/lib/python3.7/dist-packages/ideep4py/lib/libmkldnn.so.0 is not a symbolic link\n",
            "\n",
            "Processing triggers for man-db (2.8.3-2ubuntu0.1) ...\n",
            "(Reading database ... 159121 files and directories currently installed.)\n",
            "Removing python-shapely (1.6.4-1) ...\n",
            "Removing python3-shapely (1.6.4-1) ...\n",
            "Collecting shapely\n",
            "  Downloading Shapely-1.8.1.post1.tar.gz (198 kB)\n",
            "\u001b[K     |████████████████████████████████| 198 kB 5.0 MB/s \n",
            "\u001b[?25h  Installing build dependencies ... \u001b[?25l\u001b[?25hdone\n",
            "  Getting requirements to build wheel ... \u001b[?25l\u001b[?25hdone\n",
            "    Preparing wheel metadata ... \u001b[?25l\u001b[?25hdone\n",
            "Building wheels for collected packages: shapely\n",
            "  Building wheel for shapely (PEP 517) ... \u001b[?25l\u001b[?25hdone\n",
            "  Created wheel for shapely: filename=Shapely-1.8.1.post1-cp37-cp37m-linux_x86_64.whl size=665665 sha256=358d4b976fac292d074144a7558d9f81d35bd268843856bee43d9b3dd463103e\n",
            "  Stored in directory: /root/.cache/pip/wheels/ea/8d/2f/ab748b8a432b3c6cd72e751b3bca17c5a9ed4538b1e78467e6\n",
            "Successfully built shapely\n",
            "Installing collected packages: shapely\n",
            "  Attempting uninstall: shapely\n",
            "    Found existing installation: Shapely 1.8.1.post1\n",
            "    Uninstalling Shapely-1.8.1.post1:\n",
            "      Successfully uninstalled Shapely-1.8.1.post1\n",
            "\u001b[31mERROR: pip's dependency resolver does not currently take into account all the packages that are installed. This behaviour is the source of the following dependency conflicts.\n",
            "albumentations 0.1.12 requires imgaug<0.2.7,>=0.2.5, but you have imgaug 0.2.9 which is incompatible.\u001b[0m\n",
            "Successfully installed shapely-1.8.1.post1\n",
            "\u001b[31mERROR: Could not find a version that satisfies the requirement cartopy==0.19.0 (from versions: 0.11.0, 0.12.0.4, 0.12.0.5, 0.13.0, 0.13.1, 0.14.0, 0.14.2, 0.15.1, 0.16.0, 0.17.0, 0.18.0b1, 0.18.0b2, 0.18.0rc1, 0.18.0, 0.19.0rc1, 0.19.0.post1, 0.20.0, 0.20.1, 0.20.2)\u001b[0m\n",
            "\u001b[31mERROR: No matching distribution found for cartopy==0.19.0\u001b[0m\n",
            "Shapely                       1.8.1.post1\n"
          ]
        }
      ],
      "source": [
        "!pip install xarray\n",
        "!pip install cartopy\n",
        "\n",
        "!grep '^deb ' /etc/apt/sources.list | \\\n",
        "  sed 's/^deb /deb-src /g' | \\\n",
        "  tee /etc/apt/sources.list.d/deb-src.list\n",
        "!apt-get -qq update\n",
        "\n",
        "!grep '^deb ' /etc/apt/sources.list | \\\n",
        "  sed 's/^deb /deb-src /g' | \\\n",
        "  tee /etc/apt/sources.list.d/deb-src.list\n",
        "!apt-get update\n",
        "\n",
        "!apt-get -qq build-dep python3-cartopy\n",
        "!apt-get -qq remove python-shapely python3-shapely\n",
        "\n",
        "!pip install --no-binary shapely shapely --force\n",
        "!pip install --no-binary cartopy cartopy==0.19.0\n",
        "\n",
        "!pip list | grep Shapely"
      ]
    },
    {
      "cell_type": "markdown",
      "metadata": {
        "id": "EQ-k6A88fCdY"
      },
      "source": [
        "### Install libraries"
      ]
    },
    {
      "cell_type": "code",
      "execution_count": 2,
      "metadata": {
        "id": "97vJRZ6YfCdY"
      },
      "outputs": [],
      "source": [
        "import numpy as np  # import numpy package \n",
        "import matplotlib.pyplot as plt # function in matplotlib that produces quick and easy plots\n",
        "import pandas as pd # load the Pandas module, which is a library for data manipulation of 2 dimensional data\n",
        "import xarray as xr # load the xarray module, which is a library for data manipulation of N dimensional data\n",
        "import cartopy.crs as ccrs # Cartopy map projections\n",
        "import cartopy.feature as cfeature # Cartopy map features\n",
        "from cartopy.util import add_cyclic_point\n",
        "import cartopy\n",
        "import warnings \n",
        "warnings.filterwarnings('ignore')"
      ]
    },
    {
      "cell_type": "markdown",
      "metadata": {
        "id": "9PpEoD0Cf953"
      },
      "source": [
        "### Load data\n",
        "\n",
        "* The data 'download.nc' had been downloaded using the 'data_collection.ipynb' file. I kept it as a separate file, because the website might keep changing the format of the data, time to time. I want the results to be consistent.\n"
      ]
    },
    {
      "cell_type": "code",
      "execution_count": 3,
      "metadata": {
        "colab": {
          "base_uri": "https://localhost:8080/",
          "height": 415
        },
        "id": "3uuAuuBOf8Bt",
        "outputId": "a3889405-692a-42f9-e05d-2ae36fd6b569"
      },
      "outputs": [
        {
          "data": {
            "text/html": [
              "<div><svg style=\"position: absolute; width: 0; height: 0; overflow: hidden\">\n",
              "<defs>\n",
              "<symbol id=\"icon-database\" viewBox=\"0 0 32 32\">\n",
              "<path d=\"M16 0c-8.837 0-16 2.239-16 5v4c0 2.761 7.163 5 16 5s16-2.239 16-5v-4c0-2.761-7.163-5-16-5z\"></path>\n",
              "<path d=\"M16 17c-8.837 0-16-2.239-16-5v6c0 2.761 7.163 5 16 5s16-2.239 16-5v-6c0 2.761-7.163 5-16 5z\"></path>\n",
              "<path d=\"M16 26c-8.837 0-16-2.239-16-5v6c0 2.761 7.163 5 16 5s16-2.239 16-5v-6c0 2.761-7.163 5-16 5z\"></path>\n",
              "</symbol>\n",
              "<symbol id=\"icon-file-text2\" viewBox=\"0 0 32 32\">\n",
              "<path d=\"M28.681 7.159c-0.694-0.947-1.662-2.053-2.724-3.116s-2.169-2.030-3.116-2.724c-1.612-1.182-2.393-1.319-2.841-1.319h-15.5c-1.378 0-2.5 1.121-2.5 2.5v27c0 1.378 1.122 2.5 2.5 2.5h23c1.378 0 2.5-1.122 2.5-2.5v-19.5c0-0.448-0.137-1.23-1.319-2.841zM24.543 5.457c0.959 0.959 1.712 1.825 2.268 2.543h-4.811v-4.811c0.718 0.556 1.584 1.309 2.543 2.268zM28 29.5c0 0.271-0.229 0.5-0.5 0.5h-23c-0.271 0-0.5-0.229-0.5-0.5v-27c0-0.271 0.229-0.5 0.5-0.5 0 0 15.499-0 15.5 0v7c0 0.552 0.448 1 1 1h7v19.5z\"></path>\n",
              "<path d=\"M23 26h-14c-0.552 0-1-0.448-1-1s0.448-1 1-1h14c0.552 0 1 0.448 1 1s-0.448 1-1 1z\"></path>\n",
              "<path d=\"M23 22h-14c-0.552 0-1-0.448-1-1s0.448-1 1-1h14c0.552 0 1 0.448 1 1s-0.448 1-1 1z\"></path>\n",
              "<path d=\"M23 18h-14c-0.552 0-1-0.448-1-1s0.448-1 1-1h14c0.552 0 1 0.448 1 1s-0.448 1-1 1z\"></path>\n",
              "</symbol>\n",
              "</defs>\n",
              "</svg>\n",
              "<style>/* CSS stylesheet for displaying xarray objects in jupyterlab.\n",
              " *\n",
              " */\n",
              "\n",
              ":root {\n",
              "  --xr-font-color0: var(--jp-content-font-color0, rgba(0, 0, 0, 1));\n",
              "  --xr-font-color2: var(--jp-content-font-color2, rgba(0, 0, 0, 0.54));\n",
              "  --xr-font-color3: var(--jp-content-font-color3, rgba(0, 0, 0, 0.38));\n",
              "  --xr-border-color: var(--jp-border-color2, #e0e0e0);\n",
              "  --xr-disabled-color: var(--jp-layout-color3, #bdbdbd);\n",
              "  --xr-background-color: var(--jp-layout-color0, white);\n",
              "  --xr-background-color-row-even: var(--jp-layout-color1, white);\n",
              "  --xr-background-color-row-odd: var(--jp-layout-color2, #eeeeee);\n",
              "}\n",
              "\n",
              "html[theme=dark],\n",
              "body.vscode-dark {\n",
              "  --xr-font-color0: rgba(255, 255, 255, 1);\n",
              "  --xr-font-color2: rgba(255, 255, 255, 0.54);\n",
              "  --xr-font-color3: rgba(255, 255, 255, 0.38);\n",
              "  --xr-border-color: #1F1F1F;\n",
              "  --xr-disabled-color: #515151;\n",
              "  --xr-background-color: #111111;\n",
              "  --xr-background-color-row-even: #111111;\n",
              "  --xr-background-color-row-odd: #313131;\n",
              "}\n",
              "\n",
              ".xr-wrap {\n",
              "  display: block;\n",
              "  min-width: 300px;\n",
              "  max-width: 700px;\n",
              "}\n",
              "\n",
              ".xr-text-repr-fallback {\n",
              "  /* fallback to plain text repr when CSS is not injected (untrusted notebook) */\n",
              "  display: none;\n",
              "}\n",
              "\n",
              ".xr-header {\n",
              "  padding-top: 6px;\n",
              "  padding-bottom: 6px;\n",
              "  margin-bottom: 4px;\n",
              "  border-bottom: solid 1px var(--xr-border-color);\n",
              "}\n",
              "\n",
              ".xr-header > div,\n",
              ".xr-header > ul {\n",
              "  display: inline;\n",
              "  margin-top: 0;\n",
              "  margin-bottom: 0;\n",
              "}\n",
              "\n",
              ".xr-obj-type,\n",
              ".xr-array-name {\n",
              "  margin-left: 2px;\n",
              "  margin-right: 10px;\n",
              "}\n",
              "\n",
              ".xr-obj-type {\n",
              "  color: var(--xr-font-color2);\n",
              "}\n",
              "\n",
              ".xr-sections {\n",
              "  padding-left: 0 !important;\n",
              "  display: grid;\n",
              "  grid-template-columns: 150px auto auto 1fr 20px 20px;\n",
              "}\n",
              "\n",
              ".xr-section-item {\n",
              "  display: contents;\n",
              "}\n",
              "\n",
              ".xr-section-item input {\n",
              "  display: none;\n",
              "}\n",
              "\n",
              ".xr-section-item input + label {\n",
              "  color: var(--xr-disabled-color);\n",
              "}\n",
              "\n",
              ".xr-section-item input:enabled + label {\n",
              "  cursor: pointer;\n",
              "  color: var(--xr-font-color2);\n",
              "}\n",
              "\n",
              ".xr-section-item input:enabled + label:hover {\n",
              "  color: var(--xr-font-color0);\n",
              "}\n",
              "\n",
              ".xr-section-summary {\n",
              "  grid-column: 1;\n",
              "  color: var(--xr-font-color2);\n",
              "  font-weight: 500;\n",
              "}\n",
              "\n",
              ".xr-section-summary > span {\n",
              "  display: inline-block;\n",
              "  padding-left: 0.5em;\n",
              "}\n",
              "\n",
              ".xr-section-summary-in:disabled + label {\n",
              "  color: var(--xr-font-color2);\n",
              "}\n",
              "\n",
              ".xr-section-summary-in + label:before {\n",
              "  display: inline-block;\n",
              "  content: '►';\n",
              "  font-size: 11px;\n",
              "  width: 15px;\n",
              "  text-align: center;\n",
              "}\n",
              "\n",
              ".xr-section-summary-in:disabled + label:before {\n",
              "  color: var(--xr-disabled-color);\n",
              "}\n",
              "\n",
              ".xr-section-summary-in:checked + label:before {\n",
              "  content: '▼';\n",
              "}\n",
              "\n",
              ".xr-section-summary-in:checked + label > span {\n",
              "  display: none;\n",
              "}\n",
              "\n",
              ".xr-section-summary,\n",
              ".xr-section-inline-details {\n",
              "  padding-top: 4px;\n",
              "  padding-bottom: 4px;\n",
              "}\n",
              "\n",
              ".xr-section-inline-details {\n",
              "  grid-column: 2 / -1;\n",
              "}\n",
              "\n",
              ".xr-section-details {\n",
              "  display: none;\n",
              "  grid-column: 1 / -1;\n",
              "  margin-bottom: 5px;\n",
              "}\n",
              "\n",
              ".xr-section-summary-in:checked ~ .xr-section-details {\n",
              "  display: contents;\n",
              "}\n",
              "\n",
              ".xr-array-wrap {\n",
              "  grid-column: 1 / -1;\n",
              "  display: grid;\n",
              "  grid-template-columns: 20px auto;\n",
              "}\n",
              "\n",
              ".xr-array-wrap > label {\n",
              "  grid-column: 1;\n",
              "  vertical-align: top;\n",
              "}\n",
              "\n",
              ".xr-preview {\n",
              "  color: var(--xr-font-color3);\n",
              "}\n",
              "\n",
              ".xr-array-preview,\n",
              ".xr-array-data {\n",
              "  padding: 0 5px !important;\n",
              "  grid-column: 2;\n",
              "}\n",
              "\n",
              ".xr-array-data,\n",
              ".xr-array-in:checked ~ .xr-array-preview {\n",
              "  display: none;\n",
              "}\n",
              "\n",
              ".xr-array-in:checked ~ .xr-array-data,\n",
              ".xr-array-preview {\n",
              "  display: inline-block;\n",
              "}\n",
              "\n",
              ".xr-dim-list {\n",
              "  display: inline-block !important;\n",
              "  list-style: none;\n",
              "  padding: 0 !important;\n",
              "  margin: 0;\n",
              "}\n",
              "\n",
              ".xr-dim-list li {\n",
              "  display: inline-block;\n",
              "  padding: 0;\n",
              "  margin: 0;\n",
              "}\n",
              "\n",
              ".xr-dim-list:before {\n",
              "  content: '(';\n",
              "}\n",
              "\n",
              ".xr-dim-list:after {\n",
              "  content: ')';\n",
              "}\n",
              "\n",
              ".xr-dim-list li:not(:last-child):after {\n",
              "  content: ',';\n",
              "  padding-right: 5px;\n",
              "}\n",
              "\n",
              ".xr-has-index {\n",
              "  font-weight: bold;\n",
              "}\n",
              "\n",
              ".xr-var-list,\n",
              ".xr-var-item {\n",
              "  display: contents;\n",
              "}\n",
              "\n",
              ".xr-var-item > div,\n",
              ".xr-var-item label,\n",
              ".xr-var-item > .xr-var-name span {\n",
              "  background-color: var(--xr-background-color-row-even);\n",
              "  margin-bottom: 0;\n",
              "}\n",
              "\n",
              ".xr-var-item > .xr-var-name:hover span {\n",
              "  padding-right: 5px;\n",
              "}\n",
              "\n",
              ".xr-var-list > li:nth-child(odd) > div,\n",
              ".xr-var-list > li:nth-child(odd) > label,\n",
              ".xr-var-list > li:nth-child(odd) > .xr-var-name span {\n",
              "  background-color: var(--xr-background-color-row-odd);\n",
              "}\n",
              "\n",
              ".xr-var-name {\n",
              "  grid-column: 1;\n",
              "}\n",
              "\n",
              ".xr-var-dims {\n",
              "  grid-column: 2;\n",
              "}\n",
              "\n",
              ".xr-var-dtype {\n",
              "  grid-column: 3;\n",
              "  text-align: right;\n",
              "  color: var(--xr-font-color2);\n",
              "}\n",
              "\n",
              ".xr-var-preview {\n",
              "  grid-column: 4;\n",
              "}\n",
              "\n",
              ".xr-var-name,\n",
              ".xr-var-dims,\n",
              ".xr-var-dtype,\n",
              ".xr-preview,\n",
              ".xr-attrs dt {\n",
              "  white-space: nowrap;\n",
              "  overflow: hidden;\n",
              "  text-overflow: ellipsis;\n",
              "  padding-right: 10px;\n",
              "}\n",
              "\n",
              ".xr-var-name:hover,\n",
              ".xr-var-dims:hover,\n",
              ".xr-var-dtype:hover,\n",
              ".xr-attrs dt:hover {\n",
              "  overflow: visible;\n",
              "  width: auto;\n",
              "  z-index: 1;\n",
              "}\n",
              "\n",
              ".xr-var-attrs,\n",
              ".xr-var-data {\n",
              "  display: none;\n",
              "  background-color: var(--xr-background-color) !important;\n",
              "  padding-bottom: 5px !important;\n",
              "}\n",
              "\n",
              ".xr-var-attrs-in:checked ~ .xr-var-attrs,\n",
              ".xr-var-data-in:checked ~ .xr-var-data {\n",
              "  display: block;\n",
              "}\n",
              "\n",
              ".xr-var-data > table {\n",
              "  float: right;\n",
              "}\n",
              "\n",
              ".xr-var-name span,\n",
              ".xr-var-data,\n",
              ".xr-attrs {\n",
              "  padding-left: 25px !important;\n",
              "}\n",
              "\n",
              ".xr-attrs,\n",
              ".xr-var-attrs,\n",
              ".xr-var-data {\n",
              "  grid-column: 1 / -1;\n",
              "}\n",
              "\n",
              "dl.xr-attrs {\n",
              "  padding: 0;\n",
              "  margin: 0;\n",
              "  display: grid;\n",
              "  grid-template-columns: 125px auto;\n",
              "}\n",
              "\n",
              ".xr-attrs dt,\n",
              ".xr-attrs dd {\n",
              "  padding: 0;\n",
              "  margin: 0;\n",
              "  float: left;\n",
              "  padding-right: 10px;\n",
              "  width: auto;\n",
              "}\n",
              "\n",
              ".xr-attrs dt {\n",
              "  font-weight: normal;\n",
              "  grid-column: 1;\n",
              "}\n",
              "\n",
              ".xr-attrs dt:hover span {\n",
              "  display: inline-block;\n",
              "  background: var(--xr-background-color);\n",
              "  padding-right: 10px;\n",
              "}\n",
              "\n",
              ".xr-attrs dd {\n",
              "  grid-column: 2;\n",
              "  white-space: pre-wrap;\n",
              "  word-break: break-all;\n",
              "}\n",
              "\n",
              ".xr-icon-database,\n",
              ".xr-icon-file-text2 {\n",
              "  display: inline-block;\n",
              "  vertical-align: middle;\n",
              "  width: 1em;\n",
              "  height: 1.5em !important;\n",
              "  stroke-width: 0;\n",
              "  stroke: currentColor;\n",
              "  fill: currentColor;\n",
              "}\n",
              "</style><pre class='xr-text-repr-fallback'>&lt;xarray.Dataset&gt;\n",
              "Dimensions:    (latitude: 61, longitude: 71, time: 792)\n",
              "Coordinates:\n",
              "  * longitude  (longitude) float32 72.0 72.1 72.2 72.3 ... 78.7 78.8 78.9 79.0\n",
              "  * latitude   (latitude) float32 22.0 21.9 21.8 21.7 ... 16.3 16.2 16.1 16.0\n",
              "  * time       (time) datetime64[ns] 2019-07-14 ... 2021-07-24T23:00:00\n",
              "Data variables:\n",
              "    v10        (time, latitude, longitude) float32 ...\n",
              "    t2m        (time, latitude, longitude) float32 ...\n",
              "    ssr        (time, latitude, longitude) float32 ...\n",
              "    sp         (time, latitude, longitude) float32 ...\n",
              "    tp         (time, latitude, longitude) float32 ...\n",
              "Attributes:\n",
              "    Conventions:  CF-1.6\n",
              "    history:      2022-03-23 20:02:03 GMT by grib_to_netcdf-2.24.3: /opt/ecmw...</pre><div class='xr-wrap' hidden><div class='xr-header'><div class='xr-obj-type'>xarray.Dataset</div></div><ul class='xr-sections'><li class='xr-section-item'><input id='section-27b435cf-ad4c-4197-b7a2-082d30662c44' class='xr-section-summary-in' type='checkbox' disabled ><label for='section-27b435cf-ad4c-4197-b7a2-082d30662c44' class='xr-section-summary'  title='Expand/collapse section'>Dimensions:</label><div class='xr-section-inline-details'><ul class='xr-dim-list'><li><span class='xr-has-index'>latitude</span>: 61</li><li><span class='xr-has-index'>longitude</span>: 71</li><li><span class='xr-has-index'>time</span>: 792</li></ul></div><div class='xr-section-details'></div></li><li class='xr-section-item'><input id='section-d3e0e5e9-053d-42fd-a303-8afd96f1c962' class='xr-section-summary-in' type='checkbox'  checked><label for='section-d3e0e5e9-053d-42fd-a303-8afd96f1c962' class='xr-section-summary' >Coordinates: <span>(3)</span></label><div class='xr-section-inline-details'></div><div class='xr-section-details'><ul class='xr-var-list'><li class='xr-var-item'><div class='xr-var-name'><span class='xr-has-index'>longitude</span></div><div class='xr-var-dims'>(longitude)</div><div class='xr-var-dtype'>float32</div><div class='xr-var-preview xr-preview'>72.0 72.1 72.2 ... 78.8 78.9 79.0</div><input id='attrs-e66b8240-c8c9-4e6f-b7db-bcdd9c85a534' class='xr-var-attrs-in' type='checkbox' ><label for='attrs-e66b8240-c8c9-4e6f-b7db-bcdd9c85a534' title='Show/Hide attributes'><svg class='icon xr-icon-file-text2'><use xlink:href='#icon-file-text2'></use></svg></label><input id='data-5bc2c670-e45d-4a77-afa5-405e2e640132' class='xr-var-data-in' type='checkbox'><label for='data-5bc2c670-e45d-4a77-afa5-405e2e640132' title='Show/Hide data repr'><svg class='icon xr-icon-database'><use xlink:href='#icon-database'></use></svg></label><div class='xr-var-attrs'><dl class='xr-attrs'><dt><span>units :</span></dt><dd>degrees_east</dd><dt><span>long_name :</span></dt><dd>longitude</dd></dl></div><div class='xr-var-data'><pre>array([72. , 72.1, 72.2, 72.3, 72.4, 72.5, 72.6, 72.7, 72.8, 72.9, 73. , 73.1,\n",
              "       73.2, 73.3, 73.4, 73.5, 73.6, 73.7, 73.8, 73.9, 74. , 74.1, 74.2, 74.3,\n",
              "       74.4, 74.5, 74.6, 74.7, 74.8, 74.9, 75. , 75.1, 75.2, 75.3, 75.4, 75.5,\n",
              "       75.6, 75.7, 75.8, 75.9, 76. , 76.1, 76.2, 76.3, 76.4, 76.5, 76.6, 76.7,\n",
              "       76.8, 76.9, 77. , 77.1, 77.2, 77.3, 77.4, 77.5, 77.6, 77.7, 77.8, 77.9,\n",
              "       78. , 78.1, 78.2, 78.3, 78.4, 78.5, 78.6, 78.7, 78.8, 78.9, 79. ],\n",
              "      dtype=float32)</pre></div></li><li class='xr-var-item'><div class='xr-var-name'><span class='xr-has-index'>latitude</span></div><div class='xr-var-dims'>(latitude)</div><div class='xr-var-dtype'>float32</div><div class='xr-var-preview xr-preview'>22.0 21.9 21.8 ... 16.2 16.1 16.0</div><input id='attrs-06e98f97-f60f-4f8c-a4e5-49ffd10a5b13' class='xr-var-attrs-in' type='checkbox' ><label for='attrs-06e98f97-f60f-4f8c-a4e5-49ffd10a5b13' title='Show/Hide attributes'><svg class='icon xr-icon-file-text2'><use xlink:href='#icon-file-text2'></use></svg></label><input id='data-897dbe99-1b20-42b0-a54c-3251b1060d83' class='xr-var-data-in' type='checkbox'><label for='data-897dbe99-1b20-42b0-a54c-3251b1060d83' title='Show/Hide data repr'><svg class='icon xr-icon-database'><use xlink:href='#icon-database'></use></svg></label><div class='xr-var-attrs'><dl class='xr-attrs'><dt><span>units :</span></dt><dd>degrees_north</dd><dt><span>long_name :</span></dt><dd>latitude</dd></dl></div><div class='xr-var-data'><pre>array([22. , 21.9, 21.8, 21.7, 21.6, 21.5, 21.4, 21.3, 21.2, 21.1, 21. , 20.9,\n",
              "       20.8, 20.7, 20.6, 20.5, 20.4, 20.3, 20.2, 20.1, 20. , 19.9, 19.8, 19.7,\n",
              "       19.6, 19.5, 19.4, 19.3, 19.2, 19.1, 19. , 18.9, 18.8, 18.7, 18.6, 18.5,\n",
              "       18.4, 18.3, 18.2, 18.1, 18. , 17.9, 17.8, 17.7, 17.6, 17.5, 17.4, 17.3,\n",
              "       17.2, 17.1, 17. , 16.9, 16.8, 16.7, 16.6, 16.5, 16.4, 16.3, 16.2, 16.1,\n",
              "       16. ], dtype=float32)</pre></div></li><li class='xr-var-item'><div class='xr-var-name'><span class='xr-has-index'>time</span></div><div class='xr-var-dims'>(time)</div><div class='xr-var-dtype'>datetime64[ns]</div><div class='xr-var-preview xr-preview'>2019-07-14 ... 2021-07-24T23:00:00</div><input id='attrs-c1233342-1b8b-47ad-9d52-64326a846a97' class='xr-var-attrs-in' type='checkbox' ><label for='attrs-c1233342-1b8b-47ad-9d52-64326a846a97' title='Show/Hide attributes'><svg class='icon xr-icon-file-text2'><use xlink:href='#icon-file-text2'></use></svg></label><input id='data-cc745952-fe9a-4e31-be68-6b9f8f80f6b9' class='xr-var-data-in' type='checkbox'><label for='data-cc745952-fe9a-4e31-be68-6b9f8f80f6b9' title='Show/Hide data repr'><svg class='icon xr-icon-database'><use xlink:href='#icon-database'></use></svg></label><div class='xr-var-attrs'><dl class='xr-attrs'><dt><span>long_name :</span></dt><dd>time</dd></dl></div><div class='xr-var-data'><pre>array([&#x27;2019-07-14T00:00:00.000000000&#x27;, &#x27;2019-07-14T01:00:00.000000000&#x27;,\n",
              "       &#x27;2019-07-14T02:00:00.000000000&#x27;, ..., &#x27;2021-07-24T21:00:00.000000000&#x27;,\n",
              "       &#x27;2021-07-24T22:00:00.000000000&#x27;, &#x27;2021-07-24T23:00:00.000000000&#x27;],\n",
              "      dtype=&#x27;datetime64[ns]&#x27;)</pre></div></li></ul></div></li><li class='xr-section-item'><input id='section-eb6a75fe-156c-4341-a989-5a399ab7acc5' class='xr-section-summary-in' type='checkbox'  checked><label for='section-eb6a75fe-156c-4341-a989-5a399ab7acc5' class='xr-section-summary' >Data variables: <span>(5)</span></label><div class='xr-section-inline-details'></div><div class='xr-section-details'><ul class='xr-var-list'><li class='xr-var-item'><div class='xr-var-name'><span>v10</span></div><div class='xr-var-dims'>(time, latitude, longitude)</div><div class='xr-var-dtype'>float32</div><div class='xr-var-preview xr-preview'>...</div><input id='attrs-c505fe63-c9c8-4624-9c8f-130448fac660' class='xr-var-attrs-in' type='checkbox' ><label for='attrs-c505fe63-c9c8-4624-9c8f-130448fac660' title='Show/Hide attributes'><svg class='icon xr-icon-file-text2'><use xlink:href='#icon-file-text2'></use></svg></label><input id='data-84050c04-1916-45e1-8292-e6b78d2aec56' class='xr-var-data-in' type='checkbox'><label for='data-84050c04-1916-45e1-8292-e6b78d2aec56' title='Show/Hide data repr'><svg class='icon xr-icon-database'><use xlink:href='#icon-database'></use></svg></label><div class='xr-var-attrs'><dl class='xr-attrs'><dt><span>units :</span></dt><dd>m s**-1</dd><dt><span>long_name :</span></dt><dd>10 metre V wind component</dd></dl></div><div class='xr-var-data'><pre>[3430152 values with dtype=float32]</pre></div></li><li class='xr-var-item'><div class='xr-var-name'><span>t2m</span></div><div class='xr-var-dims'>(time, latitude, longitude)</div><div class='xr-var-dtype'>float32</div><div class='xr-var-preview xr-preview'>...</div><input id='attrs-a7d3e58a-9690-4819-864b-018c25a8a279' class='xr-var-attrs-in' type='checkbox' ><label for='attrs-a7d3e58a-9690-4819-864b-018c25a8a279' title='Show/Hide attributes'><svg class='icon xr-icon-file-text2'><use xlink:href='#icon-file-text2'></use></svg></label><input id='data-aac16b92-6dd9-4a92-bd7e-7c55d411e7f7' class='xr-var-data-in' type='checkbox'><label for='data-aac16b92-6dd9-4a92-bd7e-7c55d411e7f7' title='Show/Hide data repr'><svg class='icon xr-icon-database'><use xlink:href='#icon-database'></use></svg></label><div class='xr-var-attrs'><dl class='xr-attrs'><dt><span>units :</span></dt><dd>K</dd><dt><span>long_name :</span></dt><dd>2 metre temperature</dd></dl></div><div class='xr-var-data'><pre>[3430152 values with dtype=float32]</pre></div></li><li class='xr-var-item'><div class='xr-var-name'><span>ssr</span></div><div class='xr-var-dims'>(time, latitude, longitude)</div><div class='xr-var-dtype'>float32</div><div class='xr-var-preview xr-preview'>...</div><input id='attrs-f88e46e4-4edf-4cae-819a-a879a7c27814' class='xr-var-attrs-in' type='checkbox' ><label for='attrs-f88e46e4-4edf-4cae-819a-a879a7c27814' title='Show/Hide attributes'><svg class='icon xr-icon-file-text2'><use xlink:href='#icon-file-text2'></use></svg></label><input id='data-b430ab09-ac54-453d-a584-a593454000bf' class='xr-var-data-in' type='checkbox'><label for='data-b430ab09-ac54-453d-a584-a593454000bf' title='Show/Hide data repr'><svg class='icon xr-icon-database'><use xlink:href='#icon-database'></use></svg></label><div class='xr-var-attrs'><dl class='xr-attrs'><dt><span>units :</span></dt><dd>J m**-2</dd><dt><span>long_name :</span></dt><dd>Surface net solar radiation</dd><dt><span>standard_name :</span></dt><dd>surface_net_downward_shortwave_flux</dd></dl></div><div class='xr-var-data'><pre>[3430152 values with dtype=float32]</pre></div></li><li class='xr-var-item'><div class='xr-var-name'><span>sp</span></div><div class='xr-var-dims'>(time, latitude, longitude)</div><div class='xr-var-dtype'>float32</div><div class='xr-var-preview xr-preview'>...</div><input id='attrs-8e9dd042-9b20-4642-8994-9ba07ae8c991' class='xr-var-attrs-in' type='checkbox' ><label for='attrs-8e9dd042-9b20-4642-8994-9ba07ae8c991' title='Show/Hide attributes'><svg class='icon xr-icon-file-text2'><use xlink:href='#icon-file-text2'></use></svg></label><input id='data-7e9fa46d-78a1-4b48-8f6b-057cb2e86ab4' class='xr-var-data-in' type='checkbox'><label for='data-7e9fa46d-78a1-4b48-8f6b-057cb2e86ab4' title='Show/Hide data repr'><svg class='icon xr-icon-database'><use xlink:href='#icon-database'></use></svg></label><div class='xr-var-attrs'><dl class='xr-attrs'><dt><span>units :</span></dt><dd>Pa</dd><dt><span>long_name :</span></dt><dd>Surface pressure</dd><dt><span>standard_name :</span></dt><dd>surface_air_pressure</dd></dl></div><div class='xr-var-data'><pre>[3430152 values with dtype=float32]</pre></div></li><li class='xr-var-item'><div class='xr-var-name'><span>tp</span></div><div class='xr-var-dims'>(time, latitude, longitude)</div><div class='xr-var-dtype'>float32</div><div class='xr-var-preview xr-preview'>...</div><input id='attrs-ee397fa2-2baf-4733-b0d4-55dbfae36988' class='xr-var-attrs-in' type='checkbox' ><label for='attrs-ee397fa2-2baf-4733-b0d4-55dbfae36988' title='Show/Hide attributes'><svg class='icon xr-icon-file-text2'><use xlink:href='#icon-file-text2'></use></svg></label><input id='data-b656500c-c306-428a-961a-36a515e9f747' class='xr-var-data-in' type='checkbox'><label for='data-b656500c-c306-428a-961a-36a515e9f747' title='Show/Hide data repr'><svg class='icon xr-icon-database'><use xlink:href='#icon-database'></use></svg></label><div class='xr-var-attrs'><dl class='xr-attrs'><dt><span>units :</span></dt><dd>m</dd><dt><span>long_name :</span></dt><dd>Total precipitation</dd></dl></div><div class='xr-var-data'><pre>[3430152 values with dtype=float32]</pre></div></li></ul></div></li><li class='xr-section-item'><input id='section-da58095d-9640-4bf4-ae5a-c882d2c8e41f' class='xr-section-summary-in' type='checkbox'  checked><label for='section-da58095d-9640-4bf4-ae5a-c882d2c8e41f' class='xr-section-summary' >Attributes: <span>(2)</span></label><div class='xr-section-inline-details'></div><div class='xr-section-details'><dl class='xr-attrs'><dt><span>Conventions :</span></dt><dd>CF-1.6</dd><dt><span>history :</span></dt><dd>2022-03-23 20:02:03 GMT by grib_to_netcdf-2.24.3: /opt/ecmwf/mars-client/bin/grib_to_netcdf -S param -o /cache/data8/adaptor.mars.internal-1648065712.1249936-1819-19-e5989e75-3dea-451f-b386-1f7c69024c10.nc /cache/tmp/e5989e75-3dea-451f-b386-1f7c69024c10-adaptor.mars.internal-1648064834.85191-1819-33-tmp.grib</dd></dl></div></li></ul></div></div>"
            ],
            "text/plain": [
              "<xarray.Dataset>\n",
              "Dimensions:    (latitude: 61, longitude: 71, time: 792)\n",
              "Coordinates:\n",
              "  * longitude  (longitude) float32 72.0 72.1 72.2 72.3 ... 78.7 78.8 78.9 79.0\n",
              "  * latitude   (latitude) float32 22.0 21.9 21.8 21.7 ... 16.3 16.2 16.1 16.0\n",
              "  * time       (time) datetime64[ns] 2019-07-14 ... 2021-07-24T23:00:00\n",
              "Data variables:\n",
              "    v10        (time, latitude, longitude) float32 ...\n",
              "    t2m        (time, latitude, longitude) float32 ...\n",
              "    ssr        (time, latitude, longitude) float32 ...\n",
              "    sp         (time, latitude, longitude) float32 ...\n",
              "    tp         (time, latitude, longitude) float32 ...\n",
              "Attributes:\n",
              "    Conventions:  CF-1.6\n",
              "    history:      2022-03-23 20:02:03 GMT by grib_to_netcdf-2.24.3: /opt/ecmw..."
            ]
          },
          "execution_count": 3,
          "metadata": {},
          "output_type": "execute_result"
        }
      ],
      "source": [
        "# open_dataset is one of the main functions in Xarray to open a Netcdf file.  \n",
        "data = xr.open_dataset('download.nc') # open the dataset\n",
        "data "
      ]
    },
    {
      "cell_type": "code",
      "execution_count": 4,
      "metadata": {
        "colab": {
          "base_uri": "https://localhost:8080/"
        },
        "id": "PUr4F4rem-Pr",
        "outputId": "99e388d1-1541-437f-caee-e8e9ea97f841"
      },
      "outputs": [
        {
          "data": {
            "text/plain": [
              "3430152"
            ]
          },
          "execution_count": 4,
          "metadata": {},
          "output_type": "execute_result"
        }
      ],
      "source": [
        "# total number of observations in the dataset\n",
        "data.v10.size"
      ]
    },
    {
      "cell_type": "markdown",
      "metadata": {
        "id": "S-4S52HSiFD-"
      },
      "source": [
        "### Let's evaluate variables and coordinates - always a good first step\n",
        "\n",
        "#### Dimensions of each variable"
      ]
    },
    {
      "cell_type": "code",
      "execution_count": 5,
      "metadata": {
        "colab": {
          "base_uri": "https://localhost:8080/"
        },
        "id": "S21_m2sMgovW",
        "outputId": "b88baa5b-3139-4f52-95da-c226e05fc29a"
      },
      "outputs": [
        {
          "name": "stdout",
          "output_type": "stream",
          "text": [
            "The dimensions of the v10 variable are: ('time', 'latitude', 'longitude')\n",
            "The dimensions of the t2m variable are: ('time', 'latitude', 'longitude')\n",
            "The dimensions of the ssr variable are: ('time', 'latitude', 'longitude')\n",
            "The dimensions of the sp variable are: ('time', 'latitude', 'longitude')\n",
            "The dimensions of the tp variable are: ('time', 'latitude', 'longitude')\n"
          ]
        }
      ],
      "source": [
        "# What are the dimensions of the five data variables - specifically, the named coordinates associated with them?\n",
        "print(f\"The dimensions of the v10 variable are: {data.v10.dims}\")\n",
        "print(f\"The dimensions of the t2m variable are: {data.t2m.dims}\")\n",
        "print(f\"The dimensions of the ssr variable are: {data.ssr.dims}\")\n",
        "print(f\"The dimensions of the sp variable are: {data.sp.dims}\")\n",
        "print(f\"The dimensions of the tp variable are: {data.tp.dims}\")"
      ]
    },
    {
      "cell_type": "markdown",
      "metadata": {
        "id": "WBAK0M5jy0h8"
      },
      "source": [
        "### Coordinates of each variable"
      ]
    },
    {
      "cell_type": "code",
      "execution_count": 6,
      "metadata": {
        "colab": {
          "base_uri": "https://localhost:8080/"
        },
        "id": "XHIxe4LGiIAX",
        "outputId": "f8aeae7f-8dae-4ba1-863a-32991a9cd05c"
      },
      "outputs": [
        {
          "name": "stdout",
          "output_type": "stream",
          "text": [
            "Coordinates:\n",
            "  * longitude  (longitude) float32 72.0 72.1 72.2 72.3 ... 78.7 78.8 78.9 79.0\n",
            "  * latitude   (latitude) float32 22.0 21.9 21.8 21.7 ... 16.3 16.2 16.1 16.0\n",
            "  * time       (time) datetime64[ns] 2019-07-14 ... 2021-07-24T23:00:00\n"
          ]
        }
      ],
      "source": [
        "# coordinate variables\n",
        "print(data.coords)"
      ]
    },
    {
      "cell_type": "markdown",
      "metadata": {
        "id": "fopGSriQy4qb"
      },
      "source": [
        "### Direction of latitude and longitude"
      ]
    },
    {
      "cell_type": "code",
      "execution_count": 7,
      "metadata": {
        "colab": {
          "base_uri": "https://localhost:8080/"
        },
        "id": "Pdua1fltmXOH",
        "outputId": "c86b4e8e-389b-4b0b-f6bd-a7c6030e688a"
      },
      "outputs": [
        {
          "name": "stdout",
          "output_type": "stream",
          "text": [
            "<xarray.DataArray 'longitude' (longitude: 71)>\n",
            "array([72. , 72.1, 72.2, 72.3, 72.4, 72.5, 72.6, 72.7, 72.8, 72.9, 73. , 73.1,\n",
            "       73.2, 73.3, 73.4, 73.5, 73.6, 73.7, 73.8, 73.9, 74. , 74.1, 74.2, 74.3,\n",
            "       74.4, 74.5, 74.6, 74.7, 74.8, 74.9, 75. , 75.1, 75.2, 75.3, 75.4, 75.5,\n",
            "       75.6, 75.7, 75.8, 75.9, 76. , 76.1, 76.2, 76.3, 76.4, 76.5, 76.6, 76.7,\n",
            "       76.8, 76.9, 77. , 77.1, 77.2, 77.3, 77.4, 77.5, 77.6, 77.7, 77.8, 77.9,\n",
            "       78. , 78.1, 78.2, 78.3, 78.4, 78.5, 78.6, 78.7, 78.8, 78.9, 79. ],\n",
            "      dtype=float32)\n",
            "Coordinates:\n",
            "  * longitude  (longitude) float32 72.0 72.1 72.2 72.3 ... 78.7 78.8 78.9 79.0\n",
            "Attributes:\n",
            "    units:      degrees_east\n",
            "    long_name:  longitude\n",
            "\n",
            "\n",
            "<xarray.DataArray 'latitude' (latitude: 61)>\n",
            "array([22. , 21.9, 21.8, 21.7, 21.6, 21.5, 21.4, 21.3, 21.2, 21.1, 21. , 20.9,\n",
            "       20.8, 20.7, 20.6, 20.5, 20.4, 20.3, 20.2, 20.1, 20. , 19.9, 19.8, 19.7,\n",
            "       19.6, 19.5, 19.4, 19.3, 19.2, 19.1, 19. , 18.9, 18.8, 18.7, 18.6, 18.5,\n",
            "       18.4, 18.3, 18.2, 18.1, 18. , 17.9, 17.8, 17.7, 17.6, 17.5, 17.4, 17.3,\n",
            "       17.2, 17.1, 17. , 16.9, 16.8, 16.7, 16.6, 16.5, 16.4, 16.3, 16.2, 16.1,\n",
            "       16. ], dtype=float32)\n",
            "Coordinates:\n",
            "  * latitude  (latitude) float32 22.0 21.9 21.8 21.7 ... 16.3 16.2 16.1 16.0\n",
            "Attributes:\n",
            "    units:      degrees_north\n",
            "    long_name:  latitude\n",
            "The longitude coordinate is eastward\n",
            "The latitude coordinate is northward\n"
          ]
        }
      ],
      "source": [
        "# Is the longitude coordinates in the 0 to 360 E system, or the 180 W to 180 E system?\n",
        "print(data['longitude'])\n",
        "print('\\n')\n",
        "print(data['latitude'])\n",
        "# a description of the direction of the order of each of the spatial coordinates (northward? southward? eastward? westward?)\n",
        "print(f\"The longitude coordinate is eastward\")\n",
        "print(f\"The latitude coordinate is northward\")"
      ]
    },
    {
      "cell_type": "markdown",
      "metadata": {},
      "source": [
        "## Exploratory Data Analysis/Data Cleaning/Data Processing"
      ]
    },
    {
      "cell_type": "markdown",
      "metadata": {
        "id": "Nr_HlH31y8xo"
      },
      "source": [
        "### Separating data according to the year"
      ]
    },
    {
      "cell_type": "code",
      "execution_count": 8,
      "metadata": {
        "id": "T2wLAV4QmtJA"
      },
      "outputs": [],
      "source": [
        "# let's separate the data according to years\n",
        "data_2019 = data.sel(time=data.time.dt.year == 2019)\n",
        "data_2020 = data.sel(time=data.time.dt.year == 2020)\n",
        "data_2021 = data.sel(time=data.time.dt.year == 2021)"
      ]
    },
    {
      "cell_type": "markdown",
      "metadata": {
        "id": "TZUvjNUzoSgO"
      },
      "source": [
        "### Units of each variable\n"
      ]
    },
    {
      "cell_type": "code",
      "execution_count": 9,
      "metadata": {
        "colab": {
          "base_uri": "https://localhost:8080/"
        },
        "id": "U_fzeMYbn3ke",
        "outputId": "80b361e5-5ec7-4758-9f32-a9834b1420a1"
      },
      "outputs": [
        {
          "name": "stdout",
          "output_type": "stream",
          "text": [
            "The units of the v10 variable are: m s**-1\n",
            "The units of the t2m variable are: K\n",
            "The units of the ssr variable are: J m**-2\n",
            "The units of the sp variable are: Pa\n",
            "The units of the tp variable are: m\n"
          ]
        }
      ],
      "source": [
        "print(f\"The units of the v10 variable are: {data.v10.units}\")\n",
        "print(f\"The units of the t2m variable are: {data.t2m.units}\")\n",
        "print(f\"The units of the ssr variable are: {data.ssr.units}\")\n",
        "print(f\"The units of the sp variable are: {data.sp.units}\")\n",
        "print(f\"The units of the tp variable are: {data.tp.units}\")"
      ]
    },
    {
      "cell_type": "markdown",
      "metadata": {
        "id": "YafKIRkJoq4C"
      },
      "source": [
        "### Handling missing values in data"
      ]
    },
    {
      "cell_type": "code",
      "execution_count": 10,
      "metadata": {
        "colab": {
          "base_uri": "https://localhost:8080/"
        },
        "id": "3Z11WkX-oU40",
        "outputId": "423d76dd-f1e6-492a-91c3-0e155568fb72"
      },
      "outputs": [
        {
          "name": "stdout",
          "output_type": "stream",
          "text": [
            "The number of missing values in the v10 variable is: <xarray.DataArray 'v10' ()>\n",
            "array(463320)\n",
            "The number of missing values in the t2m variable is: <xarray.DataArray 't2m' ()>\n",
            "array(463320)\n",
            "The number of missing values in the ssr variable is: <xarray.DataArray 'ssr' ()>\n",
            "array(463321)\n",
            "The number of missing values in the sp variable is: <xarray.DataArray 'sp' ()>\n",
            "array(463320)\n",
            "The number of missing values in the tp variable is: <xarray.DataArray 'tp' ()>\n",
            "array(463320)\n"
          ]
        }
      ],
      "source": [
        "# check if the data has missing values and if it does, how many?\n",
        "print(f\"The number of missing values in the v10 variable is: {data.v10.isnull().sum()}\")\n",
        "print(f\"The number of missing values in the t2m variable is: {data.t2m.isnull().sum()}\")\n",
        "print(f\"The number of missing values in the ssr variable is: {data.ssr.isnull().sum()}\")\n",
        "print(f\"The number of missing values in the sp variable is: {data.sp.isnull().sum()}\")\n",
        "print(f\"The number of missing values in the tp variable is: {data.tp.isnull().sum()}\")"
      ]
    },
    {
      "cell_type": "code",
      "execution_count": 11,
      "metadata": {
        "colab": {
          "base_uri": "https://localhost:8080/"
        },
        "id": "NDfEwxsCouOA",
        "outputId": "88ffa884-d1ee-4e24-e25c-60fd86d25049"
      },
      "outputs": [
        {
          "name": "stdout",
          "output_type": "stream",
          "text": [
            "The total number of data points is: 3430152\n"
          ]
        }
      ],
      "source": [
        "# total number of data points\n",
        "print(f\"The total number of data points is: {data.v10.size}\")"
      ]
    },
    {
      "cell_type": "markdown",
      "metadata": {
        "id": "zw--JnTK6K51"
      },
      "source": [
        "### Mask the total precipitation data"
      ]
    },
    {
      "cell_type": "code",
      "execution_count": 12,
      "metadata": {
        "id": "exujUXGO6Luz"
      },
      "outputs": [],
      "source": [
        "# create a mask that identifies and masks out NaNs, and save your masked variable to a new variable\n",
        "masked_precip = np.ma.masked_invalid(data.tp.values)"
      ]
    },
    {
      "cell_type": "code",
      "execution_count": 13,
      "metadata": {
        "id": "N0emyWrs62Pa"
      },
      "outputs": [],
      "source": [
        "# for each year, get a masked_precip \n",
        "masked_precip_2019 = np.ma.masked_invalid(data_2019.tp.values)\n",
        "masked_precip_2020 = np.ma.masked_invalid(data_2020.tp.values)\n",
        "masked_precip_2021 = np.ma.masked_invalid(data_2021.tp.values)"
      ]
    },
    {
      "cell_type": "code",
      "execution_count": 14,
      "metadata": {
        "colab": {
          "base_uri": "https://localhost:8080/"
        },
        "id": "Sd9sgpFh6PUR",
        "outputId": "dd1f03b4-46d8-4996-d64c-8ede4609290f"
      },
      "outputs": [
        {
          "name": "stdout",
          "output_type": "stream",
          "text": [
            "The masked precip array is: [[[0.00010680407285690308 0.00016783922910690308 0.000217437744140625\n",
            "   ... 5.7213008403778076e-05 3.4324824810028076e-05\n",
            "   1.9066035747528076e-05]\n",
            "  [0.00016402453184127808 0.000213623046875 -- ...\n",
            "   4.5768916606903076e-05 2.6695430278778076e-05 1.9066035747528076e-05]\n",
            "  [0.000225067138671875 0.0002593994140625 0.0002899169921875 ...\n",
            "   3.8139522075653076e-05 2.2880733013153076e-05 1.5251338481903076e-05]\n",
            "  ...\n",
            "  [-- -- -- ... 0.000537872314453125 0.00048828125 0.000438690185546875]\n",
            "  [-- -- -- ... 0.000514984130859375 0.000453948974609375\n",
            "   0.00038909912109375]\n",
            "  [-- -- -- ... 0.0003662109375 0.000301361083984375 0.00023651123046875]]\n",
            "\n",
            " [[-7.450580596923828e-09 -7.450580596923828e-09 -7.450580596923828e-09\n",
            "   ... -7.450580596923828e-09 -7.450580596923828e-09\n",
            "   -7.450580596923828e-09]\n",
            "  [-7.450580596923828e-09 -7.450580596923828e-09 -- ...\n",
            "   -7.450580596923828e-09 -7.450580596923828e-09 -7.450580596923828e-09]\n",
            "  [-7.450580596923828e-09 -7.450580596923828e-09 -7.450580596923828e-09\n",
            "   ... -7.450580596923828e-09 -7.450580596923828e-09\n",
            "   -7.450580596923828e-09]\n",
            "  ...\n",
            "  [-- -- -- ... -7.450580596923828e-09 -7.450580596923828e-09\n",
            "   -7.450580596923828e-09]\n",
            "  [-- -- -- ... -7.450580596923828e-09 -7.450580596923828e-09\n",
            "   -7.450580596923828e-09]\n",
            "  [-- -- -- ... -7.450580596923828e-09 -7.450580596923828e-09\n",
            "   -7.450580596923828e-09]]\n",
            "\n",
            " [[2.6695430278778076e-05 2.2880733013153076e-05 1.5251338481903076e-05\n",
            "   ... -7.450580596923828e-09 -7.450580596923828e-09\n",
            "   -7.450580596923828e-09]\n",
            "  [3.0510127544403076e-05 2.2880733013153076e-05 -- ...\n",
            "   -7.450580596923828e-09 -7.450580596923828e-09 -7.450580596923828e-09]\n",
            "  [3.0510127544403076e-05 2.2880733013153076e-05 1.5251338481903076e-05\n",
            "   ... -7.450580596923828e-09 -7.450580596923828e-09\n",
            "   -7.450580596923828e-09]\n",
            "  ...\n",
            "  [-- -- -- ... -7.450580596923828e-09 -7.450580596923828e-09\n",
            "   -7.450580596923828e-09]\n",
            "  [-- -- -- ... -7.450580596923828e-09 -7.450580596923828e-09\n",
            "   -7.450580596923828e-09]\n",
            "  [-- -- -- ... -7.450580596923828e-09 -7.450580596923828e-09\n",
            "   -7.450580596923828e-09]]\n",
            "\n",
            " ...\n",
            "\n",
            " [[0.0016365274786949158 0.0019760429859161377 0.0023651495575904846 ...\n",
            "   0.01650652289390564 0.01650652289390564 0.016773559153079987]\n",
            "  [0.0010757595300674438 0.0014305338263511658 -- ...\n",
            "   0.015796974301338196 0.015636757016181946 0.015491791069507599]\n",
            "  [0.0006179884076118469 0.0009575039148330688 0.0012321621179580688 ...\n",
            "   0.015129387378692627 0.014988243579864502 0.01475553959608078]\n",
            "  ...\n",
            "  [-- -- -- ... 0.0013504251837730408 0.0008049085736274719\n",
            "   0.0003204345703125]\n",
            "  [-- -- -- ... 0.0015754923224449158 0.0010070949792861938\n",
            "   0.0004425048828125]\n",
            "  [-- -- -- ... 0.0014724954962730408 0.0009117275476455688\n",
            "   0.000362396240234375]]\n",
            "\n",
            " [[0.0017853081226348877 0.0022430792450904846 0.0027580782771110535 ...\n",
            "   0.01728855073451996 0.01741062104701996 0.018078207969665527]\n",
            "  [0.0011787563562393188 0.0016365274786949158 -- ...\n",
            "   0.016346298158168793 0.016151748597621918 0.016060195863246918]\n",
            "  [0.0006561353802680969 0.0010452419519424438 0.0013160929083824158 ...\n",
            "   0.015472717583179474 0.015304870903491974 0.015049278736114502]\n",
            "  ...\n",
            "  [-- -- -- ... 0.0013504251837730408 0.0008049085736274719\n",
            "   0.0003204345703125]\n",
            "  [-- -- -- ... 0.0015754923224449158 0.0010070949792861938\n",
            "   0.0004425048828125]\n",
            "  [-- -- -- ... 0.0014724954962730408 0.0009117275476455688\n",
            "   0.000362396240234375]]\n",
            "\n",
            " [[0.0020828619599342346 0.0027657076716423035 0.0035210326313972473 ...\n",
            "   0.018032431602478027 0.018185019493103027 0.019005201756954193]\n",
            "  [0.0014076456427574158 0.0020523443818092346 -- ...\n",
            "   0.01688418537378311 0.016662925481796265 0.01657518744468689]\n",
            "  [0.0007743909955024719 0.0012436062097549438 0.0015144571661949158 ...\n",
            "   0.015835121273994446 0.015629127621650696 0.015354461967945099]\n",
            "  ...\n",
            "  [-- -- -- ... 0.0013504251837730408 0.0008049085736274719\n",
            "   0.0003204345703125]\n",
            "  [-- -- -- ... 0.0015754923224449158 0.0010070949792861938\n",
            "   0.0004425048828125]\n",
            "  [-- -- -- ... 0.0014724954962730408 0.0009117275476455688\n",
            "   0.000362396240234375]]]\n",
            "The mask of the masked precip array is: [[[False False False ... False False False]\n",
            "  [False False  True ... False False False]\n",
            "  [False False False ... False False False]\n",
            "  ...\n",
            "  [ True  True  True ... False False False]\n",
            "  [ True  True  True ... False False False]\n",
            "  [ True  True  True ... False False False]]\n",
            "\n",
            " [[False False False ... False False False]\n",
            "  [False False  True ... False False False]\n",
            "  [False False False ... False False False]\n",
            "  ...\n",
            "  [ True  True  True ... False False False]\n",
            "  [ True  True  True ... False False False]\n",
            "  [ True  True  True ... False False False]]\n",
            "\n",
            " [[False False False ... False False False]\n",
            "  [False False  True ... False False False]\n",
            "  [False False False ... False False False]\n",
            "  ...\n",
            "  [ True  True  True ... False False False]\n",
            "  [ True  True  True ... False False False]\n",
            "  [ True  True  True ... False False False]]\n",
            "\n",
            " ...\n",
            "\n",
            " [[False False False ... False False False]\n",
            "  [False False  True ... False False False]\n",
            "  [False False False ... False False False]\n",
            "  ...\n",
            "  [ True  True  True ... False False False]\n",
            "  [ True  True  True ... False False False]\n",
            "  [ True  True  True ... False False False]]\n",
            "\n",
            " [[False False False ... False False False]\n",
            "  [False False  True ... False False False]\n",
            "  [False False False ... False False False]\n",
            "  ...\n",
            "  [ True  True  True ... False False False]\n",
            "  [ True  True  True ... False False False]\n",
            "  [ True  True  True ... False False False]]\n",
            "\n",
            " [[False False False ... False False False]\n",
            "  [False False  True ... False False False]\n",
            "  [False False False ... False False False]\n",
            "  ...\n",
            "  [ True  True  True ... False False False]\n",
            "  [ True  True  True ... False False False]\n",
            "  [ True  True  True ... False False False]]]\n",
            "The original precip array is: [[[ 1.06804073e-04  1.67839229e-04  2.17437744e-04 ...  5.72130084e-05\n",
            "    3.43248248e-05  1.90660357e-05]\n",
            "  [ 1.64024532e-04  2.13623047e-04             nan ...  4.57689166e-05\n",
            "    2.66954303e-05  1.90660357e-05]\n",
            "  [ 2.25067139e-04  2.59399414e-04  2.89916992e-04 ...  3.81395221e-05\n",
            "    2.28807330e-05  1.52513385e-05]\n",
            "  ...\n",
            "  [            nan             nan             nan ...  5.37872314e-04\n",
            "    4.88281250e-04  4.38690186e-04]\n",
            "  [            nan             nan             nan ...  5.14984131e-04\n",
            "    4.53948975e-04  3.89099121e-04]\n",
            "  [            nan             nan             nan ...  3.66210938e-04\n",
            "    3.01361084e-04  2.36511230e-04]]\n",
            "\n",
            " [[-7.45058060e-09 -7.45058060e-09 -7.45058060e-09 ... -7.45058060e-09\n",
            "   -7.45058060e-09 -7.45058060e-09]\n",
            "  [-7.45058060e-09 -7.45058060e-09             nan ... -7.45058060e-09\n",
            "   -7.45058060e-09 -7.45058060e-09]\n",
            "  [-7.45058060e-09 -7.45058060e-09 -7.45058060e-09 ... -7.45058060e-09\n",
            "   -7.45058060e-09 -7.45058060e-09]\n",
            "  ...\n",
            "  [            nan             nan             nan ... -7.45058060e-09\n",
            "   -7.45058060e-09 -7.45058060e-09]\n",
            "  [            nan             nan             nan ... -7.45058060e-09\n",
            "   -7.45058060e-09 -7.45058060e-09]\n",
            "  [            nan             nan             nan ... -7.45058060e-09\n",
            "   -7.45058060e-09 -7.45058060e-09]]\n",
            "\n",
            " [[ 2.66954303e-05  2.28807330e-05  1.52513385e-05 ... -7.45058060e-09\n",
            "   -7.45058060e-09 -7.45058060e-09]\n",
            "  [ 3.05101275e-05  2.28807330e-05             nan ... -7.45058060e-09\n",
            "   -7.45058060e-09 -7.45058060e-09]\n",
            "  [ 3.05101275e-05  2.28807330e-05  1.52513385e-05 ... -7.45058060e-09\n",
            "   -7.45058060e-09 -7.45058060e-09]\n",
            "  ...\n",
            "  [            nan             nan             nan ... -7.45058060e-09\n",
            "   -7.45058060e-09 -7.45058060e-09]\n",
            "  [            nan             nan             nan ... -7.45058060e-09\n",
            "   -7.45058060e-09 -7.45058060e-09]\n",
            "  [            nan             nan             nan ... -7.45058060e-09\n",
            "   -7.45058060e-09 -7.45058060e-09]]\n",
            "\n",
            " ...\n",
            "\n",
            " [[ 1.63652748e-03  1.97604299e-03  2.36514956e-03 ...  1.65065229e-02\n",
            "    1.65065229e-02  1.67735592e-02]\n",
            "  [ 1.07575953e-03  1.43053383e-03             nan ...  1.57969743e-02\n",
            "    1.56367570e-02  1.54917911e-02]\n",
            "  [ 6.17988408e-04  9.57503915e-04  1.23216212e-03 ...  1.51293874e-02\n",
            "    1.49882436e-02  1.47555396e-02]\n",
            "  ...\n",
            "  [            nan             nan             nan ...  1.35042518e-03\n",
            "    8.04908574e-04  3.20434570e-04]\n",
            "  [            nan             nan             nan ...  1.57549232e-03\n",
            "    1.00709498e-03  4.42504883e-04]\n",
            "  [            nan             nan             nan ...  1.47249550e-03\n",
            "    9.11727548e-04  3.62396240e-04]]\n",
            "\n",
            " [[ 1.78530812e-03  2.24307925e-03  2.75807828e-03 ...  1.72885507e-02\n",
            "    1.74106210e-02  1.80782080e-02]\n",
            "  [ 1.17875636e-03  1.63652748e-03             nan ...  1.63462982e-02\n",
            "    1.61517486e-02  1.60601959e-02]\n",
            "  [ 6.56135380e-04  1.04524195e-03  1.31609291e-03 ...  1.54727176e-02\n",
            "    1.53048709e-02  1.50492787e-02]\n",
            "  ...\n",
            "  [            nan             nan             nan ...  1.35042518e-03\n",
            "    8.04908574e-04  3.20434570e-04]\n",
            "  [            nan             nan             nan ...  1.57549232e-03\n",
            "    1.00709498e-03  4.42504883e-04]\n",
            "  [            nan             nan             nan ...  1.47249550e-03\n",
            "    9.11727548e-04  3.62396240e-04]]\n",
            "\n",
            " [[ 2.08286196e-03  2.76570767e-03  3.52103263e-03 ...  1.80324316e-02\n",
            "    1.81850195e-02  1.90052018e-02]\n",
            "  [ 1.40764564e-03  2.05234438e-03             nan ...  1.68841854e-02\n",
            "    1.66629255e-02  1.65751874e-02]\n",
            "  [ 7.74390996e-04  1.24360621e-03  1.51445717e-03 ...  1.58351213e-02\n",
            "    1.56291276e-02  1.53544620e-02]\n",
            "  ...\n",
            "  [            nan             nan             nan ...  1.35042518e-03\n",
            "    8.04908574e-04  3.20434570e-04]\n",
            "  [            nan             nan             nan ...  1.57549232e-03\n",
            "    1.00709498e-03  4.42504883e-04]\n",
            "  [            nan             nan             nan ...  1.47249550e-03\n",
            "    9.11727548e-04  3.62396240e-04]]]\n"
          ]
        }
      ],
      "source": [
        "# print out the masked variable, the mask itself, and original data\n",
        "print(f\"The masked precip array is: {masked_precip}\")\n",
        "print(f\"The mask of the masked precip array is: {masked_precip.mask}\")\n",
        "print(f\"The original precip array is: {masked_precip.data}\")"
      ]
    },
    {
      "cell_type": "code",
      "execution_count": 15,
      "metadata": {
        "colab": {
          "base_uri": "https://localhost:8080/"
        },
        "id": "EjC7lnAU6RGK",
        "outputId": "45546431-7764-42d8-c71b-06ed4b3f22ec"
      },
      "outputs": [
        {
          "data": {
            "text/plain": [
              "(792, 61, 71)"
            ]
          },
          "execution_count": 15,
          "metadata": {},
          "output_type": "execute_result"
        }
      ],
      "source": [
        "# get the shape of the masked precip array\n",
        "masked_precip.shape"
      ]
    },
    {
      "cell_type": "code",
      "execution_count": 16,
      "metadata": {
        "colab": {
          "base_uri": "https://localhost:8080/"
        },
        "id": "rRCNUfwP7s4D",
        "outputId": "59596abf-4a07-48a8-d9cf-7aacf53d5a4f"
      },
      "outputs": [
        {
          "name": "stdout",
          "output_type": "stream",
          "text": [
            "The shape of the max_precip_2021 array is: (61, 71)\n"
          ]
        }
      ],
      "source": [
        "# get the maximum precipitation at each location for 2021 year\n",
        "max_precip_2021 = np.max(masked_precip_2021, axis=0)\n",
        "# print the shape of the max_precip_2021 array\n",
        "print(f\"The shape of the max_precip_2021 array is: {max_precip_2021.shape}\")"
      ]
    },
    {
      "cell_type": "markdown",
      "metadata": {
        "id": "PznIPjDfuR5r"
      },
      "source": [
        "### Max Daily Precipitation on July 22, 2021"
      ]
    },
    {
      "cell_type": "markdown",
      "metadata": {
        "id": "unpHdeRazbZk"
      },
      "source": [
        "#### Total Precipitation on July 22, 2021"
      ]
    },
    {
      "cell_type": "code",
      "execution_count": 17,
      "metadata": {
        "colab": {
          "base_uri": "https://localhost:8080/",
          "height": 659
        },
        "id": "lGY1I9EEo9vi",
        "outputId": "3e7f030f-d44c-436a-9553-8d6d93affadb"
      },
      "outputs": [
        {
          "data": {
            "text/html": [
              "<div><svg style=\"position: absolute; width: 0; height: 0; overflow: hidden\">\n",
              "<defs>\n",
              "<symbol id=\"icon-database\" viewBox=\"0 0 32 32\">\n",
              "<path d=\"M16 0c-8.837 0-16 2.239-16 5v4c0 2.761 7.163 5 16 5s16-2.239 16-5v-4c0-2.761-7.163-5-16-5z\"></path>\n",
              "<path d=\"M16 17c-8.837 0-16-2.239-16-5v6c0 2.761 7.163 5 16 5s16-2.239 16-5v-6c0 2.761-7.163 5-16 5z\"></path>\n",
              "<path d=\"M16 26c-8.837 0-16-2.239-16-5v6c0 2.761 7.163 5 16 5s16-2.239 16-5v-6c0 2.761-7.163 5-16 5z\"></path>\n",
              "</symbol>\n",
              "<symbol id=\"icon-file-text2\" viewBox=\"0 0 32 32\">\n",
              "<path d=\"M28.681 7.159c-0.694-0.947-1.662-2.053-2.724-3.116s-2.169-2.030-3.116-2.724c-1.612-1.182-2.393-1.319-2.841-1.319h-15.5c-1.378 0-2.5 1.121-2.5 2.5v27c0 1.378 1.122 2.5 2.5 2.5h23c1.378 0 2.5-1.122 2.5-2.5v-19.5c0-0.448-0.137-1.23-1.319-2.841zM24.543 5.457c0.959 0.959 1.712 1.825 2.268 2.543h-4.811v-4.811c0.718 0.556 1.584 1.309 2.543 2.268zM28 29.5c0 0.271-0.229 0.5-0.5 0.5h-23c-0.271 0-0.5-0.229-0.5-0.5v-27c0-0.271 0.229-0.5 0.5-0.5 0 0 15.499-0 15.5 0v7c0 0.552 0.448 1 1 1h7v19.5z\"></path>\n",
              "<path d=\"M23 26h-14c-0.552 0-1-0.448-1-1s0.448-1 1-1h14c0.552 0 1 0.448 1 1s-0.448 1-1 1z\"></path>\n",
              "<path d=\"M23 22h-14c-0.552 0-1-0.448-1-1s0.448-1 1-1h14c0.552 0 1 0.448 1 1s-0.448 1-1 1z\"></path>\n",
              "<path d=\"M23 18h-14c-0.552 0-1-0.448-1-1s0.448-1 1-1h14c0.552 0 1 0.448 1 1s-0.448 1-1 1z\"></path>\n",
              "</symbol>\n",
              "</defs>\n",
              "</svg>\n",
              "<style>/* CSS stylesheet for displaying xarray objects in jupyterlab.\n",
              " *\n",
              " */\n",
              "\n",
              ":root {\n",
              "  --xr-font-color0: var(--jp-content-font-color0, rgba(0, 0, 0, 1));\n",
              "  --xr-font-color2: var(--jp-content-font-color2, rgba(0, 0, 0, 0.54));\n",
              "  --xr-font-color3: var(--jp-content-font-color3, rgba(0, 0, 0, 0.38));\n",
              "  --xr-border-color: var(--jp-border-color2, #e0e0e0);\n",
              "  --xr-disabled-color: var(--jp-layout-color3, #bdbdbd);\n",
              "  --xr-background-color: var(--jp-layout-color0, white);\n",
              "  --xr-background-color-row-even: var(--jp-layout-color1, white);\n",
              "  --xr-background-color-row-odd: var(--jp-layout-color2, #eeeeee);\n",
              "}\n",
              "\n",
              "html[theme=dark],\n",
              "body.vscode-dark {\n",
              "  --xr-font-color0: rgba(255, 255, 255, 1);\n",
              "  --xr-font-color2: rgba(255, 255, 255, 0.54);\n",
              "  --xr-font-color3: rgba(255, 255, 255, 0.38);\n",
              "  --xr-border-color: #1F1F1F;\n",
              "  --xr-disabled-color: #515151;\n",
              "  --xr-background-color: #111111;\n",
              "  --xr-background-color-row-even: #111111;\n",
              "  --xr-background-color-row-odd: #313131;\n",
              "}\n",
              "\n",
              ".xr-wrap {\n",
              "  display: block;\n",
              "  min-width: 300px;\n",
              "  max-width: 700px;\n",
              "}\n",
              "\n",
              ".xr-text-repr-fallback {\n",
              "  /* fallback to plain text repr when CSS is not injected (untrusted notebook) */\n",
              "  display: none;\n",
              "}\n",
              "\n",
              ".xr-header {\n",
              "  padding-top: 6px;\n",
              "  padding-bottom: 6px;\n",
              "  margin-bottom: 4px;\n",
              "  border-bottom: solid 1px var(--xr-border-color);\n",
              "}\n",
              "\n",
              ".xr-header > div,\n",
              ".xr-header > ul {\n",
              "  display: inline;\n",
              "  margin-top: 0;\n",
              "  margin-bottom: 0;\n",
              "}\n",
              "\n",
              ".xr-obj-type,\n",
              ".xr-array-name {\n",
              "  margin-left: 2px;\n",
              "  margin-right: 10px;\n",
              "}\n",
              "\n",
              ".xr-obj-type {\n",
              "  color: var(--xr-font-color2);\n",
              "}\n",
              "\n",
              ".xr-sections {\n",
              "  padding-left: 0 !important;\n",
              "  display: grid;\n",
              "  grid-template-columns: 150px auto auto 1fr 20px 20px;\n",
              "}\n",
              "\n",
              ".xr-section-item {\n",
              "  display: contents;\n",
              "}\n",
              "\n",
              ".xr-section-item input {\n",
              "  display: none;\n",
              "}\n",
              "\n",
              ".xr-section-item input + label {\n",
              "  color: var(--xr-disabled-color);\n",
              "}\n",
              "\n",
              ".xr-section-item input:enabled + label {\n",
              "  cursor: pointer;\n",
              "  color: var(--xr-font-color2);\n",
              "}\n",
              "\n",
              ".xr-section-item input:enabled + label:hover {\n",
              "  color: var(--xr-font-color0);\n",
              "}\n",
              "\n",
              ".xr-section-summary {\n",
              "  grid-column: 1;\n",
              "  color: var(--xr-font-color2);\n",
              "  font-weight: 500;\n",
              "}\n",
              "\n",
              ".xr-section-summary > span {\n",
              "  display: inline-block;\n",
              "  padding-left: 0.5em;\n",
              "}\n",
              "\n",
              ".xr-section-summary-in:disabled + label {\n",
              "  color: var(--xr-font-color2);\n",
              "}\n",
              "\n",
              ".xr-section-summary-in + label:before {\n",
              "  display: inline-block;\n",
              "  content: '►';\n",
              "  font-size: 11px;\n",
              "  width: 15px;\n",
              "  text-align: center;\n",
              "}\n",
              "\n",
              ".xr-section-summary-in:disabled + label:before {\n",
              "  color: var(--xr-disabled-color);\n",
              "}\n",
              "\n",
              ".xr-section-summary-in:checked + label:before {\n",
              "  content: '▼';\n",
              "}\n",
              "\n",
              ".xr-section-summary-in:checked + label > span {\n",
              "  display: none;\n",
              "}\n",
              "\n",
              ".xr-section-summary,\n",
              ".xr-section-inline-details {\n",
              "  padding-top: 4px;\n",
              "  padding-bottom: 4px;\n",
              "}\n",
              "\n",
              ".xr-section-inline-details {\n",
              "  grid-column: 2 / -1;\n",
              "}\n",
              "\n",
              ".xr-section-details {\n",
              "  display: none;\n",
              "  grid-column: 1 / -1;\n",
              "  margin-bottom: 5px;\n",
              "}\n",
              "\n",
              ".xr-section-summary-in:checked ~ .xr-section-details {\n",
              "  display: contents;\n",
              "}\n",
              "\n",
              ".xr-array-wrap {\n",
              "  grid-column: 1 / -1;\n",
              "  display: grid;\n",
              "  grid-template-columns: 20px auto;\n",
              "}\n",
              "\n",
              ".xr-array-wrap > label {\n",
              "  grid-column: 1;\n",
              "  vertical-align: top;\n",
              "}\n",
              "\n",
              ".xr-preview {\n",
              "  color: var(--xr-font-color3);\n",
              "}\n",
              "\n",
              ".xr-array-preview,\n",
              ".xr-array-data {\n",
              "  padding: 0 5px !important;\n",
              "  grid-column: 2;\n",
              "}\n",
              "\n",
              ".xr-array-data,\n",
              ".xr-array-in:checked ~ .xr-array-preview {\n",
              "  display: none;\n",
              "}\n",
              "\n",
              ".xr-array-in:checked ~ .xr-array-data,\n",
              ".xr-array-preview {\n",
              "  display: inline-block;\n",
              "}\n",
              "\n",
              ".xr-dim-list {\n",
              "  display: inline-block !important;\n",
              "  list-style: none;\n",
              "  padding: 0 !important;\n",
              "  margin: 0;\n",
              "}\n",
              "\n",
              ".xr-dim-list li {\n",
              "  display: inline-block;\n",
              "  padding: 0;\n",
              "  margin: 0;\n",
              "}\n",
              "\n",
              ".xr-dim-list:before {\n",
              "  content: '(';\n",
              "}\n",
              "\n",
              ".xr-dim-list:after {\n",
              "  content: ')';\n",
              "}\n",
              "\n",
              ".xr-dim-list li:not(:last-child):after {\n",
              "  content: ',';\n",
              "  padding-right: 5px;\n",
              "}\n",
              "\n",
              ".xr-has-index {\n",
              "  font-weight: bold;\n",
              "}\n",
              "\n",
              ".xr-var-list,\n",
              ".xr-var-item {\n",
              "  display: contents;\n",
              "}\n",
              "\n",
              ".xr-var-item > div,\n",
              ".xr-var-item label,\n",
              ".xr-var-item > .xr-var-name span {\n",
              "  background-color: var(--xr-background-color-row-even);\n",
              "  margin-bottom: 0;\n",
              "}\n",
              "\n",
              ".xr-var-item > .xr-var-name:hover span {\n",
              "  padding-right: 5px;\n",
              "}\n",
              "\n",
              ".xr-var-list > li:nth-child(odd) > div,\n",
              ".xr-var-list > li:nth-child(odd) > label,\n",
              ".xr-var-list > li:nth-child(odd) > .xr-var-name span {\n",
              "  background-color: var(--xr-background-color-row-odd);\n",
              "}\n",
              "\n",
              ".xr-var-name {\n",
              "  grid-column: 1;\n",
              "}\n",
              "\n",
              ".xr-var-dims {\n",
              "  grid-column: 2;\n",
              "}\n",
              "\n",
              ".xr-var-dtype {\n",
              "  grid-column: 3;\n",
              "  text-align: right;\n",
              "  color: var(--xr-font-color2);\n",
              "}\n",
              "\n",
              ".xr-var-preview {\n",
              "  grid-column: 4;\n",
              "}\n",
              "\n",
              ".xr-var-name,\n",
              ".xr-var-dims,\n",
              ".xr-var-dtype,\n",
              ".xr-preview,\n",
              ".xr-attrs dt {\n",
              "  white-space: nowrap;\n",
              "  overflow: hidden;\n",
              "  text-overflow: ellipsis;\n",
              "  padding-right: 10px;\n",
              "}\n",
              "\n",
              ".xr-var-name:hover,\n",
              ".xr-var-dims:hover,\n",
              ".xr-var-dtype:hover,\n",
              ".xr-attrs dt:hover {\n",
              "  overflow: visible;\n",
              "  width: auto;\n",
              "  z-index: 1;\n",
              "}\n",
              "\n",
              ".xr-var-attrs,\n",
              ".xr-var-data {\n",
              "  display: none;\n",
              "  background-color: var(--xr-background-color) !important;\n",
              "  padding-bottom: 5px !important;\n",
              "}\n",
              "\n",
              ".xr-var-attrs-in:checked ~ .xr-var-attrs,\n",
              ".xr-var-data-in:checked ~ .xr-var-data {\n",
              "  display: block;\n",
              "}\n",
              "\n",
              ".xr-var-data > table {\n",
              "  float: right;\n",
              "}\n",
              "\n",
              ".xr-var-name span,\n",
              ".xr-var-data,\n",
              ".xr-attrs {\n",
              "  padding-left: 25px !important;\n",
              "}\n",
              "\n",
              ".xr-attrs,\n",
              ".xr-var-attrs,\n",
              ".xr-var-data {\n",
              "  grid-column: 1 / -1;\n",
              "}\n",
              "\n",
              "dl.xr-attrs {\n",
              "  padding: 0;\n",
              "  margin: 0;\n",
              "  display: grid;\n",
              "  grid-template-columns: 125px auto;\n",
              "}\n",
              "\n",
              ".xr-attrs dt,\n",
              ".xr-attrs dd {\n",
              "  padding: 0;\n",
              "  margin: 0;\n",
              "  float: left;\n",
              "  padding-right: 10px;\n",
              "  width: auto;\n",
              "}\n",
              "\n",
              ".xr-attrs dt {\n",
              "  font-weight: normal;\n",
              "  grid-column: 1;\n",
              "}\n",
              "\n",
              ".xr-attrs dt:hover span {\n",
              "  display: inline-block;\n",
              "  background: var(--xr-background-color);\n",
              "  padding-right: 10px;\n",
              "}\n",
              "\n",
              ".xr-attrs dd {\n",
              "  grid-column: 2;\n",
              "  white-space: pre-wrap;\n",
              "  word-break: break-all;\n",
              "}\n",
              "\n",
              ".xr-icon-database,\n",
              ".xr-icon-file-text2 {\n",
              "  display: inline-block;\n",
              "  vertical-align: middle;\n",
              "  width: 1em;\n",
              "  height: 1.5em !important;\n",
              "  stroke-width: 0;\n",
              "  stroke: currentColor;\n",
              "  fill: currentColor;\n",
              "}\n",
              "</style><pre class='xr-text-repr-fallback'>&lt;xarray.DataArray &#x27;tp&#x27; (time: 24, latitude: 61, longitude: 71)&gt;\n",
              "array([[[5.111694e-04, 1.071945e-03, ..., 4.268350e-02, 3.808289e-02],\n",
              "        [5.111694e-04, 1.029983e-03, ..., 4.825689e-02, 3.891832e-02],\n",
              "        ...,\n",
              "        [         nan,          nan, ..., 2.803477e-02, 2.778300e-02],\n",
              "        [         nan,          nan, ..., 2.636772e-02, 2.619986e-02]],\n",
              "\n",
              "       [[8.010119e-05, 1.602098e-04, ..., 5.893819e-03, 5.348310e-03],\n",
              "        [9.535998e-05, 1.678392e-04, ..., 5.424604e-03, 4.310690e-03],\n",
              "        ...,\n",
              "        [         nan,          nan, ..., 3.738403e-04, 3.471375e-04],\n",
              "        [         nan,          nan, ..., 4.425049e-04, 4.310608e-04]],\n",
              "\n",
              "       ...,\n",
              "\n",
              "       [[9.117275e-04, 1.071945e-03, ..., 3.966983e-02, 4.993921e-02],\n",
              "        [1.087204e-03, 1.197830e-03, ..., 4.214944e-02, 5.221281e-02],\n",
              "        ...,\n",
              "        [         nan,          nan, ..., 3.660657e-02, 3.577113e-02],\n",
              "        [         nan,          nan, ..., 3.703383e-02, 3.466866e-02]],\n",
              "\n",
              "       [[9.117275e-04, 1.071945e-03, ..., 3.984912e-02, 5.012613e-02],\n",
              "        [1.087204e-03, 1.197830e-03, ..., 4.247370e-02, 5.257140e-02],\n",
              "        ...,\n",
              "        [         nan,          nan, ..., 3.776626e-02, 3.688123e-02],\n",
              "        [         nan,          nan, ..., 3.800277e-02, 3.567576e-02]]],\n",
              "      dtype=float32)\n",
              "Coordinates:\n",
              "  * longitude  (longitude) float32 72.0 72.1 72.2 72.3 ... 78.7 78.8 78.9 79.0\n",
              "  * latitude   (latitude) float32 22.0 21.9 21.8 21.7 ... 16.3 16.2 16.1 16.0\n",
              "  * time       (time) datetime64[ns] 2021-07-22 ... 2021-07-22T23:00:00\n",
              "Attributes:\n",
              "    units:      m\n",
              "    long_name:  Total precipitation</pre><div class='xr-wrap' hidden><div class='xr-header'><div class='xr-obj-type'>xarray.DataArray</div><div class='xr-array-name'>'tp'</div><ul class='xr-dim-list'><li><span class='xr-has-index'>time</span>: 24</li><li><span class='xr-has-index'>latitude</span>: 61</li><li><span class='xr-has-index'>longitude</span>: 71</li></ul></div><ul class='xr-sections'><li class='xr-section-item'><div class='xr-array-wrap'><input id='section-54ed07f2-123e-4d1a-8eb2-be846b3837c3' class='xr-array-in' type='checkbox' checked><label for='section-54ed07f2-123e-4d1a-8eb2-be846b3837c3' title='Show/hide data repr'><svg class='icon xr-icon-database'><use xlink:href='#icon-database'></use></svg></label><div class='xr-array-preview xr-preview'><span>0.0005112 0.001072 0.001659 nan nan ... 0.04092 0.03896 0.038 0.03568</span></div><div class='xr-array-data'><pre>array([[[5.111694e-04, 1.071945e-03, ..., 4.268350e-02, 3.808289e-02],\n",
              "        [5.111694e-04, 1.029983e-03, ..., 4.825689e-02, 3.891832e-02],\n",
              "        ...,\n",
              "        [         nan,          nan, ..., 2.803477e-02, 2.778300e-02],\n",
              "        [         nan,          nan, ..., 2.636772e-02, 2.619986e-02]],\n",
              "\n",
              "       [[8.010119e-05, 1.602098e-04, ..., 5.893819e-03, 5.348310e-03],\n",
              "        [9.535998e-05, 1.678392e-04, ..., 5.424604e-03, 4.310690e-03],\n",
              "        ...,\n",
              "        [         nan,          nan, ..., 3.738403e-04, 3.471375e-04],\n",
              "        [         nan,          nan, ..., 4.425049e-04, 4.310608e-04]],\n",
              "\n",
              "       ...,\n",
              "\n",
              "       [[9.117275e-04, 1.071945e-03, ..., 3.966983e-02, 4.993921e-02],\n",
              "        [1.087204e-03, 1.197830e-03, ..., 4.214944e-02, 5.221281e-02],\n",
              "        ...,\n",
              "        [         nan,          nan, ..., 3.660657e-02, 3.577113e-02],\n",
              "        [         nan,          nan, ..., 3.703383e-02, 3.466866e-02]],\n",
              "\n",
              "       [[9.117275e-04, 1.071945e-03, ..., 3.984912e-02, 5.012613e-02],\n",
              "        [1.087204e-03, 1.197830e-03, ..., 4.247370e-02, 5.257140e-02],\n",
              "        ...,\n",
              "        [         nan,          nan, ..., 3.776626e-02, 3.688123e-02],\n",
              "        [         nan,          nan, ..., 3.800277e-02, 3.567576e-02]]],\n",
              "      dtype=float32)</pre></div></div></li><li class='xr-section-item'><input id='section-622ee730-8885-4dae-9609-f923826628dd' class='xr-section-summary-in' type='checkbox'  checked><label for='section-622ee730-8885-4dae-9609-f923826628dd' class='xr-section-summary' >Coordinates: <span>(3)</span></label><div class='xr-section-inline-details'></div><div class='xr-section-details'><ul class='xr-var-list'><li class='xr-var-item'><div class='xr-var-name'><span class='xr-has-index'>longitude</span></div><div class='xr-var-dims'>(longitude)</div><div class='xr-var-dtype'>float32</div><div class='xr-var-preview xr-preview'>72.0 72.1 72.2 ... 78.8 78.9 79.0</div><input id='attrs-54d3cbfa-18bc-4161-9493-1edf691dc0d8' class='xr-var-attrs-in' type='checkbox' ><label for='attrs-54d3cbfa-18bc-4161-9493-1edf691dc0d8' title='Show/Hide attributes'><svg class='icon xr-icon-file-text2'><use xlink:href='#icon-file-text2'></use></svg></label><input id='data-3c4ca777-bfc0-408e-adcc-e7f8f3ea617a' class='xr-var-data-in' type='checkbox'><label for='data-3c4ca777-bfc0-408e-adcc-e7f8f3ea617a' title='Show/Hide data repr'><svg class='icon xr-icon-database'><use xlink:href='#icon-database'></use></svg></label><div class='xr-var-attrs'><dl class='xr-attrs'><dt><span>units :</span></dt><dd>degrees_east</dd><dt><span>long_name :</span></dt><dd>longitude</dd></dl></div><div class='xr-var-data'><pre>array([72. , 72.1, 72.2, 72.3, 72.4, 72.5, 72.6, 72.7, 72.8, 72.9, 73. , 73.1,\n",
              "       73.2, 73.3, 73.4, 73.5, 73.6, 73.7, 73.8, 73.9, 74. , 74.1, 74.2, 74.3,\n",
              "       74.4, 74.5, 74.6, 74.7, 74.8, 74.9, 75. , 75.1, 75.2, 75.3, 75.4, 75.5,\n",
              "       75.6, 75.7, 75.8, 75.9, 76. , 76.1, 76.2, 76.3, 76.4, 76.5, 76.6, 76.7,\n",
              "       76.8, 76.9, 77. , 77.1, 77.2, 77.3, 77.4, 77.5, 77.6, 77.7, 77.8, 77.9,\n",
              "       78. , 78.1, 78.2, 78.3, 78.4, 78.5, 78.6, 78.7, 78.8, 78.9, 79. ],\n",
              "      dtype=float32)</pre></div></li><li class='xr-var-item'><div class='xr-var-name'><span class='xr-has-index'>latitude</span></div><div class='xr-var-dims'>(latitude)</div><div class='xr-var-dtype'>float32</div><div class='xr-var-preview xr-preview'>22.0 21.9 21.8 ... 16.2 16.1 16.0</div><input id='attrs-651b9286-e104-42b3-bcfa-94aa98576c78' class='xr-var-attrs-in' type='checkbox' ><label for='attrs-651b9286-e104-42b3-bcfa-94aa98576c78' title='Show/Hide attributes'><svg class='icon xr-icon-file-text2'><use xlink:href='#icon-file-text2'></use></svg></label><input id='data-f22816a0-25be-4ef8-b173-f2dee5d27580' class='xr-var-data-in' type='checkbox'><label for='data-f22816a0-25be-4ef8-b173-f2dee5d27580' title='Show/Hide data repr'><svg class='icon xr-icon-database'><use xlink:href='#icon-database'></use></svg></label><div class='xr-var-attrs'><dl class='xr-attrs'><dt><span>units :</span></dt><dd>degrees_north</dd><dt><span>long_name :</span></dt><dd>latitude</dd></dl></div><div class='xr-var-data'><pre>array([22. , 21.9, 21.8, 21.7, 21.6, 21.5, 21.4, 21.3, 21.2, 21.1, 21. , 20.9,\n",
              "       20.8, 20.7, 20.6, 20.5, 20.4, 20.3, 20.2, 20.1, 20. , 19.9, 19.8, 19.7,\n",
              "       19.6, 19.5, 19.4, 19.3, 19.2, 19.1, 19. , 18.9, 18.8, 18.7, 18.6, 18.5,\n",
              "       18.4, 18.3, 18.2, 18.1, 18. , 17.9, 17.8, 17.7, 17.6, 17.5, 17.4, 17.3,\n",
              "       17.2, 17.1, 17. , 16.9, 16.8, 16.7, 16.6, 16.5, 16.4, 16.3, 16.2, 16.1,\n",
              "       16. ], dtype=float32)</pre></div></li><li class='xr-var-item'><div class='xr-var-name'><span class='xr-has-index'>time</span></div><div class='xr-var-dims'>(time)</div><div class='xr-var-dtype'>datetime64[ns]</div><div class='xr-var-preview xr-preview'>2021-07-22 ... 2021-07-22T23:00:00</div><input id='attrs-eac7eacc-3b01-4f12-b65b-03c2887b7e6d' class='xr-var-attrs-in' type='checkbox' ><label for='attrs-eac7eacc-3b01-4f12-b65b-03c2887b7e6d' title='Show/Hide attributes'><svg class='icon xr-icon-file-text2'><use xlink:href='#icon-file-text2'></use></svg></label><input id='data-4328c2e4-9279-4d23-a527-c2b7a34471a4' class='xr-var-data-in' type='checkbox'><label for='data-4328c2e4-9279-4d23-a527-c2b7a34471a4' title='Show/Hide data repr'><svg class='icon xr-icon-database'><use xlink:href='#icon-database'></use></svg></label><div class='xr-var-attrs'><dl class='xr-attrs'><dt><span>long_name :</span></dt><dd>time</dd></dl></div><div class='xr-var-data'><pre>array([&#x27;2021-07-22T00:00:00.000000000&#x27;, &#x27;2021-07-22T01:00:00.000000000&#x27;,\n",
              "       &#x27;2021-07-22T02:00:00.000000000&#x27;, &#x27;2021-07-22T03:00:00.000000000&#x27;,\n",
              "       &#x27;2021-07-22T04:00:00.000000000&#x27;, &#x27;2021-07-22T05:00:00.000000000&#x27;,\n",
              "       &#x27;2021-07-22T06:00:00.000000000&#x27;, &#x27;2021-07-22T07:00:00.000000000&#x27;,\n",
              "       &#x27;2021-07-22T08:00:00.000000000&#x27;, &#x27;2021-07-22T09:00:00.000000000&#x27;,\n",
              "       &#x27;2021-07-22T10:00:00.000000000&#x27;, &#x27;2021-07-22T11:00:00.000000000&#x27;,\n",
              "       &#x27;2021-07-22T12:00:00.000000000&#x27;, &#x27;2021-07-22T13:00:00.000000000&#x27;,\n",
              "       &#x27;2021-07-22T14:00:00.000000000&#x27;, &#x27;2021-07-22T15:00:00.000000000&#x27;,\n",
              "       &#x27;2021-07-22T16:00:00.000000000&#x27;, &#x27;2021-07-22T17:00:00.000000000&#x27;,\n",
              "       &#x27;2021-07-22T18:00:00.000000000&#x27;, &#x27;2021-07-22T19:00:00.000000000&#x27;,\n",
              "       &#x27;2021-07-22T20:00:00.000000000&#x27;, &#x27;2021-07-22T21:00:00.000000000&#x27;,\n",
              "       &#x27;2021-07-22T22:00:00.000000000&#x27;, &#x27;2021-07-22T23:00:00.000000000&#x27;],\n",
              "      dtype=&#x27;datetime64[ns]&#x27;)</pre></div></li></ul></div></li><li class='xr-section-item'><input id='section-70589a9a-6ee9-46ed-83b0-185ad419d0aa' class='xr-section-summary-in' type='checkbox'  checked><label for='section-70589a9a-6ee9-46ed-83b0-185ad419d0aa' class='xr-section-summary' >Attributes: <span>(2)</span></label><div class='xr-section-inline-details'></div><div class='xr-section-details'><dl class='xr-attrs'><dt><span>units :</span></dt><dd>m</dd><dt><span>long_name :</span></dt><dd>Total precipitation</dd></dl></div></li></ul></div></div>"
            ],
            "text/plain": [
              "<xarray.DataArray 'tp' (time: 24, latitude: 61, longitude: 71)>\n",
              "array([[[5.111694e-04, 1.071945e-03, ..., 4.268350e-02, 3.808289e-02],\n",
              "        [5.111694e-04, 1.029983e-03, ..., 4.825689e-02, 3.891832e-02],\n",
              "        ...,\n",
              "        [         nan,          nan, ..., 2.803477e-02, 2.778300e-02],\n",
              "        [         nan,          nan, ..., 2.636772e-02, 2.619986e-02]],\n",
              "\n",
              "       [[8.010119e-05, 1.602098e-04, ..., 5.893819e-03, 5.348310e-03],\n",
              "        [9.535998e-05, 1.678392e-04, ..., 5.424604e-03, 4.310690e-03],\n",
              "        ...,\n",
              "        [         nan,          nan, ..., 3.738403e-04, 3.471375e-04],\n",
              "        [         nan,          nan, ..., 4.425049e-04, 4.310608e-04]],\n",
              "\n",
              "       ...,\n",
              "\n",
              "       [[9.117275e-04, 1.071945e-03, ..., 3.966983e-02, 4.993921e-02],\n",
              "        [1.087204e-03, 1.197830e-03, ..., 4.214944e-02, 5.221281e-02],\n",
              "        ...,\n",
              "        [         nan,          nan, ..., 3.660657e-02, 3.577113e-02],\n",
              "        [         nan,          nan, ..., 3.703383e-02, 3.466866e-02]],\n",
              "\n",
              "       [[9.117275e-04, 1.071945e-03, ..., 3.984912e-02, 5.012613e-02],\n",
              "        [1.087204e-03, 1.197830e-03, ..., 4.247370e-02, 5.257140e-02],\n",
              "        ...,\n",
              "        [         nan,          nan, ..., 3.776626e-02, 3.688123e-02],\n",
              "        [         nan,          nan, ..., 3.800277e-02, 3.567576e-02]]],\n",
              "      dtype=float32)\n",
              "Coordinates:\n",
              "  * longitude  (longitude) float32 72.0 72.1 72.2 72.3 ... 78.7 78.8 78.9 79.0\n",
              "  * latitude   (latitude) float32 22.0 21.9 21.8 21.7 ... 16.3 16.2 16.1 16.0\n",
              "  * time       (time) datetime64[ns] 2021-07-22 ... 2021-07-22T23:00:00\n",
              "Attributes:\n",
              "    units:      m\n",
              "    long_name:  Total precipitation"
            ]
          },
          "execution_count": 17,
          "metadata": {},
          "output_type": "execute_result"
        }
      ],
      "source": [
        "# Get the total precipitation data on July 22\n",
        "tp_2021 = data_2021.tp.sel(time=data_2021.time.dt.month == 7).sel(time=data_2021.time.dt.day == 22)\n",
        "tp_2021\n"
      ]
    },
    {
      "cell_type": "markdown",
      "metadata": {
        "id": "y9nTYlfHz-rH"
      },
      "source": [
        "#### Maximum daily precipitation"
      ]
    },
    {
      "cell_type": "code",
      "execution_count": 18,
      "metadata": {
        "colab": {
          "base_uri": "https://localhost:8080/",
          "height": 378
        },
        "id": "HSOEjhqsskg2",
        "outputId": "a3b12b50-672d-411d-cbd3-c0eb5e2d637b"
      },
      "outputs": [
        {
          "data": {
            "text/html": [
              "<div><svg style=\"position: absolute; width: 0; height: 0; overflow: hidden\">\n",
              "<defs>\n",
              "<symbol id=\"icon-database\" viewBox=\"0 0 32 32\">\n",
              "<path d=\"M16 0c-8.837 0-16 2.239-16 5v4c0 2.761 7.163 5 16 5s16-2.239 16-5v-4c0-2.761-7.163-5-16-5z\"></path>\n",
              "<path d=\"M16 17c-8.837 0-16-2.239-16-5v6c0 2.761 7.163 5 16 5s16-2.239 16-5v-6c0 2.761-7.163 5-16 5z\"></path>\n",
              "<path d=\"M16 26c-8.837 0-16-2.239-16-5v6c0 2.761 7.163 5 16 5s16-2.239 16-5v-6c0 2.761-7.163 5-16 5z\"></path>\n",
              "</symbol>\n",
              "<symbol id=\"icon-file-text2\" viewBox=\"0 0 32 32\">\n",
              "<path d=\"M28.681 7.159c-0.694-0.947-1.662-2.053-2.724-3.116s-2.169-2.030-3.116-2.724c-1.612-1.182-2.393-1.319-2.841-1.319h-15.5c-1.378 0-2.5 1.121-2.5 2.5v27c0 1.378 1.122 2.5 2.5 2.5h23c1.378 0 2.5-1.122 2.5-2.5v-19.5c0-0.448-0.137-1.23-1.319-2.841zM24.543 5.457c0.959 0.959 1.712 1.825 2.268 2.543h-4.811v-4.811c0.718 0.556 1.584 1.309 2.543 2.268zM28 29.5c0 0.271-0.229 0.5-0.5 0.5h-23c-0.271 0-0.5-0.229-0.5-0.5v-27c0-0.271 0.229-0.5 0.5-0.5 0 0 15.499-0 15.5 0v7c0 0.552 0.448 1 1 1h7v19.5z\"></path>\n",
              "<path d=\"M23 26h-14c-0.552 0-1-0.448-1-1s0.448-1 1-1h14c0.552 0 1 0.448 1 1s-0.448 1-1 1z\"></path>\n",
              "<path d=\"M23 22h-14c-0.552 0-1-0.448-1-1s0.448-1 1-1h14c0.552 0 1 0.448 1 1s-0.448 1-1 1z\"></path>\n",
              "<path d=\"M23 18h-14c-0.552 0-1-0.448-1-1s0.448-1 1-1h14c0.552 0 1 0.448 1 1s-0.448 1-1 1z\"></path>\n",
              "</symbol>\n",
              "</defs>\n",
              "</svg>\n",
              "<style>/* CSS stylesheet for displaying xarray objects in jupyterlab.\n",
              " *\n",
              " */\n",
              "\n",
              ":root {\n",
              "  --xr-font-color0: var(--jp-content-font-color0, rgba(0, 0, 0, 1));\n",
              "  --xr-font-color2: var(--jp-content-font-color2, rgba(0, 0, 0, 0.54));\n",
              "  --xr-font-color3: var(--jp-content-font-color3, rgba(0, 0, 0, 0.38));\n",
              "  --xr-border-color: var(--jp-border-color2, #e0e0e0);\n",
              "  --xr-disabled-color: var(--jp-layout-color3, #bdbdbd);\n",
              "  --xr-background-color: var(--jp-layout-color0, white);\n",
              "  --xr-background-color-row-even: var(--jp-layout-color1, white);\n",
              "  --xr-background-color-row-odd: var(--jp-layout-color2, #eeeeee);\n",
              "}\n",
              "\n",
              "html[theme=dark],\n",
              "body.vscode-dark {\n",
              "  --xr-font-color0: rgba(255, 255, 255, 1);\n",
              "  --xr-font-color2: rgba(255, 255, 255, 0.54);\n",
              "  --xr-font-color3: rgba(255, 255, 255, 0.38);\n",
              "  --xr-border-color: #1F1F1F;\n",
              "  --xr-disabled-color: #515151;\n",
              "  --xr-background-color: #111111;\n",
              "  --xr-background-color-row-even: #111111;\n",
              "  --xr-background-color-row-odd: #313131;\n",
              "}\n",
              "\n",
              ".xr-wrap {\n",
              "  display: block;\n",
              "  min-width: 300px;\n",
              "  max-width: 700px;\n",
              "}\n",
              "\n",
              ".xr-text-repr-fallback {\n",
              "  /* fallback to plain text repr when CSS is not injected (untrusted notebook) */\n",
              "  display: none;\n",
              "}\n",
              "\n",
              ".xr-header {\n",
              "  padding-top: 6px;\n",
              "  padding-bottom: 6px;\n",
              "  margin-bottom: 4px;\n",
              "  border-bottom: solid 1px var(--xr-border-color);\n",
              "}\n",
              "\n",
              ".xr-header > div,\n",
              ".xr-header > ul {\n",
              "  display: inline;\n",
              "  margin-top: 0;\n",
              "  margin-bottom: 0;\n",
              "}\n",
              "\n",
              ".xr-obj-type,\n",
              ".xr-array-name {\n",
              "  margin-left: 2px;\n",
              "  margin-right: 10px;\n",
              "}\n",
              "\n",
              ".xr-obj-type {\n",
              "  color: var(--xr-font-color2);\n",
              "}\n",
              "\n",
              ".xr-sections {\n",
              "  padding-left: 0 !important;\n",
              "  display: grid;\n",
              "  grid-template-columns: 150px auto auto 1fr 20px 20px;\n",
              "}\n",
              "\n",
              ".xr-section-item {\n",
              "  display: contents;\n",
              "}\n",
              "\n",
              ".xr-section-item input {\n",
              "  display: none;\n",
              "}\n",
              "\n",
              ".xr-section-item input + label {\n",
              "  color: var(--xr-disabled-color);\n",
              "}\n",
              "\n",
              ".xr-section-item input:enabled + label {\n",
              "  cursor: pointer;\n",
              "  color: var(--xr-font-color2);\n",
              "}\n",
              "\n",
              ".xr-section-item input:enabled + label:hover {\n",
              "  color: var(--xr-font-color0);\n",
              "}\n",
              "\n",
              ".xr-section-summary {\n",
              "  grid-column: 1;\n",
              "  color: var(--xr-font-color2);\n",
              "  font-weight: 500;\n",
              "}\n",
              "\n",
              ".xr-section-summary > span {\n",
              "  display: inline-block;\n",
              "  padding-left: 0.5em;\n",
              "}\n",
              "\n",
              ".xr-section-summary-in:disabled + label {\n",
              "  color: var(--xr-font-color2);\n",
              "}\n",
              "\n",
              ".xr-section-summary-in + label:before {\n",
              "  display: inline-block;\n",
              "  content: '►';\n",
              "  font-size: 11px;\n",
              "  width: 15px;\n",
              "  text-align: center;\n",
              "}\n",
              "\n",
              ".xr-section-summary-in:disabled + label:before {\n",
              "  color: var(--xr-disabled-color);\n",
              "}\n",
              "\n",
              ".xr-section-summary-in:checked + label:before {\n",
              "  content: '▼';\n",
              "}\n",
              "\n",
              ".xr-section-summary-in:checked + label > span {\n",
              "  display: none;\n",
              "}\n",
              "\n",
              ".xr-section-summary,\n",
              ".xr-section-inline-details {\n",
              "  padding-top: 4px;\n",
              "  padding-bottom: 4px;\n",
              "}\n",
              "\n",
              ".xr-section-inline-details {\n",
              "  grid-column: 2 / -1;\n",
              "}\n",
              "\n",
              ".xr-section-details {\n",
              "  display: none;\n",
              "  grid-column: 1 / -1;\n",
              "  margin-bottom: 5px;\n",
              "}\n",
              "\n",
              ".xr-section-summary-in:checked ~ .xr-section-details {\n",
              "  display: contents;\n",
              "}\n",
              "\n",
              ".xr-array-wrap {\n",
              "  grid-column: 1 / -1;\n",
              "  display: grid;\n",
              "  grid-template-columns: 20px auto;\n",
              "}\n",
              "\n",
              ".xr-array-wrap > label {\n",
              "  grid-column: 1;\n",
              "  vertical-align: top;\n",
              "}\n",
              "\n",
              ".xr-preview {\n",
              "  color: var(--xr-font-color3);\n",
              "}\n",
              "\n",
              ".xr-array-preview,\n",
              ".xr-array-data {\n",
              "  padding: 0 5px !important;\n",
              "  grid-column: 2;\n",
              "}\n",
              "\n",
              ".xr-array-data,\n",
              ".xr-array-in:checked ~ .xr-array-preview {\n",
              "  display: none;\n",
              "}\n",
              "\n",
              ".xr-array-in:checked ~ .xr-array-data,\n",
              ".xr-array-preview {\n",
              "  display: inline-block;\n",
              "}\n",
              "\n",
              ".xr-dim-list {\n",
              "  display: inline-block !important;\n",
              "  list-style: none;\n",
              "  padding: 0 !important;\n",
              "  margin: 0;\n",
              "}\n",
              "\n",
              ".xr-dim-list li {\n",
              "  display: inline-block;\n",
              "  padding: 0;\n",
              "  margin: 0;\n",
              "}\n",
              "\n",
              ".xr-dim-list:before {\n",
              "  content: '(';\n",
              "}\n",
              "\n",
              ".xr-dim-list:after {\n",
              "  content: ')';\n",
              "}\n",
              "\n",
              ".xr-dim-list li:not(:last-child):after {\n",
              "  content: ',';\n",
              "  padding-right: 5px;\n",
              "}\n",
              "\n",
              ".xr-has-index {\n",
              "  font-weight: bold;\n",
              "}\n",
              "\n",
              ".xr-var-list,\n",
              ".xr-var-item {\n",
              "  display: contents;\n",
              "}\n",
              "\n",
              ".xr-var-item > div,\n",
              ".xr-var-item label,\n",
              ".xr-var-item > .xr-var-name span {\n",
              "  background-color: var(--xr-background-color-row-even);\n",
              "  margin-bottom: 0;\n",
              "}\n",
              "\n",
              ".xr-var-item > .xr-var-name:hover span {\n",
              "  padding-right: 5px;\n",
              "}\n",
              "\n",
              ".xr-var-list > li:nth-child(odd) > div,\n",
              ".xr-var-list > li:nth-child(odd) > label,\n",
              ".xr-var-list > li:nth-child(odd) > .xr-var-name span {\n",
              "  background-color: var(--xr-background-color-row-odd);\n",
              "}\n",
              "\n",
              ".xr-var-name {\n",
              "  grid-column: 1;\n",
              "}\n",
              "\n",
              ".xr-var-dims {\n",
              "  grid-column: 2;\n",
              "}\n",
              "\n",
              ".xr-var-dtype {\n",
              "  grid-column: 3;\n",
              "  text-align: right;\n",
              "  color: var(--xr-font-color2);\n",
              "}\n",
              "\n",
              ".xr-var-preview {\n",
              "  grid-column: 4;\n",
              "}\n",
              "\n",
              ".xr-var-name,\n",
              ".xr-var-dims,\n",
              ".xr-var-dtype,\n",
              ".xr-preview,\n",
              ".xr-attrs dt {\n",
              "  white-space: nowrap;\n",
              "  overflow: hidden;\n",
              "  text-overflow: ellipsis;\n",
              "  padding-right: 10px;\n",
              "}\n",
              "\n",
              ".xr-var-name:hover,\n",
              ".xr-var-dims:hover,\n",
              ".xr-var-dtype:hover,\n",
              ".xr-attrs dt:hover {\n",
              "  overflow: visible;\n",
              "  width: auto;\n",
              "  z-index: 1;\n",
              "}\n",
              "\n",
              ".xr-var-attrs,\n",
              ".xr-var-data {\n",
              "  display: none;\n",
              "  background-color: var(--xr-background-color) !important;\n",
              "  padding-bottom: 5px !important;\n",
              "}\n",
              "\n",
              ".xr-var-attrs-in:checked ~ .xr-var-attrs,\n",
              ".xr-var-data-in:checked ~ .xr-var-data {\n",
              "  display: block;\n",
              "}\n",
              "\n",
              ".xr-var-data > table {\n",
              "  float: right;\n",
              "}\n",
              "\n",
              ".xr-var-name span,\n",
              ".xr-var-data,\n",
              ".xr-attrs {\n",
              "  padding-left: 25px !important;\n",
              "}\n",
              "\n",
              ".xr-attrs,\n",
              ".xr-var-attrs,\n",
              ".xr-var-data {\n",
              "  grid-column: 1 / -1;\n",
              "}\n",
              "\n",
              "dl.xr-attrs {\n",
              "  padding: 0;\n",
              "  margin: 0;\n",
              "  display: grid;\n",
              "  grid-template-columns: 125px auto;\n",
              "}\n",
              "\n",
              ".xr-attrs dt,\n",
              ".xr-attrs dd {\n",
              "  padding: 0;\n",
              "  margin: 0;\n",
              "  float: left;\n",
              "  padding-right: 10px;\n",
              "  width: auto;\n",
              "}\n",
              "\n",
              ".xr-attrs dt {\n",
              "  font-weight: normal;\n",
              "  grid-column: 1;\n",
              "}\n",
              "\n",
              ".xr-attrs dt:hover span {\n",
              "  display: inline-block;\n",
              "  background: var(--xr-background-color);\n",
              "  padding-right: 10px;\n",
              "}\n",
              "\n",
              ".xr-attrs dd {\n",
              "  grid-column: 2;\n",
              "  white-space: pre-wrap;\n",
              "  word-break: break-all;\n",
              "}\n",
              "\n",
              ".xr-icon-database,\n",
              ".xr-icon-file-text2 {\n",
              "  display: inline-block;\n",
              "  vertical-align: middle;\n",
              "  width: 1em;\n",
              "  height: 1.5em !important;\n",
              "  stroke-width: 0;\n",
              "  stroke: currentColor;\n",
              "  fill: currentColor;\n",
              "}\n",
              "</style><pre class='xr-text-repr-fallback'>&lt;xarray.DataArray &#x27;tp&#x27; (latitude: 61, longitude: 71)&gt;\n",
              "array([[0.00091173, 0.00107194, 0.00165942, ..., 0.04946999, 0.0426835 ,\n",
              "        0.05012613],\n",
              "       [0.0010872 , 0.00119783,        nan, ..., 0.05748864, 0.04825689,\n",
              "        0.0525714 ],\n",
              "       [0.00120164, 0.00115205, 0.00145724, ..., 0.06438194, 0.05550878,\n",
              "        0.05563466],\n",
              "       ...,\n",
              "       [       nan,        nan,        nan, ..., 0.03684308, 0.03666761,\n",
              "        0.03672483],\n",
              "       [       nan,        nan,        nan, ..., 0.03783111, 0.03776626,\n",
              "        0.03688123],\n",
              "       [       nan,        nan,        nan, ..., 0.0389641 , 0.03800277,\n",
              "        0.03567576]], dtype=float32)\n",
              "Coordinates:\n",
              "  * longitude  (longitude) float32 72.0 72.1 72.2 72.3 ... 78.7 78.8 78.9 79.0\n",
              "  * latitude   (latitude) float32 22.0 21.9 21.8 21.7 ... 16.3 16.2 16.1 16.0</pre><div class='xr-wrap' hidden><div class='xr-header'><div class='xr-obj-type'>xarray.DataArray</div><div class='xr-array-name'>'tp'</div><ul class='xr-dim-list'><li><span class='xr-has-index'>latitude</span>: 61</li><li><span class='xr-has-index'>longitude</span>: 71</li></ul></div><ul class='xr-sections'><li class='xr-section-item'><div class='xr-array-wrap'><input id='section-7c247138-ac8d-452f-914c-c69b7771a4bf' class='xr-array-in' type='checkbox' checked><label for='section-7c247138-ac8d-452f-914c-c69b7771a4bf' title='Show/hide data repr'><svg class='icon xr-icon-database'><use xlink:href='#icon-database'></use></svg></label><div class='xr-array-preview xr-preview'><span>0.0009117 0.001072 0.001659 nan nan ... 0.04092 0.03896 0.038 0.03568</span></div><div class='xr-array-data'><pre>array([[0.00091173, 0.00107194, 0.00165942, ..., 0.04946999, 0.0426835 ,\n",
              "        0.05012613],\n",
              "       [0.0010872 , 0.00119783,        nan, ..., 0.05748864, 0.04825689,\n",
              "        0.0525714 ],\n",
              "       [0.00120164, 0.00115205, 0.00145724, ..., 0.06438194, 0.05550878,\n",
              "        0.05563466],\n",
              "       ...,\n",
              "       [       nan,        nan,        nan, ..., 0.03684308, 0.03666761,\n",
              "        0.03672483],\n",
              "       [       nan,        nan,        nan, ..., 0.03783111, 0.03776626,\n",
              "        0.03688123],\n",
              "       [       nan,        nan,        nan, ..., 0.0389641 , 0.03800277,\n",
              "        0.03567576]], dtype=float32)</pre></div></div></li><li class='xr-section-item'><input id='section-28def480-97ad-4ad0-9e42-c66a77d70f05' class='xr-section-summary-in' type='checkbox'  checked><label for='section-28def480-97ad-4ad0-9e42-c66a77d70f05' class='xr-section-summary' >Coordinates: <span>(2)</span></label><div class='xr-section-inline-details'></div><div class='xr-section-details'><ul class='xr-var-list'><li class='xr-var-item'><div class='xr-var-name'><span class='xr-has-index'>longitude</span></div><div class='xr-var-dims'>(longitude)</div><div class='xr-var-dtype'>float32</div><div class='xr-var-preview xr-preview'>72.0 72.1 72.2 ... 78.8 78.9 79.0</div><input id='attrs-e34216a9-d1dd-4b7a-afab-57ead1610847' class='xr-var-attrs-in' type='checkbox' ><label for='attrs-e34216a9-d1dd-4b7a-afab-57ead1610847' title='Show/Hide attributes'><svg class='icon xr-icon-file-text2'><use xlink:href='#icon-file-text2'></use></svg></label><input id='data-01f17b01-5fdd-4af3-b402-b41b811488b7' class='xr-var-data-in' type='checkbox'><label for='data-01f17b01-5fdd-4af3-b402-b41b811488b7' title='Show/Hide data repr'><svg class='icon xr-icon-database'><use xlink:href='#icon-database'></use></svg></label><div class='xr-var-attrs'><dl class='xr-attrs'><dt><span>units :</span></dt><dd>degrees_east</dd><dt><span>long_name :</span></dt><dd>longitude</dd></dl></div><div class='xr-var-data'><pre>array([72. , 72.1, 72.2, 72.3, 72.4, 72.5, 72.6, 72.7, 72.8, 72.9, 73. , 73.1,\n",
              "       73.2, 73.3, 73.4, 73.5, 73.6, 73.7, 73.8, 73.9, 74. , 74.1, 74.2, 74.3,\n",
              "       74.4, 74.5, 74.6, 74.7, 74.8, 74.9, 75. , 75.1, 75.2, 75.3, 75.4, 75.5,\n",
              "       75.6, 75.7, 75.8, 75.9, 76. , 76.1, 76.2, 76.3, 76.4, 76.5, 76.6, 76.7,\n",
              "       76.8, 76.9, 77. , 77.1, 77.2, 77.3, 77.4, 77.5, 77.6, 77.7, 77.8, 77.9,\n",
              "       78. , 78.1, 78.2, 78.3, 78.4, 78.5, 78.6, 78.7, 78.8, 78.9, 79. ],\n",
              "      dtype=float32)</pre></div></li><li class='xr-var-item'><div class='xr-var-name'><span class='xr-has-index'>latitude</span></div><div class='xr-var-dims'>(latitude)</div><div class='xr-var-dtype'>float32</div><div class='xr-var-preview xr-preview'>22.0 21.9 21.8 ... 16.2 16.1 16.0</div><input id='attrs-0bb165bd-d6e4-49cf-80df-aa2dcf030641' class='xr-var-attrs-in' type='checkbox' ><label for='attrs-0bb165bd-d6e4-49cf-80df-aa2dcf030641' title='Show/Hide attributes'><svg class='icon xr-icon-file-text2'><use xlink:href='#icon-file-text2'></use></svg></label><input id='data-50a283f0-f639-4083-9101-0b986e90411c' class='xr-var-data-in' type='checkbox'><label for='data-50a283f0-f639-4083-9101-0b986e90411c' title='Show/Hide data repr'><svg class='icon xr-icon-database'><use xlink:href='#icon-database'></use></svg></label><div class='xr-var-attrs'><dl class='xr-attrs'><dt><span>units :</span></dt><dd>degrees_north</dd><dt><span>long_name :</span></dt><dd>latitude</dd></dl></div><div class='xr-var-data'><pre>array([22. , 21.9, 21.8, 21.7, 21.6, 21.5, 21.4, 21.3, 21.2, 21.1, 21. , 20.9,\n",
              "       20.8, 20.7, 20.6, 20.5, 20.4, 20.3, 20.2, 20.1, 20. , 19.9, 19.8, 19.7,\n",
              "       19.6, 19.5, 19.4, 19.3, 19.2, 19.1, 19. , 18.9, 18.8, 18.7, 18.6, 18.5,\n",
              "       18.4, 18.3, 18.2, 18.1, 18. , 17.9, 17.8, 17.7, 17.6, 17.5, 17.4, 17.3,\n",
              "       17.2, 17.1, 17. , 16.9, 16.8, 16.7, 16.6, 16.5, 16.4, 16.3, 16.2, 16.1,\n",
              "       16. ], dtype=float32)</pre></div></li></ul></div></li><li class='xr-section-item'><input id='section-4fab582d-23fd-4af7-9e60-4332e86066d7' class='xr-section-summary-in' type='checkbox' disabled ><label for='section-4fab582d-23fd-4af7-9e60-4332e86066d7' class='xr-section-summary'  title='Expand/collapse section'>Attributes: <span>(0)</span></label><div class='xr-section-inline-details'></div><div class='xr-section-details'><dl class='xr-attrs'></dl></div></li></ul></div></div>"
            ],
            "text/plain": [
              "<xarray.DataArray 'tp' (latitude: 61, longitude: 71)>\n",
              "array([[0.00091173, 0.00107194, 0.00165942, ..., 0.04946999, 0.0426835 ,\n",
              "        0.05012613],\n",
              "       [0.0010872 , 0.00119783,        nan, ..., 0.05748864, 0.04825689,\n",
              "        0.0525714 ],\n",
              "       [0.00120164, 0.00115205, 0.00145724, ..., 0.06438194, 0.05550878,\n",
              "        0.05563466],\n",
              "       ...,\n",
              "       [       nan,        nan,        nan, ..., 0.03684308, 0.03666761,\n",
              "        0.03672483],\n",
              "       [       nan,        nan,        nan, ..., 0.03783111, 0.03776626,\n",
              "        0.03688123],\n",
              "       [       nan,        nan,        nan, ..., 0.0389641 , 0.03800277,\n",
              "        0.03567576]], dtype=float32)\n",
              "Coordinates:\n",
              "  * longitude  (longitude) float32 72.0 72.1 72.2 72.3 ... 78.7 78.8 78.9 79.0\n",
              "  * latitude   (latitude) float32 22.0 21.9 21.8 21.7 ... 16.3 16.2 16.1 16.0"
            ]
          },
          "execution_count": 18,
          "metadata": {},
          "output_type": "execute_result"
        }
      ],
      "source": [
        "# get the max daily precipitation for tp_2021\n",
        "tp_2021_max = tp_2021.max(dim='time')\n",
        "tp_2021_max"
      ]
    },
    {
      "cell_type": "code",
      "execution_count": 19,
      "metadata": {
        "colab": {
          "base_uri": "https://localhost:8080/",
          "height": 378
        },
        "id": "JLazgiSe8ISq",
        "outputId": "23847d31-1086-4380-991b-12847a9e4097"
      },
      "outputs": [
        {
          "data": {
            "text/html": [
              "<div><svg style=\"position: absolute; width: 0; height: 0; overflow: hidden\">\n",
              "<defs>\n",
              "<symbol id=\"icon-database\" viewBox=\"0 0 32 32\">\n",
              "<path d=\"M16 0c-8.837 0-16 2.239-16 5v4c0 2.761 7.163 5 16 5s16-2.239 16-5v-4c0-2.761-7.163-5-16-5z\"></path>\n",
              "<path d=\"M16 17c-8.837 0-16-2.239-16-5v6c0 2.761 7.163 5 16 5s16-2.239 16-5v-6c0 2.761-7.163 5-16 5z\"></path>\n",
              "<path d=\"M16 26c-8.837 0-16-2.239-16-5v6c0 2.761 7.163 5 16 5s16-2.239 16-5v-6c0 2.761-7.163 5-16 5z\"></path>\n",
              "</symbol>\n",
              "<symbol id=\"icon-file-text2\" viewBox=\"0 0 32 32\">\n",
              "<path d=\"M28.681 7.159c-0.694-0.947-1.662-2.053-2.724-3.116s-2.169-2.030-3.116-2.724c-1.612-1.182-2.393-1.319-2.841-1.319h-15.5c-1.378 0-2.5 1.121-2.5 2.5v27c0 1.378 1.122 2.5 2.5 2.5h23c1.378 0 2.5-1.122 2.5-2.5v-19.5c0-0.448-0.137-1.23-1.319-2.841zM24.543 5.457c0.959 0.959 1.712 1.825 2.268 2.543h-4.811v-4.811c0.718 0.556 1.584 1.309 2.543 2.268zM28 29.5c0 0.271-0.229 0.5-0.5 0.5h-23c-0.271 0-0.5-0.229-0.5-0.5v-27c0-0.271 0.229-0.5 0.5-0.5 0 0 15.499-0 15.5 0v7c0 0.552 0.448 1 1 1h7v19.5z\"></path>\n",
              "<path d=\"M23 26h-14c-0.552 0-1-0.448-1-1s0.448-1 1-1h14c0.552 0 1 0.448 1 1s-0.448 1-1 1z\"></path>\n",
              "<path d=\"M23 22h-14c-0.552 0-1-0.448-1-1s0.448-1 1-1h14c0.552 0 1 0.448 1 1s-0.448 1-1 1z\"></path>\n",
              "<path d=\"M23 18h-14c-0.552 0-1-0.448-1-1s0.448-1 1-1h14c0.552 0 1 0.448 1 1s-0.448 1-1 1z\"></path>\n",
              "</symbol>\n",
              "</defs>\n",
              "</svg>\n",
              "<style>/* CSS stylesheet for displaying xarray objects in jupyterlab.\n",
              " *\n",
              " */\n",
              "\n",
              ":root {\n",
              "  --xr-font-color0: var(--jp-content-font-color0, rgba(0, 0, 0, 1));\n",
              "  --xr-font-color2: var(--jp-content-font-color2, rgba(0, 0, 0, 0.54));\n",
              "  --xr-font-color3: var(--jp-content-font-color3, rgba(0, 0, 0, 0.38));\n",
              "  --xr-border-color: var(--jp-border-color2, #e0e0e0);\n",
              "  --xr-disabled-color: var(--jp-layout-color3, #bdbdbd);\n",
              "  --xr-background-color: var(--jp-layout-color0, white);\n",
              "  --xr-background-color-row-even: var(--jp-layout-color1, white);\n",
              "  --xr-background-color-row-odd: var(--jp-layout-color2, #eeeeee);\n",
              "}\n",
              "\n",
              "html[theme=dark],\n",
              "body.vscode-dark {\n",
              "  --xr-font-color0: rgba(255, 255, 255, 1);\n",
              "  --xr-font-color2: rgba(255, 255, 255, 0.54);\n",
              "  --xr-font-color3: rgba(255, 255, 255, 0.38);\n",
              "  --xr-border-color: #1F1F1F;\n",
              "  --xr-disabled-color: #515151;\n",
              "  --xr-background-color: #111111;\n",
              "  --xr-background-color-row-even: #111111;\n",
              "  --xr-background-color-row-odd: #313131;\n",
              "}\n",
              "\n",
              ".xr-wrap {\n",
              "  display: block;\n",
              "  min-width: 300px;\n",
              "  max-width: 700px;\n",
              "}\n",
              "\n",
              ".xr-text-repr-fallback {\n",
              "  /* fallback to plain text repr when CSS is not injected (untrusted notebook) */\n",
              "  display: none;\n",
              "}\n",
              "\n",
              ".xr-header {\n",
              "  padding-top: 6px;\n",
              "  padding-bottom: 6px;\n",
              "  margin-bottom: 4px;\n",
              "  border-bottom: solid 1px var(--xr-border-color);\n",
              "}\n",
              "\n",
              ".xr-header > div,\n",
              ".xr-header > ul {\n",
              "  display: inline;\n",
              "  margin-top: 0;\n",
              "  margin-bottom: 0;\n",
              "}\n",
              "\n",
              ".xr-obj-type,\n",
              ".xr-array-name {\n",
              "  margin-left: 2px;\n",
              "  margin-right: 10px;\n",
              "}\n",
              "\n",
              ".xr-obj-type {\n",
              "  color: var(--xr-font-color2);\n",
              "}\n",
              "\n",
              ".xr-sections {\n",
              "  padding-left: 0 !important;\n",
              "  display: grid;\n",
              "  grid-template-columns: 150px auto auto 1fr 20px 20px;\n",
              "}\n",
              "\n",
              ".xr-section-item {\n",
              "  display: contents;\n",
              "}\n",
              "\n",
              ".xr-section-item input {\n",
              "  display: none;\n",
              "}\n",
              "\n",
              ".xr-section-item input + label {\n",
              "  color: var(--xr-disabled-color);\n",
              "}\n",
              "\n",
              ".xr-section-item input:enabled + label {\n",
              "  cursor: pointer;\n",
              "  color: var(--xr-font-color2);\n",
              "}\n",
              "\n",
              ".xr-section-item input:enabled + label:hover {\n",
              "  color: var(--xr-font-color0);\n",
              "}\n",
              "\n",
              ".xr-section-summary {\n",
              "  grid-column: 1;\n",
              "  color: var(--xr-font-color2);\n",
              "  font-weight: 500;\n",
              "}\n",
              "\n",
              ".xr-section-summary > span {\n",
              "  display: inline-block;\n",
              "  padding-left: 0.5em;\n",
              "}\n",
              "\n",
              ".xr-section-summary-in:disabled + label {\n",
              "  color: var(--xr-font-color2);\n",
              "}\n",
              "\n",
              ".xr-section-summary-in + label:before {\n",
              "  display: inline-block;\n",
              "  content: '►';\n",
              "  font-size: 11px;\n",
              "  width: 15px;\n",
              "  text-align: center;\n",
              "}\n",
              "\n",
              ".xr-section-summary-in:disabled + label:before {\n",
              "  color: var(--xr-disabled-color);\n",
              "}\n",
              "\n",
              ".xr-section-summary-in:checked + label:before {\n",
              "  content: '▼';\n",
              "}\n",
              "\n",
              ".xr-section-summary-in:checked + label > span {\n",
              "  display: none;\n",
              "}\n",
              "\n",
              ".xr-section-summary,\n",
              ".xr-section-inline-details {\n",
              "  padding-top: 4px;\n",
              "  padding-bottom: 4px;\n",
              "}\n",
              "\n",
              ".xr-section-inline-details {\n",
              "  grid-column: 2 / -1;\n",
              "}\n",
              "\n",
              ".xr-section-details {\n",
              "  display: none;\n",
              "  grid-column: 1 / -1;\n",
              "  margin-bottom: 5px;\n",
              "}\n",
              "\n",
              ".xr-section-summary-in:checked ~ .xr-section-details {\n",
              "  display: contents;\n",
              "}\n",
              "\n",
              ".xr-array-wrap {\n",
              "  grid-column: 1 / -1;\n",
              "  display: grid;\n",
              "  grid-template-columns: 20px auto;\n",
              "}\n",
              "\n",
              ".xr-array-wrap > label {\n",
              "  grid-column: 1;\n",
              "  vertical-align: top;\n",
              "}\n",
              "\n",
              ".xr-preview {\n",
              "  color: var(--xr-font-color3);\n",
              "}\n",
              "\n",
              ".xr-array-preview,\n",
              ".xr-array-data {\n",
              "  padding: 0 5px !important;\n",
              "  grid-column: 2;\n",
              "}\n",
              "\n",
              ".xr-array-data,\n",
              ".xr-array-in:checked ~ .xr-array-preview {\n",
              "  display: none;\n",
              "}\n",
              "\n",
              ".xr-array-in:checked ~ .xr-array-data,\n",
              ".xr-array-preview {\n",
              "  display: inline-block;\n",
              "}\n",
              "\n",
              ".xr-dim-list {\n",
              "  display: inline-block !important;\n",
              "  list-style: none;\n",
              "  padding: 0 !important;\n",
              "  margin: 0;\n",
              "}\n",
              "\n",
              ".xr-dim-list li {\n",
              "  display: inline-block;\n",
              "  padding: 0;\n",
              "  margin: 0;\n",
              "}\n",
              "\n",
              ".xr-dim-list:before {\n",
              "  content: '(';\n",
              "}\n",
              "\n",
              ".xr-dim-list:after {\n",
              "  content: ')';\n",
              "}\n",
              "\n",
              ".xr-dim-list li:not(:last-child):after {\n",
              "  content: ',';\n",
              "  padding-right: 5px;\n",
              "}\n",
              "\n",
              ".xr-has-index {\n",
              "  font-weight: bold;\n",
              "}\n",
              "\n",
              ".xr-var-list,\n",
              ".xr-var-item {\n",
              "  display: contents;\n",
              "}\n",
              "\n",
              ".xr-var-item > div,\n",
              ".xr-var-item label,\n",
              ".xr-var-item > .xr-var-name span {\n",
              "  background-color: var(--xr-background-color-row-even);\n",
              "  margin-bottom: 0;\n",
              "}\n",
              "\n",
              ".xr-var-item > .xr-var-name:hover span {\n",
              "  padding-right: 5px;\n",
              "}\n",
              "\n",
              ".xr-var-list > li:nth-child(odd) > div,\n",
              ".xr-var-list > li:nth-child(odd) > label,\n",
              ".xr-var-list > li:nth-child(odd) > .xr-var-name span {\n",
              "  background-color: var(--xr-background-color-row-odd);\n",
              "}\n",
              "\n",
              ".xr-var-name {\n",
              "  grid-column: 1;\n",
              "}\n",
              "\n",
              ".xr-var-dims {\n",
              "  grid-column: 2;\n",
              "}\n",
              "\n",
              ".xr-var-dtype {\n",
              "  grid-column: 3;\n",
              "  text-align: right;\n",
              "  color: var(--xr-font-color2);\n",
              "}\n",
              "\n",
              ".xr-var-preview {\n",
              "  grid-column: 4;\n",
              "}\n",
              "\n",
              ".xr-var-name,\n",
              ".xr-var-dims,\n",
              ".xr-var-dtype,\n",
              ".xr-preview,\n",
              ".xr-attrs dt {\n",
              "  white-space: nowrap;\n",
              "  overflow: hidden;\n",
              "  text-overflow: ellipsis;\n",
              "  padding-right: 10px;\n",
              "}\n",
              "\n",
              ".xr-var-name:hover,\n",
              ".xr-var-dims:hover,\n",
              ".xr-var-dtype:hover,\n",
              ".xr-attrs dt:hover {\n",
              "  overflow: visible;\n",
              "  width: auto;\n",
              "  z-index: 1;\n",
              "}\n",
              "\n",
              ".xr-var-attrs,\n",
              ".xr-var-data {\n",
              "  display: none;\n",
              "  background-color: var(--xr-background-color) !important;\n",
              "  padding-bottom: 5px !important;\n",
              "}\n",
              "\n",
              ".xr-var-attrs-in:checked ~ .xr-var-attrs,\n",
              ".xr-var-data-in:checked ~ .xr-var-data {\n",
              "  display: block;\n",
              "}\n",
              "\n",
              ".xr-var-data > table {\n",
              "  float: right;\n",
              "}\n",
              "\n",
              ".xr-var-name span,\n",
              ".xr-var-data,\n",
              ".xr-attrs {\n",
              "  padding-left: 25px !important;\n",
              "}\n",
              "\n",
              ".xr-attrs,\n",
              ".xr-var-attrs,\n",
              ".xr-var-data {\n",
              "  grid-column: 1 / -1;\n",
              "}\n",
              "\n",
              "dl.xr-attrs {\n",
              "  padding: 0;\n",
              "  margin: 0;\n",
              "  display: grid;\n",
              "  grid-template-columns: 125px auto;\n",
              "}\n",
              "\n",
              ".xr-attrs dt,\n",
              ".xr-attrs dd {\n",
              "  padding: 0;\n",
              "  margin: 0;\n",
              "  float: left;\n",
              "  padding-right: 10px;\n",
              "  width: auto;\n",
              "}\n",
              "\n",
              ".xr-attrs dt {\n",
              "  font-weight: normal;\n",
              "  grid-column: 1;\n",
              "}\n",
              "\n",
              ".xr-attrs dt:hover span {\n",
              "  display: inline-block;\n",
              "  background: var(--xr-background-color);\n",
              "  padding-right: 10px;\n",
              "}\n",
              "\n",
              ".xr-attrs dd {\n",
              "  grid-column: 2;\n",
              "  white-space: pre-wrap;\n",
              "  word-break: break-all;\n",
              "}\n",
              "\n",
              ".xr-icon-database,\n",
              ".xr-icon-file-text2 {\n",
              "  display: inline-block;\n",
              "  vertical-align: middle;\n",
              "  width: 1em;\n",
              "  height: 1.5em !important;\n",
              "  stroke-width: 0;\n",
              "  stroke: currentColor;\n",
              "  fill: currentColor;\n",
              "}\n",
              "</style><pre class='xr-text-repr-fallback'>&lt;xarray.DataArray &#x27;tp&#x27; (latitude: 61, longitude: 71)&gt;\n",
              "array([[0.00065073, 0.00081906, 0.00097657, ..., 0.02456126, 0.03141354,\n",
              "        0.03903118],\n",
              "       [0.00079331, 0.00092269,        nan, ..., 0.02698475, 0.03336576,\n",
              "        0.03985469],\n",
              "       [0.00087453, 0.00089853, 0.00087326, ..., 0.02954748, 0.03597745,\n",
              "        0.04222843],\n",
              "       ...,\n",
              "       [       nan,        nan,        nan, ..., 0.01945709, 0.01942021,\n",
              "        0.01950795],\n",
              "       [       nan,        nan,        nan, ..., 0.01958203, 0.01961525,\n",
              "        0.01934217],\n",
              "       [       nan,        nan,        nan, ..., 0.01995635, 0.01965625,\n",
              "        0.01884704]], dtype=float32)\n",
              "Coordinates:\n",
              "  * longitude  (longitude) float32 72.0 72.1 72.2 72.3 ... 78.7 78.8 78.9 79.0\n",
              "  * latitude   (latitude) float32 22.0 21.9 21.8 21.7 ... 16.3 16.2 16.1 16.0</pre><div class='xr-wrap' hidden><div class='xr-header'><div class='xr-obj-type'>xarray.DataArray</div><div class='xr-array-name'>'tp'</div><ul class='xr-dim-list'><li><span class='xr-has-index'>latitude</span>: 61</li><li><span class='xr-has-index'>longitude</span>: 71</li></ul></div><ul class='xr-sections'><li class='xr-section-item'><div class='xr-array-wrap'><input id='section-51dc4c17-242d-443c-9e9a-2cde4a3fbcdc' class='xr-array-in' type='checkbox' checked><label for='section-51dc4c17-242d-443c-9e9a-2cde4a3fbcdc' title='Show/hide data repr'><svg class='icon xr-icon-database'><use xlink:href='#icon-database'></use></svg></label><div class='xr-array-preview xr-preview'><span>0.0006507 0.0008191 0.0009766 nan ... 0.02112 0.01996 0.01966 0.01885</span></div><div class='xr-array-data'><pre>array([[0.00065073, 0.00081906, 0.00097657, ..., 0.02456126, 0.03141354,\n",
              "        0.03903118],\n",
              "       [0.00079331, 0.00092269,        nan, ..., 0.02698475, 0.03336576,\n",
              "        0.03985469],\n",
              "       [0.00087453, 0.00089853, 0.00087326, ..., 0.02954748, 0.03597745,\n",
              "        0.04222843],\n",
              "       ...,\n",
              "       [       nan,        nan,        nan, ..., 0.01945709, 0.01942021,\n",
              "        0.01950795],\n",
              "       [       nan,        nan,        nan, ..., 0.01958203, 0.01961525,\n",
              "        0.01934217],\n",
              "       [       nan,        nan,        nan, ..., 0.01995635, 0.01965625,\n",
              "        0.01884704]], dtype=float32)</pre></div></div></li><li class='xr-section-item'><input id='section-ac8f45f7-2e0f-4bf1-905f-4533cfbf6504' class='xr-section-summary-in' type='checkbox'  checked><label for='section-ac8f45f7-2e0f-4bf1-905f-4533cfbf6504' class='xr-section-summary' >Coordinates: <span>(2)</span></label><div class='xr-section-inline-details'></div><div class='xr-section-details'><ul class='xr-var-list'><li class='xr-var-item'><div class='xr-var-name'><span class='xr-has-index'>longitude</span></div><div class='xr-var-dims'>(longitude)</div><div class='xr-var-dtype'>float32</div><div class='xr-var-preview xr-preview'>72.0 72.1 72.2 ... 78.8 78.9 79.0</div><input id='attrs-06c832d4-5b14-40b7-9e1c-afe695b0c0fd' class='xr-var-attrs-in' type='checkbox' ><label for='attrs-06c832d4-5b14-40b7-9e1c-afe695b0c0fd' title='Show/Hide attributes'><svg class='icon xr-icon-file-text2'><use xlink:href='#icon-file-text2'></use></svg></label><input id='data-4bfe59b5-ad3a-4fcb-8415-bf3b8dfac386' class='xr-var-data-in' type='checkbox'><label for='data-4bfe59b5-ad3a-4fcb-8415-bf3b8dfac386' title='Show/Hide data repr'><svg class='icon xr-icon-database'><use xlink:href='#icon-database'></use></svg></label><div class='xr-var-attrs'><dl class='xr-attrs'><dt><span>units :</span></dt><dd>degrees_east</dd><dt><span>long_name :</span></dt><dd>longitude</dd></dl></div><div class='xr-var-data'><pre>array([72. , 72.1, 72.2, 72.3, 72.4, 72.5, 72.6, 72.7, 72.8, 72.9, 73. , 73.1,\n",
              "       73.2, 73.3, 73.4, 73.5, 73.6, 73.7, 73.8, 73.9, 74. , 74.1, 74.2, 74.3,\n",
              "       74.4, 74.5, 74.6, 74.7, 74.8, 74.9, 75. , 75.1, 75.2, 75.3, 75.4, 75.5,\n",
              "       75.6, 75.7, 75.8, 75.9, 76. , 76.1, 76.2, 76.3, 76.4, 76.5, 76.6, 76.7,\n",
              "       76.8, 76.9, 77. , 77.1, 77.2, 77.3, 77.4, 77.5, 77.6, 77.7, 77.8, 77.9,\n",
              "       78. , 78.1, 78.2, 78.3, 78.4, 78.5, 78.6, 78.7, 78.8, 78.9, 79. ],\n",
              "      dtype=float32)</pre></div></li><li class='xr-var-item'><div class='xr-var-name'><span class='xr-has-index'>latitude</span></div><div class='xr-var-dims'>(latitude)</div><div class='xr-var-dtype'>float32</div><div class='xr-var-preview xr-preview'>22.0 21.9 21.8 ... 16.2 16.1 16.0</div><input id='attrs-e5529d95-fdea-4807-859d-15129c98101f' class='xr-var-attrs-in' type='checkbox' ><label for='attrs-e5529d95-fdea-4807-859d-15129c98101f' title='Show/Hide attributes'><svg class='icon xr-icon-file-text2'><use xlink:href='#icon-file-text2'></use></svg></label><input id='data-47ee6ea3-0131-4e6b-b973-6358c8d50fee' class='xr-var-data-in' type='checkbox'><label for='data-47ee6ea3-0131-4e6b-b973-6358c8d50fee' title='Show/Hide data repr'><svg class='icon xr-icon-database'><use xlink:href='#icon-database'></use></svg></label><div class='xr-var-attrs'><dl class='xr-attrs'><dt><span>units :</span></dt><dd>degrees_north</dd><dt><span>long_name :</span></dt><dd>latitude</dd></dl></div><div class='xr-var-data'><pre>array([22. , 21.9, 21.8, 21.7, 21.6, 21.5, 21.4, 21.3, 21.2, 21.1, 21. , 20.9,\n",
              "       20.8, 20.7, 20.6, 20.5, 20.4, 20.3, 20.2, 20.1, 20. , 19.9, 19.8, 19.7,\n",
              "       19.6, 19.5, 19.4, 19.3, 19.2, 19.1, 19. , 18.9, 18.8, 18.7, 18.6, 18.5,\n",
              "       18.4, 18.3, 18.2, 18.1, 18. , 17.9, 17.8, 17.7, 17.6, 17.5, 17.4, 17.3,\n",
              "       17.2, 17.1, 17. , 16.9, 16.8, 16.7, 16.6, 16.5, 16.4, 16.3, 16.2, 16.1,\n",
              "       16. ], dtype=float32)</pre></div></li></ul></div></li><li class='xr-section-item'><input id='section-26ba1e47-34ef-4aec-87eb-a8f99b5b707a' class='xr-section-summary-in' type='checkbox' disabled ><label for='section-26ba1e47-34ef-4aec-87eb-a8f99b5b707a' class='xr-section-summary'  title='Expand/collapse section'>Attributes: <span>(0)</span></label><div class='xr-section-inline-details'></div><div class='xr-section-details'><dl class='xr-attrs'></dl></div></li></ul></div></div>"
            ],
            "text/plain": [
              "<xarray.DataArray 'tp' (latitude: 61, longitude: 71)>\n",
              "array([[0.00065073, 0.00081906, 0.00097657, ..., 0.02456126, 0.03141354,\n",
              "        0.03903118],\n",
              "       [0.00079331, 0.00092269,        nan, ..., 0.02698475, 0.03336576,\n",
              "        0.03985469],\n",
              "       [0.00087453, 0.00089853, 0.00087326, ..., 0.02954748, 0.03597745,\n",
              "        0.04222843],\n",
              "       ...,\n",
              "       [       nan,        nan,        nan, ..., 0.01945709, 0.01942021,\n",
              "        0.01950795],\n",
              "       [       nan,        nan,        nan, ..., 0.01958203, 0.01961525,\n",
              "        0.01934217],\n",
              "       [       nan,        nan,        nan, ..., 0.01995635, 0.01965625,\n",
              "        0.01884704]], dtype=float32)\n",
              "Coordinates:\n",
              "  * longitude  (longitude) float32 72.0 72.1 72.2 72.3 ... 78.7 78.8 78.9 79.0\n",
              "  * latitude   (latitude) float32 22.0 21.9 21.8 21.7 ... 16.3 16.2 16.1 16.0"
            ]
          },
          "execution_count": 19,
          "metadata": {},
          "output_type": "execute_result"
        }
      ],
      "source": [
        "# get the mean daily precipitation for tp_2021\n",
        "tp_2021_mean = tp_2021.mean(dim='time')\n",
        "tp_2021_mean"
      ]
    },
    {
      "cell_type": "markdown",
      "metadata": {
        "id": "2WaRRwD80Dtu"
      },
      "source": [
        "#### Plot on the map"
      ]
    },
    {
      "cell_type": "code",
      "execution_count": 20,
      "metadata": {
        "colab": {
          "base_uri": "https://localhost:8080/",
          "height": 296
        },
        "id": "C4kxhJpGs2_s",
        "outputId": "a6966813-643c-42f4-97d8-ed23041572d6"
      },
      "outputs": [
        {
          "data": {
            "image/png": "[encoded data removed]",
            "text/plain": [
              "<Figure size 432x288 with 2 Axes>"
            ]
          },
          "metadata": {
            "needs_background": "light"
          },
          "output_type": "display_data"
        }
      ],
      "source": [
        "tp_2021_max.plot(cmap='Blues_r')\n",
        "plt.title('Max Daily Precipitation for 2021')\n",
        "plt.show()"
      ]
    },
    {
      "cell_type": "markdown",
      "metadata": {
        "id": "l-XI-5G6tuTz"
      },
      "source": [
        "- The values where we see white space is the coastline of Maharashtra. \n",
        "- The most average daily precipitation that we see is in the middle and the west part of the plot. That's the Konkan area. "
      ]
    },
    {
      "cell_type": "code",
      "execution_count": 21,
      "metadata": {
        "colab": {
          "base_uri": "https://localhost:8080/",
          "height": 296
        },
        "id": "72_wQx548nPB",
        "outputId": "adaac581-ebd5-4760-9401-5d6c48389a3b"
      },
      "outputs": [
        {
          "data": {
            "image/png": "[encoded data removed]",
            "text/plain": [
              "<Figure size 432x288 with 2 Axes>"
            ]
          },
          "metadata": {
            "needs_background": "light"
          },
          "output_type": "display_data"
        }
      ],
      "source": [
        "# plot the mean daily precipitation for tp_2021\n",
        "tp_2021_mean.plot(cmap='Blues_r')\n",
        "plt.title('Mean Daily Precipitation for 2021')\n",
        "plt.show()\n"
      ]
    },
    {
      "cell_type": "code",
      "execution_count": 22,
      "metadata": {
        "id": "aoNdVpGmAMCE"
      },
      "outputs": [],
      "source": [
        "# max sp for 2021\n",
        "sp_2021 = data_2021.sp.sel(time=data_2021.time.dt.month == 7).sel(time=data_2021.time.dt.day == 22)\n",
        "sp_2021_max = sp_2021.max(dim='time')\n",
        "\n",
        "# mean sp for 2021\n",
        "sp_2021_mean = sp_2021.mean(dim='time')\n",
        "\n",
        "# max t2m for 2021\n",
        "t2m_2021 = data_2021.t2m.sel(time=data_2021.time.dt.month == 7).sel(time=data_2021.time.dt.day == 22)\n",
        "t2m_2021_max = t2m_2021.max(dim='time')\n",
        "\n",
        "# mean t2m for 2021\n",
        "t2m_2021_mean = t2m_2021.mean(dim='time')\n",
        "\n",
        "# max v10 for 2021\n",
        "v10_2021 = data_2021.v10.sel(time=data_2021.time.dt.month == 7).sel(time=data_2021.time.dt.day == 22)\n",
        "v10_2021_max = v10_2021.max(dim='time')\n",
        "\n",
        "# mean v10 for 2021\n",
        "v10_2021_mean = v10_2021.mean(dim='time')\n",
        "\n",
        "# max ssr for 2021\n",
        "ssr_2021 = data_2021.ssr.sel(time=data_2021.time.dt.month == 7).sel(time=data_2021.time.dt.day == 22)\n",
        "ssr_2021_max = ssr_2021.max(dim='time')\n",
        "\n",
        "# mean ssr for 2021\n",
        "ssr_2021_mean = ssr_2021.mean(dim='time')\n",
        "\n"
      ]
    },
    {
      "cell_type": "code",
      "execution_count": 23,
      "metadata": {
        "id": "lJy1ZI0KAPlG"
      },
      "outputs": [],
      "source": [
        "# different color maps for ssr, sp, t2m, v10\n",
        "cmap_ssr = plt.cm.get_cmap('Oranges_r')\n",
        "cmap_v10 = plt.cm.get_cmap('gist_rainbow_r')\n",
        "cmap_t2m = plt.cm.get_cmap('magma_r')\n",
        "cmap_sp = plt.cm.get_cmap('autumn_r')\n"
      ]
    },
    {
      "cell_type": "code",
      "execution_count": 24,
      "metadata": {
        "colab": {
          "base_uri": "https://localhost:8080/",
          "height": 296
        },
        "id": "iYrdRz2LAonb",
        "outputId": "b039e23c-b837-4740-f1d6-a85f9117b0a6"
      },
      "outputs": [
        {
          "data": {
            "image/png": "[encoded data removed]",
            "text/plain": [
              "<Figure size 432x288 with 2 Axes>"
            ]
          },
          "metadata": {
            "needs_background": "light"
          },
          "output_type": "display_data"
        }
      ],
      "source": [
        "# plot max ssr for 2021\n",
        "ssr_2021_max.plot(cmap=cmap_ssr)\n",
        "plt.title('Max SSR for 2021')\n",
        "plt.show()\n"
      ]
    },
    {
      "cell_type": "code",
      "execution_count": 25,
      "metadata": {
        "colab": {
          "base_uri": "https://localhost:8080/",
          "height": 296
        },
        "id": "2E6Vx5iEAqFl",
        "outputId": "69fdd8e0-11a7-49be-e2f2-1dd44081ffc1"
      },
      "outputs": [
        {
          "data": {
            "image/png": "[encoded data removed]",
            "text/plain": [
              "<Figure size 432x288 with 2 Axes>"
            ]
          },
          "metadata": {
            "needs_background": "light"
          },
          "output_type": "display_data"
        }
      ],
      "source": [
        "# plot mean ssr for 2021\n",
        "ssr_2021_mean.plot(cmap=cmap_ssr)\n",
        "plt.title('Mean SSR for 2021')\n",
        "plt.show()\n"
      ]
    },
    {
      "cell_type": "markdown",
      "metadata": {},
      "source": [
        "- The net solar radiation was around $0.2-0.4$ $W/m^2$, which was not much, as compared to the other parts."
      ]
    },
    {
      "cell_type": "code",
      "execution_count": 26,
      "metadata": {
        "colab": {
          "base_uri": "https://localhost:8080/",
          "height": 296
        },
        "id": "rDHSXSOzAsx1",
        "outputId": "4df1e9f1-55b1-4d5d-9177-985291a797a1"
      },
      "outputs": [
        {
          "data": {
            "image/png": "[encoded data removed]",
            "text/plain": [
              "<Figure size 432x288 with 2 Axes>"
            ]
          },
          "metadata": {
            "needs_background": "light"
          },
          "output_type": "display_data"
        }
      ],
      "source": [
        "# plot max t2m for 2021\n",
        "t2m_2021_max.plot(cmap=cmap_t2m)\n",
        "plt.title('Max T2M for 2021')\n",
        "plt.show()\n",
        "\n"
      ]
    },
    {
      "cell_type": "code",
      "execution_count": 27,
      "metadata": {
        "colab": {
          "base_uri": "https://localhost:8080/",
          "height": 296
        },
        "id": "2UICQOSaAuYT",
        "outputId": "9f94ed42-04bc-4556-dc22-d97ae7318d12"
      },
      "outputs": [
        {
          "data": {
            "image/png": "[encoded data removed]",
            "text/plain": [
              "<Figure size 432x288 with 2 Axes>"
            ]
          },
          "metadata": {
            "needs_background": "light"
          },
          "output_type": "display_data"
        }
      ],
      "source": [
        "# plot mean t2m for 2021\n",
        "t2m_2021_mean.plot(cmap=cmap_t2m)\n",
        "plt.title('Mean T2M for 2021')\n",
        "plt.show()\n"
      ]
    },
    {
      "cell_type": "markdown",
      "metadata": {},
      "source": [
        "- The temperature of air at 2m above the surface of the western part of Maharashtra was between $296-298$ K, expected since it was colder (told by my parents)."
      ]
    },
    {
      "cell_type": "code",
      "execution_count": 28,
      "metadata": {
        "colab": {
          "base_uri": "https://localhost:8080/",
          "height": 296
        },
        "id": "n9Va5lT3Av1c",
        "outputId": "a9627081-5f3f-4592-b3c2-0b0c830eca91"
      },
      "outputs": [
        {
          "data": {
            "image/png": "[encoded data removed]",
            "text/plain": [
              "<Figure size 432x288 with 2 Axes>"
            ]
          },
          "metadata": {
            "needs_background": "light"
          },
          "output_type": "display_data"
        }
      ],
      "source": [
        "# plot max v10 for 2021\n",
        "v10_2021_max.plot(cmap=cmap_v10)\n",
        "plt.title('Max V10 for 2021')\n",
        "plt.show()\n"
      ]
    },
    {
      "cell_type": "code",
      "execution_count": 29,
      "metadata": {
        "colab": {
          "base_uri": "https://localhost:8080/",
          "height": 296
        },
        "id": "_mKNeHEIAxPv",
        "outputId": "546507b0-dfc3-41dd-9f63-80caa0fcc906"
      },
      "outputs": [
        {
          "data": {
            "image/png": "[encoded data removed]",
            "text/plain": [
              "<Figure size 432x288 with 2 Axes>"
            ]
          },
          "metadata": {
            "needs_background": "light"
          },
          "output_type": "display_data"
        }
      ],
      "source": [
        "# plot mean v10 for 2021\n",
        "v10_2021_mean.plot(cmap=cmap_v10)\n",
        "plt.title('Mean V10 for 2021')\n",
        "plt.show()\n"
      ]
    },
    {
      "cell_type": "markdown",
      "metadata": {},
      "source": [
        "- The wind speed was almost close 0 $m/s$ on the western part of Maharashtra, where Mahad is. "
      ]
    },
    {
      "cell_type": "code",
      "execution_count": 30,
      "metadata": {
        "colab": {
          "base_uri": "https://localhost:8080/",
          "height": 296
        },
        "id": "W3y8K_WIAyny",
        "outputId": "11a74bad-0f8e-4175-a95c-2e8d0a0928cf"
      },
      "outputs": [
        {
          "data": {
            "image/png": "[encoded data removed]",
            "text/plain": [
              "<Figure size 432x288 with 2 Axes>"
            ]
          },
          "metadata": {
            "needs_background": "light"
          },
          "output_type": "display_data"
        }
      ],
      "source": [
        "# plot max sp for 2021\n",
        "sp_2021_max.plot(cmap=cmap_sp)\n",
        "plt.title('Max SP for 2021')\n",
        "plt.show()\n"
      ]
    },
    {
      "cell_type": "code",
      "execution_count": 31,
      "metadata": {
        "colab": {
          "base_uri": "https://localhost:8080/",
          "height": 296
        },
        "id": "JqmDSLT6Azzp",
        "outputId": "7a6e49db-13e6-43b0-c915-c678470e6bec"
      },
      "outputs": [
        {
          "data": {
            "image/png": "[encoded data removed]",
            "text/plain": [
              "<Figure size 432x288 with 2 Axes>"
            ]
          },
          "metadata": {
            "needs_background": "light"
          },
          "output_type": "display_data"
        }
      ],
      "source": [
        "# plot mean sp for 2021\n",
        "sp_2021_mean.plot(cmap=cmap_sp)\n",
        "plt.title('Mean SP for 2021')\n",
        "plt.show()\n"
      ]
    },
    {
      "cell_type": "markdown",
      "metadata": {},
      "source": [
        "- The surface pressure could be seen more on the western part of Maharashtra, where Mahad is. "
      ]
    },
    {
      "cell_type": "markdown",
      "metadata": {
        "id": "pqJYyIxSv6AF"
      },
      "source": [
        "## Daily Precipitation data at the gridpoint nearest Mahad (latitude: 18.1, longitude: 73.4)"
      ]
    },
    {
      "cell_type": "code",
      "execution_count": 32,
      "metadata": {
        "colab": {
          "base_uri": "https://localhost:8080/"
        },
        "id": "IEYbVnWwtskp",
        "outputId": "501a1fae-12b0-44ab-fc01-8dd18c8c72ce"
      },
      "outputs": [
        {
          "name": "stdout",
          "output_type": "stream",
          "text": [
            "The latitude index of the nearest gridpoint to Mahad is: 39\n",
            "The longitude index of the nearest gridpoint to Mahad is: 14\n"
          ]
        }
      ],
      "source": [
        "lat = data.latitude.values\n",
        "lon = data.longitude.values\n",
        "# Find the indices of the nearest gridpoint to Mahad. Save these indices to new variables, and print out the values. \n",
        "lat_mahad = 18.1\n",
        "# longitude of mahad in eastward\n",
        "lon_mahad = 73.4\n",
        "# find the indices of the nearest gridpoint to mahad\n",
        "lat_ind = np.abs(lat - lat_mahad).argmin()\n",
        "lon_ind = np.abs(lon - lon_mahad).argmin()\n",
        "# print the values of the indices\n",
        "print(f\"The latitude index of the nearest gridpoint to Mahad is: {lat_ind}\")\n",
        "print(f\"The longitude index of the nearest gridpoint to Mahad is: {lon_ind}\")\n"
      ]
    },
    {
      "cell_type": "markdown",
      "metadata": {
        "id": "kKhIk-Ex0Ld7"
      },
      "source": [
        "### Lat/long of that gridpoint"
      ]
    },
    {
      "cell_type": "code",
      "execution_count": 33,
      "metadata": {
        "colab": {
          "base_uri": "https://localhost:8080/"
        },
        "id": "Bup1JaD0v8eN",
        "outputId": "eea76c64-9787-4253-a58d-129399da4a11"
      },
      "outputs": [
        {
          "name": "stdout",
          "output_type": "stream",
          "text": [
            "The corresponding lat/lon of that gridpoint is: 18.100000381469727, 73.4000015258789\n"
          ]
        }
      ],
      "source": [
        "# Print the corresponding lat/lon of that gridpoint.\n",
        "print(f\"The corresponding lat/lon of that gridpoint is: {lat[lat_ind]}, {lon[lon_ind]}\")"
      ]
    },
    {
      "cell_type": "markdown",
      "metadata": {
        "id": "BjsH2NZi0QdR"
      },
      "source": [
        "### data_mahad"
      ]
    },
    {
      "cell_type": "code",
      "execution_count": 34,
      "metadata": {
        "colab": {
          "base_uri": "https://localhost:8080/",
          "height": 415
        },
        "id": "hk0yoQ03wIz4",
        "outputId": "af041f06-45d0-4d47-e189-156fd2a957be"
      },
      "outputs": [
        {
          "data": {
            "text/html": [
              "<div><svg style=\"position: absolute; width: 0; height: 0; overflow: hidden\">\n",
              "<defs>\n",
              "<symbol id=\"icon-database\" viewBox=\"0 0 32 32\">\n",
              "<path d=\"M16 0c-8.837 0-16 2.239-16 5v4c0 2.761 7.163 5 16 5s16-2.239 16-5v-4c0-2.761-7.163-5-16-5z\"></path>\n",
              "<path d=\"M16 17c-8.837 0-16-2.239-16-5v6c0 2.761 7.163 5 16 5s16-2.239 16-5v-6c0 2.761-7.163 5-16 5z\"></path>\n",
              "<path d=\"M16 26c-8.837 0-16-2.239-16-5v6c0 2.761 7.163 5 16 5s16-2.239 16-5v-6c0 2.761-7.163 5-16 5z\"></path>\n",
              "</symbol>\n",
              "<symbol id=\"icon-file-text2\" viewBox=\"0 0 32 32\">\n",
              "<path d=\"M28.681 7.159c-0.694-0.947-1.662-2.053-2.724-3.116s-2.169-2.030-3.116-2.724c-1.612-1.182-2.393-1.319-2.841-1.319h-15.5c-1.378 0-2.5 1.121-2.5 2.5v27c0 1.378 1.122 2.5 2.5 2.5h23c1.378 0 2.5-1.122 2.5-2.5v-19.5c0-0.448-0.137-1.23-1.319-2.841zM24.543 5.457c0.959 0.959 1.712 1.825 2.268 2.543h-4.811v-4.811c0.718 0.556 1.584 1.309 2.543 2.268zM28 29.5c0 0.271-0.229 0.5-0.5 0.5h-23c-0.271 0-0.5-0.229-0.5-0.5v-27c0-0.271 0.229-0.5 0.5-0.5 0 0 15.499-0 15.5 0v7c0 0.552 0.448 1 1 1h7v19.5z\"></path>\n",
              "<path d=\"M23 26h-14c-0.552 0-1-0.448-1-1s0.448-1 1-1h14c0.552 0 1 0.448 1 1s-0.448 1-1 1z\"></path>\n",
              "<path d=\"M23 22h-14c-0.552 0-1-0.448-1-1s0.448-1 1-1h14c0.552 0 1 0.448 1 1s-0.448 1-1 1z\"></path>\n",
              "<path d=\"M23 18h-14c-0.552 0-1-0.448-1-1s0.448-1 1-1h14c0.552 0 1 0.448 1 1s-0.448 1-1 1z\"></path>\n",
              "</symbol>\n",
              "</defs>\n",
              "</svg>\n",
              "<style>/* CSS stylesheet for displaying xarray objects in jupyterlab.\n",
              " *\n",
              " */\n",
              "\n",
              ":root {\n",
              "  --xr-font-color0: var(--jp-content-font-color0, rgba(0, 0, 0, 1));\n",
              "  --xr-font-color2: var(--jp-content-font-color2, rgba(0, 0, 0, 0.54));\n",
              "  --xr-font-color3: var(--jp-content-font-color3, rgba(0, 0, 0, 0.38));\n",
              "  --xr-border-color: var(--jp-border-color2, #e0e0e0);\n",
              "  --xr-disabled-color: var(--jp-layout-color3, #bdbdbd);\n",
              "  --xr-background-color: var(--jp-layout-color0, white);\n",
              "  --xr-background-color-row-even: var(--jp-layout-color1, white);\n",
              "  --xr-background-color-row-odd: var(--jp-layout-color2, #eeeeee);\n",
              "}\n",
              "\n",
              "html[theme=dark],\n",
              "body.vscode-dark {\n",
              "  --xr-font-color0: rgba(255, 255, 255, 1);\n",
              "  --xr-font-color2: rgba(255, 255, 255, 0.54);\n",
              "  --xr-font-color3: rgba(255, 255, 255, 0.38);\n",
              "  --xr-border-color: #1F1F1F;\n",
              "  --xr-disabled-color: #515151;\n",
              "  --xr-background-color: #111111;\n",
              "  --xr-background-color-row-even: #111111;\n",
              "  --xr-background-color-row-odd: #313131;\n",
              "}\n",
              "\n",
              ".xr-wrap {\n",
              "  display: block;\n",
              "  min-width: 300px;\n",
              "  max-width: 700px;\n",
              "}\n",
              "\n",
              ".xr-text-repr-fallback {\n",
              "  /* fallback to plain text repr when CSS is not injected (untrusted notebook) */\n",
              "  display: none;\n",
              "}\n",
              "\n",
              ".xr-header {\n",
              "  padding-top: 6px;\n",
              "  padding-bottom: 6px;\n",
              "  margin-bottom: 4px;\n",
              "  border-bottom: solid 1px var(--xr-border-color);\n",
              "}\n",
              "\n",
              ".xr-header > div,\n",
              ".xr-header > ul {\n",
              "  display: inline;\n",
              "  margin-top: 0;\n",
              "  margin-bottom: 0;\n",
              "}\n",
              "\n",
              ".xr-obj-type,\n",
              ".xr-array-name {\n",
              "  margin-left: 2px;\n",
              "  margin-right: 10px;\n",
              "}\n",
              "\n",
              ".xr-obj-type {\n",
              "  color: var(--xr-font-color2);\n",
              "}\n",
              "\n",
              ".xr-sections {\n",
              "  padding-left: 0 !important;\n",
              "  display: grid;\n",
              "  grid-template-columns: 150px auto auto 1fr 20px 20px;\n",
              "}\n",
              "\n",
              ".xr-section-item {\n",
              "  display: contents;\n",
              "}\n",
              "\n",
              ".xr-section-item input {\n",
              "  display: none;\n",
              "}\n",
              "\n",
              ".xr-section-item input + label {\n",
              "  color: var(--xr-disabled-color);\n",
              "}\n",
              "\n",
              ".xr-section-item input:enabled + label {\n",
              "  cursor: pointer;\n",
              "  color: var(--xr-font-color2);\n",
              "}\n",
              "\n",
              ".xr-section-item input:enabled + label:hover {\n",
              "  color: var(--xr-font-color0);\n",
              "}\n",
              "\n",
              ".xr-section-summary {\n",
              "  grid-column: 1;\n",
              "  color: var(--xr-font-color2);\n",
              "  font-weight: 500;\n",
              "}\n",
              "\n",
              ".xr-section-summary > span {\n",
              "  display: inline-block;\n",
              "  padding-left: 0.5em;\n",
              "}\n",
              "\n",
              ".xr-section-summary-in:disabled + label {\n",
              "  color: var(--xr-font-color2);\n",
              "}\n",
              "\n",
              ".xr-section-summary-in + label:before {\n",
              "  display: inline-block;\n",
              "  content: '►';\n",
              "  font-size: 11px;\n",
              "  width: 15px;\n",
              "  text-align: center;\n",
              "}\n",
              "\n",
              ".xr-section-summary-in:disabled + label:before {\n",
              "  color: var(--xr-disabled-color);\n",
              "}\n",
              "\n",
              ".xr-section-summary-in:checked + label:before {\n",
              "  content: '▼';\n",
              "}\n",
              "\n",
              ".xr-section-summary-in:checked + label > span {\n",
              "  display: none;\n",
              "}\n",
              "\n",
              ".xr-section-summary,\n",
              ".xr-section-inline-details {\n",
              "  padding-top: 4px;\n",
              "  padding-bottom: 4px;\n",
              "}\n",
              "\n",
              ".xr-section-inline-details {\n",
              "  grid-column: 2 / -1;\n",
              "}\n",
              "\n",
              ".xr-section-details {\n",
              "  display: none;\n",
              "  grid-column: 1 / -1;\n",
              "  margin-bottom: 5px;\n",
              "}\n",
              "\n",
              ".xr-section-summary-in:checked ~ .xr-section-details {\n",
              "  display: contents;\n",
              "}\n",
              "\n",
              ".xr-array-wrap {\n",
              "  grid-column: 1 / -1;\n",
              "  display: grid;\n",
              "  grid-template-columns: 20px auto;\n",
              "}\n",
              "\n",
              ".xr-array-wrap > label {\n",
              "  grid-column: 1;\n",
              "  vertical-align: top;\n",
              "}\n",
              "\n",
              ".xr-preview {\n",
              "  color: var(--xr-font-color3);\n",
              "}\n",
              "\n",
              ".xr-array-preview,\n",
              ".xr-array-data {\n",
              "  padding: 0 5px !important;\n",
              "  grid-column: 2;\n",
              "}\n",
              "\n",
              ".xr-array-data,\n",
              ".xr-array-in:checked ~ .xr-array-preview {\n",
              "  display: none;\n",
              "}\n",
              "\n",
              ".xr-array-in:checked ~ .xr-array-data,\n",
              ".xr-array-preview {\n",
              "  display: inline-block;\n",
              "}\n",
              "\n",
              ".xr-dim-list {\n",
              "  display: inline-block !important;\n",
              "  list-style: none;\n",
              "  padding: 0 !important;\n",
              "  margin: 0;\n",
              "}\n",
              "\n",
              ".xr-dim-list li {\n",
              "  display: inline-block;\n",
              "  padding: 0;\n",
              "  margin: 0;\n",
              "}\n",
              "\n",
              ".xr-dim-list:before {\n",
              "  content: '(';\n",
              "}\n",
              "\n",
              ".xr-dim-list:after {\n",
              "  content: ')';\n",
              "}\n",
              "\n",
              ".xr-dim-list li:not(:last-child):after {\n",
              "  content: ',';\n",
              "  padding-right: 5px;\n",
              "}\n",
              "\n",
              ".xr-has-index {\n",
              "  font-weight: bold;\n",
              "}\n",
              "\n",
              ".xr-var-list,\n",
              ".xr-var-item {\n",
              "  display: contents;\n",
              "}\n",
              "\n",
              ".xr-var-item > div,\n",
              ".xr-var-item label,\n",
              ".xr-var-item > .xr-var-name span {\n",
              "  background-color: var(--xr-background-color-row-even);\n",
              "  margin-bottom: 0;\n",
              "}\n",
              "\n",
              ".xr-var-item > .xr-var-name:hover span {\n",
              "  padding-right: 5px;\n",
              "}\n",
              "\n",
              ".xr-var-list > li:nth-child(odd) > div,\n",
              ".xr-var-list > li:nth-child(odd) > label,\n",
              ".xr-var-list > li:nth-child(odd) > .xr-var-name span {\n",
              "  background-color: var(--xr-background-color-row-odd);\n",
              "}\n",
              "\n",
              ".xr-var-name {\n",
              "  grid-column: 1;\n",
              "}\n",
              "\n",
              ".xr-var-dims {\n",
              "  grid-column: 2;\n",
              "}\n",
              "\n",
              ".xr-var-dtype {\n",
              "  grid-column: 3;\n",
              "  text-align: right;\n",
              "  color: var(--xr-font-color2);\n",
              "}\n",
              "\n",
              ".xr-var-preview {\n",
              "  grid-column: 4;\n",
              "}\n",
              "\n",
              ".xr-var-name,\n",
              ".xr-var-dims,\n",
              ".xr-var-dtype,\n",
              ".xr-preview,\n",
              ".xr-attrs dt {\n",
              "  white-space: nowrap;\n",
              "  overflow: hidden;\n",
              "  text-overflow: ellipsis;\n",
              "  padding-right: 10px;\n",
              "}\n",
              "\n",
              ".xr-var-name:hover,\n",
              ".xr-var-dims:hover,\n",
              ".xr-var-dtype:hover,\n",
              ".xr-attrs dt:hover {\n",
              "  overflow: visible;\n",
              "  width: auto;\n",
              "  z-index: 1;\n",
              "}\n",
              "\n",
              ".xr-var-attrs,\n",
              ".xr-var-data {\n",
              "  display: none;\n",
              "  background-color: var(--xr-background-color) !important;\n",
              "  padding-bottom: 5px !important;\n",
              "}\n",
              "\n",
              ".xr-var-attrs-in:checked ~ .xr-var-attrs,\n",
              ".xr-var-data-in:checked ~ .xr-var-data {\n",
              "  display: block;\n",
              "}\n",
              "\n",
              ".xr-var-data > table {\n",
              "  float: right;\n",
              "}\n",
              "\n",
              ".xr-var-name span,\n",
              ".xr-var-data,\n",
              ".xr-attrs {\n",
              "  padding-left: 25px !important;\n",
              "}\n",
              "\n",
              ".xr-attrs,\n",
              ".xr-var-attrs,\n",
              ".xr-var-data {\n",
              "  grid-column: 1 / -1;\n",
              "}\n",
              "\n",
              "dl.xr-attrs {\n",
              "  padding: 0;\n",
              "  margin: 0;\n",
              "  display: grid;\n",
              "  grid-template-columns: 125px auto;\n",
              "}\n",
              "\n",
              ".xr-attrs dt,\n",
              ".xr-attrs dd {\n",
              "  padding: 0;\n",
              "  margin: 0;\n",
              "  float: left;\n",
              "  padding-right: 10px;\n",
              "  width: auto;\n",
              "}\n",
              "\n",
              ".xr-attrs dt {\n",
              "  font-weight: normal;\n",
              "  grid-column: 1;\n",
              "}\n",
              "\n",
              ".xr-attrs dt:hover span {\n",
              "  display: inline-block;\n",
              "  background: var(--xr-background-color);\n",
              "  padding-right: 10px;\n",
              "}\n",
              "\n",
              ".xr-attrs dd {\n",
              "  grid-column: 2;\n",
              "  white-space: pre-wrap;\n",
              "  word-break: break-all;\n",
              "}\n",
              "\n",
              ".xr-icon-database,\n",
              ".xr-icon-file-text2 {\n",
              "  display: inline-block;\n",
              "  vertical-align: middle;\n",
              "  width: 1em;\n",
              "  height: 1.5em !important;\n",
              "  stroke-width: 0;\n",
              "  stroke: currentColor;\n",
              "  fill: currentColor;\n",
              "}\n",
              "</style><pre class='xr-text-repr-fallback'>&lt;xarray.Dataset&gt;\n",
              "Dimensions:    (time: 792)\n",
              "Coordinates:\n",
              "    longitude  float32 73.4\n",
              "    latitude   float32 18.1\n",
              "  * time       (time) datetime64[ns] 2019-07-14 ... 2021-07-24T23:00:00\n",
              "Data variables:\n",
              "    v10        (time) float32 1.36 1.185 1.429 1.556 ... 1.346 1.259 1.416 1.26\n",
              "    t2m        (time) float32 297.5 297.5 298.0 298.2 ... 297.6 297.4 297.1\n",
              "    ssr        (time) float32 1.141e+07 6.582e+03 ... 9.002e+06 9.002e+06\n",
              "    sp         (time) float32 1.003e+05 1.003e+05 ... 9.993e+04 9.995e+04\n",
              "    tp         (time) float32 0.01479 0.0007439 0.001312 ... 0.0199 0.02092\n",
              "Attributes:\n",
              "    Conventions:  CF-1.6\n",
              "    history:      2022-03-23 20:02:03 GMT by grib_to_netcdf-2.24.3: /opt/ecmw...</pre><div class='xr-wrap' hidden><div class='xr-header'><div class='xr-obj-type'>xarray.Dataset</div></div><ul class='xr-sections'><li class='xr-section-item'><input id='section-71b5aeee-9bf2-4be3-9bd7-f3be151f13b8' class='xr-section-summary-in' type='checkbox' disabled ><label for='section-71b5aeee-9bf2-4be3-9bd7-f3be151f13b8' class='xr-section-summary'  title='Expand/collapse section'>Dimensions:</label><div class='xr-section-inline-details'><ul class='xr-dim-list'><li><span class='xr-has-index'>time</span>: 792</li></ul></div><div class='xr-section-details'></div></li><li class='xr-section-item'><input id='section-3fc4ed0b-cce1-44ee-b5ee-0a3c787a1f37' class='xr-section-summary-in' type='checkbox'  checked><label for='section-3fc4ed0b-cce1-44ee-b5ee-0a3c787a1f37' class='xr-section-summary' >Coordinates: <span>(3)</span></label><div class='xr-section-inline-details'></div><div class='xr-section-details'><ul class='xr-var-list'><li class='xr-var-item'><div class='xr-var-name'><span>longitude</span></div><div class='xr-var-dims'>()</div><div class='xr-var-dtype'>float32</div><div class='xr-var-preview xr-preview'>73.4</div><input id='attrs-df0fd8bc-4aab-41d0-9db5-8357538bfffc' class='xr-var-attrs-in' type='checkbox' ><label for='attrs-df0fd8bc-4aab-41d0-9db5-8357538bfffc' title='Show/Hide attributes'><svg class='icon xr-icon-file-text2'><use xlink:href='#icon-file-text2'></use></svg></label><input id='data-b088a8cd-b583-4693-afb4-b9c2b4ef878a' class='xr-var-data-in' type='checkbox'><label for='data-b088a8cd-b583-4693-afb4-b9c2b4ef878a' title='Show/Hide data repr'><svg class='icon xr-icon-database'><use xlink:href='#icon-database'></use></svg></label><div class='xr-var-attrs'><dl class='xr-attrs'><dt><span>units :</span></dt><dd>degrees_east</dd><dt><span>long_name :</span></dt><dd>longitude</dd></dl></div><div class='xr-var-data'><pre>array(73.4, dtype=float32)</pre></div></li><li class='xr-var-item'><div class='xr-var-name'><span>latitude</span></div><div class='xr-var-dims'>()</div><div class='xr-var-dtype'>float32</div><div class='xr-var-preview xr-preview'>18.1</div><input id='attrs-45d02c8d-d7f6-4442-8df6-ce36a34201ea' class='xr-var-attrs-in' type='checkbox' ><label for='attrs-45d02c8d-d7f6-4442-8df6-ce36a34201ea' title='Show/Hide attributes'><svg class='icon xr-icon-file-text2'><use xlink:href='#icon-file-text2'></use></svg></label><input id='data-6dfb20c8-ee20-4d69-abf3-892f78a0f8e7' class='xr-var-data-in' type='checkbox'><label for='data-6dfb20c8-ee20-4d69-abf3-892f78a0f8e7' title='Show/Hide data repr'><svg class='icon xr-icon-database'><use xlink:href='#icon-database'></use></svg></label><div class='xr-var-attrs'><dl class='xr-attrs'><dt><span>units :</span></dt><dd>degrees_north</dd><dt><span>long_name :</span></dt><dd>latitude</dd></dl></div><div class='xr-var-data'><pre>array(18.1, dtype=float32)</pre></div></li><li class='xr-var-item'><div class='xr-var-name'><span class='xr-has-index'>time</span></div><div class='xr-var-dims'>(time)</div><div class='xr-var-dtype'>datetime64[ns]</div><div class='xr-var-preview xr-preview'>2019-07-14 ... 2021-07-24T23:00:00</div><input id='attrs-ca429f91-08d7-4a65-abe9-81057a7fac2d' class='xr-var-attrs-in' type='checkbox' ><label for='attrs-ca429f91-08d7-4a65-abe9-81057a7fac2d' title='Show/Hide attributes'><svg class='icon xr-icon-file-text2'><use xlink:href='#icon-file-text2'></use></svg></label><input id='data-137d1a35-a9d1-4c5d-a187-2af73cfaf602' class='xr-var-data-in' type='checkbox'><label for='data-137d1a35-a9d1-4c5d-a187-2af73cfaf602' title='Show/Hide data repr'><svg class='icon xr-icon-database'><use xlink:href='#icon-database'></use></svg></label><div class='xr-var-attrs'><dl class='xr-attrs'><dt><span>long_name :</span></dt><dd>time</dd></dl></div><div class='xr-var-data'><pre>array([&#x27;2019-07-14T00:00:00.000000000&#x27;, &#x27;2019-07-14T01:00:00.000000000&#x27;,\n",
              "       &#x27;2019-07-14T02:00:00.000000000&#x27;, ..., &#x27;2021-07-24T21:00:00.000000000&#x27;,\n",
              "       &#x27;2021-07-24T22:00:00.000000000&#x27;, &#x27;2021-07-24T23:00:00.000000000&#x27;],\n",
              "      dtype=&#x27;datetime64[ns]&#x27;)</pre></div></li></ul></div></li><li class='xr-section-item'><input id='section-cb437d7e-19cd-4ffe-8d1a-48dd1d42bdfa' class='xr-section-summary-in' type='checkbox'  checked><label for='section-cb437d7e-19cd-4ffe-8d1a-48dd1d42bdfa' class='xr-section-summary' >Data variables: <span>(5)</span></label><div class='xr-section-inline-details'></div><div class='xr-section-details'><ul class='xr-var-list'><li class='xr-var-item'><div class='xr-var-name'><span>v10</span></div><div class='xr-var-dims'>(time)</div><div class='xr-var-dtype'>float32</div><div class='xr-var-preview xr-preview'>1.36 1.185 1.429 ... 1.416 1.26</div><input id='attrs-7ea74e1f-7b32-48cc-8026-6158e33c8182' class='xr-var-attrs-in' type='checkbox' ><label for='attrs-7ea74e1f-7b32-48cc-8026-6158e33c8182' title='Show/Hide attributes'><svg class='icon xr-icon-file-text2'><use xlink:href='#icon-file-text2'></use></svg></label><input id='data-3522c8aa-4787-4222-97c7-42dacf668531' class='xr-var-data-in' type='checkbox'><label for='data-3522c8aa-4787-4222-97c7-42dacf668531' title='Show/Hide data repr'><svg class='icon xr-icon-database'><use xlink:href='#icon-database'></use></svg></label><div class='xr-var-attrs'><dl class='xr-attrs'><dt><span>units :</span></dt><dd>m s**-1</dd><dt><span>long_name :</span></dt><dd>10 metre V wind component</dd></dl></div><div class='xr-var-data'><pre>array([1.360208, 1.185272, 1.429178, ..., 1.259494, 1.41616 , 1.260408],\n",
              "      dtype=float32)</pre></div></li><li class='xr-var-item'><div class='xr-var-name'><span>t2m</span></div><div class='xr-var-dims'>(time)</div><div class='xr-var-dtype'>float32</div><div class='xr-var-preview xr-preview'>297.5 297.5 298.0 ... 297.4 297.1</div><input id='attrs-6bf1b504-79d3-44b6-a021-98cba418cf8a' class='xr-var-attrs-in' type='checkbox' ><label for='attrs-6bf1b504-79d3-44b6-a021-98cba418cf8a' title='Show/Hide attributes'><svg class='icon xr-icon-file-text2'><use xlink:href='#icon-file-text2'></use></svg></label><input id='data-8cb94747-3312-40fc-83d8-ada432428dc7' class='xr-var-data-in' type='checkbox'><label for='data-8cb94747-3312-40fc-83d8-ada432428dc7' title='Show/Hide data repr'><svg class='icon xr-icon-database'><use xlink:href='#icon-database'></use></svg></label><div class='xr-var-attrs'><dl class='xr-attrs'><dt><span>units :</span></dt><dd>K</dd><dt><span>long_name :</span></dt><dd>2 metre temperature</dd></dl></div><div class='xr-var-data'><pre>array([297.53595, 297.52417, 298.00473, ..., 297.58347, 297.3589 , 297.13715],\n",
              "      dtype=float32)</pre></div></li><li class='xr-var-item'><div class='xr-var-name'><span>ssr</span></div><div class='xr-var-dims'>(time)</div><div class='xr-var-dtype'>float32</div><div class='xr-var-preview xr-preview'>1.141e+07 6.582e+03 ... 9.002e+06</div><input id='attrs-6f24827e-b6df-4c4f-8ede-c5564f8bf3cf' class='xr-var-attrs-in' type='checkbox' ><label for='attrs-6f24827e-b6df-4c4f-8ede-c5564f8bf3cf' title='Show/Hide attributes'><svg class='icon xr-icon-file-text2'><use xlink:href='#icon-file-text2'></use></svg></label><input id='data-8c547dd7-79b7-4e42-8621-66cbc6971897' class='xr-var-data-in' type='checkbox'><label for='data-8c547dd7-79b7-4e42-8621-66cbc6971897' title='Show/Hide data repr'><svg class='icon xr-icon-database'><use xlink:href='#icon-database'></use></svg></label><div class='xr-var-attrs'><dl class='xr-attrs'><dt><span>units :</span></dt><dd>J m**-2</dd><dt><span>long_name :</span></dt><dd>Surface net solar radiation</dd><dt><span>standard_name :</span></dt><dd>surface_net_downward_shortwave_flux</dd></dl></div><div class='xr-var-data'><pre>array([1.140766e+07, 6.582000e+03, 1.446940e+05, ..., 9.001644e+06,\n",
              "       9.001644e+06, 9.001644e+06], dtype=float32)</pre></div></li><li class='xr-var-item'><div class='xr-var-name'><span>sp</span></div><div class='xr-var-dims'>(time)</div><div class='xr-var-dtype'>float32</div><div class='xr-var-preview xr-preview'>1.003e+05 1.003e+05 ... 9.995e+04</div><input id='attrs-fb366f61-1fb1-4827-8ee0-965e43b187dd' class='xr-var-attrs-in' type='checkbox' ><label for='attrs-fb366f61-1fb1-4827-8ee0-965e43b187dd' title='Show/Hide attributes'><svg class='icon xr-icon-file-text2'><use xlink:href='#icon-file-text2'></use></svg></label><input id='data-7ca6267c-d539-4cfd-b04c-e937adfc080a' class='xr-var-data-in' type='checkbox'><label for='data-7ca6267c-d539-4cfd-b04c-e937adfc080a' title='Show/Hide data repr'><svg class='icon xr-icon-database'><use xlink:href='#icon-database'></use></svg></label><div class='xr-var-attrs'><dl class='xr-attrs'><dt><span>units :</span></dt><dd>Pa</dd><dt><span>long_name :</span></dt><dd>Surface pressure</dd><dt><span>standard_name :</span></dt><dd>surface_air_pressure</dd></dl></div><div class='xr-var-data'><pre>array([100265.74 , 100291.766, 100362.01 , ...,  99948.69 ,  99928.39 ,\n",
              "        99951.63 ], dtype=float32)</pre></div></li><li class='xr-var-item'><div class='xr-var-name'><span>tp</span></div><div class='xr-var-dims'>(time)</div><div class='xr-var-dtype'>float32</div><div class='xr-var-preview xr-preview'>0.01479 0.0007439 ... 0.02092</div><input id='attrs-b7721eb4-47f1-40b7-b9ea-0129ae30705c' class='xr-var-attrs-in' type='checkbox' ><label for='attrs-b7721eb4-47f1-40b7-b9ea-0129ae30705c' title='Show/Hide attributes'><svg class='icon xr-icon-file-text2'><use xlink:href='#icon-file-text2'></use></svg></label><input id='data-38089181-ab08-419c-84b7-f1ff26c8a868' class='xr-var-data-in' type='checkbox'><label for='data-38089181-ab08-419c-84b7-f1ff26c8a868' title='Show/Hide data repr'><svg class='icon xr-icon-database'><use xlink:href='#icon-database'></use></svg></label><div class='xr-var-attrs'><dl class='xr-attrs'><dt><span>units :</span></dt><dd>m</dd><dt><span>long_name :</span></dt><dd>Total precipitation</dd></dl></div><div class='xr-var-data'><pre>array([0.014794, 0.000744, 0.001312, ..., 0.018971, 0.019898, 0.020916],\n",
              "      dtype=float32)</pre></div></li></ul></div></li><li class='xr-section-item'><input id='section-9631575a-2798-4650-ad01-2b48391a42c6' class='xr-section-summary-in' type='checkbox'  checked><label for='section-9631575a-2798-4650-ad01-2b48391a42c6' class='xr-section-summary' >Attributes: <span>(2)</span></label><div class='xr-section-inline-details'></div><div class='xr-section-details'><dl class='xr-attrs'><dt><span>Conventions :</span></dt><dd>CF-1.6</dd><dt><span>history :</span></dt><dd>2022-03-23 20:02:03 GMT by grib_to_netcdf-2.24.3: /opt/ecmwf/mars-client/bin/grib_to_netcdf -S param -o /cache/data8/adaptor.mars.internal-1648065712.1249936-1819-19-e5989e75-3dea-451f-b386-1f7c69024c10.nc /cache/tmp/e5989e75-3dea-451f-b386-1f7c69024c10-adaptor.mars.internal-1648064834.85191-1819-33-tmp.grib</dd></dl></div></li></ul></div></div>"
            ],
            "text/plain": [
              "<xarray.Dataset>\n",
              "Dimensions:    (time: 792)\n",
              "Coordinates:\n",
              "    longitude  float32 73.4\n",
              "    latitude   float32 18.1\n",
              "  * time       (time) datetime64[ns] 2019-07-14 ... 2021-07-24T23:00:00\n",
              "Data variables:\n",
              "    v10        (time) float32 1.36 1.185 1.429 1.556 ... 1.346 1.259 1.416 1.26\n",
              "    t2m        (time) float32 297.5 297.5 298.0 298.2 ... 297.6 297.4 297.1\n",
              "    ssr        (time) float32 1.141e+07 6.582e+03 ... 9.002e+06 9.002e+06\n",
              "    sp         (time) float32 1.003e+05 1.003e+05 ... 9.993e+04 9.995e+04\n",
              "    tp         (time) float32 0.01479 0.0007439 0.001312 ... 0.0199 0.02092\n",
              "Attributes:\n",
              "    Conventions:  CF-1.6\n",
              "    history:      2022-03-23 20:02:03 GMT by grib_to_netcdf-2.24.3: /opt/ecmw..."
            ]
          },
          "execution_count": 34,
          "metadata": {},
          "output_type": "execute_result"
        }
      ],
      "source": [
        "# Index your data so that you are only accessing data at this special location.\n",
        "data_mahad = data.sel(latitude=lat[lat_ind], longitude=lon[lon_ind])\n",
        "data_mahad"
      ]
    },
    {
      "cell_type": "markdown",
      "metadata": {
        "id": "os7uyJuH0URw"
      },
      "source": [
        "### Line plot of total precipitation"
      ]
    },
    {
      "cell_type": "markdown",
      "metadata": {
        "id": "39AMVHg71hrU"
      },
      "source": [
        "#### 2019 plot"
      ]
    },
    {
      "cell_type": "code",
      "execution_count": 35,
      "metadata": {
        "colab": {
          "base_uri": "https://localhost:8080/",
          "height": 341
        },
        "id": "2ORrZwOTwdSD",
        "outputId": "24da3e09-439a-4f7d-a8e5-d8315c60cadf"
      },
      "outputs": [
        {
          "data": {
            "text/plain": [
              "[<matplotlib.lines.Line2D at 0x7f02ccca2250>]"
            ]
          },
          "execution_count": 35,
          "metadata": {},
          "output_type": "execute_result"
        },
        {
          "data": {
            "image/png": "[encoded data removed]",
            "text/plain": [
              "<Figure size 432x288 with 1 Axes>"
            ]
          },
          "metadata": {
            "needs_background": "light"
          },
          "output_type": "display_data"
        }
      ],
      "source": [
        "# make a line plot of all the total precip at this location, for all three years separately\n",
        "data_mahad.tp.sel(time=data_mahad.time.dt.year == 2019).plot()"
      ]
    },
    {
      "cell_type": "markdown",
      "metadata": {
        "id": "5soepzW51jw3"
      },
      "source": [
        "#### 2020 plot"
      ]
    },
    {
      "cell_type": "code",
      "execution_count": 36,
      "metadata": {
        "colab": {
          "base_uri": "https://localhost:8080/",
          "height": 341
        },
        "id": "5ZxiJHg5yrUK",
        "outputId": "9ea09415-03ab-4815-8a7c-65886a5b74dd"
      },
      "outputs": [
        {
          "data": {
            "text/plain": [
              "[<matplotlib.lines.Line2D at 0x7f02cccf7e90>]"
            ]
          },
          "execution_count": 36,
          "metadata": {},
          "output_type": "execute_result"
        },
        {
          "data": {
            "image/png": "[encoded data removed]",
            "text/plain": [
              "<Figure size 432x288 with 1 Axes>"
            ]
          },
          "metadata": {
            "needs_background": "light"
          },
          "output_type": "display_data"
        }
      ],
      "source": [
        "data_mahad.tp.sel(time=data_mahad.time.dt.year == 2020).plot()\n"
      ]
    },
    {
      "cell_type": "markdown",
      "metadata": {
        "id": "xTzgltKv1lcG"
      },
      "source": [
        "#### 2021 plot"
      ]
    },
    {
      "cell_type": "code",
      "execution_count": 37,
      "metadata": {
        "colab": {
          "base_uri": "https://localhost:8080/",
          "height": 341
        },
        "id": "cnb4yfxW1oQL",
        "outputId": "9fd701f6-37bc-4987-e726-5a10d2633159"
      },
      "outputs": [
        {
          "data": {
            "text/plain": [
              "[<matplotlib.lines.Line2D at 0x7f02cd3027d0>]"
            ]
          },
          "execution_count": 37,
          "metadata": {},
          "output_type": "execute_result"
        },
        {
          "data": {
            "image/png": "[encoded data removed]",
            "text/plain": [
              "<Figure size 432x288 with 1 Axes>"
            ]
          },
          "metadata": {
            "needs_background": "light"
          },
          "output_type": "display_data"
        }
      ],
      "source": [
        "data_mahad.tp.sel(time=data_mahad.time.dt.year == 2021).plot()"
      ]
    },
    {
      "cell_type": "markdown",
      "metadata": {},
      "source": [
        "- As we can see from the above, in 2021, the rainfall was consistently more than what we could see in 2019 and 2020. \n",
        "- If the rainfall is more, the river gets flooded pretty sooner. \n",
        "- So, once we know that the rainfall has been consistently more for a few days, we can warn the people to start taking precautions. "
      ]
    },
    {
      "cell_type": "markdown",
      "metadata": {
        "id": "Y98nqC8W21o8"
      },
      "source": [
        "### Basic Statistics"
      ]
    },
    {
      "cell_type": "markdown",
      "metadata": {
        "id": "t67YYEus24uu"
      },
      "source": [
        "#### Max"
      ]
    },
    {
      "cell_type": "code",
      "execution_count": 38,
      "metadata": {
        "colab": {
          "base_uri": "https://localhost:8080/"
        },
        "id": "X-fSWrJE1rpL",
        "outputId": "6cdebdb3-81b7-434e-c471-88bd0739d0e0"
      },
      "outputs": [
        {
          "name": "stdout",
          "output_type": "stream",
          "text": [
            "The maximum total precip for 2019 is: 0.038647472858428955\n",
            "The maximum total precip for 2020 is: 0.11406556516885757\n",
            "The maximum total precip for 2021 is: 0.09719663858413696\n",
            "The maximum ssr for 2019 is: 14228702.0\n",
            "The maximum ssr for 2020 is: 12768257.0\n",
            "The maximum ssr for 2021 is: 9130712.0\n",
            "The maximum t2m for 2019 is: 303.75189208984375\n",
            "The maximum t2m for 2020 is: 303.087890625\n",
            "The maximum t2m for 2021 is: 300.45404052734375\n",
            "The maximum v10 for 2019 is: 3.0437960624694824\n",
            "The maximum v10 for 2020 is: 3.4909563064575195\n",
            "The maximum v10 for 2021 is: 2.316418409347534\n",
            "The maximum sp for 2019 is: 100424.4453125\n",
            "The maximum sp for 2020 is: 100265.7421875\n",
            "The maximum sp for 2021 is: 100403.6328125\n"
          ]
        }
      ],
      "source": [
        "# get the maximum total precip for each year\n",
        "tp_2019_max = data_mahad.tp.sel(time=data_mahad.time.dt.year == 2019).max(dim='time')\n",
        "tp_2020_max = data_mahad.tp.sel(time=data_mahad.time.dt.year == 2020).max(dim='time')\n",
        "tp_2021_max = data_mahad.tp.sel(time=data_mahad.time.dt.year == 2021).max(dim='time')\n",
        "print(f\"The maximum total precip for 2019 is: {tp_2019_max.values}\")\n",
        "print(f\"The maximum total precip for 2020 is: {tp_2020_max.values}\")\n",
        "print(f\"The maximum total precip for 2021 is: {tp_2021_max.values}\")\n",
        "\n",
        "# get the maximum of all variables for each year\n",
        "# ssr \n",
        "ssr_2019_max = data_mahad.ssr.sel(time=data_mahad.time.dt.year == 2019).max(dim='time')\n",
        "ssr_2020_max = data_mahad.ssr.sel(time=data_mahad.time.dt.year == 2020).max(dim='time')\n",
        "ssr_2021_max = data_mahad.ssr.sel(time=data_mahad.time.dt.year == 2021).max(dim='time')\n",
        "print(f\"The maximum ssr for 2019 is: {ssr_2019_max.values}\")\n",
        "print(f\"The maximum ssr for 2020 is: {ssr_2020_max.values}\")\n",
        "print(f\"The maximum ssr for 2021 is: {ssr_2021_max.values}\")\n",
        "\n",
        "# t2m\n",
        "t2m_2019_max = data_mahad.t2m.sel(time=data_mahad.time.dt.year == 2019).max(dim='time')\n",
        "t2m_2020_max = data_mahad.t2m.sel(time=data_mahad.time.dt.year == 2020).max(dim='time')\n",
        "t2m_2021_max = data_mahad.t2m.sel(time=data_mahad.time.dt.year == 2021).max(dim='time')\n",
        "print(f\"The maximum t2m for 2019 is: {t2m_2019_max.values}\")\n",
        "print(f\"The maximum t2m for 2020 is: {t2m_2020_max.values}\")\n",
        "print(f\"The maximum t2m for 2021 is: {t2m_2021_max.values}\")\n",
        "\n",
        "# v10\n",
        "v10_2019_max = data_mahad.v10.sel(time=data_mahad.time.dt.year == 2019).max(dim='time')\n",
        "v10_2020_max = data_mahad.v10.sel(time=data_mahad.time.dt.year == 2020).max(dim='time')\n",
        "v10_2021_max = data_mahad.v10.sel(time=data_mahad.time.dt.year == 2021).max(dim='time')\n",
        "print(f\"The maximum v10 for 2019 is: {v10_2019_max.values}\")\n",
        "print(f\"The maximum v10 for 2020 is: {v10_2020_max.values}\")\n",
        "print(f\"The maximum v10 for 2021 is: {v10_2021_max.values}\")\n",
        "\n",
        "# sp\n",
        "sp_2019_max = data_mahad.sp.sel(time=data_mahad.time.dt.year == 2019).max(dim='time')\n",
        "sp_2020_max = data_mahad.sp.sel(time=data_mahad.time.dt.year == 2020).max(dim='time')\n",
        "sp_2021_max = data_mahad.sp.sel(time=data_mahad.time.dt.year == 2021).max(dim='time')\n",
        "print(f\"The maximum sp for 2019 is: {sp_2019_max.values}\")\n",
        "print(f\"The maximum sp for 2020 is: {sp_2020_max.values}\")\n",
        "print(f\"The maximum sp for 2021 is: {sp_2021_max.values}\")\n",
        "\n"
      ]
    },
    {
      "cell_type": "markdown",
      "metadata": {
        "id": "AvKBBgnF8kdQ"
      },
      "source": [
        "#### Min"
      ]
    },
    {
      "cell_type": "code",
      "execution_count": 39,
      "metadata": {
        "colab": {
          "base_uri": "https://localhost:8080/"
        },
        "id": "pnrYETyV27UF",
        "outputId": "ec0ca741-5b8d-4383-97d0-4ef5963f026d"
      },
      "outputs": [
        {
          "name": "stdout",
          "output_type": "stream",
          "text": [
            "The minimum total precip for 2019 is: 1.5251338481903076e-05\n",
            "The minimum total precip for 2020 is: 1.1436641216278076e-05\n",
            "The minimum total precip for 2021 is: 0.000457763671875\n",
            "The minimum ssr for 2019 is: 1363.0\n",
            "The minimum ssr for 2020 is: 668.0\n",
            "The minimum ssr for 2021 is: 320.0\n",
            "The minimum t2m for 2019 is: 296.7691650390625\n",
            "The minimum t2m for 2020 is: 296.498779296875\n",
            "The minimum t2m for 2021 is: 296.5606689453125\n",
            "The minimum v10 for 2019 is: -1.110135555267334\n",
            "The minimum v10 for 2020 is: -0.4907798767089844\n",
            "The minimum v10 for 2021 is: -1.4563539028167725\n",
            "The minimum sp for 2019 is: 99382.5546875\n",
            "The minimum sp for 2020 is: 99425.3984375\n",
            "The minimum sp for 2021 is: 99528.421875\n"
          ]
        }
      ],
      "source": [
        "# get the minimum total precip for each year\n",
        "tp_2019_min = data_mahad.tp.sel(time=data_mahad.time.dt.year == 2019).min(dim='time')\n",
        "tp_2020_min = data_mahad.tp.sel(time=data_mahad.time.dt.year == 2020).min(dim='time')\n",
        "tp_2021_min = data_mahad.tp.sel(time=data_mahad.time.dt.year == 2021).min(dim='time')\n",
        "print(f\"The minimum total precip for 2019 is: {tp_2019_min.values}\")   \n",
        "print(f\"The minimum total precip for 2020 is: {tp_2020_min.values}\")\n",
        "print(f\"The minimum total precip for 2021 is: {tp_2021_min.values}\")\n",
        "\n",
        "# get the minimum of all variables for each year\n",
        "# ssr\n",
        "ssr_2019_min = data_mahad.ssr.sel(time=data_mahad.time.dt.year == 2019).min(dim='time')\n",
        "ssr_2020_min = data_mahad.ssr.sel(time=data_mahad.time.dt.year == 2020).min(dim='time')\n",
        "ssr_2021_min = data_mahad.ssr.sel(time=data_mahad.time.dt.year == 2021).min(dim='time')\n",
        "print(f\"The minimum ssr for 2019 is: {ssr_2019_min.values}\")\n",
        "print(f\"The minimum ssr for 2020 is: {ssr_2020_min.values}\")\n",
        "print(f\"The minimum ssr for 2021 is: {ssr_2021_min.values}\")\n",
        "\n",
        "# t2m\n",
        "t2m_2019_min = data_mahad.t2m.sel(time=data_mahad.time.dt.year == 2019).min(dim='time')\n",
        "t2m_2020_min = data_mahad.t2m.sel(time=data_mahad.time.dt.year == 2020).min(dim='time')\n",
        "t2m_2021_min = data_mahad.t2m.sel(time=data_mahad.time.dt.year == 2021).min(dim='time')\n",
        "print(f\"The minimum t2m for 2019 is: {t2m_2019_min.values}\")\n",
        "print(f\"The minimum t2m for 2020 is: {t2m_2020_min.values}\")\n",
        "print(f\"The minimum t2m for 2021 is: {t2m_2021_min.values}\")\n",
        "\n",
        "# v10\n",
        "v10_2019_min = data_mahad.v10.sel(time=data_mahad.time.dt.year == 2019).min(dim='time')\n",
        "v10_2020_min = data_mahad.v10.sel(time=data_mahad.time.dt.year == 2020).min(dim='time')\n",
        "v10_2021_min = data_mahad.v10.sel(time=data_mahad.time.dt.year == 2021).min(dim='time')\n",
        "print(f\"The minimum v10 for 2019 is: {v10_2019_min.values}\")\n",
        "print(f\"The minimum v10 for 2020 is: {v10_2020_min.values}\")\n",
        "print(f\"The minimum v10 for 2021 is: {v10_2021_min.values}\")\n",
        "\n",
        "# sp\n",
        "sp_2019_min = data_mahad.sp.sel(time=data_mahad.time.dt.year == 2019).min(dim='time')\n",
        "sp_2020_min = data_mahad.sp.sel(time=data_mahad.time.dt.year == 2020).min(dim='time')\n",
        "sp_2021_min = data_mahad.sp.sel(time=data_mahad.time.dt.year == 2021).min(dim='time')\n",
        "print(f\"The minimum sp for 2019 is: {sp_2019_min.values}\")\n",
        "print(f\"The minimum sp for 2020 is: {sp_2020_min.values}\")\n",
        "print(f\"The minimum sp for 2021 is: {sp_2021_min.values}\")\n"
      ]
    },
    {
      "cell_type": "markdown",
      "metadata": {
        "id": "Ix7_K7hQ8qvF"
      },
      "source": [
        "#### Standard deviation"
      ]
    },
    {
      "cell_type": "code",
      "execution_count": 40,
      "metadata": {
        "colab": {
          "base_uri": "https://localhost:8080/"
        },
        "id": "2I52oxb08nn6",
        "outputId": "2379c11e-b26e-4681-bcdf-ebd69dabf206"
      },
      "outputs": [
        {
          "name": "stdout",
          "output_type": "stream",
          "text": [
            "The standard deviation of total precip for 2019 is: 0.009008652530610561\n",
            "The standard deviation of total precip for 2020 is: 0.02299460768699646\n",
            "The standard deviation of total precip for 2021 is: 0.02097214013338089\n",
            "The standard deviation of ssr for 2019 is: 4669063.0\n",
            "The standard deviation of ssr for 2020 is: 4360974.0\n",
            "The standard deviation of ssr for 2021 is: 2643788.0\n",
            "The standard deviation of t2m for 2019 is: 1.500083327293396\n",
            "The standard deviation of t2m for 2020 is: 1.321419596672058\n",
            "The standard deviation of t2m for 2021 is: 0.699251651763916\n",
            "The standard deviation of v10 for 2019 is: 0.7549567818641663\n",
            "The standard deviation of v10 for 2020 is: 0.856518566608429\n",
            "The standard deviation of v10 for 2021 is: 0.7639433145523071\n",
            "The standard deviation of sp for 2019 is: 274.2175598144531\n",
            "The standard deviation of sp for 2020 is: 213.41897583007812\n",
            "The standard deviation of sp for 2021 is: 188.17091369628906\n"
          ]
        }
      ],
      "source": [
        "# get the standard deviation of total precip for each year\n",
        "tp_2019_std = data_mahad.tp.sel(time=data_mahad.time.dt.year == 2019).std(dim='time')\n",
        "tp_2020_std = data_mahad.tp.sel(time=data_mahad.time.dt.year == 2020).std(dim='time')\n",
        "tp_2021_std = data_mahad.tp.sel(time=data_mahad.time.dt.year == 2021).std(dim='time')\n",
        "print(f\"The standard deviation of total precip for 2019 is: {tp_2019_std.values}\")\n",
        "print(f\"The standard deviation of total precip for 2020 is: {tp_2020_std.values}\")\n",
        "print(f\"The standard deviation of total precip for 2021 is: {tp_2021_std.values}\")\n",
        "\n",
        "# get the standard deviation of all variables for each year\n",
        "# ssr\n",
        "ssr_2019_std = data_mahad.ssr.sel(time=data_mahad.time.dt.year == 2019).std(dim='time')\n",
        "ssr_2020_std = data_mahad.ssr.sel(time=data_mahad.time.dt.year == 2020).std(dim='time')\n",
        "ssr_2021_std = data_mahad.ssr.sel(time=data_mahad.time.dt.year == 2021).std(dim='time')\n",
        "print(f\"The standard deviation of ssr for 2019 is: {ssr_2019_std.values}\")\n",
        "print(f\"The standard deviation of ssr for 2020 is: {ssr_2020_std.values}\")\n",
        "print(f\"The standard deviation of ssr for 2021 is: {ssr_2021_std.values}\")\n",
        "\n",
        "# t2m\n",
        "t2m_2019_std = data_mahad.t2m.sel(time=data_mahad.time.dt.year == 2019).std(dim='time')\n",
        "t2m_2020_std = data_mahad.t2m.sel(time=data_mahad.time.dt.year == 2020).std(dim='time')\n",
        "t2m_2021_std = data_mahad.t2m.sel(time=data_mahad.time.dt.year == 2021).std(dim='time')\n",
        "print(f\"The standard deviation of t2m for 2019 is: {t2m_2019_std.values}\")\n",
        "print(f\"The standard deviation of t2m for 2020 is: {t2m_2020_std.values}\")\n",
        "print(f\"The standard deviation of t2m for 2021 is: {t2m_2021_std.values}\")\n",
        "\n",
        "# v10\n",
        "v10_2019_std = data_mahad.v10.sel(time=data_mahad.time.dt.year == 2019).std(dim='time')\n",
        "v10_2020_std = data_mahad.v10.sel(time=data_mahad.time.dt.year == 2020).std(dim='time')\n",
        "v10_2021_std = data_mahad.v10.sel(time=data_mahad.time.dt.year == 2021).std(dim='time')\n",
        "print(f\"The standard deviation of v10 for 2019 is: {v10_2019_std.values}\")\n",
        "print(f\"The standard deviation of v10 for 2020 is: {v10_2020_std.values}\")\n",
        "print(f\"The standard deviation of v10 for 2021 is: {v10_2021_std.values}\")\n",
        "\n",
        "# sp\n",
        "sp_2019_std = data_mahad.sp.sel(time=data_mahad.time.dt.year == 2019).std(dim='time')\n",
        "sp_2020_std = data_mahad.sp.sel(time=data_mahad.time.dt.year == 2020).std(dim='time')\n",
        "sp_2021_std = data_mahad.sp.sel(time=data_mahad.time.dt.year == 2021).std(dim='time')\n",
        "print(f\"The standard deviation of sp for 2019 is: {sp_2019_std.values}\")\n",
        "print(f\"The standard deviation of sp for 2020 is: {sp_2020_std.values}\")\n",
        "print(f\"The standard deviation of sp for 2021 is: {sp_2021_std.values}\")\n"
      ]
    },
    {
      "cell_type": "markdown",
      "metadata": {
        "id": "pvki7zYT9HDM"
      },
      "source": [
        "#### Mean"
      ]
    },
    {
      "cell_type": "code",
      "execution_count": 41,
      "metadata": {
        "colab": {
          "base_uri": "https://localhost:8080/"
        },
        "id": "5EfBee_s89Fm",
        "outputId": "a2982f36-687b-4034-ce9b-82ead978f12f"
      },
      "outputs": [
        {
          "name": "stdout",
          "output_type": "stream",
          "text": [
            "The mean of total precip for 2019 is: 0.00919452402740717\n",
            "The mean of total precip for 2020 is: 0.017825091257691383\n",
            "The mean of total precip for 2021 is: 0.028783045709133148\n",
            "The mean of ssr for 2019 is: 7849041.5\n",
            "The mean of ssr for 2020 is: 6382346.0\n",
            "The mean of ssr for 2021 is: 3769202.0\n",
            "The mean of t2m for 2019 is: 298.9544372558594\n",
            "The mean of t2m for 2020 is: 298.7690124511719\n",
            "The mean of t2m for 2021 is: 298.02362060546875\n",
            "The mean of v10 for 2019 is: 0.9523016214370728\n",
            "The mean of v10 for 2020 is: 1.2920783758163452\n",
            "The mean of v10 for 2021 is: 0.7222222089767456\n",
            "The mean of sp for 2019 is: 99924.375\n",
            "The mean of sp for 2020 is: 99900.953125\n",
            "The mean of sp for 2021 is: 99943.28125\n"
          ]
        }
      ],
      "source": [
        "# get the mean of total precip for each year\n",
        "tp_2019_mean = data_mahad.tp.sel(time=data_mahad.time.dt.year == 2019).mean(dim='time')\n",
        "tp_2020_mean = data_mahad.tp.sel(time=data_mahad.time.dt.year == 2020).mean(dim='time')\n",
        "tp_2021_mean = data_mahad.tp.sel(time=data_mahad.time.dt.year == 2021).mean(dim='time')\n",
        "print(f\"The mean of total precip for 2019 is: {tp_2019_mean.values}\")\n",
        "print(f\"The mean of total precip for 2020 is: {tp_2020_mean.values}\")\n",
        "print(f\"The mean of total precip for 2021 is: {tp_2021_mean.values}\")\n",
        "\n",
        "# get the mean of all variables for each year\n",
        "# ssr\n",
        "ssr_2019_mean = data_mahad.ssr.sel(time=data_mahad.time.dt.year == 2019).mean(dim='time')\n",
        "ssr_2020_mean = data_mahad.ssr.sel(time=data_mahad.time.dt.year == 2020).mean(dim='time')\n",
        "ssr_2021_mean = data_mahad.ssr.sel(time=data_mahad.time.dt.year == 2021).mean(dim='time')\n",
        "print(f\"The mean of ssr for 2019 is: {ssr_2019_mean.values}\")\n",
        "print(f\"The mean of ssr for 2020 is: {ssr_2020_mean.values}\")\n",
        "print(f\"The mean of ssr for 2021 is: {ssr_2021_mean.values}\")\n",
        "\n",
        "# t2m\n",
        "t2m_2019_mean = data_mahad.t2m.sel(time=data_mahad.time.dt.year == 2019).mean(dim='time')\n",
        "t2m_2020_mean = data_mahad.t2m.sel(time=data_mahad.time.dt.year == 2020).mean(dim='time')\n",
        "t2m_2021_mean = data_mahad.t2m.sel(time=data_mahad.time.dt.year == 2021).mean(dim='time')\n",
        "print(f\"The mean of t2m for 2019 is: {t2m_2019_mean.values}\")\n",
        "print(f\"The mean of t2m for 2020 is: {t2m_2020_mean.values}\")\n",
        "print(f\"The mean of t2m for 2021 is: {t2m_2021_mean.values}\")\n",
        "\n",
        "# v10\n",
        "v10_2019_mean = data_mahad.v10.sel(time=data_mahad.time.dt.year == 2019).mean(dim='time')\n",
        "v10_2020_mean = data_mahad.v10.sel(time=data_mahad.time.dt.year == 2020).mean(dim='time')\n",
        "v10_2021_mean = data_mahad.v10.sel(time=data_mahad.time.dt.year == 2021).mean(dim='time')\n",
        "print(f\"The mean of v10 for 2019 is: {v10_2019_mean.values}\")\n",
        "print(f\"The mean of v10 for 2020 is: {v10_2020_mean.values}\")\n",
        "print(f\"The mean of v10 for 2021 is: {v10_2021_mean.values}\")\n",
        "\n",
        "# sp\n",
        "sp_2019_mean = data_mahad.sp.sel(time=data_mahad.time.dt.year == 2019).mean(dim='time')\n",
        "sp_2020_mean = data_mahad.sp.sel(time=data_mahad.time.dt.year == 2020).mean(dim='time')\n",
        "sp_2021_mean = data_mahad.sp.sel(time=data_mahad.time.dt.year == 2021).mean(dim='time')\n",
        "print(f\"The mean of sp for 2019 is: {sp_2019_mean.values}\")\n",
        "print(f\"The mean of sp for 2020 is: {sp_2020_mean.values}\")\n",
        "print(f\"The mean of sp for 2021 is: {sp_2021_mean.values}\")\n"
      ]
    },
    {
      "cell_type": "markdown",
      "metadata": {
        "id": "rr95kCfsAeUA"
      },
      "source": [
        "#### Interquartile range"
      ]
    },
    {
      "cell_type": "code",
      "execution_count": 42,
      "metadata": {
        "colab": {
          "base_uri": "https://localhost:8080/"
        },
        "id": "qW1COkoe9W9O",
        "outputId": "eff3cc12-b5f1-4704-fa36-4fba71c1364f"
      },
      "outputs": [
        {
          "name": "stdout",
          "output_type": "stream",
          "text": [
            "The iqr of total precip for 2019 is: 0.008935155346989632\n",
            "The iqr of total precip for 2020 is: 0.02425815351307392\n",
            "The iqr of total precip for 2021 is: 0.03104749694466591\n",
            "The iqr of ssr for 2019 is: 7711432.875\n",
            "The iqr of ssr for 2020 is: 8161690.125\n",
            "The iqr of ssr for 2021 is: 3633109.5\n",
            "The iqr of t2m for 2019 is: 2.0300369262695312\n",
            "The iqr of t2m for 2020 is: 1.5544052124023438\n",
            "The iqr of t2m for 2021 is: 0.7313919067382812\n",
            "The iqr of v10 for 2019 is: 0.7506721019744873\n",
            "The iqr of v10 for 2020 is: 1.0630333125591278\n",
            "The iqr of v10 for 2021 is: 1.0843294262886047\n",
            "The iqr of sp for 2019 is: 476.15625\n",
            "The iqr of sp for 2020 is: 299.974609375\n",
            "The iqr of sp for 2021 is: 271.87109375\n"
          ]
        }
      ],
      "source": [
        "# get the iqr of total precip for each year\n",
        "tp_2019_iqr = data_mahad.tp.sel(time=data_mahad.time.dt.year == 2019).quantile(0.75) - data_mahad.tp.sel(time=data_mahad.time.dt.year == 2019).quantile(0.25)\n",
        "tp_2020_iqr = data_mahad.tp.sel(time=data_mahad.time.dt.year == 2020).quantile(0.75) - data_mahad.tp.sel(time=data_mahad.time.dt.year == 2020).quantile(0.25)\n",
        "tp_2021_iqr = data_mahad.tp.sel(time=data_mahad.time.dt.year == 2021).quantile(0.75) - data_mahad.tp.sel(time=data_mahad.time.dt.year == 2021).quantile(0.25)\n",
        "print(f\"The iqr of total precip for 2019 is: {tp_2019_iqr.values}\")\n",
        "print(f\"The iqr of total precip for 2020 is: {tp_2020_iqr.values}\")\n",
        "print(f\"The iqr of total precip for 2021 is: {tp_2021_iqr.values}\")\n",
        "\n",
        "#  get the iqr of all variables for each year\n",
        "# ssr\n",
        "ssr_2019_iqr = data_mahad.ssr.sel(time=data_mahad.time.dt.year == 2019).quantile(0.75) - data_mahad.ssr.sel(time=data_mahad.time.dt.year == 2019).quantile(0.25)\n",
        "ssr_2020_iqr = data_mahad.ssr.sel(time=data_mahad.time.dt.year == 2020).quantile(0.75) - data_mahad.ssr.sel(time=data_mahad.time.dt.year == 2020).quantile(0.25)\n",
        "ssr_2021_iqr = data_mahad.ssr.sel(time=data_mahad.time.dt.year == 2021).quantile(0.75) - data_mahad.ssr.sel(time=data_mahad.time.dt.year == 2021).quantile(0.25)\n",
        "print(f\"The iqr of ssr for 2019 is: {ssr_2019_iqr.values}\")\n",
        "print(f\"The iqr of ssr for 2020 is: {ssr_2020_iqr.values}\")\n",
        "print(f\"The iqr of ssr for 2021 is: {ssr_2021_iqr.values}\")\n",
        "\n",
        "# t2m\n",
        "t2m_2019_iqr = data_mahad.t2m.sel(time=data_mahad.time.dt.year == 2019).quantile(0.75) - data_mahad.t2m.sel(time=data_mahad.time.dt.year == 2019).quantile(0.25)\n",
        "t2m_2020_iqr = data_mahad.t2m.sel(time=data_mahad.time.dt.year == 2020).quantile(0.75) - data_mahad.t2m.sel(time=data_mahad.time.dt.year == 2020).quantile(0.25)\n",
        "t2m_2021_iqr = data_mahad.t2m.sel(time=data_mahad.time.dt.year == 2021).quantile(0.75) - data_mahad.t2m.sel(time=data_mahad.time.dt.year == 2021).quantile(0.25)\n",
        "print(f\"The iqr of t2m for 2019 is: {t2m_2019_iqr.values}\")\n",
        "print(f\"The iqr of t2m for 2020 is: {t2m_2020_iqr.values}\")\n",
        "print(f\"The iqr of t2m for 2021 is: {t2m_2021_iqr.values}\")\n",
        "\n",
        "# v10\n",
        "v10_2019_iqr = data_mahad.v10.sel(time=data_mahad.time.dt.year == 2019).quantile(0.75) - data_mahad.v10.sel(time=data_mahad.time.dt.year == 2019).quantile(0.25)\n",
        "v10_2020_iqr = data_mahad.v10.sel(time=data_mahad.time.dt.year == 2020).quantile(0.75) - data_mahad.v10.sel(time=data_mahad.time.dt.year == 2020).quantile(0.25)\n",
        "v10_2021_iqr = data_mahad.v10.sel(time=data_mahad.time.dt.year == 2021).quantile(0.75) - data_mahad.v10.sel(time=data_mahad.time.dt.year == 2021).quantile(0.25)\n",
        "print(f\"The iqr of v10 for 2019 is: {v10_2019_iqr.values}\")\n",
        "print(f\"The iqr of v10 for 2020 is: {v10_2020_iqr.values}\")\n",
        "print(f\"The iqr of v10 for 2021 is: {v10_2021_iqr.values}\")\n",
        "\n",
        "# sp\n",
        "sp_2019_iqr = data_mahad.sp.sel(time=data_mahad.time.dt.year == 2019).quantile(0.75) - data_mahad.sp.sel(time=data_mahad.time.dt.year == 2019).quantile(0.25)\n",
        "sp_2020_iqr = data_mahad.sp.sel(time=data_mahad.time.dt.year == 2020).quantile(0.75) - data_mahad.sp.sel(time=data_mahad.time.dt.year == 2020).quantile(0.25)\n",
        "sp_2021_iqr = data_mahad.sp.sel(time=data_mahad.time.dt.year == 2021).quantile(0.75) - data_mahad.sp.sel(time=data_mahad.time.dt.year == 2021).quantile(0.25)\n",
        "print(f\"The iqr of sp for 2019 is: {sp_2019_iqr.values}\")\n",
        "print(f\"The iqr of sp for 2020 is: {sp_2020_iqr.values}\")\n",
        "print(f\"The iqr of sp for 2021 is: {sp_2021_iqr.values}\")\n"
      ]
    },
    {
      "cell_type": "code",
      "execution_count": 43,
      "metadata": {
        "id": "dNOe7wB2AgIQ"
      },
      "outputs": [],
      "source": [
        "# get the table of max, min, mean, std, and iqr for each variable \n",
        "# for each year\n",
        "# for 2019 table of max, min, mean, std, and iqr\n",
        "table_2019 = pd.DataFrame({'Variable2019': ['tp', 'ssr', 't2m', 'v10', 'sp'], \n",
        "                            'Max': [tp_2019_max.values, ssr_2019_max.values, t2m_2019_max.values, v10_2019_max.values, sp_2019_max.values],\n",
        "                            'Min': [tp_2019_min.values, ssr_2019_min.values, t2m_2019_min.values, v10_2019_min.values, sp_2019_min.values],\n",
        "                            'Mean': [tp_2019_mean.values, ssr_2019_mean.values, t2m_2019_mean.values, v10_2019_mean.values, sp_2019_mean.values],\n",
        "                            'Std': [tp_2019_std.values, ssr_2019_std.values, t2m_2019_std.values, v10_2019_std.values, sp_2019_std.values],\n",
        "                            'IQR': [tp_2019_iqr.values, ssr_2019_iqr.values, t2m_2019_iqr.values, v10_2019_iqr.values, sp_2019_iqr.values]})\n",
        "# for 2020 table of max, min, mean, std, and iqr\n",
        "table_2020 = pd.DataFrame({'Variable2020': ['tp', 'ssr', 't2m', 'v10', 'sp'],\n",
        "                            'Max': [tp_2020_max.values, ssr_2020_max.values, t2m_2020_max.values, v10_2020_max.values, sp_2020_max.values],\n",
        "                            'Min': [tp_2020_min.values, ssr_2020_min.values, t2m_2020_min.values, v10_2020_min.values, sp_2020_min.values],\n",
        "                            'Mean': [tp_2020_mean.values, ssr_2020_mean.values, t2m_2020_mean.values, v10_2020_mean.values, sp_2020_mean.values],\n",
        "                            'Std': [tp_2020_std.values, ssr_2020_std.values, t2m_2020_std.values, v10_2020_std.values, sp_2020_std.values],\n",
        "                            'IQR': [tp_2020_iqr.values, ssr_2020_iqr.values, t2m_2020_iqr.values, v10_2020_iqr.values, sp_2020_iqr.values]})\n",
        "\n",
        "# for 2021 table of max, min, mean, std, and iqr\n",
        "table_2021 = pd.DataFrame({'Variable2021': ['tp', 'ssr', 't2m', 'v10', 'sp'],\n",
        "                            'Max': [tp_2021_max.values, ssr_2021_max.values, t2m_2021_max.values, v10_2021_max.values, sp_2021_max.values],\n",
        "                            'Min': [tp_2021_min.values, ssr_2021_min.values, t2m_2021_min.values, v10_2021_min.values, sp_2021_min.values],\n",
        "                            'Mean': [tp_2021_mean.values, ssr_2021_mean.values, t2m_2021_mean.values, v10_2021_mean.values, sp_2021_mean.values],\n",
        "                            'Std': [tp_2021_std.values, ssr_2021_std.values, t2m_2021_std.values, v10_2021_std.values, sp_2021_std.values],\n",
        "                            'IQR': [tp_2021_iqr.values, ssr_2021_iqr.values, t2m_2021_iqr.values, v10_2021_iqr.values, sp_2021_iqr.values]})\n",
        "\n",
        "# convert the table to pdf\n",
        "table_2019.to_latex('table_2019.tex', index=False)\n",
        "table_2020.to_latex('table_2020.tex', index=False)\n",
        "table_2021.to_latex('table_2021.tex', index=False)\n",
        "\n",
        "# convert the table to csv\n",
        "table_2019.to_csv('table_2019.csv', index=False)\n",
        "table_2020.to_csv('table_2020.csv', index=False)\n",
        "table_2021.to_csv('table_2021.csv', index=False)\n"
      ]
    },
    {
      "cell_type": "markdown",
      "metadata": {},
      "source": [
        "**2019**\n",
        "\n",
        "![2019](images/2019_table.png)\n",
        "\n",
        "**2020**\n",
        "\n",
        "![2020](images/2020_table.png)\n",
        "\n",
        "**2021**\n",
        "\n",
        "![2021](images/2021_table.png)\n",
        "\n",
        "- On 22nd July, 2021, the maximum precipitation in Mahad was $97.2$ mm.\n",
        "- The minimum precipitation in Mahad was $0.46$ mm. \n",
        "- The standard deviation of precipitation in Mahad was $20.9$ mm. \n",
        "- The mean precipitation in Mahad was $28.78$ mm. \n",
        "- The interquartile range was $31.05$ mm. \n",
        "\n",
        "**More analysis:**\n",
        "- The unit of tp is `m`. \n",
        "- The maximum precipitation had been $114$ mm (maximum of all years) in 2020, but since the mean value was $17.9$ mm that is lower than the mean value of 28.8 mm in 2021, the rainfall occurred only for a small period of time in 2020.\n",
        "- But, the rainfall in 2021 occurred for a longer period of time or the maximum rainfall occurred in short periods of time multiple times. The floods would be the result of the accumulation of water in the river `Savitri` in a short period of time. Since the river is narrow, there was flood."
      ]
    },
    {
      "cell_type": "markdown",
      "metadata": {
        "id": "1hUh6EsLMBpa"
      },
      "source": [
        "## Total Precipitation for 6 consecutive days of July, 2021\n",
        "\n",
        "- It's clear that some anomaly had taken place on July 22, 2021. The people experience \"Cloudburst\" (https://en.wikipedia.org/wiki/Cloudburst). Did cloudburst occur on prior days to July 22, 2021?\n",
        "\n",
        "- I have plotted the maximum precipitation on 5 days prior to July 22, 2021 on the same plot."
      ]
    },
    {
      "cell_type": "code",
      "execution_count": 44,
      "metadata": {
        "colab": {
          "base_uri": "https://localhost:8080/",
          "height": 526
        },
        "id": "a_PEHvRhz5wc",
        "outputId": "a794ec97-1353-476d-82ad-3a0178666fb7"
      },
      "outputs": [
        {
          "data": {
            "image/png": "[encoded data removed]",
            "text/plain": [
              "<Figure size 1440x720 with 12 Axes>"
            ]
          },
          "metadata": {
            "needs_background": "light"
          },
          "output_type": "display_data"
        }
      ],
      "source": [
        "fig, axes = plt.subplots(ncols=3, nrows=2, figsize = (20, 10))\n",
        "# get the maximum value of total precipitation for July 17, 18, 19, 20, 21, 22 of 2021 and plot it on the graph\n",
        "data.tp.sel(time=data.time.dt.month == 7).sel(time=data.time.dt.day == 17).max(dim='time').plot(ax=axes[0, 0], label='July 17')\n",
        "data.tp.sel(time=data.time.dt.month == 7).sel(time=data.time.dt.day == 18).max(dim='time').plot(ax=axes[0, 1], label='July 18')\n",
        "data.tp.sel(time=data.time.dt.month == 7).sel(time=data.time.dt.day == 19).max(dim='time').plot(ax=axes[0, 2], label='July 19')\n",
        "data.tp.sel(time=data.time.dt.month == 7).sel(time=data.time.dt.day == 20).max(dim='time').plot(ax=axes[1, 0], label='July 20')\n",
        "data.tp.sel(time=data.time.dt.month == 7).sel(time=data.time.dt.day == 21).max(dim='time').plot(ax=axes[1, 1], label='July 21')\n",
        "data.tp.sel(time=data.time.dt.month == 7).sel(time=data.time.dt.day == 22).max(dim='time').plot(ax=axes[1, 2], label='July 22')\n",
        "\n",
        "axes[0, 0].set_title('July 17')\n",
        "axes[0, 1].set_title('July 18')\n",
        "axes[0, 2].set_title('July 19')\n",
        "axes[1, 0].set_title('July 20')\n",
        "axes[1, 1].set_title('July 21')\n",
        "axes[1, 2].set_title('July 22')\n",
        "\n",
        "fig.tight_layout()\n",
        "plt.show()"
      ]
    },
    {
      "cell_type": "markdown",
      "metadata": {},
      "source": [
        "- As we can see that maximum rainfall occurred on days prior to July 22, 2021. This could be the reason that the river Savitri got flooded sooner than observed in the previous years. "
      ]
    },
    {
      "cell_type": "markdown",
      "metadata": {
        "id": "POvUov1SAaoX"
      },
      "source": [
        "## Mahabaleshwar - Total Precipitation for 6 consecutive days of July, 2021\n",
        "\n",
        "- Mahabaleshwar is a hillstation, where Savitri river originates. "
      ]
    },
    {
      "cell_type": "code",
      "execution_count": 45,
      "metadata": {
        "colab": {
          "base_uri": "https://localhost:8080/"
        },
        "id": "h87f5F4fM7oz",
        "outputId": "712fa2f4-e042-44e0-ab69-03ab3788bbe3"
      },
      "outputs": [
        {
          "name": "stdout",
          "output_type": "stream",
          "text": [
            "The latitude index of the nearest gridpoint to Mahabaleshwar is : 41\n",
            "The longitude index of the nearest gridpoint to Mahabaleshwar is : 17\n"
          ]
        }
      ],
      "source": [
        "# get the location of Mahabaleshwar, Maharashtra, India\n",
        "lat_mahabaleshwar = 17.93\n",
        "lon_mahabaleshwar = 73.65\n",
        "lat = data.latitude.values\n",
        "lon = data.longitude.values\n",
        "\n",
        "# find the indices of the nearest point to Mahabaleshwar. Save these indices to new variables, and print out the values. \n",
        "lat_ind_mahabaleshwar = np.abs(lat - lat_mahabaleshwar).argmin()\n",
        "lon_ind_mahabaleshwar = np.abs(lon - lon_mahabaleshwar).argmin()\n",
        "# print(lat_ind_mahabaleshwar, lon_ind_mahabaleshwar)\n",
        "print(f\"The latitude index of the nearest gridpoint to Mahabaleshwar is : {lat_ind_mahabaleshwar}\")\n",
        "print(f\"The longitude index of the nearest gridpoint to Mahabaleshwar is : {lon_ind_mahabaleshwar}\")"
      ]
    },
    {
      "cell_type": "markdown",
      "metadata": {
        "id": "WnkUVRIMAfbz"
      },
      "source": [
        "### Lat/long of that gridpoint"
      ]
    },
    {
      "cell_type": "code",
      "execution_count": 46,
      "metadata": {
        "colab": {
          "base_uri": "https://localhost:8080/"
        },
        "id": "0hGw82JkAcG-",
        "outputId": "ed0ded0e-332f-489f-e565-aba2e6aef12e"
      },
      "outputs": [
        {
          "name": "stdout",
          "output_type": "stream",
          "text": [
            "The corresponding lat/lon of that gridpoint is : 17.899999618530273, 73.69999694824219\n"
          ]
        }
      ],
      "source": [
        "# Print the corresponding lat/lon of that gridpoint.\n",
        "print(f\"The corresponding lat/lon of that gridpoint is : {lat[lat_ind_mahabaleshwar]}, {lon[lon_ind_mahabaleshwar]}\")\n"
      ]
    },
    {
      "cell_type": "markdown",
      "metadata": {
        "id": "G48bj65TBnYi"
      },
      "source": [
        "### data_mahabaleshwar   "
      ]
    },
    {
      "cell_type": "code",
      "execution_count": 47,
      "metadata": {
        "colab": {
          "base_uri": "https://localhost:8080/",
          "height": 415
        },
        "id": "zJYbnMmqBlls",
        "outputId": "448ea830-cda6-4d59-a831-7db65c5ffd6c"
      },
      "outputs": [
        {
          "data": {
            "text/html": [
              "<div><svg style=\"position: absolute; width: 0; height: 0; overflow: hidden\">\n",
              "<defs>\n",
              "<symbol id=\"icon-database\" viewBox=\"0 0 32 32\">\n",
              "<path d=\"M16 0c-8.837 0-16 2.239-16 5v4c0 2.761 7.163 5 16 5s16-2.239 16-5v-4c0-2.761-7.163-5-16-5z\"></path>\n",
              "<path d=\"M16 17c-8.837 0-16-2.239-16-5v6c0 2.761 7.163 5 16 5s16-2.239 16-5v-6c0 2.761-7.163 5-16 5z\"></path>\n",
              "<path d=\"M16 26c-8.837 0-16-2.239-16-5v6c0 2.761 7.163 5 16 5s16-2.239 16-5v-6c0 2.761-7.163 5-16 5z\"></path>\n",
              "</symbol>\n",
              "<symbol id=\"icon-file-text2\" viewBox=\"0 0 32 32\">\n",
              "<path d=\"M28.681 7.159c-0.694-0.947-1.662-2.053-2.724-3.116s-2.169-2.030-3.116-2.724c-1.612-1.182-2.393-1.319-2.841-1.319h-15.5c-1.378 0-2.5 1.121-2.5 2.5v27c0 1.378 1.122 2.5 2.5 2.5h23c1.378 0 2.5-1.122 2.5-2.5v-19.5c0-0.448-0.137-1.23-1.319-2.841zM24.543 5.457c0.959 0.959 1.712 1.825 2.268 2.543h-4.811v-4.811c0.718 0.556 1.584 1.309 2.543 2.268zM28 29.5c0 0.271-0.229 0.5-0.5 0.5h-23c-0.271 0-0.5-0.229-0.5-0.5v-27c0-0.271 0.229-0.5 0.5-0.5 0 0 15.499-0 15.5 0v7c0 0.552 0.448 1 1 1h7v19.5z\"></path>\n",
              "<path d=\"M23 26h-14c-0.552 0-1-0.448-1-1s0.448-1 1-1h14c0.552 0 1 0.448 1 1s-0.448 1-1 1z\"></path>\n",
              "<path d=\"M23 22h-14c-0.552 0-1-0.448-1-1s0.448-1 1-1h14c0.552 0 1 0.448 1 1s-0.448 1-1 1z\"></path>\n",
              "<path d=\"M23 18h-14c-0.552 0-1-0.448-1-1s0.448-1 1-1h14c0.552 0 1 0.448 1 1s-0.448 1-1 1z\"></path>\n",
              "</symbol>\n",
              "</defs>\n",
              "</svg>\n",
              "<style>/* CSS stylesheet for displaying xarray objects in jupyterlab.\n",
              " *\n",
              " */\n",
              "\n",
              ":root {\n",
              "  --xr-font-color0: var(--jp-content-font-color0, rgba(0, 0, 0, 1));\n",
              "  --xr-font-color2: var(--jp-content-font-color2, rgba(0, 0, 0, 0.54));\n",
              "  --xr-font-color3: var(--jp-content-font-color3, rgba(0, 0, 0, 0.38));\n",
              "  --xr-border-color: var(--jp-border-color2, #e0e0e0);\n",
              "  --xr-disabled-color: var(--jp-layout-color3, #bdbdbd);\n",
              "  --xr-background-color: var(--jp-layout-color0, white);\n",
              "  --xr-background-color-row-even: var(--jp-layout-color1, white);\n",
              "  --xr-background-color-row-odd: var(--jp-layout-color2, #eeeeee);\n",
              "}\n",
              "\n",
              "html[theme=dark],\n",
              "body.vscode-dark {\n",
              "  --xr-font-color0: rgba(255, 255, 255, 1);\n",
              "  --xr-font-color2: rgba(255, 255, 255, 0.54);\n",
              "  --xr-font-color3: rgba(255, 255, 255, 0.38);\n",
              "  --xr-border-color: #1F1F1F;\n",
              "  --xr-disabled-color: #515151;\n",
              "  --xr-background-color: #111111;\n",
              "  --xr-background-color-row-even: #111111;\n",
              "  --xr-background-color-row-odd: #313131;\n",
              "}\n",
              "\n",
              ".xr-wrap {\n",
              "  display: block;\n",
              "  min-width: 300px;\n",
              "  max-width: 700px;\n",
              "}\n",
              "\n",
              ".xr-text-repr-fallback {\n",
              "  /* fallback to plain text repr when CSS is not injected (untrusted notebook) */\n",
              "  display: none;\n",
              "}\n",
              "\n",
              ".xr-header {\n",
              "  padding-top: 6px;\n",
              "  padding-bottom: 6px;\n",
              "  margin-bottom: 4px;\n",
              "  border-bottom: solid 1px var(--xr-border-color);\n",
              "}\n",
              "\n",
              ".xr-header > div,\n",
              ".xr-header > ul {\n",
              "  display: inline;\n",
              "  margin-top: 0;\n",
              "  margin-bottom: 0;\n",
              "}\n",
              "\n",
              ".xr-obj-type,\n",
              ".xr-array-name {\n",
              "  margin-left: 2px;\n",
              "  margin-right: 10px;\n",
              "}\n",
              "\n",
              ".xr-obj-type {\n",
              "  color: var(--xr-font-color2);\n",
              "}\n",
              "\n",
              ".xr-sections {\n",
              "  padding-left: 0 !important;\n",
              "  display: grid;\n",
              "  grid-template-columns: 150px auto auto 1fr 20px 20px;\n",
              "}\n",
              "\n",
              ".xr-section-item {\n",
              "  display: contents;\n",
              "}\n",
              "\n",
              ".xr-section-item input {\n",
              "  display: none;\n",
              "}\n",
              "\n",
              ".xr-section-item input + label {\n",
              "  color: var(--xr-disabled-color);\n",
              "}\n",
              "\n",
              ".xr-section-item input:enabled + label {\n",
              "  cursor: pointer;\n",
              "  color: var(--xr-font-color2);\n",
              "}\n",
              "\n",
              ".xr-section-item input:enabled + label:hover {\n",
              "  color: var(--xr-font-color0);\n",
              "}\n",
              "\n",
              ".xr-section-summary {\n",
              "  grid-column: 1;\n",
              "  color: var(--xr-font-color2);\n",
              "  font-weight: 500;\n",
              "}\n",
              "\n",
              ".xr-section-summary > span {\n",
              "  display: inline-block;\n",
              "  padding-left: 0.5em;\n",
              "}\n",
              "\n",
              ".xr-section-summary-in:disabled + label {\n",
              "  color: var(--xr-font-color2);\n",
              "}\n",
              "\n",
              ".xr-section-summary-in + label:before {\n",
              "  display: inline-block;\n",
              "  content: '►';\n",
              "  font-size: 11px;\n",
              "  width: 15px;\n",
              "  text-align: center;\n",
              "}\n",
              "\n",
              ".xr-section-summary-in:disabled + label:before {\n",
              "  color: var(--xr-disabled-color);\n",
              "}\n",
              "\n",
              ".xr-section-summary-in:checked + label:before {\n",
              "  content: '▼';\n",
              "}\n",
              "\n",
              ".xr-section-summary-in:checked + label > span {\n",
              "  display: none;\n",
              "}\n",
              "\n",
              ".xr-section-summary,\n",
              ".xr-section-inline-details {\n",
              "  padding-top: 4px;\n",
              "  padding-bottom: 4px;\n",
              "}\n",
              "\n",
              ".xr-section-inline-details {\n",
              "  grid-column: 2 / -1;\n",
              "}\n",
              "\n",
              ".xr-section-details {\n",
              "  display: none;\n",
              "  grid-column: 1 / -1;\n",
              "  margin-bottom: 5px;\n",
              "}\n",
              "\n",
              ".xr-section-summary-in:checked ~ .xr-section-details {\n",
              "  display: contents;\n",
              "}\n",
              "\n",
              ".xr-array-wrap {\n",
              "  grid-column: 1 / -1;\n",
              "  display: grid;\n",
              "  grid-template-columns: 20px auto;\n",
              "}\n",
              "\n",
              ".xr-array-wrap > label {\n",
              "  grid-column: 1;\n",
              "  vertical-align: top;\n",
              "}\n",
              "\n",
              ".xr-preview {\n",
              "  color: var(--xr-font-color3);\n",
              "}\n",
              "\n",
              ".xr-array-preview,\n",
              ".xr-array-data {\n",
              "  padding: 0 5px !important;\n",
              "  grid-column: 2;\n",
              "}\n",
              "\n",
              ".xr-array-data,\n",
              ".xr-array-in:checked ~ .xr-array-preview {\n",
              "  display: none;\n",
              "}\n",
              "\n",
              ".xr-array-in:checked ~ .xr-array-data,\n",
              ".xr-array-preview {\n",
              "  display: inline-block;\n",
              "}\n",
              "\n",
              ".xr-dim-list {\n",
              "  display: inline-block !important;\n",
              "  list-style: none;\n",
              "  padding: 0 !important;\n",
              "  margin: 0;\n",
              "}\n",
              "\n",
              ".xr-dim-list li {\n",
              "  display: inline-block;\n",
              "  padding: 0;\n",
              "  margin: 0;\n",
              "}\n",
              "\n",
              ".xr-dim-list:before {\n",
              "  content: '(';\n",
              "}\n",
              "\n",
              ".xr-dim-list:after {\n",
              "  content: ')';\n",
              "}\n",
              "\n",
              ".xr-dim-list li:not(:last-child):after {\n",
              "  content: ',';\n",
              "  padding-right: 5px;\n",
              "}\n",
              "\n",
              ".xr-has-index {\n",
              "  font-weight: bold;\n",
              "}\n",
              "\n",
              ".xr-var-list,\n",
              ".xr-var-item {\n",
              "  display: contents;\n",
              "}\n",
              "\n",
              ".xr-var-item > div,\n",
              ".xr-var-item label,\n",
              ".xr-var-item > .xr-var-name span {\n",
              "  background-color: var(--xr-background-color-row-even);\n",
              "  margin-bottom: 0;\n",
              "}\n",
              "\n",
              ".xr-var-item > .xr-var-name:hover span {\n",
              "  padding-right: 5px;\n",
              "}\n",
              "\n",
              ".xr-var-list > li:nth-child(odd) > div,\n",
              ".xr-var-list > li:nth-child(odd) > label,\n",
              ".xr-var-list > li:nth-child(odd) > .xr-var-name span {\n",
              "  background-color: var(--xr-background-color-row-odd);\n",
              "}\n",
              "\n",
              ".xr-var-name {\n",
              "  grid-column: 1;\n",
              "}\n",
              "\n",
              ".xr-var-dims {\n",
              "  grid-column: 2;\n",
              "}\n",
              "\n",
              ".xr-var-dtype {\n",
              "  grid-column: 3;\n",
              "  text-align: right;\n",
              "  color: var(--xr-font-color2);\n",
              "}\n",
              "\n",
              ".xr-var-preview {\n",
              "  grid-column: 4;\n",
              "}\n",
              "\n",
              ".xr-var-name,\n",
              ".xr-var-dims,\n",
              ".xr-var-dtype,\n",
              ".xr-preview,\n",
              ".xr-attrs dt {\n",
              "  white-space: nowrap;\n",
              "  overflow: hidden;\n",
              "  text-overflow: ellipsis;\n",
              "  padding-right: 10px;\n",
              "}\n",
              "\n",
              ".xr-var-name:hover,\n",
              ".xr-var-dims:hover,\n",
              ".xr-var-dtype:hover,\n",
              ".xr-attrs dt:hover {\n",
              "  overflow: visible;\n",
              "  width: auto;\n",
              "  z-index: 1;\n",
              "}\n",
              "\n",
              ".xr-var-attrs,\n",
              ".xr-var-data {\n",
              "  display: none;\n",
              "  background-color: var(--xr-background-color) !important;\n",
              "  padding-bottom: 5px !important;\n",
              "}\n",
              "\n",
              ".xr-var-attrs-in:checked ~ .xr-var-attrs,\n",
              ".xr-var-data-in:checked ~ .xr-var-data {\n",
              "  display: block;\n",
              "}\n",
              "\n",
              ".xr-var-data > table {\n",
              "  float: right;\n",
              "}\n",
              "\n",
              ".xr-var-name span,\n",
              ".xr-var-data,\n",
              ".xr-attrs {\n",
              "  padding-left: 25px !important;\n",
              "}\n",
              "\n",
              ".xr-attrs,\n",
              ".xr-var-attrs,\n",
              ".xr-var-data {\n",
              "  grid-column: 1 / -1;\n",
              "}\n",
              "\n",
              "dl.xr-attrs {\n",
              "  padding: 0;\n",
              "  margin: 0;\n",
              "  display: grid;\n",
              "  grid-template-columns: 125px auto;\n",
              "}\n",
              "\n",
              ".xr-attrs dt,\n",
              ".xr-attrs dd {\n",
              "  padding: 0;\n",
              "  margin: 0;\n",
              "  float: left;\n",
              "  padding-right: 10px;\n",
              "  width: auto;\n",
              "}\n",
              "\n",
              ".xr-attrs dt {\n",
              "  font-weight: normal;\n",
              "  grid-column: 1;\n",
              "}\n",
              "\n",
              ".xr-attrs dt:hover span {\n",
              "  display: inline-block;\n",
              "  background: var(--xr-background-color);\n",
              "  padding-right: 10px;\n",
              "}\n",
              "\n",
              ".xr-attrs dd {\n",
              "  grid-column: 2;\n",
              "  white-space: pre-wrap;\n",
              "  word-break: break-all;\n",
              "}\n",
              "\n",
              ".xr-icon-database,\n",
              ".xr-icon-file-text2 {\n",
              "  display: inline-block;\n",
              "  vertical-align: middle;\n",
              "  width: 1em;\n",
              "  height: 1.5em !important;\n",
              "  stroke-width: 0;\n",
              "  stroke: currentColor;\n",
              "  fill: currentColor;\n",
              "}\n",
              "</style><pre class='xr-text-repr-fallback'>&lt;xarray.Dataset&gt;\n",
              "Dimensions:    (time: 792)\n",
              "Coordinates:\n",
              "    longitude  float32 73.7\n",
              "    latitude   float32 17.9\n",
              "  * time       (time) datetime64[ns] 2019-07-14 ... 2021-07-24T23:00:00\n",
              "Data variables:\n",
              "    v10        (time) float32 1.141 0.987 1.05 1.109 ... 1.018 0.9681 0.8923\n",
              "    t2m        (time) float32 293.5 293.3 293.5 293.6 ... 293.3 293.2 292.7\n",
              "    ssr        (time) float32 1.119e+07 4.842e+03 ... 1.005e+07 1.005e+07\n",
              "    sp         (time) float32 9.031e+04 9.033e+04 ... 8.998e+04 8.999e+04\n",
              "    tp         (time) float32 0.01136 0.0003281 0.001457 ... 0.02359 0.02457\n",
              "Attributes:\n",
              "    Conventions:  CF-1.6\n",
              "    history:      2022-03-23 20:02:03 GMT by grib_to_netcdf-2.24.3: /opt/ecmw...</pre><div class='xr-wrap' hidden><div class='xr-header'><div class='xr-obj-type'>xarray.Dataset</div></div><ul class='xr-sections'><li class='xr-section-item'><input id='section-69038f57-1dbe-4021-8970-ce9bb0d4f87f' class='xr-section-summary-in' type='checkbox' disabled ><label for='section-69038f57-1dbe-4021-8970-ce9bb0d4f87f' class='xr-section-summary'  title='Expand/collapse section'>Dimensions:</label><div class='xr-section-inline-details'><ul class='xr-dim-list'><li><span class='xr-has-index'>time</span>: 792</li></ul></div><div class='xr-section-details'></div></li><li class='xr-section-item'><input id='section-d0aa19ab-df69-4f4c-9ecb-f84a938e2610' class='xr-section-summary-in' type='checkbox'  checked><label for='section-d0aa19ab-df69-4f4c-9ecb-f84a938e2610' class='xr-section-summary' >Coordinates: <span>(3)</span></label><div class='xr-section-inline-details'></div><div class='xr-section-details'><ul class='xr-var-list'><li class='xr-var-item'><div class='xr-var-name'><span>longitude</span></div><div class='xr-var-dims'>()</div><div class='xr-var-dtype'>float32</div><div class='xr-var-preview xr-preview'>73.7</div><input id='attrs-c560cb32-9c24-4230-9bcf-82ca9c31e877' class='xr-var-attrs-in' type='checkbox' ><label for='attrs-c560cb32-9c24-4230-9bcf-82ca9c31e877' title='Show/Hide attributes'><svg class='icon xr-icon-file-text2'><use xlink:href='#icon-file-text2'></use></svg></label><input id='data-298893ef-3d6a-46a1-9c51-deeede9d22ea' class='xr-var-data-in' type='checkbox'><label for='data-298893ef-3d6a-46a1-9c51-deeede9d22ea' title='Show/Hide data repr'><svg class='icon xr-icon-database'><use xlink:href='#icon-database'></use></svg></label><div class='xr-var-attrs'><dl class='xr-attrs'><dt><span>units :</span></dt><dd>degrees_east</dd><dt><span>long_name :</span></dt><dd>longitude</dd></dl></div><div class='xr-var-data'><pre>array(73.7, dtype=float32)</pre></div></li><li class='xr-var-item'><div class='xr-var-name'><span>latitude</span></div><div class='xr-var-dims'>()</div><div class='xr-var-dtype'>float32</div><div class='xr-var-preview xr-preview'>17.9</div><input id='attrs-9baee7b9-3771-4fb9-bb05-e81ee49cbe04' class='xr-var-attrs-in' type='checkbox' ><label for='attrs-9baee7b9-3771-4fb9-bb05-e81ee49cbe04' title='Show/Hide attributes'><svg class='icon xr-icon-file-text2'><use xlink:href='#icon-file-text2'></use></svg></label><input id='data-c8f36838-c3b9-4c10-a8ca-eb4ab7555633' class='xr-var-data-in' type='checkbox'><label for='data-c8f36838-c3b9-4c10-a8ca-eb4ab7555633' title='Show/Hide data repr'><svg class='icon xr-icon-database'><use xlink:href='#icon-database'></use></svg></label><div class='xr-var-attrs'><dl class='xr-attrs'><dt><span>units :</span></dt><dd>degrees_north</dd><dt><span>long_name :</span></dt><dd>latitude</dd></dl></div><div class='xr-var-data'><pre>array(17.9, dtype=float32)</pre></div></li><li class='xr-var-item'><div class='xr-var-name'><span class='xr-has-index'>time</span></div><div class='xr-var-dims'>(time)</div><div class='xr-var-dtype'>datetime64[ns]</div><div class='xr-var-preview xr-preview'>2019-07-14 ... 2021-07-24T23:00:00</div><input id='attrs-bb26012f-72ef-4551-ad90-668a3980ac3b' class='xr-var-attrs-in' type='checkbox' ><label for='attrs-bb26012f-72ef-4551-ad90-668a3980ac3b' title='Show/Hide attributes'><svg class='icon xr-icon-file-text2'><use xlink:href='#icon-file-text2'></use></svg></label><input id='data-22ee43e0-b073-478d-b254-45830ecc1d16' class='xr-var-data-in' type='checkbox'><label for='data-22ee43e0-b073-478d-b254-45830ecc1d16' title='Show/Hide data repr'><svg class='icon xr-icon-database'><use xlink:href='#icon-database'></use></svg></label><div class='xr-var-attrs'><dl class='xr-attrs'><dt><span>long_name :</span></dt><dd>time</dd></dl></div><div class='xr-var-data'><pre>array([&#x27;2019-07-14T00:00:00.000000000&#x27;, &#x27;2019-07-14T01:00:00.000000000&#x27;,\n",
              "       &#x27;2019-07-14T02:00:00.000000000&#x27;, ..., &#x27;2021-07-24T21:00:00.000000000&#x27;,\n",
              "       &#x27;2021-07-24T22:00:00.000000000&#x27;, &#x27;2021-07-24T23:00:00.000000000&#x27;],\n",
              "      dtype=&#x27;datetime64[ns]&#x27;)</pre></div></li></ul></div></li><li class='xr-section-item'><input id='section-ba380461-2217-4423-98b3-5b5b22907d21' class='xr-section-summary-in' type='checkbox'  checked><label for='section-ba380461-2217-4423-98b3-5b5b22907d21' class='xr-section-summary' >Data variables: <span>(5)</span></label><div class='xr-section-inline-details'></div><div class='xr-section-details'><ul class='xr-var-list'><li class='xr-var-item'><div class='xr-var-name'><span>v10</span></div><div class='xr-var-dims'>(time)</div><div class='xr-var-dtype'>float32</div><div class='xr-var-preview xr-preview'>1.141 0.987 1.05 ... 0.9681 0.8923</div><input id='attrs-ba2077ea-d3c6-4e8b-bc86-5a1c863254c2' class='xr-var-attrs-in' type='checkbox' ><label for='attrs-ba2077ea-d3c6-4e8b-bc86-5a1c863254c2' title='Show/Hide attributes'><svg class='icon xr-icon-file-text2'><use xlink:href='#icon-file-text2'></use></svg></label><input id='data-d63f2d5e-0bb4-42ce-84e3-af30bdc58319' class='xr-var-data-in' type='checkbox'><label for='data-d63f2d5e-0bb4-42ce-84e3-af30bdc58319' title='Show/Hide data repr'><svg class='icon xr-icon-database'><use xlink:href='#icon-database'></use></svg></label><div class='xr-var-attrs'><dl class='xr-attrs'><dt><span>units :</span></dt><dd>m s**-1</dd><dt><span>long_name :</span></dt><dd>10 metre V wind component</dd></dl></div><div class='xr-var-data'><pre>array([1.141424, 0.987041, 1.050302, ..., 1.018329, 0.968086, 0.892265],\n",
              "      dtype=float32)</pre></div></li><li class='xr-var-item'><div class='xr-var-name'><span>t2m</span></div><div class='xr-var-dims'>(time)</div><div class='xr-var-dtype'>float32</div><div class='xr-var-preview xr-preview'>293.5 293.3 293.5 ... 293.2 292.7</div><input id='attrs-13be7614-c479-4dd8-bcd6-c8d39964d5df' class='xr-var-attrs-in' type='checkbox' ><label for='attrs-13be7614-c479-4dd8-bcd6-c8d39964d5df' title='Show/Hide attributes'><svg class='icon xr-icon-file-text2'><use xlink:href='#icon-file-text2'></use></svg></label><input id='data-22b56d5c-d890-4d70-83a3-883e42b20b44' class='xr-var-data-in' type='checkbox'><label for='data-22b56d5c-d890-4d70-83a3-883e42b20b44' title='Show/Hide data repr'><svg class='icon xr-icon-database'><use xlink:href='#icon-database'></use></svg></label><div class='xr-var-attrs'><dl class='xr-attrs'><dt><span>units :</span></dt><dd>K</dd><dt><span>long_name :</span></dt><dd>2 metre temperature</dd></dl></div><div class='xr-var-data'><pre>array([293.47934, 293.28384, 293.45374, ..., 293.2553 , 293.1557 , 292.71918],\n",
              "      dtype=float32)</pre></div></li><li class='xr-var-item'><div class='xr-var-name'><span>ssr</span></div><div class='xr-var-dims'>(time)</div><div class='xr-var-dtype'>float32</div><div class='xr-var-preview xr-preview'>1.119e+07 4.842e+03 ... 1.005e+07</div><input id='attrs-ba75cc91-3390-48bf-ae31-176c55dda299' class='xr-var-attrs-in' type='checkbox' ><label for='attrs-ba75cc91-3390-48bf-ae31-176c55dda299' title='Show/Hide attributes'><svg class='icon xr-icon-file-text2'><use xlink:href='#icon-file-text2'></use></svg></label><input id='data-9c6cd4ac-0f81-4106-b8b3-f5e3bc98e268' class='xr-var-data-in' type='checkbox'><label for='data-9c6cd4ac-0f81-4106-b8b3-f5e3bc98e268' title='Show/Hide data repr'><svg class='icon xr-icon-database'><use xlink:href='#icon-database'></use></svg></label><div class='xr-var-attrs'><dl class='xr-attrs'><dt><span>units :</span></dt><dd>J m**-2</dd><dt><span>long_name :</span></dt><dd>Surface net solar radiation</dd><dt><span>standard_name :</span></dt><dd>surface_net_downward_shortwave_flux</dd></dl></div><div class='xr-var-data'><pre>array([1.118501e+07, 4.842000e+03, 1.112970e+05, ..., 1.005019e+07,\n",
              "       1.005019e+07, 1.005019e+07], dtype=float32)</pre></div></li><li class='xr-var-item'><div class='xr-var-name'><span>sp</span></div><div class='xr-var-dims'>(time)</div><div class='xr-var-dtype'>float32</div><div class='xr-var-preview xr-preview'>9.031e+04 9.033e+04 ... 8.999e+04</div><input id='attrs-87d6c448-4066-4f7f-b2e2-54b133659683' class='xr-var-attrs-in' type='checkbox' ><label for='attrs-87d6c448-4066-4f7f-b2e2-54b133659683' title='Show/Hide attributes'><svg class='icon xr-icon-file-text2'><use xlink:href='#icon-file-text2'></use></svg></label><input id='data-4e85ce39-b1e0-4592-80a1-4ab6d7df569f' class='xr-var-data-in' type='checkbox'><label for='data-4e85ce39-b1e0-4592-80a1-4ab6d7df569f' title='Show/Hide data repr'><svg class='icon xr-icon-database'><use xlink:href='#icon-database'></use></svg></label><div class='xr-var-attrs'><dl class='xr-attrs'><dt><span>units :</span></dt><dd>Pa</dd><dt><span>long_name :</span></dt><dd>Surface pressure</dd><dt><span>standard_name :</span></dt><dd>surface_air_pressure</dd></dl></div><div class='xr-var-data'><pre>array([90310.81 , 90331.8  , 90399.96 , ..., 90007.625, 89976.41 , 89993.58 ],\n",
              "      dtype=float32)</pre></div></li><li class='xr-var-item'><div class='xr-var-name'><span>tp</span></div><div class='xr-var-dims'>(time)</div><div class='xr-var-dtype'>float32</div><div class='xr-var-preview xr-preview'>0.01136 0.0003281 ... 0.02457</div><input id='attrs-1aaf00fd-4847-4735-8464-e134f20e42f5' class='xr-var-attrs-in' type='checkbox' ><label for='attrs-1aaf00fd-4847-4735-8464-e134f20e42f5' title='Show/Hide attributes'><svg class='icon xr-icon-file-text2'><use xlink:href='#icon-file-text2'></use></svg></label><input id='data-4e2f4932-c093-4094-b1f7-e62948338890' class='xr-var-data-in' type='checkbox'><label for='data-4e2f4932-c093-4094-b1f7-e62948338890' title='Show/Hide data repr'><svg class='icon xr-icon-database'><use xlink:href='#icon-database'></use></svg></label><div class='xr-var-attrs'><dl class='xr-attrs'><dt><span>units :</span></dt><dd>m</dd><dt><span>long_name :</span></dt><dd>Total precipitation</dd></dl></div><div class='xr-var-data'><pre>array([0.011357, 0.000328, 0.001457, ..., 0.022767, 0.023587, 0.024567],\n",
              "      dtype=float32)</pre></div></li></ul></div></li><li class='xr-section-item'><input id='section-6797811f-7b47-466d-94af-80d1f8c9cdbd' class='xr-section-summary-in' type='checkbox'  checked><label for='section-6797811f-7b47-466d-94af-80d1f8c9cdbd' class='xr-section-summary' >Attributes: <span>(2)</span></label><div class='xr-section-inline-details'></div><div class='xr-section-details'><dl class='xr-attrs'><dt><span>Conventions :</span></dt><dd>CF-1.6</dd><dt><span>history :</span></dt><dd>2022-03-23 20:02:03 GMT by grib_to_netcdf-2.24.3: /opt/ecmwf/mars-client/bin/grib_to_netcdf -S param -o /cache/data8/adaptor.mars.internal-1648065712.1249936-1819-19-e5989e75-3dea-451f-b386-1f7c69024c10.nc /cache/tmp/e5989e75-3dea-451f-b386-1f7c69024c10-adaptor.mars.internal-1648064834.85191-1819-33-tmp.grib</dd></dl></div></li></ul></div></div>"
            ],
            "text/plain": [
              "<xarray.Dataset>\n",
              "Dimensions:    (time: 792)\n",
              "Coordinates:\n",
              "    longitude  float32 73.7\n",
              "    latitude   float32 17.9\n",
              "  * time       (time) datetime64[ns] 2019-07-14 ... 2021-07-24T23:00:00\n",
              "Data variables:\n",
              "    v10        (time) float32 1.141 0.987 1.05 1.109 ... 1.018 0.9681 0.8923\n",
              "    t2m        (time) float32 293.5 293.3 293.5 293.6 ... 293.3 293.2 292.7\n",
              "    ssr        (time) float32 1.119e+07 4.842e+03 ... 1.005e+07 1.005e+07\n",
              "    sp         (time) float32 9.031e+04 9.033e+04 ... 8.998e+04 8.999e+04\n",
              "    tp         (time) float32 0.01136 0.0003281 0.001457 ... 0.02359 0.02457\n",
              "Attributes:\n",
              "    Conventions:  CF-1.6\n",
              "    history:      2022-03-23 20:02:03 GMT by grib_to_netcdf-2.24.3: /opt/ecmw..."
            ]
          },
          "execution_count": 47,
          "metadata": {},
          "output_type": "execute_result"
        }
      ],
      "source": [
        "# Index your data so that you are only accessing data at this special location.\n",
        "data_mahabaleshwar = data.sel(latitude=lat[lat_ind_mahabaleshwar], longitude=lon[lon_ind_mahabaleshwar])\n",
        "data_mahabaleshwar"
      ]
    },
    {
      "cell_type": "markdown",
      "metadata": {
        "id": "rDsRU__4B7YD"
      },
      "source": [
        "### Line plot of total precipitation"
      ]
    },
    {
      "cell_type": "markdown",
      "metadata": {
        "id": "wjXDW2XLB8Ax"
      },
      "source": [
        "#### 2019 plot"
      ]
    },
    {
      "cell_type": "code",
      "execution_count": 48,
      "metadata": {
        "colab": {
          "base_uri": "https://localhost:8080/",
          "height": 341
        },
        "id": "sDQaXEBhBpRC",
        "outputId": "eeeb0d7d-486d-45be-bf84-0309264e083b"
      },
      "outputs": [
        {
          "data": {
            "text/plain": [
              "[<matplotlib.lines.Line2D at 0x7f02ccc52b10>]"
            ]
          },
          "execution_count": 48,
          "metadata": {},
          "output_type": "execute_result"
        },
        {
          "data": {
            "image/png": "[encoded data removed]",
            "text/plain": [
              "<Figure size 432x288 with 1 Axes>"
            ]
          },
          "metadata": {
            "needs_background": "light"
          },
          "output_type": "display_data"
        }
      ],
      "source": [
        "# make a line plot of all the total precip at this location, for all three years separately\n",
        "data_mahabaleshwar.tp.sel(time=data_mahabaleshwar.time.dt.year == 2019).plot(label='2019')"
      ]
    },
    {
      "cell_type": "markdown",
      "metadata": {
        "id": "7Dtd5vkCB919"
      },
      "source": [
        "#### 2020 plot"
      ]
    },
    {
      "cell_type": "code",
      "execution_count": 49,
      "metadata": {
        "colab": {
          "base_uri": "https://localhost:8080/",
          "height": 341
        },
        "id": "A5l6lNspB_Nz",
        "outputId": "d38b2caa-a071-4a77-a68f-841027ca1c3c"
      },
      "outputs": [
        {
          "data": {
            "text/plain": [
              "[<matplotlib.lines.Line2D at 0x7f02ccb99110>]"
            ]
          },
          "execution_count": 49,
          "metadata": {},
          "output_type": "execute_result"
        },
        {
          "data": {
            "image/png": "[encoded data removed]",
            "text/plain": [
              "<Figure size 432x288 with 1 Axes>"
            ]
          },
          "metadata": {
            "needs_background": "light"
          },
          "output_type": "display_data"
        }
      ],
      "source": [
        "# make a line plot of all the total precip at this location, for all three years separately\n",
        "data_mahabaleshwar.tp.sel(time=data_mahabaleshwar.time.dt.year == 2020).plot(label='2020')\n"
      ]
    },
    {
      "cell_type": "markdown",
      "metadata": {
        "id": "APaaA14QB_dj"
      },
      "source": [
        "#### 2021 plot"
      ]
    },
    {
      "cell_type": "code",
      "execution_count": 50,
      "metadata": {
        "colab": {
          "base_uri": "https://localhost:8080/",
          "height": 341
        },
        "id": "NzvEoQUyCBJk",
        "outputId": "41a1b9b0-7cd7-4d43-ff2e-c855c520a3ce"
      },
      "outputs": [
        {
          "data": {
            "text/plain": [
              "[<matplotlib.lines.Line2D at 0x7f02cca8e990>]"
            ]
          },
          "execution_count": 50,
          "metadata": {},
          "output_type": "execute_result"
        },
        {
          "data": {
            "image/png": "[encoded data removed]",
            "text/plain": [
              "<Figure size 432x288 with 1 Axes>"
            ]
          },
          "metadata": {
            "needs_background": "light"
          },
          "output_type": "display_data"
        }
      ],
      "source": [
        "# make a line plot of all the total precip at this location, for all three years separately\n",
        "data_mahabaleshwar.tp.sel(time=data_mahabaleshwar.time.dt.year == 2021).plot(label='2021')"
      ]
    },
    {
      "cell_type": "markdown",
      "metadata": {},
      "source": [
        "- As we can see from the above, in 2021, the rainfall was consistently more than what we could see in 2019 and 2020. \n",
        "- If the rainfall is more, the river gets flooded pretty sooner. So, once we know that the rainfall has been consistently more for a few days, we can warn the people to start taking precautions. - Also, the precipitation values in Mahabaleshwar and Mahad are similar. There is not much difference. "
      ]
    },
    {
      "cell_type": "markdown",
      "metadata": {},
      "source": [
        "## Challenges\n",
        "\n",
        "- I had initially downloaded the data for the entire country of India. But, it would be irrelevant to the aim of this project, and the size was 400 mb in total. So, I downloaded the data pertaining to the Maharashtra state, where my hometown is. \n",
        "\n",
        "- We will also be transforming the data for deep neural networks for forecasting."
      ]
    }
  ],
  "metadata": {
    "colab": {
      "collapsed_sections": [],
      "name": "milestone2.ipynb",
      "provenance": []
    },
    "kernelspec": {
      "display_name": "Python 3",
      "name": "python3"
    },
    "language_info": {
      "name": "python"
    },
    "orig_nbformat": 4
  },
  "nbformat": 4,
  "nbformat_minor": 0
}
