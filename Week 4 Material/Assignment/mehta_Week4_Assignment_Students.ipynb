{
  "cells": [
    {
      "cell_type": "markdown",
      "id": "6281594e",
      "metadata": {
        "id": "6281594e"
      },
      "source": [
        "# IT'S.....PRECIPITATION TIME!\n",
        "\n",
        "# Introduction + data used:\n",
        "- In this assignment, you'll explore precipitation data!\n",
        "<br><br>\n",
        "- What you'll be analyzing is daily precipitation data for the continental US for the year 2020\n",
        "<br><br>\n",
        "- It's important to clarify that this is *liquid* precipitation - so snow is measured by its liquid equivalent \n",
        "<br><br>\n",
        "- Want more information on the data? (You should! #metadataisimportant): \n",
        "https://psl.noaa.gov/data/gridded/data.unified.daily.conus.rt.html"
      ]
    },
    {
      "cell_type": "markdown",
      "id": "cd54524e",
      "metadata": {
        "id": "cd54524e"
      },
      "source": [
        "#### Import xarray as xr, numpy as np, and pyplot from matplotlib as plt"
      ]
    },
    {
      "cell_type": "code",
      "execution_count": 1,
      "id": "ec65440e",
      "metadata": {
        "id": "ec65440e"
      },
      "outputs": [],
      "source": [
        "import xarray as xr\n",
        "import numpy as np\n",
        "from matplotlib import pyplot as plt"
      ]
    },
    {
      "cell_type": "markdown",
      "id": "5e7f11c9",
      "metadata": {
        "id": "5e7f11c9"
      },
      "source": [
        "#### Let's open our data file! *I GIVE YOU THE CODE FOR THIS*"
      ]
    },
    {
      "cell_type": "code",
      "execution_count": 3,
      "id": "1273bf9a",
      "metadata": {
        "id": "1273bf9a"
      },
      "outputs": [],
      "source": [
        "# open_dataarray is one of the main functions in Xarray to open a Netcdf file!\n",
        "# the other function is open_dataset.  If our netcdf file contained MULTIPLE variables\n",
        "# say, precip, and temperature, etc.\n",
        "# we would instead open it as a dataset, and access specific variables separately\n",
        "data = xr.open_dataset('precip.V1.0.2020.nc')"
      ]
    },
    {
      "cell_type": "markdown",
      "id": "2e804663",
      "metadata": {
        "id": "2e804663"
      },
      "source": [
        "#### Prints out information about the data in this Netcdf file.  *I GIVE YOU THE CODE FOR THIS*\n",
        "- Remember: Netcdf is a binary file format, and we'll work a lot with it in future using the Xarray package, especially for *spatial* data!"
      ]
    },
    {
      "cell_type": "code",
      "execution_count": 4,
      "id": "f10b510e",
      "metadata": {
        "colab": {
          "base_uri": "https://localhost:8080/"
        },
        "id": "f10b510e",
        "outputId": "793617d6-6180-47fa-de0d-604d7e3ebad8"
      },
      "outputs": [
        {
          "output_type": "stream",
          "name": "stdout",
          "text": [
            "<xarray.Dataset>\n",
            "Dimensions:  (lat: 120, lon: 300, time: 366)\n",
            "Coordinates:\n",
            "  * lat      (lat) float32 20.12 20.38 20.62 20.88 ... 49.12 49.38 49.62 49.88\n",
            "  * lon      (lon) float32 230.1 230.4 230.6 230.9 ... 304.1 304.4 304.6 304.9\n",
            "  * time     (time) datetime64[ns] 2020-01-01 2020-01-02 ... 2020-12-31\n",
            "Data variables:\n",
            "    precip   (time, lat, lon) float32 ...\n",
            "Attributes:\n",
            "    title:          CPC Unified Gauge-Based Analysis of Daily Precipitation o...\n",
            "    Conventions:    COARDS\n",
            "    history:        created 04/2010 by CAS from data obtained from NCEP/CPC\\n...\n",
            "    description:    Gridded daily Precipitation\n",
            "    platform:       Observations\n",
            "    Comments:       Preciptation is accumulated from 12z of previous day to 1...\n",
            "    dataset_title:  CPC Unified Gauge-Based Analysis of Daily Precipitation o...\n",
            "    References:     http://www.psl.noaa.gov/data/gridded/data.unified.daily.c...\n"
          ]
        }
      ],
      "source": [
        "# Print\n",
        "print(data) # since we opened this Netcdf file and read directly in a data array variable\n",
        "            # 'data' contains the precipitation data we are working with"
      ]
    },
    {
      "cell_type": "code",
      "execution_count": 5,
      "id": "23bbad8c",
      "metadata": {
        "colab": {
          "base_uri": "https://localhost:8080/"
        },
        "id": "23bbad8c",
        "outputId": "a08b790f-d310-4c8b-c343-9f5a23930f64"
      },
      "outputs": [
        {
          "output_type": "stream",
          "name": "stdout",
          "text": [
            "Coordinates:\n",
            "  * lat      (lat) float32 20.12 20.38 20.62 20.88 ... 49.12 49.38 49.62 49.88\n",
            "  * lon      (lon) float32 230.1 230.4 230.6 230.9 ... 304.1 304.4 304.6 304.9\n",
            "  * time     (time) datetime64[ns] 2020-01-01 2020-01-02 ... 2020-12-31\n"
          ]
        }
      ],
      "source": [
        "print(data.coords) # coords is an attribute of the Xarray data array variable that will specifically give us coordinate info\n",
        "# if you look in the cell above, this metadata is also included when just simply printing the Xarray data array variable itself"
      ]
    },
    {
      "cell_type": "markdown",
      "id": "31515cd1",
      "metadata": {
        "id": "31515cd1"
      },
      "source": [
        "## *YOUR TURN*:  \n",
        "#### (1) Let's start thinking more about spatial data (much more to follow in next week's lessons!) Based on the metadata printed out above:\n",
        " - (a.)  what are the precipitation variable's UNITS?\n",
        "<br><br>\n",
        " - (b.)  what are the precipitation variable's COORDINATES? \n",
        "    - You *MUST* include a description of the direction of the order of each of the spatial coordinates (northward? southward? eastward? westward?)"
      ]
    },
    {
      "cell_type": "code",
      "execution_count": 7,
      "id": "5f745cc8",
      "metadata": {
        "colab": {
          "base_uri": "https://localhost:8080/"
        },
        "id": "5f745cc8",
        "outputId": "6e7853ac-0475-4995-8fd1-de45a60b4792"
      },
      "outputs": [
        {
          "output_type": "stream",
          "name": "stdout",
          "text": [
            "The precipitation variable's UNITS are: mm\n"
          ]
        }
      ],
      "source": [
        "# (a.) \n",
        "print(f\"The precipitation variable's UNITS are: mm\")\n"
      ]
    },
    {
      "cell_type": "code",
      "execution_count": 9,
      "id": "4c3385b5",
      "metadata": {
        "colab": {
          "base_uri": "https://localhost:8080/"
        },
        "id": "4c3385b5",
        "outputId": "3aa4935f-8634-48df-e3df-ec92fe412cc9"
      },
      "outputs": [
        {
          "output_type": "stream",
          "name": "stdout",
          "text": [
            "The precipitation variable's COORDINATES are: Coordinates:\n",
            "  * lat      (lat) float32 20.12 20.38 20.62 20.88 ... 49.12 49.38 49.62 49.88\n",
            "  * lon      (lon) float32 230.1 230.4 230.6 230.9 ... 304.1 304.4 304.6 304.9\n",
            "  * time     (time) datetime64[ns] 2020-01-01 2020-01-02 ... 2020-12-31\n",
            "The latitude coordinate is northward, and the longitude coordinate is eastward\n"
          ]
        }
      ],
      "source": [
        "# (b.) what are the precipitation variable's COORDINATES?\n",
        "print(f\"The precipitation variable's COORDINATES are: {data.coords}\")\n",
        "# You *MUST* include a description of the direction of the order of each of the spatial coordinates (northward? southward? eastward? westward?)\n",
        "print(f\"The latitude coordinate is northward, and the longitude coordinate is eastward\")\n",
        "\n"
      ]
    },
    {
      "cell_type": "markdown",
      "id": "5c3f7ca9",
      "metadata": {
        "id": "5c3f7ca9"
      },
      "source": [
        "#### Save the coordinate variables of lat, lon, and time each to their own variable (technically, each a data array) *I GIVE YOU THE CODE FOR THIS*"
      ]
    },
    {
      "cell_type": "code",
      "execution_count": 10,
      "id": "7ec72cb0",
      "metadata": {
        "colab": {
          "base_uri": "https://localhost:8080/"
        },
        "id": "7ec72cb0",
        "outputId": "aea32ee9-81b2-4b28-c18c-ae733cdb21d7"
      },
      "outputs": [
        {
          "output_type": "stream",
          "name": "stdout",
          "text": [
            "<xarray.DataArray 'lat' (lat: 120)>\n",
            "array([20.125, 20.375, 20.625, 20.875, 21.125, 21.375, 21.625, 21.875, 22.125,\n",
            "       22.375, 22.625, 22.875, 23.125, 23.375, 23.625, 23.875, 24.125, 24.375,\n",
            "       24.625, 24.875, 25.125, 25.375, 25.625, 25.875, 26.125, 26.375, 26.625,\n",
            "       26.875, 27.125, 27.375, 27.625, 27.875, 28.125, 28.375, 28.625, 28.875,\n",
            "       29.125, 29.375, 29.625, 29.875, 30.125, 30.375, 30.625, 30.875, 31.125,\n",
            "       31.375, 31.625, 31.875, 32.125, 32.375, 32.625, 32.875, 33.125, 33.375,\n",
            "       33.625, 33.875, 34.125, 34.375, 34.625, 34.875, 35.125, 35.375, 35.625,\n",
            "       35.875, 36.125, 36.375, 36.625, 36.875, 37.125, 37.375, 37.625, 37.875,\n",
            "       38.125, 38.375, 38.625, 38.875, 39.125, 39.375, 39.625, 39.875, 40.125,\n",
            "       40.375, 40.625, 40.875, 41.125, 41.375, 41.625, 41.875, 42.125, 42.375,\n",
            "       42.625, 42.875, 43.125, 43.375, 43.625, 43.875, 44.125, 44.375, 44.625,\n",
            "       44.875, 45.125, 45.375, 45.625, 45.875, 46.125, 46.375, 46.625, 46.875,\n",
            "       47.125, 47.375, 47.625, 47.875, 48.125, 48.375, 48.625, 48.875, 49.125,\n",
            "       49.375, 49.625, 49.875], dtype=float32)\n",
            "Coordinates:\n",
            "  * lat      (lat) float32 20.12 20.38 20.62 20.88 ... 49.12 49.38 49.62 49.88\n",
            "Attributes:\n",
            "    units:          degrees_north\n",
            "    long_name:      Latitude\n",
            "    actual_range:   [20.125 49.875]\n",
            "    standard_name:  latitude\n",
            "    axis:           Y\n",
            "<xarray.DataArray 'lon' (lon: 300)>\n",
            "array([230.125, 230.375, 230.625, ..., 304.375, 304.625, 304.875],\n",
            "      dtype=float32)\n",
            "Coordinates:\n",
            "  * lon      (lon) float32 230.1 230.4 230.6 230.9 ... 304.1 304.4 304.6 304.9\n",
            "Attributes:\n",
            "    units:          degrees_east\n",
            "    long_name:      Longitude\n",
            "    actual_range:   [230.125 304.875]\n",
            "    standard_name:  longitude\n",
            "    axis:           X\n",
            "<xarray.DataArray 'time' (time: 366)>\n",
            "array(['2020-01-01T00:00:00.000000000', '2020-01-02T00:00:00.000000000',\n",
            "       '2020-01-03T00:00:00.000000000', ..., '2020-12-29T00:00:00.000000000',\n",
            "       '2020-12-30T00:00:00.000000000', '2020-12-31T00:00:00.000000000'],\n",
            "      dtype='datetime64[ns]')\n",
            "Coordinates:\n",
            "  * time     (time) datetime64[ns] 2020-01-01 2020-01-02 ... 2020-12-31\n",
            "Attributes:\n",
            "    long_name:      Time\n",
            "    delta_t:        0000-00-01 00:00:00\n",
            "    avg_period:     0000-00-01 00:00:00\n",
            "    standard_name:  time\n",
            "    axis:           T\n",
            "    actual_range:   [1928472. 1937232.]\n"
          ]
        }
      ],
      "source": [
        "lat2 = data['lat'] # these are *coordinate* variables in the Netcdf file\n",
        "                          # they are affiliated with the data array, 'data'\n",
        "                          # and thus we can access them like this!\n",
        "print(lat2)\n",
        "lon2 = data['lon']\n",
        "print(lon2)\n",
        "times2 = data['time']\n",
        "print(times2)"
      ]
    },
    {
      "cell_type": "markdown",
      "id": "50b37abb",
      "metadata": {
        "id": "50b37abb"
      },
      "source": [
        "#### Convert each of the three data arrays into a NumPy array  *I GIVE YOU THE CODE FOR THIS*\n",
        "- Since you haven't learned Xarray yet, let's get data into a format you know how to work with!"
      ]
    },
    {
      "cell_type": "code",
      "execution_count": 19,
      "id": "0efd3eea",
      "metadata": {
        "id": "0efd3eea"
      },
      "outputs": [],
      "source": [
        "precip = data['precip'].values # nifty function that converts the Xarray data array variable into a NumPy array\n",
        "# 'precip' contains all the precip data, fyi\n",
        "lat = lat2.values # values of the latitude coordinate variable\n",
        "lon = lon2.values # values of the longitude coordinate variable"
      ]
    },
    {
      "cell_type": "code",
      "source": [
        "data"
      ],
      "metadata": {
        "colab": {
          "base_uri": "https://localhost:8080/",
          "height": 401
        },
        "id": "DU1_KKzNXhOX",
        "outputId": "7d89c493-5ade-498e-bbca-06dbc7d04854"
      },
      "id": "DU1_KKzNXhOX",
      "execution_count": 18,
      "outputs": [
        {
          "output_type": "execute_result",
          "data": {
            "text/html": [
              "<div><svg style=\"position: absolute; width: 0; height: 0; overflow: hidden\">\n",
              "<defs>\n",
              "<symbol id=\"icon-database\" viewBox=\"0 0 32 32\">\n",
              "<path d=\"M16 0c-8.837 0-16 2.239-16 5v4c0 2.761 7.163 5 16 5s16-2.239 16-5v-4c0-2.761-7.163-5-16-5z\"></path>\n",
              "<path d=\"M16 17c-8.837 0-16-2.239-16-5v6c0 2.761 7.163 5 16 5s16-2.239 16-5v-6c0 2.761-7.163 5-16 5z\"></path>\n",
              "<path d=\"M16 26c-8.837 0-16-2.239-16-5v6c0 2.761 7.163 5 16 5s16-2.239 16-5v-6c0 2.761-7.163 5-16 5z\"></path>\n",
              "</symbol>\n",
              "<symbol id=\"icon-file-text2\" viewBox=\"0 0 32 32\">\n",
              "<path d=\"M28.681 7.159c-0.694-0.947-1.662-2.053-2.724-3.116s-2.169-2.030-3.116-2.724c-1.612-1.182-2.393-1.319-2.841-1.319h-15.5c-1.378 0-2.5 1.121-2.5 2.5v27c0 1.378 1.122 2.5 2.5 2.5h23c1.378 0 2.5-1.122 2.5-2.5v-19.5c0-0.448-0.137-1.23-1.319-2.841zM24.543 5.457c0.959 0.959 1.712 1.825 2.268 2.543h-4.811v-4.811c0.718 0.556 1.584 1.309 2.543 2.268zM28 29.5c0 0.271-0.229 0.5-0.5 0.5h-23c-0.271 0-0.5-0.229-0.5-0.5v-27c0-0.271 0.229-0.5 0.5-0.5 0 0 15.499-0 15.5 0v7c0 0.552 0.448 1 1 1h7v19.5z\"></path>\n",
              "<path d=\"M23 26h-14c-0.552 0-1-0.448-1-1s0.448-1 1-1h14c0.552 0 1 0.448 1 1s-0.448 1-1 1z\"></path>\n",
              "<path d=\"M23 22h-14c-0.552 0-1-0.448-1-1s0.448-1 1-1h14c0.552 0 1 0.448 1 1s-0.448 1-1 1z\"></path>\n",
              "<path d=\"M23 18h-14c-0.552 0-1-0.448-1-1s0.448-1 1-1h14c0.552 0 1 0.448 1 1s-0.448 1-1 1z\"></path>\n",
              "</symbol>\n",
              "</defs>\n",
              "</svg>\n",
              "<style>/* CSS stylesheet for displaying xarray objects in jupyterlab.\n",
              " *\n",
              " */\n",
              "\n",
              ":root {\n",
              "  --xr-font-color0: var(--jp-content-font-color0, rgba(0, 0, 0, 1));\n",
              "  --xr-font-color2: var(--jp-content-font-color2, rgba(0, 0, 0, 0.54));\n",
              "  --xr-font-color3: var(--jp-content-font-color3, rgba(0, 0, 0, 0.38));\n",
              "  --xr-border-color: var(--jp-border-color2, #e0e0e0);\n",
              "  --xr-disabled-color: var(--jp-layout-color3, #bdbdbd);\n",
              "  --xr-background-color: var(--jp-layout-color0, white);\n",
              "  --xr-background-color-row-even: var(--jp-layout-color1, white);\n",
              "  --xr-background-color-row-odd: var(--jp-layout-color2, #eeeeee);\n",
              "}\n",
              "\n",
              "html[theme=dark],\n",
              "body.vscode-dark {\n",
              "  --xr-font-color0: rgba(255, 255, 255, 1);\n",
              "  --xr-font-color2: rgba(255, 255, 255, 0.54);\n",
              "  --xr-font-color3: rgba(255, 255, 255, 0.38);\n",
              "  --xr-border-color: #1F1F1F;\n",
              "  --xr-disabled-color: #515151;\n",
              "  --xr-background-color: #111111;\n",
              "  --xr-background-color-row-even: #111111;\n",
              "  --xr-background-color-row-odd: #313131;\n",
              "}\n",
              "\n",
              ".xr-wrap {\n",
              "  display: block;\n",
              "  min-width: 300px;\n",
              "  max-width: 700px;\n",
              "}\n",
              "\n",
              ".xr-text-repr-fallback {\n",
              "  /* fallback to plain text repr when CSS is not injected (untrusted notebook) */\n",
              "  display: none;\n",
              "}\n",
              "\n",
              ".xr-header {\n",
              "  padding-top: 6px;\n",
              "  padding-bottom: 6px;\n",
              "  margin-bottom: 4px;\n",
              "  border-bottom: solid 1px var(--xr-border-color);\n",
              "}\n",
              "\n",
              ".xr-header > div,\n",
              ".xr-header > ul {\n",
              "  display: inline;\n",
              "  margin-top: 0;\n",
              "  margin-bottom: 0;\n",
              "}\n",
              "\n",
              ".xr-obj-type,\n",
              ".xr-array-name {\n",
              "  margin-left: 2px;\n",
              "  margin-right: 10px;\n",
              "}\n",
              "\n",
              ".xr-obj-type {\n",
              "  color: var(--xr-font-color2);\n",
              "}\n",
              "\n",
              ".xr-sections {\n",
              "  padding-left: 0 !important;\n",
              "  display: grid;\n",
              "  grid-template-columns: 150px auto auto 1fr 20px 20px;\n",
              "}\n",
              "\n",
              ".xr-section-item {\n",
              "  display: contents;\n",
              "}\n",
              "\n",
              ".xr-section-item input {\n",
              "  display: none;\n",
              "}\n",
              "\n",
              ".xr-section-item input + label {\n",
              "  color: var(--xr-disabled-color);\n",
              "}\n",
              "\n",
              ".xr-section-item input:enabled + label {\n",
              "  cursor: pointer;\n",
              "  color: var(--xr-font-color2);\n",
              "}\n",
              "\n",
              ".xr-section-item input:enabled + label:hover {\n",
              "  color: var(--xr-font-color0);\n",
              "}\n",
              "\n",
              ".xr-section-summary {\n",
              "  grid-column: 1;\n",
              "  color: var(--xr-font-color2);\n",
              "  font-weight: 500;\n",
              "}\n",
              "\n",
              ".xr-section-summary > span {\n",
              "  display: inline-block;\n",
              "  padding-left: 0.5em;\n",
              "}\n",
              "\n",
              ".xr-section-summary-in:disabled + label {\n",
              "  color: var(--xr-font-color2);\n",
              "}\n",
              "\n",
              ".xr-section-summary-in + label:before {\n",
              "  display: inline-block;\n",
              "  content: '►';\n",
              "  font-size: 11px;\n",
              "  width: 15px;\n",
              "  text-align: center;\n",
              "}\n",
              "\n",
              ".xr-section-summary-in:disabled + label:before {\n",
              "  color: var(--xr-disabled-color);\n",
              "}\n",
              "\n",
              ".xr-section-summary-in:checked + label:before {\n",
              "  content: '▼';\n",
              "}\n",
              "\n",
              ".xr-section-summary-in:checked + label > span {\n",
              "  display: none;\n",
              "}\n",
              "\n",
              ".xr-section-summary,\n",
              ".xr-section-inline-details {\n",
              "  padding-top: 4px;\n",
              "  padding-bottom: 4px;\n",
              "}\n",
              "\n",
              ".xr-section-inline-details {\n",
              "  grid-column: 2 / -1;\n",
              "}\n",
              "\n",
              ".xr-section-details {\n",
              "  display: none;\n",
              "  grid-column: 1 / -1;\n",
              "  margin-bottom: 5px;\n",
              "}\n",
              "\n",
              ".xr-section-summary-in:checked ~ .xr-section-details {\n",
              "  display: contents;\n",
              "}\n",
              "\n",
              ".xr-array-wrap {\n",
              "  grid-column: 1 / -1;\n",
              "  display: grid;\n",
              "  grid-template-columns: 20px auto;\n",
              "}\n",
              "\n",
              ".xr-array-wrap > label {\n",
              "  grid-column: 1;\n",
              "  vertical-align: top;\n",
              "}\n",
              "\n",
              ".xr-preview {\n",
              "  color: var(--xr-font-color3);\n",
              "}\n",
              "\n",
              ".xr-array-preview,\n",
              ".xr-array-data {\n",
              "  padding: 0 5px !important;\n",
              "  grid-column: 2;\n",
              "}\n",
              "\n",
              ".xr-array-data,\n",
              ".xr-array-in:checked ~ .xr-array-preview {\n",
              "  display: none;\n",
              "}\n",
              "\n",
              ".xr-array-in:checked ~ .xr-array-data,\n",
              ".xr-array-preview {\n",
              "  display: inline-block;\n",
              "}\n",
              "\n",
              ".xr-dim-list {\n",
              "  display: inline-block !important;\n",
              "  list-style: none;\n",
              "  padding: 0 !important;\n",
              "  margin: 0;\n",
              "}\n",
              "\n",
              ".xr-dim-list li {\n",
              "  display: inline-block;\n",
              "  padding: 0;\n",
              "  margin: 0;\n",
              "}\n",
              "\n",
              ".xr-dim-list:before {\n",
              "  content: '(';\n",
              "}\n",
              "\n",
              ".xr-dim-list:after {\n",
              "  content: ')';\n",
              "}\n",
              "\n",
              ".xr-dim-list li:not(:last-child):after {\n",
              "  content: ',';\n",
              "  padding-right: 5px;\n",
              "}\n",
              "\n",
              ".xr-has-index {\n",
              "  font-weight: bold;\n",
              "}\n",
              "\n",
              ".xr-var-list,\n",
              ".xr-var-item {\n",
              "  display: contents;\n",
              "}\n",
              "\n",
              ".xr-var-item > div,\n",
              ".xr-var-item label,\n",
              ".xr-var-item > .xr-var-name span {\n",
              "  background-color: var(--xr-background-color-row-even);\n",
              "  margin-bottom: 0;\n",
              "}\n",
              "\n",
              ".xr-var-item > .xr-var-name:hover span {\n",
              "  padding-right: 5px;\n",
              "}\n",
              "\n",
              ".xr-var-list > li:nth-child(odd) > div,\n",
              ".xr-var-list > li:nth-child(odd) > label,\n",
              ".xr-var-list > li:nth-child(odd) > .xr-var-name span {\n",
              "  background-color: var(--xr-background-color-row-odd);\n",
              "}\n",
              "\n",
              ".xr-var-name {\n",
              "  grid-column: 1;\n",
              "}\n",
              "\n",
              ".xr-var-dims {\n",
              "  grid-column: 2;\n",
              "}\n",
              "\n",
              ".xr-var-dtype {\n",
              "  grid-column: 3;\n",
              "  text-align: right;\n",
              "  color: var(--xr-font-color2);\n",
              "}\n",
              "\n",
              ".xr-var-preview {\n",
              "  grid-column: 4;\n",
              "}\n",
              "\n",
              ".xr-var-name,\n",
              ".xr-var-dims,\n",
              ".xr-var-dtype,\n",
              ".xr-preview,\n",
              ".xr-attrs dt {\n",
              "  white-space: nowrap;\n",
              "  overflow: hidden;\n",
              "  text-overflow: ellipsis;\n",
              "  padding-right: 10px;\n",
              "}\n",
              "\n",
              ".xr-var-name:hover,\n",
              ".xr-var-dims:hover,\n",
              ".xr-var-dtype:hover,\n",
              ".xr-attrs dt:hover {\n",
              "  overflow: visible;\n",
              "  width: auto;\n",
              "  z-index: 1;\n",
              "}\n",
              "\n",
              ".xr-var-attrs,\n",
              ".xr-var-data {\n",
              "  display: none;\n",
              "  background-color: var(--xr-background-color) !important;\n",
              "  padding-bottom: 5px !important;\n",
              "}\n",
              "\n",
              ".xr-var-attrs-in:checked ~ .xr-var-attrs,\n",
              ".xr-var-data-in:checked ~ .xr-var-data {\n",
              "  display: block;\n",
              "}\n",
              "\n",
              ".xr-var-data > table {\n",
              "  float: right;\n",
              "}\n",
              "\n",
              ".xr-var-name span,\n",
              ".xr-var-data,\n",
              ".xr-attrs {\n",
              "  padding-left: 25px !important;\n",
              "}\n",
              "\n",
              ".xr-attrs,\n",
              ".xr-var-attrs,\n",
              ".xr-var-data {\n",
              "  grid-column: 1 / -1;\n",
              "}\n",
              "\n",
              "dl.xr-attrs {\n",
              "  padding: 0;\n",
              "  margin: 0;\n",
              "  display: grid;\n",
              "  grid-template-columns: 125px auto;\n",
              "}\n",
              "\n",
              ".xr-attrs dt,\n",
              ".xr-attrs dd {\n",
              "  padding: 0;\n",
              "  margin: 0;\n",
              "  float: left;\n",
              "  padding-right: 10px;\n",
              "  width: auto;\n",
              "}\n",
              "\n",
              ".xr-attrs dt {\n",
              "  font-weight: normal;\n",
              "  grid-column: 1;\n",
              "}\n",
              "\n",
              ".xr-attrs dt:hover span {\n",
              "  display: inline-block;\n",
              "  background: var(--xr-background-color);\n",
              "  padding-right: 10px;\n",
              "}\n",
              "\n",
              ".xr-attrs dd {\n",
              "  grid-column: 2;\n",
              "  white-space: pre-wrap;\n",
              "  word-break: break-all;\n",
              "}\n",
              "\n",
              ".xr-icon-database,\n",
              ".xr-icon-file-text2 {\n",
              "  display: inline-block;\n",
              "  vertical-align: middle;\n",
              "  width: 1em;\n",
              "  height: 1.5em !important;\n",
              "  stroke-width: 0;\n",
              "  stroke: currentColor;\n",
              "  fill: currentColor;\n",
              "}\n",
              "</style><pre class='xr-text-repr-fallback'>&lt;xarray.Dataset&gt;\n",
              "Dimensions:  (lat: 120, lon: 300, time: 366)\n",
              "Coordinates:\n",
              "  * lat      (lat) float32 20.12 20.38 20.62 20.88 ... 49.12 49.38 49.62 49.88\n",
              "  * lon      (lon) float32 230.1 230.4 230.6 230.9 ... 304.1 304.4 304.6 304.9\n",
              "  * time     (time) datetime64[ns] 2020-01-01 2020-01-02 ... 2020-12-31\n",
              "Data variables:\n",
              "    precip   (time, lat, lon) float32 nan nan nan nan nan ... nan nan nan nan\n",
              "Attributes:\n",
              "    title:          CPC Unified Gauge-Based Analysis of Daily Precipitation o...\n",
              "    Conventions:    COARDS\n",
              "    history:        created 04/2010 by CAS from data obtained from NCEP/CPC\\n...\n",
              "    description:    Gridded daily Precipitation\n",
              "    platform:       Observations\n",
              "    Comments:       Preciptation is accumulated from 12z of previous day to 1...\n",
              "    dataset_title:  CPC Unified Gauge-Based Analysis of Daily Precipitation o...\n",
              "    References:     http://www.psl.noaa.gov/data/gridded/data.unified.daily.c...</pre><div class='xr-wrap' hidden><div class='xr-header'><div class='xr-obj-type'>xarray.Dataset</div></div><ul class='xr-sections'><li class='xr-section-item'><input id='section-1a9d166d-b61e-45cf-85d2-56a435fe87e3' class='xr-section-summary-in' type='checkbox' disabled ><label for='section-1a9d166d-b61e-45cf-85d2-56a435fe87e3' class='xr-section-summary'  title='Expand/collapse section'>Dimensions:</label><div class='xr-section-inline-details'><ul class='xr-dim-list'><li><span class='xr-has-index'>lat</span>: 120</li><li><span class='xr-has-index'>lon</span>: 300</li><li><span class='xr-has-index'>time</span>: 366</li></ul></div><div class='xr-section-details'></div></li><li class='xr-section-item'><input id='section-cdd07f99-a28f-4716-9f35-05b8e7c2b9a4' class='xr-section-summary-in' type='checkbox'  checked><label for='section-cdd07f99-a28f-4716-9f35-05b8e7c2b9a4' class='xr-section-summary' >Coordinates: <span>(3)</span></label><div class='xr-section-inline-details'></div><div class='xr-section-details'><ul class='xr-var-list'><li class='xr-var-item'><div class='xr-var-name'><span class='xr-has-index'>lat</span></div><div class='xr-var-dims'>(lat)</div><div class='xr-var-dtype'>float32</div><div class='xr-var-preview xr-preview'>20.12 20.38 20.62 ... 49.62 49.88</div><input id='attrs-1ad72d65-a72e-4348-b07b-e95d59b817b8' class='xr-var-attrs-in' type='checkbox' ><label for='attrs-1ad72d65-a72e-4348-b07b-e95d59b817b8' title='Show/Hide attributes'><svg class='icon xr-icon-file-text2'><use xlink:href='#icon-file-text2'></use></svg></label><input id='data-131e4dc4-4327-4a76-b806-97b653cd914c' class='xr-var-data-in' type='checkbox'><label for='data-131e4dc4-4327-4a76-b806-97b653cd914c' title='Show/Hide data repr'><svg class='icon xr-icon-database'><use xlink:href='#icon-database'></use></svg></label><div class='xr-var-attrs'><dl class='xr-attrs'><dt><span>units :</span></dt><dd>degrees_north</dd><dt><span>long_name :</span></dt><dd>Latitude</dd><dt><span>actual_range :</span></dt><dd>[20.125 49.875]</dd><dt><span>standard_name :</span></dt><dd>latitude</dd><dt><span>axis :</span></dt><dd>Y</dd></dl></div><div class='xr-var-data'><pre>array([20.125, 20.375, 20.625, 20.875, 21.125, 21.375, 21.625, 21.875, 22.125,\n",
              "       22.375, 22.625, 22.875, 23.125, 23.375, 23.625, 23.875, 24.125, 24.375,\n",
              "       24.625, 24.875, 25.125, 25.375, 25.625, 25.875, 26.125, 26.375, 26.625,\n",
              "       26.875, 27.125, 27.375, 27.625, 27.875, 28.125, 28.375, 28.625, 28.875,\n",
              "       29.125, 29.375, 29.625, 29.875, 30.125, 30.375, 30.625, 30.875, 31.125,\n",
              "       31.375, 31.625, 31.875, 32.125, 32.375, 32.625, 32.875, 33.125, 33.375,\n",
              "       33.625, 33.875, 34.125, 34.375, 34.625, 34.875, 35.125, 35.375, 35.625,\n",
              "       35.875, 36.125, 36.375, 36.625, 36.875, 37.125, 37.375, 37.625, 37.875,\n",
              "       38.125, 38.375, 38.625, 38.875, 39.125, 39.375, 39.625, 39.875, 40.125,\n",
              "       40.375, 40.625, 40.875, 41.125, 41.375, 41.625, 41.875, 42.125, 42.375,\n",
              "       42.625, 42.875, 43.125, 43.375, 43.625, 43.875, 44.125, 44.375, 44.625,\n",
              "       44.875, 45.125, 45.375, 45.625, 45.875, 46.125, 46.375, 46.625, 46.875,\n",
              "       47.125, 47.375, 47.625, 47.875, 48.125, 48.375, 48.625, 48.875, 49.125,\n",
              "       49.375, 49.625, 49.875], dtype=float32)</pre></div></li><li class='xr-var-item'><div class='xr-var-name'><span class='xr-has-index'>lon</span></div><div class='xr-var-dims'>(lon)</div><div class='xr-var-dtype'>float32</div><div class='xr-var-preview xr-preview'>230.1 230.4 230.6 ... 304.6 304.9</div><input id='attrs-b8b8f92d-f584-4dae-a8d3-47d48f06a3e6' class='xr-var-attrs-in' type='checkbox' ><label for='attrs-b8b8f92d-f584-4dae-a8d3-47d48f06a3e6' title='Show/Hide attributes'><svg class='icon xr-icon-file-text2'><use xlink:href='#icon-file-text2'></use></svg></label><input id='data-c58bf1dd-a3e1-403c-8c72-4b892c3529d3' class='xr-var-data-in' type='checkbox'><label for='data-c58bf1dd-a3e1-403c-8c72-4b892c3529d3' title='Show/Hide data repr'><svg class='icon xr-icon-database'><use xlink:href='#icon-database'></use></svg></label><div class='xr-var-attrs'><dl class='xr-attrs'><dt><span>units :</span></dt><dd>degrees_east</dd><dt><span>long_name :</span></dt><dd>Longitude</dd><dt><span>actual_range :</span></dt><dd>[230.125 304.875]</dd><dt><span>standard_name :</span></dt><dd>longitude</dd><dt><span>axis :</span></dt><dd>X</dd></dl></div><div class='xr-var-data'><pre>array([230.125, 230.375, 230.625, ..., 304.375, 304.625, 304.875],\n",
              "      dtype=float32)</pre></div></li><li class='xr-var-item'><div class='xr-var-name'><span class='xr-has-index'>time</span></div><div class='xr-var-dims'>(time)</div><div class='xr-var-dtype'>datetime64[ns]</div><div class='xr-var-preview xr-preview'>2020-01-01 ... 2020-12-31</div><input id='attrs-b6f25870-4bdd-4d62-b43c-37628d6c8637' class='xr-var-attrs-in' type='checkbox' ><label for='attrs-b6f25870-4bdd-4d62-b43c-37628d6c8637' title='Show/Hide attributes'><svg class='icon xr-icon-file-text2'><use xlink:href='#icon-file-text2'></use></svg></label><input id='data-77eab579-2be6-406a-b88e-9b3bac38ec82' class='xr-var-data-in' type='checkbox'><label for='data-77eab579-2be6-406a-b88e-9b3bac38ec82' title='Show/Hide data repr'><svg class='icon xr-icon-database'><use xlink:href='#icon-database'></use></svg></label><div class='xr-var-attrs'><dl class='xr-attrs'><dt><span>long_name :</span></dt><dd>Time</dd><dt><span>delta_t :</span></dt><dd>0000-00-01 00:00:00</dd><dt><span>avg_period :</span></dt><dd>0000-00-01 00:00:00</dd><dt><span>standard_name :</span></dt><dd>time</dd><dt><span>axis :</span></dt><dd>T</dd><dt><span>actual_range :</span></dt><dd>[1928472. 1937232.]</dd></dl></div><div class='xr-var-data'><pre>array([&#x27;2020-01-01T00:00:00.000000000&#x27;, &#x27;2020-01-02T00:00:00.000000000&#x27;,\n",
              "       &#x27;2020-01-03T00:00:00.000000000&#x27;, ..., &#x27;2020-12-29T00:00:00.000000000&#x27;,\n",
              "       &#x27;2020-12-30T00:00:00.000000000&#x27;, &#x27;2020-12-31T00:00:00.000000000&#x27;],\n",
              "      dtype=&#x27;datetime64[ns]&#x27;)</pre></div></li></ul></div></li><li class='xr-section-item'><input id='section-5e9ce8a2-da9d-4ec9-8dcd-fe506fb542f0' class='xr-section-summary-in' type='checkbox'  checked><label for='section-5e9ce8a2-da9d-4ec9-8dcd-fe506fb542f0' class='xr-section-summary' >Data variables: <span>(1)</span></label><div class='xr-section-inline-details'></div><div class='xr-section-details'><ul class='xr-var-list'><li class='xr-var-item'><div class='xr-var-name'><span>precip</span></div><div class='xr-var-dims'>(time, lat, lon)</div><div class='xr-var-dtype'>float32</div><div class='xr-var-preview xr-preview'>nan nan nan nan ... nan nan nan nan</div><input id='attrs-01d6085c-4f62-4578-833a-1b0465e78e4d' class='xr-var-attrs-in' type='checkbox' ><label for='attrs-01d6085c-4f62-4578-833a-1b0465e78e4d' title='Show/Hide attributes'><svg class='icon xr-icon-file-text2'><use xlink:href='#icon-file-text2'></use></svg></label><input id='data-12b1ec79-b4df-47e9-9b7b-c59804253f34' class='xr-var-data-in' type='checkbox'><label for='data-12b1ec79-b4df-47e9-9b7b-c59804253f34' title='Show/Hide data repr'><svg class='icon xr-icon-database'><use xlink:href='#icon-database'></use></svg></label><div class='xr-var-attrs'><dl class='xr-attrs'><dt><span>long_name :</span></dt><dd>Daily Accumulated Precipitation</dd><dt><span>valid_range :</span></dt><dd>[  0. 400.]</dd><dt><span>units :</span></dt><dd>mm</dd><dt><span>precision :</span></dt><dd>2</dd><dt><span>var_desc :</span></dt><dd>Precipitation</dd><dt><span>dataset :</span></dt><dd>CPC Unified Gauge-Based Analysis of Daily Precipitation over CONUS RT</dd><dt><span>level_desc :</span></dt><dd>Surface</dd><dt><span>statistic :</span></dt><dd>Daily Accumulation</dd><dt><span>parent_stat :</span></dt><dd>Observation</dd><dt><span>actual_range :</span></dt><dd>[  0.      274.80292]</dd></dl></div><div class='xr-var-data'><pre>array([[[nan, nan, ..., nan, nan],\n",
              "        [nan, nan, ..., nan, nan],\n",
              "        ...,\n",
              "        [nan, nan, ..., nan, nan],\n",
              "        [nan, nan, ..., nan, nan]],\n",
              "\n",
              "       [[nan, nan, ..., nan, nan],\n",
              "        [nan, nan, ..., nan, nan],\n",
              "        ...,\n",
              "        [nan, nan, ..., nan, nan],\n",
              "        [nan, nan, ..., nan, nan]],\n",
              "\n",
              "       ...,\n",
              "\n",
              "       [[nan, nan, ..., nan, nan],\n",
              "        [nan, nan, ..., nan, nan],\n",
              "        ...,\n",
              "        [nan, nan, ..., nan, nan],\n",
              "        [nan, nan, ..., nan, nan]],\n",
              "\n",
              "       [[nan, nan, ..., nan, nan],\n",
              "        [nan, nan, ..., nan, nan],\n",
              "        ...,\n",
              "        [nan, nan, ..., nan, nan],\n",
              "        [nan, nan, ..., nan, nan]]], dtype=float32)</pre></div></li></ul></div></li><li class='xr-section-item'><input id='section-aa467d6f-6337-4251-ab72-8a671ca1615b' class='xr-section-summary-in' type='checkbox'  checked><label for='section-aa467d6f-6337-4251-ab72-8a671ca1615b' class='xr-section-summary' >Attributes: <span>(8)</span></label><div class='xr-section-inline-details'></div><div class='xr-section-details'><dl class='xr-attrs'><dt><span>title :</span></dt><dd>CPC Unified Gauge-Based Analysis of Daily Precipitation over CONUS RT at PSD</dd><dt><span>Conventions :</span></dt><dd>COARDS</dd><dt><span>history :</span></dt><dd>created 04/2010 by CAS from data obtained from NCEP/CPC\n",
              "Converted to chunked, deflated non-packed NetCDF4 2014/07</dd><dt><span>description :</span></dt><dd>Gridded daily Precipitation</dd><dt><span>platform :</span></dt><dd>Observations</dd><dt><span>Comments :</span></dt><dd>Preciptation is accumulated from 12z of previous day to 12z of day stored</dd><dt><span>dataset_title :</span></dt><dd>CPC Unified Gauge-Based Analysis of Daily Precipitation over CONUS RT at PSD</dd><dt><span>References :</span></dt><dd>http://www.psl.noaa.gov/data/gridded/data.unified.daily.conus.rt.html</dd></dl></div></li></ul></div></div>"
            ],
            "text/plain": [
              "<xarray.Dataset>\n",
              "Dimensions:  (lat: 120, lon: 300, time: 366)\n",
              "Coordinates:\n",
              "  * lat      (lat) float32 20.12 20.38 20.62 20.88 ... 49.12 49.38 49.62 49.88\n",
              "  * lon      (lon) float32 230.1 230.4 230.6 230.9 ... 304.1 304.4 304.6 304.9\n",
              "  * time     (time) datetime64[ns] 2020-01-01 2020-01-02 ... 2020-12-31\n",
              "Data variables:\n",
              "    precip   (time, lat, lon) float32 nan nan nan nan nan ... nan nan nan nan\n",
              "Attributes:\n",
              "    title:          CPC Unified Gauge-Based Analysis of Daily Precipitation o...\n",
              "    Conventions:    COARDS\n",
              "    history:        created 04/2010 by CAS from data obtained from NCEP/CPC\\n...\n",
              "    description:    Gridded daily Precipitation\n",
              "    platform:       Observations\n",
              "    Comments:       Preciptation is accumulated from 12z of previous day to 1...\n",
              "    dataset_title:  CPC Unified Gauge-Based Analysis of Daily Precipitation o...\n",
              "    References:     http://www.psl.noaa.gov/data/gridded/data.unified.daily.c..."
            ]
          },
          "metadata": {},
          "execution_count": 18
        }
      ]
    },
    {
      "cell_type": "markdown",
      "id": "b8c36f85",
      "metadata": {
        "id": "b8c36f85"
      },
      "source": [
        "## *YOUR TURN, AGAIN, FROM HERE TO END OF ASSIGNMENT*\n",
        "#### (2)  Evaluating dimensions!\n",
        " - (a.) Evaluate and print the shape of each of these three NumPy arrays: lat, lon, and precip\n",
        "<br><br>\n",
        " - (b.) What are the dimensions of precip, physically, based on your answer to (a.), and your work in Q1?  Please provide the *names*, and please list the dimensions in the *order* they are structured in this NumPy array <br><br>"
      ]
    },
    {
      "cell_type": "code",
      "execution_count": 20,
      "id": "09e2a371",
      "metadata": {
        "colab": {
          "base_uri": "https://localhost:8080/"
        },
        "id": "09e2a371",
        "outputId": "93dca700-e25f-49a9-998a-73c83de8bf43"
      },
      "outputs": [
        {
          "output_type": "stream",
          "name": "stdout",
          "text": [
            "The shape of the latitude coordinate variable is: (120,)\n",
            "The shape of the longitude coordinate variable is: (300,)\n",
            "The shape of the precipitation variable is: (366, 120, 300)\n"
          ]
        }
      ],
      "source": [
        "# (a.) Evaluate and print the shape of each of these three NumPy arrays: lat, lon, and precip\n",
        "print(f\"The shape of the latitude coordinate variable is: {lat.shape}\")\n",
        "print(f\"The shape of the longitude coordinate variable is: {lon.shape}\")\n",
        "print(f\"The shape of the precipitation variable is: {precip.shape}\")\n",
        "\n",
        "\n"
      ]
    },
    {
      "cell_type": "code",
      "execution_count": 21,
      "id": "dd66ddc0",
      "metadata": {
        "colab": {
          "base_uri": "https://localhost:8080/"
        },
        "id": "dd66ddc0",
        "outputId": "044caabf-c675-4b42-9b8d-11512e5a684a"
      },
      "outputs": [
        {
          "output_type": "stream",
          "name": "stdout",
          "text": [
            "Three dimensions of the precipitation variable are: ['time' 'lat' 'lon']\n"
          ]
        }
      ],
      "source": [
        "# (b.) What are the dimensions of precip, physically, based on your answer to (a.), and your work in Q1? Please provide the names, and please list the dimensions in the order they are structured in this NumPy array\n",
        "precip_dim = np.array(['time', 'lat', 'lon'])\n",
        "print(f\"Three dimensions of the precipitation variable are: {precip_dim}\")\n"
      ]
    },
    {
      "cell_type": "markdown",
      "id": "19356760",
      "metadata": {
        "id": "19356760"
      },
      "source": [
        "#### (3)  Array operations - unit conversion\n",
        "- (a.) Convert from mm of daily precip to inches using an array operation (i.e., not a loop, of course, and simply a SINGLE line of code!)\n",
        "<br><br>\n",
        "- (b.) Comment on if what you just did would be faster or slower than doing this instead using a *for loop*. *Why* would this be the case, conceptually?"
      ]
    },
    {
      "cell_type": "code",
      "execution_count": 27,
      "id": "3d043abf",
      "metadata": {
        "colab": {
          "base_uri": "https://localhost:8080/"
        },
        "id": "3d043abf",
        "outputId": "efdb2ca3-7bf6-4440-dc38-d308e4e61fa4"
      },
      "outputs": [
        {
          "output_type": "stream",
          "name": "stdout",
          "text": [
            "The precip array in inches is: [[[nan nan nan ... nan nan nan]\n",
            "  [nan nan nan ... nan nan nan]\n",
            "  [nan nan nan ... nan nan nan]\n",
            "  ...\n",
            "  [nan nan nan ... nan nan nan]\n",
            "  [nan nan nan ... nan nan nan]\n",
            "  [nan nan nan ... nan nan nan]]\n",
            "\n",
            " [[nan nan nan ... nan nan nan]\n",
            "  [nan nan nan ... nan nan nan]\n",
            "  [nan nan nan ... nan nan nan]\n",
            "  ...\n",
            "  [nan nan nan ... nan nan nan]\n",
            "  [nan nan nan ... nan nan nan]\n",
            "  [nan nan nan ... nan nan nan]]\n",
            "\n",
            " [[nan nan nan ... nan nan nan]\n",
            "  [nan nan nan ... nan nan nan]\n",
            "  [nan nan nan ... nan nan nan]\n",
            "  ...\n",
            "  [nan nan nan ... nan nan nan]\n",
            "  [nan nan nan ... nan nan nan]\n",
            "  [nan nan nan ... nan nan nan]]\n",
            "\n",
            " ...\n",
            "\n",
            " [[nan nan nan ... nan nan nan]\n",
            "  [nan nan nan ... nan nan nan]\n",
            "  [nan nan nan ... nan nan nan]\n",
            "  ...\n",
            "  [nan nan nan ... nan nan nan]\n",
            "  [nan nan nan ... nan nan nan]\n",
            "  [nan nan nan ... nan nan nan]]\n",
            "\n",
            " [[nan nan nan ... nan nan nan]\n",
            "  [nan nan nan ... nan nan nan]\n",
            "  [nan nan nan ... nan nan nan]\n",
            "  ...\n",
            "  [nan nan nan ... nan nan nan]\n",
            "  [nan nan nan ... nan nan nan]\n",
            "  [nan nan nan ... nan nan nan]]\n",
            "\n",
            " [[nan nan nan ... nan nan nan]\n",
            "  [nan nan nan ... nan nan nan]\n",
            "  [nan nan nan ... nan nan nan]\n",
            "  ...\n",
            "  [nan nan nan ... nan nan nan]\n",
            "  [nan nan nan ... nan nan nan]\n",
            "  [nan nan nan ... nan nan nan]]]\n"
          ]
        }
      ],
      "source": [
        "# (a.) Convert from mm of daily precip to inches using an array operation (i.e., not a loop, of course, and simply a SINGLE line of code!)\n",
        "precip = precip * 0.0393701 # 0.0393701 is the conversion factor from mm to inches\n",
        "print(f\"The precip array in inches is: {precip}\")\n"
      ]
    },
    {
      "cell_type": "markdown",
      "source": [
        "#### (b.) Comment on if what you just did would be faster or slower than doing this instead using a *for loop*. *Why* would this be the case, conceptually?\n",
        "\n",
        "What I did was broadcasting (UFuncs). Broadcasting is faster than doing this using a for loop. The reason is thst for loops are explicit loop, i.e. one element per each iteration of the loop, which makes a huge difference. The issue here is not the operations themselves, but the type-checking and function dispatches that CPython must do at each cycle of the loop. Each time the reciprocal is computed, Python first examines the object's type and does a dynamic lookup of the correct function to use for that type. \n",
        "\n",
        "Broadcasting is an implicit loop. Such vectorized operation can be accomplished by performing an operation on the array, which will then be applied to each element. This vectorized approach is designed to push the loop into the compiled layer that underlies NumPy, leading to much faster execution.\n",
        "\n"
      ],
      "metadata": {
        "id": "VYVaQaR9bC7Z"
      },
      "id": "VYVaQaR9bC7Z"
    },
    {
      "cell_type": "markdown",
      "id": "239c7c50",
      "metadata": {
        "id": "239c7c50"
      },
      "source": [
        "#### (4)  Exploring daily precipitation data at the gridpoint nearest UIUC campus\n",
        "- (a.) Find, using code and NO HARDWIRING/MANUAL WORK, the indices of the nearest gridpoint to the UIUC campus.  Save these indices to new variables, and print out the values. *You may need to use a NumPy function I haven't formally taught you to determine the indices of the gridpoint nearest UIUC campus - do some exploration! #healthy*\n",
        "    - *suggestion*: draw a diagram to help you figure out what basic math/geometry you would code for this\n",
        "    - if you get stuck on this, you can manually determine the gridpoint so that you can still procceed forward with the rest of the questions on this homework (but of course you would lose points on this exact Q)\n",
        "    - post on Slack if you need a hint on how to do (a.) - this is a *spatial analysis* task!\n",
        "<br><br>\n",
        "- (b.) Print the corresponding lat/lon of that gridpoint. \n",
        "<br><br>\n",
        "- (c.) Index your precip array so that you are only accessing data at this special location.\n",
        "<br><br>\n",
        "- (d.) Evaluate and print the shape of your precip array when now only looking at precipitation data at this special location.  This will help you understand what exactly you're plotting in (e.) and (f.)\n",
        "<br><br>\n",
        "- (e.) Create a line plot of the precipitation data at this special location.\n",
        "   - Don't forget axis labels! And a title!\n",
        "<br><br>\n",
        "- (f.) Create a histogram of your precipitation data at this special location.  Please explicitly set the number of bins you think will be most appropriate to display the data in a way that is interpretable - you may want to play around with this!\n",
        "<br><br>\n",
        "- (g.) *Interpretation time*: looking at your histogram, does the data of daily precipitaton values at UIUC take on approximately a theoretical normal distribution?  Why or why not?  Please be as specific as possible, i.e., provide details to support your claim."
      ]
    },
    {
      "cell_type": "code",
      "execution_count": 28,
      "id": "f3054b26",
      "metadata": {
        "colab": {
          "base_uri": "https://localhost:8080/"
        },
        "id": "f3054b26",
        "outputId": "990d08c4-1906-46e7-afa6-0e6798979e30"
      },
      "outputs": [
        {
          "output_type": "stream",
          "name": "stdout",
          "text": [
            "The index of the nearest gridpoint to the uiuc lat and lon is: 80, 167\n"
          ]
        }
      ],
      "source": [
        "# (a.) Find, using code and NO HARDWIRING/MANUAL WORK, the indices of the nearest gridpoint to the UIUC campus. Save these indices to new variables, and print out the values. \n",
        "lat_uiuc = 40.1\n",
        "# lon of uiuc in eastward direction\n",
        "lon_uiuc = -88.2 + 360\n",
        "# find the index of the nearest gridpoint to the uiuc lat and lon from the lat and lon arrays\n",
        "index_lat = np.abs(lat - lat_uiuc).argmin()\n",
        "index_lon = np.abs(lon - lon_uiuc).argmin()\n",
        "# print the index of the nearest gridpoint to the uiuc lat and lon\n",
        "print(f\"The index of the nearest gridpoint to the uiuc lat and lon is: {index_lat}, {index_lon}\")\n"
      ]
    },
    {
      "cell_type": "code",
      "execution_count": 29,
      "id": "ee56b726",
      "metadata": {
        "colab": {
          "base_uri": "https://localhost:8080/"
        },
        "id": "ee56b726",
        "outputId": "6c7a58e8-e450-4555-a986-ace5e1a892c8"
      },
      "outputs": [
        {
          "output_type": "stream",
          "name": "stdout",
          "text": [
            "The corresponding lat/lon of that gridpoint is: 40.125, 271.875\n"
          ]
        }
      ],
      "source": [
        "# (b.) Print the corresponding lat/lon of that gridpoint.\n",
        "print(f\"The corresponding lat/lon of that gridpoint is: {lat[index_lat]}, {lon[index_lon]}\")"
      ]
    },
    {
      "cell_type": "code",
      "execution_count": 30,
      "id": "0071b969",
      "metadata": {
        "id": "0071b969"
      },
      "outputs": [],
      "source": [
        "# (c.) Index your precip array so that you are only accessing data at this special location.\n",
        "#      (i.e., at the gridpoint nearest to the UIUC campus)\n",
        "# precip has dimensions time, lat, lon\n",
        "precip_uiuc = precip[:, index_lat, index_lon]\n"
      ]
    },
    {
      "cell_type": "code",
      "execution_count": 31,
      "id": "2abb4a70",
      "metadata": {
        "colab": {
          "base_uri": "https://localhost:8080/"
        },
        "id": "2abb4a70",
        "outputId": "99fc359a-25a4-4909-d7ad-140924600359"
      },
      "outputs": [
        {
          "output_type": "stream",
          "name": "stdout",
          "text": [
            "The shape of the precip array when only looking at precipitation data at the nearest gridpoint is: (366,)\n"
          ]
        }
      ],
      "source": [
        "# (d.) Evaluate and print the shape of your precip array when now only looking at precipitation data at this special location. This will help you understand what exactly you're plotting in (e.) and (f.)\n",
        "print(f\"The shape of the precip array when only looking at precipitation data at the nearest gridpoint is: {precip_uiuc.shape}\")\n"
      ]
    },
    {
      "cell_type": "code",
      "source": [
        "times2"
      ],
      "metadata": {
        "colab": {
          "base_uri": "https://localhost:8080/",
          "height": 305
        },
        "id": "iplzMH7QgW9a",
        "outputId": "943fb026-f0f7-4bcb-aef4-5f830dd4c8b0"
      },
      "id": "iplzMH7QgW9a",
      "execution_count": 33,
      "outputs": [
        {
          "output_type": "execute_result",
          "data": {
            "text/html": [
              "<div><svg style=\"position: absolute; width: 0; height: 0; overflow: hidden\">\n",
              "<defs>\n",
              "<symbol id=\"icon-database\" viewBox=\"0 0 32 32\">\n",
              "<path d=\"M16 0c-8.837 0-16 2.239-16 5v4c0 2.761 7.163 5 16 5s16-2.239 16-5v-4c0-2.761-7.163-5-16-5z\"></path>\n",
              "<path d=\"M16 17c-8.837 0-16-2.239-16-5v6c0 2.761 7.163 5 16 5s16-2.239 16-5v-6c0 2.761-7.163 5-16 5z\"></path>\n",
              "<path d=\"M16 26c-8.837 0-16-2.239-16-5v6c0 2.761 7.163 5 16 5s16-2.239 16-5v-6c0 2.761-7.163 5-16 5z\"></path>\n",
              "</symbol>\n",
              "<symbol id=\"icon-file-text2\" viewBox=\"0 0 32 32\">\n",
              "<path d=\"M28.681 7.159c-0.694-0.947-1.662-2.053-2.724-3.116s-2.169-2.030-3.116-2.724c-1.612-1.182-2.393-1.319-2.841-1.319h-15.5c-1.378 0-2.5 1.121-2.5 2.5v27c0 1.378 1.122 2.5 2.5 2.5h23c1.378 0 2.5-1.122 2.5-2.5v-19.5c0-0.448-0.137-1.23-1.319-2.841zM24.543 5.457c0.959 0.959 1.712 1.825 2.268 2.543h-4.811v-4.811c0.718 0.556 1.584 1.309 2.543 2.268zM28 29.5c0 0.271-0.229 0.5-0.5 0.5h-23c-0.271 0-0.5-0.229-0.5-0.5v-27c0-0.271 0.229-0.5 0.5-0.5 0 0 15.499-0 15.5 0v7c0 0.552 0.448 1 1 1h7v19.5z\"></path>\n",
              "<path d=\"M23 26h-14c-0.552 0-1-0.448-1-1s0.448-1 1-1h14c0.552 0 1 0.448 1 1s-0.448 1-1 1z\"></path>\n",
              "<path d=\"M23 22h-14c-0.552 0-1-0.448-1-1s0.448-1 1-1h14c0.552 0 1 0.448 1 1s-0.448 1-1 1z\"></path>\n",
              "<path d=\"M23 18h-14c-0.552 0-1-0.448-1-1s0.448-1 1-1h14c0.552 0 1 0.448 1 1s-0.448 1-1 1z\"></path>\n",
              "</symbol>\n",
              "</defs>\n",
              "</svg>\n",
              "<style>/* CSS stylesheet for displaying xarray objects in jupyterlab.\n",
              " *\n",
              " */\n",
              "\n",
              ":root {\n",
              "  --xr-font-color0: var(--jp-content-font-color0, rgba(0, 0, 0, 1));\n",
              "  --xr-font-color2: var(--jp-content-font-color2, rgba(0, 0, 0, 0.54));\n",
              "  --xr-font-color3: var(--jp-content-font-color3, rgba(0, 0, 0, 0.38));\n",
              "  --xr-border-color: var(--jp-border-color2, #e0e0e0);\n",
              "  --xr-disabled-color: var(--jp-layout-color3, #bdbdbd);\n",
              "  --xr-background-color: var(--jp-layout-color0, white);\n",
              "  --xr-background-color-row-even: var(--jp-layout-color1, white);\n",
              "  --xr-background-color-row-odd: var(--jp-layout-color2, #eeeeee);\n",
              "}\n",
              "\n",
              "html[theme=dark],\n",
              "body.vscode-dark {\n",
              "  --xr-font-color0: rgba(255, 255, 255, 1);\n",
              "  --xr-font-color2: rgba(255, 255, 255, 0.54);\n",
              "  --xr-font-color3: rgba(255, 255, 255, 0.38);\n",
              "  --xr-border-color: #1F1F1F;\n",
              "  --xr-disabled-color: #515151;\n",
              "  --xr-background-color: #111111;\n",
              "  --xr-background-color-row-even: #111111;\n",
              "  --xr-background-color-row-odd: #313131;\n",
              "}\n",
              "\n",
              ".xr-wrap {\n",
              "  display: block;\n",
              "  min-width: 300px;\n",
              "  max-width: 700px;\n",
              "}\n",
              "\n",
              ".xr-text-repr-fallback {\n",
              "  /* fallback to plain text repr when CSS is not injected (untrusted notebook) */\n",
              "  display: none;\n",
              "}\n",
              "\n",
              ".xr-header {\n",
              "  padding-top: 6px;\n",
              "  padding-bottom: 6px;\n",
              "  margin-bottom: 4px;\n",
              "  border-bottom: solid 1px var(--xr-border-color);\n",
              "}\n",
              "\n",
              ".xr-header > div,\n",
              ".xr-header > ul {\n",
              "  display: inline;\n",
              "  margin-top: 0;\n",
              "  margin-bottom: 0;\n",
              "}\n",
              "\n",
              ".xr-obj-type,\n",
              ".xr-array-name {\n",
              "  margin-left: 2px;\n",
              "  margin-right: 10px;\n",
              "}\n",
              "\n",
              ".xr-obj-type {\n",
              "  color: var(--xr-font-color2);\n",
              "}\n",
              "\n",
              ".xr-sections {\n",
              "  padding-left: 0 !important;\n",
              "  display: grid;\n",
              "  grid-template-columns: 150px auto auto 1fr 20px 20px;\n",
              "}\n",
              "\n",
              ".xr-section-item {\n",
              "  display: contents;\n",
              "}\n",
              "\n",
              ".xr-section-item input {\n",
              "  display: none;\n",
              "}\n",
              "\n",
              ".xr-section-item input + label {\n",
              "  color: var(--xr-disabled-color);\n",
              "}\n",
              "\n",
              ".xr-section-item input:enabled + label {\n",
              "  cursor: pointer;\n",
              "  color: var(--xr-font-color2);\n",
              "}\n",
              "\n",
              ".xr-section-item input:enabled + label:hover {\n",
              "  color: var(--xr-font-color0);\n",
              "}\n",
              "\n",
              ".xr-section-summary {\n",
              "  grid-column: 1;\n",
              "  color: var(--xr-font-color2);\n",
              "  font-weight: 500;\n",
              "}\n",
              "\n",
              ".xr-section-summary > span {\n",
              "  display: inline-block;\n",
              "  padding-left: 0.5em;\n",
              "}\n",
              "\n",
              ".xr-section-summary-in:disabled + label {\n",
              "  color: var(--xr-font-color2);\n",
              "}\n",
              "\n",
              ".xr-section-summary-in + label:before {\n",
              "  display: inline-block;\n",
              "  content: '►';\n",
              "  font-size: 11px;\n",
              "  width: 15px;\n",
              "  text-align: center;\n",
              "}\n",
              "\n",
              ".xr-section-summary-in:disabled + label:before {\n",
              "  color: var(--xr-disabled-color);\n",
              "}\n",
              "\n",
              ".xr-section-summary-in:checked + label:before {\n",
              "  content: '▼';\n",
              "}\n",
              "\n",
              ".xr-section-summary-in:checked + label > span {\n",
              "  display: none;\n",
              "}\n",
              "\n",
              ".xr-section-summary,\n",
              ".xr-section-inline-details {\n",
              "  padding-top: 4px;\n",
              "  padding-bottom: 4px;\n",
              "}\n",
              "\n",
              ".xr-section-inline-details {\n",
              "  grid-column: 2 / -1;\n",
              "}\n",
              "\n",
              ".xr-section-details {\n",
              "  display: none;\n",
              "  grid-column: 1 / -1;\n",
              "  margin-bottom: 5px;\n",
              "}\n",
              "\n",
              ".xr-section-summary-in:checked ~ .xr-section-details {\n",
              "  display: contents;\n",
              "}\n",
              "\n",
              ".xr-array-wrap {\n",
              "  grid-column: 1 / -1;\n",
              "  display: grid;\n",
              "  grid-template-columns: 20px auto;\n",
              "}\n",
              "\n",
              ".xr-array-wrap > label {\n",
              "  grid-column: 1;\n",
              "  vertical-align: top;\n",
              "}\n",
              "\n",
              ".xr-preview {\n",
              "  color: var(--xr-font-color3);\n",
              "}\n",
              "\n",
              ".xr-array-preview,\n",
              ".xr-array-data {\n",
              "  padding: 0 5px !important;\n",
              "  grid-column: 2;\n",
              "}\n",
              "\n",
              ".xr-array-data,\n",
              ".xr-array-in:checked ~ .xr-array-preview {\n",
              "  display: none;\n",
              "}\n",
              "\n",
              ".xr-array-in:checked ~ .xr-array-data,\n",
              ".xr-array-preview {\n",
              "  display: inline-block;\n",
              "}\n",
              "\n",
              ".xr-dim-list {\n",
              "  display: inline-block !important;\n",
              "  list-style: none;\n",
              "  padding: 0 !important;\n",
              "  margin: 0;\n",
              "}\n",
              "\n",
              ".xr-dim-list li {\n",
              "  display: inline-block;\n",
              "  padding: 0;\n",
              "  margin: 0;\n",
              "}\n",
              "\n",
              ".xr-dim-list:before {\n",
              "  content: '(';\n",
              "}\n",
              "\n",
              ".xr-dim-list:after {\n",
              "  content: ')';\n",
              "}\n",
              "\n",
              ".xr-dim-list li:not(:last-child):after {\n",
              "  content: ',';\n",
              "  padding-right: 5px;\n",
              "}\n",
              "\n",
              ".xr-has-index {\n",
              "  font-weight: bold;\n",
              "}\n",
              "\n",
              ".xr-var-list,\n",
              ".xr-var-item {\n",
              "  display: contents;\n",
              "}\n",
              "\n",
              ".xr-var-item > div,\n",
              ".xr-var-item label,\n",
              ".xr-var-item > .xr-var-name span {\n",
              "  background-color: var(--xr-background-color-row-even);\n",
              "  margin-bottom: 0;\n",
              "}\n",
              "\n",
              ".xr-var-item > .xr-var-name:hover span {\n",
              "  padding-right: 5px;\n",
              "}\n",
              "\n",
              ".xr-var-list > li:nth-child(odd) > div,\n",
              ".xr-var-list > li:nth-child(odd) > label,\n",
              ".xr-var-list > li:nth-child(odd) > .xr-var-name span {\n",
              "  background-color: var(--xr-background-color-row-odd);\n",
              "}\n",
              "\n",
              ".xr-var-name {\n",
              "  grid-column: 1;\n",
              "}\n",
              "\n",
              ".xr-var-dims {\n",
              "  grid-column: 2;\n",
              "}\n",
              "\n",
              ".xr-var-dtype {\n",
              "  grid-column: 3;\n",
              "  text-align: right;\n",
              "  color: var(--xr-font-color2);\n",
              "}\n",
              "\n",
              ".xr-var-preview {\n",
              "  grid-column: 4;\n",
              "}\n",
              "\n",
              ".xr-var-name,\n",
              ".xr-var-dims,\n",
              ".xr-var-dtype,\n",
              ".xr-preview,\n",
              ".xr-attrs dt {\n",
              "  white-space: nowrap;\n",
              "  overflow: hidden;\n",
              "  text-overflow: ellipsis;\n",
              "  padding-right: 10px;\n",
              "}\n",
              "\n",
              ".xr-var-name:hover,\n",
              ".xr-var-dims:hover,\n",
              ".xr-var-dtype:hover,\n",
              ".xr-attrs dt:hover {\n",
              "  overflow: visible;\n",
              "  width: auto;\n",
              "  z-index: 1;\n",
              "}\n",
              "\n",
              ".xr-var-attrs,\n",
              ".xr-var-data {\n",
              "  display: none;\n",
              "  background-color: var(--xr-background-color) !important;\n",
              "  padding-bottom: 5px !important;\n",
              "}\n",
              "\n",
              ".xr-var-attrs-in:checked ~ .xr-var-attrs,\n",
              ".xr-var-data-in:checked ~ .xr-var-data {\n",
              "  display: block;\n",
              "}\n",
              "\n",
              ".xr-var-data > table {\n",
              "  float: right;\n",
              "}\n",
              "\n",
              ".xr-var-name span,\n",
              ".xr-var-data,\n",
              ".xr-attrs {\n",
              "  padding-left: 25px !important;\n",
              "}\n",
              "\n",
              ".xr-attrs,\n",
              ".xr-var-attrs,\n",
              ".xr-var-data {\n",
              "  grid-column: 1 / -1;\n",
              "}\n",
              "\n",
              "dl.xr-attrs {\n",
              "  padding: 0;\n",
              "  margin: 0;\n",
              "  display: grid;\n",
              "  grid-template-columns: 125px auto;\n",
              "}\n",
              "\n",
              ".xr-attrs dt,\n",
              ".xr-attrs dd {\n",
              "  padding: 0;\n",
              "  margin: 0;\n",
              "  float: left;\n",
              "  padding-right: 10px;\n",
              "  width: auto;\n",
              "}\n",
              "\n",
              ".xr-attrs dt {\n",
              "  font-weight: normal;\n",
              "  grid-column: 1;\n",
              "}\n",
              "\n",
              ".xr-attrs dt:hover span {\n",
              "  display: inline-block;\n",
              "  background: var(--xr-background-color);\n",
              "  padding-right: 10px;\n",
              "}\n",
              "\n",
              ".xr-attrs dd {\n",
              "  grid-column: 2;\n",
              "  white-space: pre-wrap;\n",
              "  word-break: break-all;\n",
              "}\n",
              "\n",
              ".xr-icon-database,\n",
              ".xr-icon-file-text2 {\n",
              "  display: inline-block;\n",
              "  vertical-align: middle;\n",
              "  width: 1em;\n",
              "  height: 1.5em !important;\n",
              "  stroke-width: 0;\n",
              "  stroke: currentColor;\n",
              "  fill: currentColor;\n",
              "}\n",
              "</style><pre class='xr-text-repr-fallback'>&lt;xarray.DataArray &#x27;time&#x27; (time: 366)&gt;\n",
              "array([&#x27;2020-01-01T00:00:00.000000000&#x27;, &#x27;2020-01-02T00:00:00.000000000&#x27;,\n",
              "       &#x27;2020-01-03T00:00:00.000000000&#x27;, ..., &#x27;2020-12-29T00:00:00.000000000&#x27;,\n",
              "       &#x27;2020-12-30T00:00:00.000000000&#x27;, &#x27;2020-12-31T00:00:00.000000000&#x27;],\n",
              "      dtype=&#x27;datetime64[ns]&#x27;)\n",
              "Coordinates:\n",
              "  * time     (time) datetime64[ns] 2020-01-01 2020-01-02 ... 2020-12-31\n",
              "Attributes:\n",
              "    long_name:      Time\n",
              "    delta_t:        0000-00-01 00:00:00\n",
              "    avg_period:     0000-00-01 00:00:00\n",
              "    standard_name:  time\n",
              "    axis:           T\n",
              "    actual_range:   [1928472. 1937232.]</pre><div class='xr-wrap' hidden><div class='xr-header'><div class='xr-obj-type'>xarray.DataArray</div><div class='xr-array-name'>'time'</div><ul class='xr-dim-list'><li><span class='xr-has-index'>time</span>: 366</li></ul></div><ul class='xr-sections'><li class='xr-section-item'><div class='xr-array-wrap'><input id='section-c4d4d8e3-922e-40b7-835e-15f3be1c7640' class='xr-array-in' type='checkbox' checked><label for='section-c4d4d8e3-922e-40b7-835e-15f3be1c7640' title='Show/hide data repr'><svg class='icon xr-icon-database'><use xlink:href='#icon-database'></use></svg></label><div class='xr-array-preview xr-preview'><span>2020-01-01 2020-01-02 2020-01-03 ... 2020-12-29 2020-12-30 2020-12-31</span></div><div class='xr-array-data'><pre>array([&#x27;2020-01-01T00:00:00.000000000&#x27;, &#x27;2020-01-02T00:00:00.000000000&#x27;,\n",
              "       &#x27;2020-01-03T00:00:00.000000000&#x27;, ..., &#x27;2020-12-29T00:00:00.000000000&#x27;,\n",
              "       &#x27;2020-12-30T00:00:00.000000000&#x27;, &#x27;2020-12-31T00:00:00.000000000&#x27;],\n",
              "      dtype=&#x27;datetime64[ns]&#x27;)</pre></div></div></li><li class='xr-section-item'><input id='section-30bbc1ef-011a-4adc-81f5-8252c1972969' class='xr-section-summary-in' type='checkbox'  checked><label for='section-30bbc1ef-011a-4adc-81f5-8252c1972969' class='xr-section-summary' >Coordinates: <span>(1)</span></label><div class='xr-section-inline-details'></div><div class='xr-section-details'><ul class='xr-var-list'><li class='xr-var-item'><div class='xr-var-name'><span class='xr-has-index'>time</span></div><div class='xr-var-dims'>(time)</div><div class='xr-var-dtype'>datetime64[ns]</div><div class='xr-var-preview xr-preview'>2020-01-01 ... 2020-12-31</div><input id='attrs-2dac96f5-a17b-40cb-b6af-c202cd7baa21' class='xr-var-attrs-in' type='checkbox' ><label for='attrs-2dac96f5-a17b-40cb-b6af-c202cd7baa21' title='Show/Hide attributes'><svg class='icon xr-icon-file-text2'><use xlink:href='#icon-file-text2'></use></svg></label><input id='data-b160bb15-b64e-4fe9-9fda-35fb5ecbcced' class='xr-var-data-in' type='checkbox'><label for='data-b160bb15-b64e-4fe9-9fda-35fb5ecbcced' title='Show/Hide data repr'><svg class='icon xr-icon-database'><use xlink:href='#icon-database'></use></svg></label><div class='xr-var-attrs'><dl class='xr-attrs'><dt><span>long_name :</span></dt><dd>Time</dd><dt><span>delta_t :</span></dt><dd>0000-00-01 00:00:00</dd><dt><span>avg_period :</span></dt><dd>0000-00-01 00:00:00</dd><dt><span>standard_name :</span></dt><dd>time</dd><dt><span>axis :</span></dt><dd>T</dd><dt><span>actual_range :</span></dt><dd>[1928472. 1937232.]</dd></dl></div><div class='xr-var-data'><pre>array([&#x27;2020-01-01T00:00:00.000000000&#x27;, &#x27;2020-01-02T00:00:00.000000000&#x27;,\n",
              "       &#x27;2020-01-03T00:00:00.000000000&#x27;, ..., &#x27;2020-12-29T00:00:00.000000000&#x27;,\n",
              "       &#x27;2020-12-30T00:00:00.000000000&#x27;, &#x27;2020-12-31T00:00:00.000000000&#x27;],\n",
              "      dtype=&#x27;datetime64[ns]&#x27;)</pre></div></li></ul></div></li><li class='xr-section-item'><input id='section-b5acc271-9960-4f20-b189-69006d38a9c3' class='xr-section-summary-in' type='checkbox'  checked><label for='section-b5acc271-9960-4f20-b189-69006d38a9c3' class='xr-section-summary' >Attributes: <span>(6)</span></label><div class='xr-section-inline-details'></div><div class='xr-section-details'><dl class='xr-attrs'><dt><span>long_name :</span></dt><dd>Time</dd><dt><span>delta_t :</span></dt><dd>0000-00-01 00:00:00</dd><dt><span>avg_period :</span></dt><dd>0000-00-01 00:00:00</dd><dt><span>standard_name :</span></dt><dd>time</dd><dt><span>axis :</span></dt><dd>T</dd><dt><span>actual_range :</span></dt><dd>[1928472. 1937232.]</dd></dl></div></li></ul></div></div>"
            ],
            "text/plain": [
              "<xarray.DataArray 'time' (time: 366)>\n",
              "array(['2020-01-01T00:00:00.000000000', '2020-01-02T00:00:00.000000000',\n",
              "       '2020-01-03T00:00:00.000000000', ..., '2020-12-29T00:00:00.000000000',\n",
              "       '2020-12-30T00:00:00.000000000', '2020-12-31T00:00:00.000000000'],\n",
              "      dtype='datetime64[ns]')\n",
              "Coordinates:\n",
              "  * time     (time) datetime64[ns] 2020-01-01 2020-01-02 ... 2020-12-31\n",
              "Attributes:\n",
              "    long_name:      Time\n",
              "    delta_t:        0000-00-01 00:00:00\n",
              "    avg_period:     0000-00-01 00:00:00\n",
              "    standard_name:  time\n",
              "    axis:           T\n",
              "    actual_range:   [1928472. 1937232.]"
            ]
          },
          "metadata": {},
          "execution_count": 33
        }
      ]
    },
    {
      "cell_type": "code",
      "execution_count": 42,
      "id": "3cc5340f",
      "metadata": {
        "colab": {
          "base_uri": "https://localhost:8080/",
          "height": 278
        },
        "id": "3cc5340f",
        "outputId": "19133767-5b4f-41ed-f6c1-34f0d1d3d7fd"
      },
      "outputs": [
        {
          "output_type": "display_data",
          "data": {
            "image/png": "[encoded data removed]",
            "text/plain": [
              "<Figure size 432x288 with 1 Axes>"
            ]
          },
          "metadata": {
            "needs_background": "light"
          }
        }
      ],
      "source": [
        "# (e.) Create a line plot of the precipitation data at this special location.\n",
        "# Plot your line plot!\n",
        "# axis labels are x-axis: time array (the shape of precip_uiuc), y-axis: precip in inches at this special location\n",
        "plt.plot(times2.values, precip_uiuc)\n",
        "plt.xlabel(\"Time\")\n",
        "plt.ylabel(\"Precipitation in inches at UIUC campus\")\n",
        "plt.show()"
      ]
    },
    {
      "cell_type": "code",
      "execution_count": 41,
      "id": "db7e570f",
      "metadata": {
        "scrolled": true,
        "colab": {
          "base_uri": "https://localhost:8080/",
          "height": 332
        },
        "id": "db7e570f",
        "outputId": "d950e06c-f795-4ed7-bd75-9a0c0ac289f8"
      },
      "outputs": [
        {
          "output_type": "display_data",
          "data": {
            "image/png": "[encoded data removed]",
            "text/plain": [
              "<Figure size 432x288 with 1 Axes>"
            ]
          },
          "metadata": {
            "needs_background": "light"
          }
        }
      ],
      "source": [
        "# (f.) Create a histogram of your precipitation data at this special location. Please explicitly set the number of bins you think will be most appropriate to display the data in a way that is interpretable - you may want to play around with this!\n",
        "# Plot your histogram!\n",
        "# axis labels are x-axis: precip in inches at this special location, y-axis: frequency of occurrence of precip in inches at this special location\n",
        "plt.hist(precip_uiuc, bins=30)\n",
        "plt.xlabel(\"Precipitation in inches at UIUC campus\")\n",
        "plt.ylabel(\"Frequency of occurrence of precip in inches at UIUC campus\")\n",
        "plt.show()"
      ]
    },
    {
      "cell_type": "markdown",
      "source": [
        "##### Interpretation of the histogram\n",
        "##### (g.) Interpretation time: looking at your histogram, does the data of daily precipitaton values at UIUC take on approximately a theoretical normal distribution? Why or why not? Please be as specific as possible, i.e., provide details to support your claim.\n",
        "\n",
        "Looking at the histogram, I can see that the data of daily precipitation values at UIUC is not normally distributed. The data is not normally distributed because the data is not evenly distributed. The histogram is not bell shaped. This is a sample of size 30 from a right-skewed distribution, plotted as a histogram. It looks like a right-skewed distribution because the distribution is one in which the tail is on the right side of the graph. For normal distribution, a center point is at the mean, and the distribution is symmetrical. For a skewed distribution, there is no center point, in the usual sense of the word. "
      ],
      "metadata": {
        "id": "DP2v3JA7kAGG"
      },
      "id": "DP2v3JA7kAGG"
    }
  ],
  "metadata": {
    "kernelspec": {
      "display_name": "Python 3",
      "language": "python",
      "name": "python3"
    },
    "language_info": {
      "codemirror_mode": {
        "name": "ipython",
        "version": 3
      },
      "file_extension": ".py",
      "mimetype": "text/x-python",
      "name": "python",
      "nbconvert_exporter": "python",
      "pygments_lexer": "ipython3",
      "version": "3.7.10"
    },
    "colab": {
      "name": "mehta_Week4_Assignment_Students.ipynb",
      "provenance": [],
      "collapsed_sections": []
    }
  },
  "nbformat": 4,
  "nbformat_minor": 5
}