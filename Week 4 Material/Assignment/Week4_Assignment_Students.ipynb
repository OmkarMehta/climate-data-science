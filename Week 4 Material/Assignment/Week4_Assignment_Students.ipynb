{
 "cells": [
  {
   "cell_type": "markdown",
   "id": "6281594e",
   "metadata": {},
   "source": [
    "# IT'S.....PRECIPITATION TIME!\n",
    "\n",
    "# Introduction + data used:\n",
    "- In this assignment, you'll explore precipitation data!\n",
    "<br><br>\n",
    "- What you'll be analyzing is daily precipitation data for the continental US for the year 2020\n",
    "<br><br>\n",
    "- It's important to clarify that this is *liquid* precipitation - so snow is measured by its liquid equivalent \n",
    "<br><br>\n",
    "- Want more information on the data? (You should! #metadataisimportant): \n",
    "https://psl.noaa.gov/data/gridded/data.unified.daily.conus.rt.html"
   ]
  },
  {
   "cell_type": "markdown",
   "id": "cd54524e",
   "metadata": {},
   "source": [
    "#### Import xarray as xr, numpy as np, and pyplot from matplotlib as plt"
   ]
  },
  {
   "cell_type": "code",
   "execution_count": 1,
   "id": "ec65440e",
   "metadata": {},
   "outputs": [],
   "source": [
    "import xarray as xr\n",
    "import numpy as np\n",
    "from matplotlib import pyplot as plt"
   ]
  },
  {
   "cell_type": "markdown",
   "id": "5e7f11c9",
   "metadata": {},
   "source": [
    "#### Let's open our data file! *I GIVE YOU THE CODE FOR THIS*"
   ]
  },
  {
   "cell_type": "code",
   "execution_count": 2,
   "id": "1273bf9a",
   "metadata": {},
   "outputs": [],
   "source": [
    "# open_dataarray is one of the main functions in Xarray to open a Netcdf file!\n",
    "# the other function is open_dataset.  If our netcdf file contained MULTIPLE variables\n",
    "# say, precip, and temperature, etc.\n",
    "# we would instead open it as a dataset, and access specific variables separately\n",
    "data = xr.open_dataarray('precip.V1.0.2020.nc')"
   ]
  },
  {
   "cell_type": "markdown",
   "id": "2e804663",
   "metadata": {},
   "source": [
    "#### Prints out information about the data in this Netcdf file.  *I GIVE YOU THE CODE FOR THIS*\n",
    "- Remember: Netcdf is a binary file format, and we'll work a lot with it in future using the Xarray package, especially for *spatial* data!"
   ]
  },
  {
   "cell_type": "code",
   "execution_count": 3,
   "id": "f10b510e",
   "metadata": {},
   "outputs": [
    {
     "name": "stdout",
     "output_type": "stream",
     "text": [
      "<xarray.DataArray 'precip' (time: 366, lat: 120, lon: 300)>\n",
      "[13176000 values with dtype=float32]\n",
      "Coordinates:\n",
      "  * lat      (lat) float32 20.12 20.38 20.62 20.88 ... 49.12 49.38 49.62 49.88\n",
      "  * lon      (lon) float32 230.1 230.4 230.6 230.9 ... 304.1 304.4 304.6 304.9\n",
      "  * time     (time) datetime64[ns] 2020-01-01 2020-01-02 ... 2020-12-31\n",
      "Attributes:\n",
      "    long_name:     Daily Accumulated Precipitation\n",
      "    valid_range:   [  0. 400.]\n",
      "    units:         mm\n",
      "    precision:     2\n",
      "    var_desc:      Precipitation\n",
      "    dataset:       CPC Unified Gauge-Based Analysis of Daily Precipitation ov...\n",
      "    level_desc:    Surface\n",
      "    statistic:     Daily Accumulation\n",
      "    parent_stat:   Observation\n",
      "    actual_range:  [  0.      274.80292]\n"
     ]
    }
   ],
   "source": [
    "# Print\n",
    "print(data) # since we opened this Netcdf file and read directly in a data array variable\n",
    "            # 'data' contains the precipitation data we are working with"
   ]
  },
  {
   "cell_type": "code",
   "execution_count": 4,
   "id": "23bbad8c",
   "metadata": {},
   "outputs": [
    {
     "name": "stdout",
     "output_type": "stream",
     "text": [
      "Coordinates:\n",
      "  * lat      (lat) float32 20.12 20.38 20.62 20.88 ... 49.12 49.38 49.62 49.88\n",
      "  * lon      (lon) float32 230.1 230.4 230.6 230.9 ... 304.1 304.4 304.6 304.9\n",
      "  * time     (time) datetime64[ns] 2020-01-01 2020-01-02 ... 2020-12-31\n"
     ]
    }
   ],
   "source": [
    "print(data.coords) # coords is an attribute of the Xarray data array variable that will specifically give us coordinate info\n",
    "# if you look in the cell above, this metadata is also included when just simply printing the Xarray data array variable itself"
   ]
  },
  {
   "cell_type": "markdown",
   "id": "31515cd1",
   "metadata": {},
   "source": [
    "## *YOUR TURN*:  \n",
    "#### (1) Let's start thinking more about spatial data (much more to follow in next week's lessons!) Based on the metadata printed out above:\n",
    " - (a.)  what are the precipitation variable's UNITS?\n",
    "<br><br>\n",
    " - (b.)  what are the precipitation variable's COORDINATES? \n",
    "    - You *MUST* include a description of the direction of the order of each of the spatial coordinates (northward? southward? eastward? westward?)"
   ]
  },
  {
   "cell_type": "code",
   "execution_count": 5,
   "id": "5f745cc8",
   "metadata": {},
   "outputs": [],
   "source": [
    "# (a.) \n",
    "\n"
   ]
  },
  {
   "cell_type": "code",
   "execution_count": 6,
   "id": "4c3385b5",
   "metadata": {},
   "outputs": [],
   "source": [
    "# (b.) \n",
    "\n"
   ]
  },
  {
   "cell_type": "markdown",
   "id": "5c3f7ca9",
   "metadata": {},
   "source": [
    "#### Save the coordinate variables of lat, lon, and time each to their own variable (technically, each a data array) *I GIVE YOU THE CODE FOR THIS*"
   ]
  },
  {
   "cell_type": "code",
   "execution_count": 7,
   "id": "7ec72cb0",
   "metadata": {},
   "outputs": [
    {
     "name": "stdout",
     "output_type": "stream",
     "text": [
      "<xarray.DataArray 'lat' (lat: 120)>\n",
      "array([20.125, 20.375, 20.625, 20.875, 21.125, 21.375, 21.625, 21.875, 22.125,\n",
      "       22.375, 22.625, 22.875, 23.125, 23.375, 23.625, 23.875, 24.125, 24.375,\n",
      "       24.625, 24.875, 25.125, 25.375, 25.625, 25.875, 26.125, 26.375, 26.625,\n",
      "       26.875, 27.125, 27.375, 27.625, 27.875, 28.125, 28.375, 28.625, 28.875,\n",
      "       29.125, 29.375, 29.625, 29.875, 30.125, 30.375, 30.625, 30.875, 31.125,\n",
      "       31.375, 31.625, 31.875, 32.125, 32.375, 32.625, 32.875, 33.125, 33.375,\n",
      "       33.625, 33.875, 34.125, 34.375, 34.625, 34.875, 35.125, 35.375, 35.625,\n",
      "       35.875, 36.125, 36.375, 36.625, 36.875, 37.125, 37.375, 37.625, 37.875,\n",
      "       38.125, 38.375, 38.625, 38.875, 39.125, 39.375, 39.625, 39.875, 40.125,\n",
      "       40.375, 40.625, 40.875, 41.125, 41.375, 41.625, 41.875, 42.125, 42.375,\n",
      "       42.625, 42.875, 43.125, 43.375, 43.625, 43.875, 44.125, 44.375, 44.625,\n",
      "       44.875, 45.125, 45.375, 45.625, 45.875, 46.125, 46.375, 46.625, 46.875,\n",
      "       47.125, 47.375, 47.625, 47.875, 48.125, 48.375, 48.625, 48.875, 49.125,\n",
      "       49.375, 49.625, 49.875], dtype=float32)\n",
      "Coordinates:\n",
      "  * lat      (lat) float32 20.12 20.38 20.62 20.88 ... 49.12 49.38 49.62 49.88\n",
      "Attributes:\n",
      "    units:          degrees_north\n",
      "    long_name:      Latitude\n",
      "    actual_range:   [20.125 49.875]\n",
      "    standard_name:  latitude\n",
      "    axis:           Y\n",
      "<xarray.DataArray 'lon' (lon: 300)>\n",
      "array([230.125, 230.375, 230.625, ..., 304.375, 304.625, 304.875],\n",
      "      dtype=float32)\n",
      "Coordinates:\n",
      "  * lon      (lon) float32 230.1 230.4 230.6 230.9 ... 304.1 304.4 304.6 304.9\n",
      "Attributes:\n",
      "    units:          degrees_east\n",
      "    long_name:      Longitude\n",
      "    actual_range:   [230.125 304.875]\n",
      "    standard_name:  longitude\n",
      "    axis:           X\n"
     ]
    }
   ],
   "source": [
    "lat2 = data['lat'] # these are *coordinate* variables in the Netcdf file\n",
    "                          # they are affiliated with the data array, 'data'\n",
    "                          # and thus we can access them like this!\n",
    "print(lat2)\n",
    "lon2 = data['lon']\n",
    "print(lon2)\n",
    "times2 = data['time']"
   ]
  },
  {
   "cell_type": "markdown",
   "id": "50b37abb",
   "metadata": {},
   "source": [
    "#### Convert each of the three data arrays into a NumPy array  *I GIVE YOU THE CODE FOR THIS*\n",
    "- Since you haven't learned Xarray yet, let's get data into a format you know how to work with!"
   ]
  },
  {
   "cell_type": "code",
   "execution_count": 20,
   "id": "0efd3eea",
   "metadata": {},
   "outputs": [],
   "source": [
    "precip = data.values # nifty function that converts the Xarray data array variable into a NumPy array\n",
    "# 'precip' contains all the precip data, fyi\n",
    "lat = lat2.values # values of the latitude coordinate variable\n",
    "lon = lon2.values # values of the longitude coordinate variable"
   ]
  },
  {
   "cell_type": "markdown",
   "id": "b8c36f85",
   "metadata": {},
   "source": [
    "## *YOUR TURN, AGAIN, FROM HERE TO END OF ASSIGNMENT*\n",
    "#### (2)  Evaluating dimensions!\n",
    " - (a.) Evaluate and print the shape of each of these three NumPy arrays: lat, lon, and precip\n",
    "<br><br>\n",
    " - (b.) What are the dimensions of precip, physically, based on your answer to (a.), and your work in Q1?  Please provide the *names*, and please list the dimensions in the *order* they are structured in this NumPy array <br><br>"
   ]
  },
  {
   "cell_type": "code",
   "execution_count": 9,
   "id": "09e2a371",
   "metadata": {},
   "outputs": [],
   "source": [
    "# (a.)\n",
    "\n",
    "\n",
    "\n"
   ]
  },
  {
   "cell_type": "code",
   "execution_count": 10,
   "id": "dd66ddc0",
   "metadata": {},
   "outputs": [],
   "source": [
    "# (b.)\n",
    "\n",
    "\n"
   ]
  },
  {
   "cell_type": "markdown",
   "id": "19356760",
   "metadata": {},
   "source": [
    "#### (3)  Array operations - unit conversion\n",
    "- (a.) Convert from mm of daily precip to inches using an array operation (i.e., not a loop, of course, and simply a SINGLE line of code!)\n",
    "<br><br>\n",
    "- (b.) Comment on if what you just did would be faster or slower than doing this instead using a *for loop*. *Why* would this be the case, conceptually?"
   ]
  },
  {
   "cell_type": "code",
   "execution_count": 11,
   "id": "3d043abf",
   "metadata": {},
   "outputs": [],
   "source": [
    "# (a.)\n",
    "\n",
    "\n"
   ]
  },
  {
   "cell_type": "code",
   "execution_count": 12,
   "id": "d2ae6b93",
   "metadata": {},
   "outputs": [],
   "source": [
    "# (b.)\n",
    "\n",
    "\n",
    "\n"
   ]
  },
  {
   "cell_type": "markdown",
   "id": "239c7c50",
   "metadata": {},
   "source": [
    "#### (4)  Exploring daily precipitation data at the gridpoint nearest UIUC campus\n",
    "- (a.) Find, using code and NO HARDWIRING/MANUAL WORK, the indices of the nearest gridpoint to the UIUC campus.  Save these indices to new variables, and print out the values. *You may need to use a NumPy function I haven't formally taught you to determine the indices of the gridpoint nearest UIUC campus - do some exploration! #healthy*\n",
    "    - *suggestion*: draw a diagram to help you figure out what basic math/geometry you would code for this\n",
    "    - if you get stuck on this, you can manually determine the gridpoint so that you can still procceed forward with the rest of the questions on this homework (but of course you would lose points on this exact Q)\n",
    "    - post on Slack if you need a hint on how to do (a.) - this is a *spatial analysis* task!\n",
    "<br><br>\n",
    "- (b.) Print the corresponding lat/lon of that gridpoint. \n",
    "<br><br>\n",
    "- (c.) Index your precip array so that you are only accessing data at this special location.\n",
    "<br><br>\n",
    "- (d.) Evaluate and print the shape of your precip array when now only looking at precipitation data at this special location.  This will help you understand what exactly you're plotting in (e.) and (f.)\n",
    "<br><br>\n",
    "- (e.) Create a line plot of the precipitation data at this special location.\n",
    "   - Don't forget axis labels! And a title!\n",
    "<br><br>\n",
    "- (f.) Create a histogram of your precipitation data at this special location.  Please explicitly set the number of bins you think will be most appropriate to display the data in a way that is interpretable - you may want to play around with this!\n",
    "<br><br>\n",
    "- (g.) *Interpretation time*: looking at your histogram, does the data of daily precipitaton values at UIUC take on approximately a theoretical normal distribution?  Why or why not?  Please be as specific as possible, i.e., provide details to support your claim."
   ]
  },
  {
   "cell_type": "code",
   "execution_count": 13,
   "id": "f3054b26",
   "metadata": {},
   "outputs": [],
   "source": [
    "# (a.)\n",
    "\n",
    "\n",
    "\n",
    "\n",
    "\n",
    "\n"
   ]
  },
  {
   "cell_type": "code",
   "execution_count": 14,
   "id": "ee56b726",
   "metadata": {},
   "outputs": [],
   "source": [
    "# (b.)\n",
    "\n",
    "\n",
    "\n",
    "\n"
   ]
  },
  {
   "cell_type": "code",
   "execution_count": 15,
   "id": "0071b969",
   "metadata": {},
   "outputs": [],
   "source": [
    "# (c.)\n",
    "\n",
    "\n",
    "\n",
    "\n"
   ]
  },
  {
   "cell_type": "code",
   "execution_count": 16,
   "id": "2abb4a70",
   "metadata": {},
   "outputs": [],
   "source": [
    "# (d.)\n",
    "\n",
    "\n"
   ]
  },
  {
   "cell_type": "code",
   "execution_count": 17,
   "id": "3cc5340f",
   "metadata": {},
   "outputs": [],
   "source": [
    "# (e.)\n",
    "# Plot your line plot!\n"
   ]
  },
  {
   "cell_type": "code",
   "execution_count": 18,
   "id": "db7e570f",
   "metadata": {
    "scrolled": true
   },
   "outputs": [],
   "source": [
    "# (f.)\n",
    "# Plot your histogram!\n"
   ]
  },
  {
   "cell_type": "code",
   "execution_count": 19,
   "id": "b06041b2",
   "metadata": {},
   "outputs": [],
   "source": [
    "# (g.) \n",
    "# Interpretation of the histogram\n",
    "\n"
   ]
  }
 ],
 "metadata": {
  "kernelspec": {
   "display_name": "Python 3",
   "language": "python",
   "name": "python3"
  },
  "language_info": {
   "codemirror_mode": {
    "name": "ipython",
    "version": 3
   },
   "file_extension": ".py",
   "mimetype": "text/x-python",
   "name": "python",
   "nbconvert_exporter": "python",
   "pygments_lexer": "ipython3",
   "version": "3.7.10"
  }
 },
 "nbformat": 4,
 "nbformat_minor": 5
}
