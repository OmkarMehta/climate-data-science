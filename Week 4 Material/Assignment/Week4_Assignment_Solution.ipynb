{
 "cells": [
  {
   "cell_type": "markdown",
   "metadata": {},
   "source": [
    "# IT'S.....PRECIPITATION TIME!\n",
    "\n",
    "# Introduction + data used:\n",
    "- In this assignment, you'll explore precipitation data!\n",
    "<br><br>\n",
    "- What you'll be analyzing is daily precipitation data for the continental US for the year 2020\n",
    "<br><br>\n",
    "- It's important to clarify that this is *liquid* precipitation - so snow is measured by its liquid equivalent \n",
    "<br><br>\n",
    "- Want more information on the data? (You should! #metadataisimportant): \n",
    "https://psl.noaa.gov/data/gridded/data.unified.daily.conus.rt.html"
   ]
  },
  {
   "cell_type": "markdown",
   "metadata": {},
   "source": [
    "#### Import xarray as xr, numpy as np, and pyplot from matplotlib as plt"
   ]
  },
  {
   "cell_type": "code",
   "execution_count": 1,
   "metadata": {},
   "outputs": [],
   "source": [
    "import xarray as xr\n",
    "import numpy as np\n",
    "from matplotlib import pyplot as plt"
   ]
  },
  {
   "cell_type": "markdown",
   "metadata": {},
   "source": [
    "#### Let's open our data file! *I GIVE YOU THE CODE FOR THIS*"
   ]
  },
  {
   "cell_type": "code",
   "execution_count": 2,
   "metadata": {},
   "outputs": [],
   "source": [
    "# open_dataarray is one of the main functions in Xarray to open a Netcdf file!\n",
    "# the other function is open_dataset.  If our netcdf file contained MULTIPLE variables\n",
    "# say, precip, and temperature, etc.\n",
    "# we would instead open it as a dataset, and access specific variables distinctly\n",
    "data = xr.open_dataarray('precip.V1.0.2020.nc')"
   ]
  },
  {
   "cell_type": "markdown",
   "metadata": {},
   "source": [
    "#### Prints out information about the data in this Netcdf file.  *I GIVE YOU THE CODE FOR THIS*\n",
    "- Remember: Netcdf is a binary file format, and we'll work a lot with it in future using the Xarray package, especially for *spatial* data!"
   ]
  },
  {
   "cell_type": "code",
   "execution_count": 3,
   "metadata": {},
   "outputs": [
    {
     "name": "stdout",
     "output_type": "stream",
     "text": [
      "<xarray.DataArray 'precip' (time: 366, lat: 120, lon: 300)>\n",
      "[13176000 values with dtype=float32]\n",
      "Coordinates:\n",
      "  * lat      (lat) float32 20.12 20.38 20.62 20.88 ... 49.12 49.38 49.62 49.88\n",
      "  * lon      (lon) float32 230.1 230.4 230.6 230.9 ... 304.1 304.4 304.6 304.9\n",
      "  * time     (time) datetime64[ns] 2020-01-01 2020-01-02 ... 2020-12-31\n",
      "Attributes:\n",
      "    long_name:     Daily Accumulated Precipitation\n",
      "    valid_range:   [  0. 400.]\n",
      "    units:         mm\n",
      "    precision:     2\n",
      "    var_desc:      Precipitation\n",
      "    dataset:       CPC Unified Gauge-Based Analysis of Daily Precipitation ov...\n",
      "    level_desc:    Surface\n",
      "    statistic:     Daily Accumulation\n",
      "    parent_stat:   Observation\n",
      "    actual_range:  [  0.      274.80292]\n"
     ]
    }
   ],
   "source": [
    "# Print\n",
    "print(data) # since we opened this Netcdf file and read directly in a data array variable\n",
    "            # 'data' contains the precipitation data we are working with"
   ]
  },
  {
   "cell_type": "code",
   "execution_count": 4,
   "metadata": {},
   "outputs": [
    {
     "name": "stdout",
     "output_type": "stream",
     "text": [
      "Coordinates:\n",
      "  * lat      (lat) float32 20.12 20.38 20.62 20.88 ... 49.12 49.38 49.62 49.88\n",
      "  * lon      (lon) float32 230.1 230.4 230.6 230.9 ... 304.1 304.4 304.6 304.9\n",
      "  * time     (time) datetime64[ns] 2020-01-01 2020-01-02 ... 2020-12-31\n"
     ]
    }
   ],
   "source": [
    "print(data.coords) # coords is an attribute of the Xarray data array variable that will specifically give us coordinate info\n",
    "# if you look in the cell above, this metadata is also included when just simply printing the Xarray data array variable itself"
   ]
  },
  {
   "cell_type": "markdown",
   "metadata": {},
   "source": [
    "## *YOUR TURN*:  \n",
    "#### (1) Let's start thinking more about spatial data (much more to follow in next week's lessons!) Based on the metadata printed out above:\n",
    " - (a.)  what are the precipitation variable's UNITS?\n",
    "<br><br>\n",
    " - (b.)  what are the precipitation variable's COORDINATES? \n",
    "    - You *MUST* include a description of the direction of the order of each of the spatial coordinates (northward? southward? eastward? westward?)"
   ]
  },
  {
   "cell_type": "code",
   "execution_count": 5,
   "metadata": {},
   "outputs": [],
   "source": [
    "# (a.) mm "
   ]
  },
  {
   "cell_type": "code",
   "execution_count": 6,
   "metadata": {},
   "outputs": [],
   "source": [
    "# (b.) time, lat (south to north), lon (west to east)\n",
    "\n",
    "# Why do we care?  One we start slicing arrays, esp in terms of these spatial coordinates, you'll need to be very clear on \n",
    "# the direction of the coordinate systems"
   ]
  },
  {
   "cell_type": "markdown",
   "metadata": {},
   "source": [
    "#### Save the coordinate variables of lat, lon, and time each to their own variable (technically, each a data array) *I GIVE YOU THE CODE FOR THIS*"
   ]
  },
  {
   "cell_type": "code",
   "execution_count": 7,
   "metadata": {},
   "outputs": [
    {
     "name": "stdout",
     "output_type": "stream",
     "text": [
      "<xarray.DataArray 'lat' (lat: 120)>\n",
      "array([20.125, 20.375, 20.625, 20.875, 21.125, 21.375, 21.625, 21.875, 22.125,\n",
      "       22.375, 22.625, 22.875, 23.125, 23.375, 23.625, 23.875, 24.125, 24.375,\n",
      "       24.625, 24.875, 25.125, 25.375, 25.625, 25.875, 26.125, 26.375, 26.625,\n",
      "       26.875, 27.125, 27.375, 27.625, 27.875, 28.125, 28.375, 28.625, 28.875,\n",
      "       29.125, 29.375, 29.625, 29.875, 30.125, 30.375, 30.625, 30.875, 31.125,\n",
      "       31.375, 31.625, 31.875, 32.125, 32.375, 32.625, 32.875, 33.125, 33.375,\n",
      "       33.625, 33.875, 34.125, 34.375, 34.625, 34.875, 35.125, 35.375, 35.625,\n",
      "       35.875, 36.125, 36.375, 36.625, 36.875, 37.125, 37.375, 37.625, 37.875,\n",
      "       38.125, 38.375, 38.625, 38.875, 39.125, 39.375, 39.625, 39.875, 40.125,\n",
      "       40.375, 40.625, 40.875, 41.125, 41.375, 41.625, 41.875, 42.125, 42.375,\n",
      "       42.625, 42.875, 43.125, 43.375, 43.625, 43.875, 44.125, 44.375, 44.625,\n",
      "       44.875, 45.125, 45.375, 45.625, 45.875, 46.125, 46.375, 46.625, 46.875,\n",
      "       47.125, 47.375, 47.625, 47.875, 48.125, 48.375, 48.625, 48.875, 49.125,\n",
      "       49.375, 49.625, 49.875], dtype=float32)\n",
      "Coordinates:\n",
      "  * lat      (lat) float32 20.12 20.38 20.62 20.88 ... 49.12 49.38 49.62 49.88\n",
      "Attributes:\n",
      "    units:          degrees_north\n",
      "    long_name:      Latitude\n",
      "    actual_range:   [20.125 49.875]\n",
      "    standard_name:  latitude\n",
      "    axis:           Y\n",
      "<xarray.DataArray 'lon' (lon: 300)>\n",
      "array([230.125, 230.375, 230.625, ..., 304.375, 304.625, 304.875],\n",
      "      dtype=float32)\n",
      "Coordinates:\n",
      "  * lon      (lon) float32 230.1 230.4 230.6 230.9 ... 304.1 304.4 304.6 304.9\n",
      "Attributes:\n",
      "    units:          degrees_east\n",
      "    long_name:      Longitude\n",
      "    actual_range:   [230.125 304.875]\n",
      "    standard_name:  longitude\n",
      "    axis:           X\n"
     ]
    }
   ],
   "source": [
    "lat2 = data['lat'] # these are *coordinate* variables in the Netcdf file\n",
    "                          # they are attached to the main data structure, remote_data\n",
    "                          # and thus we can access them like this!\n",
    "print(lat2)\n",
    "lon2 = data['lon']\n",
    "print(lon2)\n",
    "times2 = data['time']"
   ]
  },
  {
   "cell_type": "markdown",
   "metadata": {},
   "source": [
    "#### Convert each of the three data arrays into a NumPy array  *I GIVE YOU THE CODE FOR THIS*\n",
    "- Since you haven't learned Xarray yet, let's get data into a format you know how to work with!"
   ]
  },
  {
   "cell_type": "code",
   "execution_count": 8,
   "metadata": {},
   "outputs": [],
   "source": [
    "precip = data.values # nifty function that converts the Xarray data array variable into a NumPy array\n",
    "lat = lat2.values # values of the latitude coordinate variable\n",
    "lon = lon2.values # values of the longitude coordinate variable"
   ]
  },
  {
   "cell_type": "markdown",
   "metadata": {},
   "source": [
    "## *YOUR TURN, AGAIN, FROM HERE TO END OF ASSIGNMENT*\n",
    "#### (2)  Evaluating dimensions!\n",
    " - (a.) Evaluate and print the shape of each of these three NumPy arrays: lat, lon, and precip\n",
    "<br><br>\n",
    " - (b.) What are the dimensions of precip, physically, based on your answer to (a.), and your work in Q1?  Please provide the *names*, and please list the dimensions in the *order* they are structured in this NumPy array <br><br>"
   ]
  },
  {
   "cell_type": "code",
   "execution_count": 9,
   "metadata": {},
   "outputs": [
    {
     "name": "stdout",
     "output_type": "stream",
     "text": [
      "(120,)\n",
      "(300,)\n",
      "(366, 120, 300)\n"
     ]
    }
   ],
   "source": [
    "# (a.)\n",
    "\n",
    "print(np.shape(lat))\n",
    "print(np.shape(lon))\n",
    "print(np.shape(precip))"
   ]
  },
  {
   "cell_type": "code",
   "execution_count": 10,
   "metadata": {},
   "outputs": [],
   "source": [
    "# (b.) + (c.)\n",
    "\n",
    "# time, lat, lon - in this order"
   ]
  },
  {
   "cell_type": "markdown",
   "metadata": {},
   "source": [
    "#### (3)  Array operations - unit conversion\n",
    "- (a.) Convert from mm of daily precip to inches using an array operation (i.e., not a loop, of course, and simply a SINGLE line of code!)\n",
    "<br><br>\n",
    "- (b.) Comment on if what you just did would be faster or slower than doing this instead using a *for loop*. *Why* would this be the case, conceptually?"
   ]
  },
  {
   "cell_type": "code",
   "execution_count": 11,
   "metadata": {},
   "outputs": [],
   "source": [
    "# (a.)\n",
    "precip_in = precip/25.4 # hooray for vectorization and broadcasting!"
   ]
  },
  {
   "cell_type": "code",
   "execution_count": 12,
   "metadata": {},
   "outputs": [],
   "source": [
    "# (b.)\n",
    "# loop would be slower - have to iterate through each individual array element!  No thank you!  \n",
    "# This becomes a really significant issue, code-efficiency wise, when you're working with big data"
   ]
  },
  {
   "cell_type": "markdown",
   "metadata": {},
   "source": [
    "#### (4)  Exploring daily precipitation data at the gridpoint nearest UIUC campus\n",
    "- (a.) Determine, save to new variable(s), and print the indices of the nearest gridpoint to the UIUC campus. *You may need to use a NumPy function I haven't formally taught you to determine the indices of the gridpoint nearest UIUC campus - do some exploration! #healthy*\n",
    "    - *suggestion*: draw a diagram to help you figure out what basic math/geometry you would code for this\n",
    "    - if you get stuck on this, you can manually determine the gridpoint so that you can still procceed forward with the rest of the questions on this homework\n",
    "    - post on Slack if you need a hint on how to do (a.) - this is a *spatial analysis* task!\n",
    "<br><br>\n",
    "- (b.) Print the corresponding lat/lon of that gridpoint. \n",
    "<br><br>\n",
    "- (c.) Index your precip array so that you are only accessing data at this special location.\n",
    "<br><br>\n",
    "- (d.) Evaluate and print the shape of your precip array when now only looking at precipitation data at this special location.  This will help you understand what exactly you're plotting in (e.) and (f.)\n",
    "<br><br>\n",
    "- (e.) Create a line plot of the precipitation data at this special location.\n",
    "   - Don't forget axis labels! And a title!\n",
    "<br><br>\n",
    "- (f.) Create a histogram of your precipitation data at this special location.  Please explicitly set the number of bins you think will be most appropriate to display the data in a way that is interpretable - you may want to play around with this!\n",
    "<br><br>\n",
    "- (g.) *Interpretation time*: looking at your histogram, does the data of daily precipitaton values at UIUC take on approximately a theoretical normal distribution?  Why or why not?  Please be as specific as possible, i.e., provide details to support your claim."
   ]
  },
  {
   "cell_type": "code",
   "execution_count": 13,
   "metadata": {},
   "outputs": [
    {
     "name": "stdout",
     "output_type": "stream",
     "text": [
      "(300,)\n",
      "(120,)\n"
     ]
    }
   ],
   "source": [
    "# (a.)\n",
    "\n",
    "# I will break this down in multiple steps, although it can be done in each one line for lat and lon\n",
    "\n",
    "#******************************\n",
    "# STEP 1\n",
    "#******************************\n",
    "\n",
    "# We know the lat/lon of campus\n",
    "lon_c = 271.8\n",
    "lat_c = 40.2\n",
    "\n",
    "# We also have the lat/lon of each gridpoint in our dataset \n",
    "\n",
    "# Distance from each point of the longitude array from the longitude of uiuc \n",
    "# We want absolute value because we want minimum distance, whether its to the east or the west!\n",
    "lon_uiuc2 = np.fabs(lon - lon_c)\n",
    "print(lon_uiuc2.shape) # prove to yourself that the result of the above is an array!\n",
    "\n",
    "# Now the same for latitude\n",
    "lat_uiuc2 = np.fabs(lat - lat_c)\n",
    "print(lat_uiuc2.shape)\n",
    "\n",
    "\n",
    "#******************************\n",
    "# STEP 2\n",
    "#******************************\n",
    "\n",
    "# The argmin function will find the index in this array (that consists of\n",
    "# distance between each gridpoint's lat or lon and campus's lat or lon) with the minimum value!\n",
    "# I.e., the latitude that is closest to campus (the minimum distance)\n",
    "# And the longitude that is closest to campus (the minimum distance)\n",
    "# Which together gives you the gridpoint that is the closest to campus!\n",
    "# We'll see similar functions in Xarray and Pandas!\n",
    "\n",
    "lon_uiuc = lon_uiuc2.argmin() # this is the POSITIONAL INDEX of the lon\n",
    "lat_uiuc = lat_uiuc2.argmin()"
   ]
  },
  {
   "cell_type": "code",
   "execution_count": 14,
   "metadata": {},
   "outputs": [
    {
     "name": "stdout",
     "output_type": "stream",
     "text": [
      "271.875\n",
      "40.125\n"
     ]
    }
   ],
   "source": [
    "# (b.)\n",
    "\n",
    "# to pull out the ACTUAL lat/lon, use the positional indices you found in (a.)\n",
    "print(lon[lon_uiuc])\n",
    "print(lat[lat_uiuc])"
   ]
  },
  {
   "cell_type": "code",
   "execution_count": 15,
   "metadata": {},
   "outputs": [
    {
     "data": {
      "text/plain": [
       "array([0.00000000e+00, 0.00000000e+00, 0.00000000e+00, 0.00000000e+00,\n",
       "       7.56910350e-03, 0.00000000e+00, 0.00000000e+00, 0.00000000e+00,\n",
       "       0.00000000e+00, 5.93881786e-01, 1.94504189e+00, 4.32466537e-01,\n",
       "       1.17002684e-03, 0.00000000e+00, 0.00000000e+00, 2.22930126e-03,\n",
       "       0.00000000e+00, 8.88955295e-01, 4.51535098e-02, 0.00000000e+00,\n",
       "       0.00000000e+00, 0.00000000e+00, 2.17072642e-03, 1.13586903e-01,\n",
       "       2.62093544e-02, 2.26746080e-03, 0.00000000e+00, 0.00000000e+00,\n",
       "       4.37460840e-03, 0.00000000e+00, 8.56058206e-03, 1.30458800e-02,\n",
       "       0.00000000e+00, 0.00000000e+00, 0.00000000e+00, 2.37695742e-02,\n",
       "       1.14189908e-01, 5.45641221e-03, 3.36135700e-02, 0.00000000e+00,\n",
       "       3.91091555e-01, 0.00000000e+00, 0.00000000e+00, 2.75949597e-01,\n",
       "       0.00000000e+00, 0.00000000e+00, 0.00000000e+00, 1.07813627e-03,\n",
       "       5.05779028e-01, 0.00000000e+00, 0.00000000e+00, 0.00000000e+00,\n",
       "       0.00000000e+00, 0.00000000e+00, 0.00000000e+00, 1.89595863e-01,\n",
       "       2.75271595e-01, 7.04724118e-02, 0.00000000e+00, 0.00000000e+00,\n",
       "       0.00000000e+00, 4.84980881e-01, 0.00000000e+00, 0.00000000e+00,\n",
       "       4.60889190e-03, 0.00000000e+00, 0.00000000e+00, 0.00000000e+00,\n",
       "       0.00000000e+00, 6.69449508e-01, 0.00000000e+00, 0.00000000e+00,\n",
       "       1.32982314e-01, 5.70485480e-02, 2.22227573e-01, 0.00000000e+00,\n",
       "       4.43563461e-02, 0.00000000e+00, 4.39505517e-01, 5.62007129e-01,\n",
       "       0.00000000e+00, 0.00000000e+00, 1.03562236e-01, 0.00000000e+00,\n",
       "       4.47429419e-02, 2.81950925e-03, 1.35420501e-01, 1.39234707e-01,\n",
       "       6.11828528e-02, 0.00000000e+00, 0.00000000e+00, 0.00000000e+00,\n",
       "       0.00000000e+00, 0.00000000e+00, 3.85159850e-02, 3.03725302e-02,\n",
       "       0.00000000e+00, 0.00000000e+00, 0.00000000e+00, 2.74006546e-01,\n",
       "       0.00000000e+00, 0.00000000e+00, 1.44070536e-01, 1.06536886e-02,\n",
       "       0.00000000e+00, 0.00000000e+00, 1.50740880e-03, 1.74079239e-01,\n",
       "       6.55186027e-02, 0.00000000e+00, 0.00000000e+00, 0.00000000e+00,\n",
       "       0.00000000e+00, 1.08104698e-01, 3.75066370e-01, 5.26803553e-01,\n",
       "       1.11817741e+00, 1.98025741e-02, 1.48284424e-03, 1.47169602e+00,\n",
       "       4.62429583e-01, 0.00000000e+00, 1.09901279e-02, 2.45062709e-01,\n",
       "       3.96790393e-02, 1.00946173e-01, 7.57299364e-02, 0.00000000e+00,\n",
       "       3.78181674e-02, 6.71617268e-03, 0.00000000e+00, 3.75450402e-02,\n",
       "       0.00000000e+00, 0.00000000e+00, 2.53580417e-03, 3.52099627e-01,\n",
       "       1.13316923e-02, 1.36672890e+00, 8.45397353e-01, 3.97608094e-02,\n",
       "       8.75290930e-02, 0.00000000e+00, 0.00000000e+00, 0.00000000e+00,\n",
       "       4.58648205e-02, 9.87083852e-01, 1.38571560e-01, 2.04302873e-02,\n",
       "       4.66970466e-02, 8.59770998e-02, 2.42145732e-03, 0.00000000e+00,\n",
       "       0.00000000e+00, 0.00000000e+00, 0.00000000e+00, 2.51558256e+00,\n",
       "       0.00000000e+00, 0.00000000e+00, 0.00000000e+00, 0.00000000e+00,\n",
       "       0.00000000e+00, 1.70071557e-01, 9.49866045e-03, 0.00000000e+00,\n",
       "       0.00000000e+00, 7.76188746e-02, 0.00000000e+00, 0.00000000e+00,\n",
       "       0.00000000e+00, 0.00000000e+00, 0.00000000e+00, 0.00000000e+00,\n",
       "       5.77573299e-01, 1.13552108e-01, 1.32482636e+00, 3.36351767e-02,\n",
       "       1.43645257e-01, 0.00000000e+00, 6.99170679e-02, 5.49995840e-01,\n",
       "       0.00000000e+00, 1.98971704e-02, 0.00000000e+00, 1.55617041e-03,\n",
       "       0.00000000e+00, 0.00000000e+00, 0.00000000e+00, 0.00000000e+00,\n",
       "       1.32379262e-02, 1.33171417e-02, 1.95368364e-01, 1.98410839e-01,\n",
       "       4.96950699e-03, 1.14640296e+00, 9.32587460e-02, 0.00000000e+00,\n",
       "       0.00000000e+00, 3.59051406e-01, 0.00000000e+00, 0.00000000e+00,\n",
       "       0.00000000e+00, 5.27067125e-01, 0.00000000e+00, 1.00377762e+00,\n",
       "       4.40155007e-02, 0.00000000e+00, 0.00000000e+00, 0.00000000e+00,\n",
       "       0.00000000e+00, 5.86758196e-01, 0.00000000e+00, 2.61101514e-01,\n",
       "       5.65196574e-01, 6.52529895e-02, 6.33628666e-01, 2.01736460e-03,\n",
       "       0.00000000e+00, 0.00000000e+00, 0.00000000e+00, 0.00000000e+00,\n",
       "       0.00000000e+00, 0.00000000e+00, 2.09677080e-03, 3.56848896e-01,\n",
       "       0.00000000e+00, 0.00000000e+00, 0.00000000e+00, 0.00000000e+00,\n",
       "       0.00000000e+00, 0.00000000e+00, 2.79752702e-01, 0.00000000e+00,\n",
       "       0.00000000e+00, 0.00000000e+00, 0.00000000e+00, 0.00000000e+00,\n",
       "       0.00000000e+00, 0.00000000e+00, 6.46612421e-03, 0.00000000e+00,\n",
       "       0.00000000e+00, 2.39617517e-03, 0.00000000e+00, 0.00000000e+00,\n",
       "       0.00000000e+00, 2.51600444e-01, 0.00000000e+00, 0.00000000e+00,\n",
       "       0.00000000e+00, 2.96012429e-03, 7.67038465e-01, 7.73633346e-02,\n",
       "       4.20019478e-01, 0.00000000e+00, 0.00000000e+00, 0.00000000e+00,\n",
       "       4.64896113e-01, 0.00000000e+00, 0.00000000e+00, 0.00000000e+00,\n",
       "       0.00000000e+00, 0.00000000e+00, 0.00000000e+00, 0.00000000e+00,\n",
       "       0.00000000e+00, 0.00000000e+00, 0.00000000e+00, 0.00000000e+00,\n",
       "       0.00000000e+00, 0.00000000e+00, 0.00000000e+00, 1.97804525e-01,\n",
       "       6.74905553e-02, 0.00000000e+00, 0.00000000e+00, 1.28346477e-02,\n",
       "       0.00000000e+00, 2.43679896e-01, 1.29010258e-02, 0.00000000e+00,\n",
       "       0.00000000e+00, 0.00000000e+00, 0.00000000e+00, 0.00000000e+00,\n",
       "       0.00000000e+00, 8.76088801e-04, 6.74884766e-02, 0.00000000e+00,\n",
       "       3.16363573e-02, 3.80462501e-03, 0.00000000e+00, 0.00000000e+00,\n",
       "       3.13552052e-01, 0.00000000e+00, 8.95090163e-01, 5.36500476e-02,\n",
       "       0.00000000e+00, 2.17329845e-01, 0.00000000e+00, 5.65298041e-03,\n",
       "       9.40130875e-02, 5.25076315e-02, 2.34658509e-01, 6.12111017e-03,\n",
       "       0.00000000e+00, 0.00000000e+00, 0.00000000e+00, 0.00000000e+00,\n",
       "       0.00000000e+00, 0.00000000e+00, 0.00000000e+00, 0.00000000e+00,\n",
       "       0.00000000e+00, 0.00000000e+00, 0.00000000e+00, 2.87632942e-01,\n",
       "       0.00000000e+00, 0.00000000e+00, 0.00000000e+00, 8.20632041e-01,\n",
       "       0.00000000e+00, 0.00000000e+00, 0.00000000e+00, 0.00000000e+00,\n",
       "       0.00000000e+00, 1.05280399e-01, 4.93242681e-01, 4.73037772e-02,\n",
       "       1.15799099e-01, 4.11230177e-01, 1.21591769e-01, 0.00000000e+00,\n",
       "       0.00000000e+00, 0.00000000e+00, 2.98708212e-02, 0.00000000e+00,\n",
       "       0.00000000e+00, 0.00000000e+00, 0.00000000e+00, 0.00000000e+00,\n",
       "       0.00000000e+00, 0.00000000e+00, 0.00000000e+00, 0.00000000e+00,\n",
       "       0.00000000e+00, 0.00000000e+00, 7.70824254e-01, 2.88184006e-02,\n",
       "       0.00000000e+00, 0.00000000e+00, 3.88322733e-02, 1.72810745e-03,\n",
       "       0.00000000e+00, 1.88229303e-03, 1.25000009e-03, 0.00000000e+00,\n",
       "       0.00000000e+00, 0.00000000e+00, 2.17515036e-01, 0.00000000e+00,\n",
       "       0.00000000e+00, 0.00000000e+00, 0.00000000e+00, 0.00000000e+00,\n",
       "       1.83225662e-01, 1.15631416e-01], dtype=float32)"
      ]
     },
     "execution_count": 15,
     "metadata": {},
     "output_type": "execute_result"
    }
   ],
   "source": [
    "# (c.)\n",
    "# but for accessing data just at UIUC, want to use the positional indices\n",
    "# as that is how NumPy array indexing works, yes?\n",
    "precip_in[:,lat_uiuc,lon_uiuc] # dimension order is time, lat, lon, yes?"
   ]
  },
  {
   "cell_type": "code",
   "execution_count": 16,
   "metadata": {},
   "outputs": [
    {
     "data": {
      "text/plain": [
       "(366,)"
      ]
     },
     "execution_count": 16,
     "metadata": {},
     "output_type": "execute_result"
    }
   ],
   "source": [
    "# (d.)\n",
    "# One for each day!\n",
    "np.shape(precip_in[:,lat_uiuc,lon_uiuc]) # time series of precip data ~ at UIUC!"
   ]
  },
  {
   "cell_type": "code",
   "execution_count": 17,
   "metadata": {},
   "outputs": [
    {
     "data": {
      "image/png": "[encoded data removed]",
      "text/plain": [
       "<Figure size 432x288 with 1 Axes>"
      ]
     },
     "metadata": {
      "needs_background": "light"
     },
     "output_type": "display_data"
    }
   ],
   "source": [
    "# (e.)\n",
    "# Plot your line plot!\n",
    "# Or, really, could do scatterplot\n",
    "\n",
    "fig, ax = plt.subplots() # object oriented plotting!\n",
    "\n",
    "ax.plot(precip_in[:,lat_uiuc,lon_uiuc])\n",
    "ax.set_xlabel('Day of Year')\n",
    "ax.set_ylabel('Daily Precipitation (in.)')\n",
    "ax.set_title('Daily Precipitation for Urbana-Champaign in 2020')\n",
    "plt.show()"
   ]
  },
  {
   "cell_type": "code",
   "execution_count": 18,
   "metadata": {
    "scrolled": true
   },
   "outputs": [
    {
     "name": "stdout",
     "output_type": "stream",
     "text": [
      "2.5155826\n"
     ]
    },
    {
     "data": {
      "text/plain": [
       "Text(0.5, 1.0, 'Frequency of Daily Precipitation for Urbana-Champaign')"
      ]
     },
     "execution_count": 18,
     "metadata": {},
     "output_type": "execute_result"
    },
    {
     "data": {
      "image/png": "[encoded data removed]",
      "text/plain": [
       "<Figure size 432x288 with 1 Axes>"
      ]
     },
     "metadata": {
      "needs_background": "light"
     },
     "output_type": "display_data"
    }
   ],
   "source": [
    "# (f.)\n",
    "# Plot your histogram!\n",
    "\n",
    "# How do I gauge how many bins?\n",
    "# Let's look at the range of values\n",
    "# Obviously min is 0\n",
    "# 0 to 2.5 - maybe every quarter of an inch or so?\n",
    "\n",
    "print(np.max(precip_in[:,lat_uiuc,lon_uiuc]))\n",
    "\n",
    "\n",
    "fig, ax = plt.subplots()\n",
    "ax.hist(precip_in[:,lat_uiuc,lon_uiuc],10)\n",
    "ax.set_xlabel('Daily Precipitation (in.)')\n",
    "ax.set_ylabel('Number of Days')\n",
    "ax.set_title('Frequency of Daily Precipitation for Urbana-Champaign')\n",
    "\n",
    "# This is ~ a gamma distribution, which is typical for precipitation data\n",
    "# More on distributions later!"
   ]
  },
  {
   "cell_type": "code",
   "execution_count": 19,
   "metadata": {},
   "outputs": [],
   "source": [
    "# (g.) Interpretation of the histogram\n",
    "\n",
    "# No, not a normal distribution at all, VERY asymmetrical\n",
    "# Nearly all values are around or just above 0, and there are no negative values.\n",
    "# There is a long right tail due to 'extreme', less common precipitation events\n",
    "# This is actually a GAMMA distribution, FYI"
   ]
  }
 ],
 "metadata": {
  "kernelspec": {
   "display_name": "Python 3",
   "language": "python",
   "name": "python3"
  },
  "language_info": {
   "codemirror_mode": {
    "name": "ipython",
    "version": 3
   },
   "file_extension": ".py",
   "mimetype": "text/x-python",
   "name": "python",
   "nbconvert_exporter": "python",
   "pygments_lexer": "ipython3",
   "version": "3.7.10"
  }
 },
 "nbformat": 4,
 "nbformat_minor": 4
}
