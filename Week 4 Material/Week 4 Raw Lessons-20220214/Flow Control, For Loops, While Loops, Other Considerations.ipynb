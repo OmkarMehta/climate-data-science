{
 "cells": [
  {
   "cell_type": "markdown",
   "metadata": {},
   "source": [
    "## FLOW CONTROL:  FOR LOOPS\n",
    "\n",
    "### (1) Overview\n",
    "- use when you want to execute a block of code a certain number of times\n",
    "- involves an *iterable object*, which can be a: \n",
    "   - list\n",
    "   - tuple\n",
    "   - NumPy array - more on this later!\n",
    "   - string\n",
    "   \n",
    "### (2) Syntax \n",
    "for var in itobj:<br> \n",
    "&nbsp;&nbsp;&nbsp;&nbsp;&nbsp;&nbsp; block of code to run if var is in itobj\n",
    "- #### key syntax considerations:\n",
    "  - the colon at the for line\n",
    "  - the indentation of the block of code you want to run if var is in itobj - FOUR SPACES\n",
    "  - this block of code is executed as long as there are still elements left in itobj\n",
    "  - one common way of defining itobj: \n",
    "     - range(n1,n2), where n1 and n2 are integers\n",
    "     \n",
    "### (3) Examples of for loops"
   ]
  },
  {
   "cell_type": "code",
   "execution_count": 2,
   "metadata": {},
   "outputs": [
    {
     "name": "stdout",
     "output_type": "stream",
     "text": [
      "998\n",
      "1002\n",
      "1005\n",
      "1008\n"
     ]
    }
   ],
   "source": [
    "# Example - simple for loop\n",
    "# If you want the for loop to do something for each element in press \n",
    "\n",
    "press = [998,1002,1005,1008] # atmospheric pressures \n",
    "\n",
    "for p in press:  # colon is key -- look familiar?\n",
    "    print(p)  # as is indentation!    "
   ]
  },
  {
   "cell_type": "code",
   "execution_count": 3,
   "metadata": {},
   "outputs": [
    {
     "name": "stdout",
     "output_type": "stream",
     "text": [
      "0\n",
      "1\n",
      "2\n",
      "3\n",
      "4\n",
      "5\n",
      "6\n",
      "7\n",
      "8\n",
      "9\n"
     ]
    }
   ],
   "source": [
    "# Example - simple for loop\n",
    "# If you want the for loop to do something a certain number of times\n",
    "\n",
    "for a in range(0,10): # Run through the loop TEN times \n",
    "    print(a)"
   ]
  },
  {
   "cell_type": "markdown",
   "metadata": {},
   "source": [
    "- #### as we progress further into Python, we'll add complexity to our loop structures"
   ]
  },
  {
   "cell_type": "markdown",
   "metadata": {},
   "source": [
    "## FLOW CONTROL:  WHILE LOOP\n",
    "### (1) overview\n",
    "  - executes a block of code while, and only while, a certain condition is met\n",
    "\n",
    "### (2) syntax\n",
    "  while condition: <br>\n",
    "&nbsp;&nbsp;&nbsp;&nbsp;&nbsp;&nbsp; block of code to run while condition remains met\n",
    "\n",
    "- #### key syntax considerations:\n",
    "  - the colon at the while line\n",
    "  - the indentation of the block of code you want to run while the condition remains met\n",
    "  - *to avoid infinite while loop, need to, somewhere in your loop, change something such that at some point, the condition is no longer met*"
   ]
  },
  {
   "cell_type": "code",
   "execution_count": 4,
   "metadata": {},
   "outputs": [
    {
     "name": "stdout",
     "output_type": "stream",
     "text": [
      "0\n",
      "1\n",
      "2\n",
      "3\n"
     ]
    }
   ],
   "source": [
    "# Example: \n",
    "b = 0\n",
    "while b < 4:  # once b = 4, loop no longer runs!\n",
    "    print(b)\n",
    "    b+=1 # updates the condition by adding 1 to b each iteration "
   ]
  },
  {
   "cell_type": "markdown",
   "metadata": {},
   "source": [
    "- #### can use while loops to verify user input!\n",
    "  - keep asking for user input if the value the user inputs is out-of-bounds you set"
   ]
  },
  {
   "cell_type": "code",
   "execution_count": 5,
   "metadata": {},
   "outputs": [
    {
     "name": "stdout",
     "output_type": "stream",
     "text": [
      "1000.0\n"
     ]
    }
   ],
   "source": [
    "# Example\n",
    "p = -99.0\n",
    "\n",
    "while p>=1100 or p<=900:   \n",
    "    p = float(input('Enter surface pressure (mb):  '))\n",
    "print(p)"
   ]
  },
  {
   "cell_type": "markdown",
   "metadata": {},
   "source": [
    "## OTHER FLOW CONTROL CONSIDERATIONS\n",
    "- skipping to top of loop\n",
    "- breaking out of loop\n",
    "- creating an empty/do-nothing code block\n",
    "- evaluating error conditions"
   ]
  },
  {
   "cell_type": "markdown",
   "metadata": {},
   "source": [
    "### (1) Skipping to top of loop\n",
    " - **purpose**: go back to top of loop when a certain condition is met -- expressed by a **continue** statement\n",
    "    - and for that iteration of the loop, skip all code between continue statement and end of loop\n",
    " - **use with**: for and while loops"
   ]
  },
  {
   "cell_type": "code",
   "execution_count": 6,
   "metadata": {},
   "outputs": [
    {
     "name": "stdout",
     "output_type": "stream",
     "text": [
      "10\n",
      "20\n",
      "30\n",
      "40\n",
      "50\n",
      "60\n",
      "70\n",
      "80\n",
      "90\n"
     ]
    }
   ],
   "source": [
    "# Example\n",
    "for a in range(10,100):\n",
    "    if a%10 != 0:\n",
    "        continue # skip back to top of loop if a isn't a multiple of 10\n",
    "    print(a) # only output multiples of 10  "
   ]
  },
  {
   "cell_type": "markdown",
   "metadata": {},
   "source": [
    "### (2) Breaking out of loop"
   ]
  },
  {
   "cell_type": "markdown",
   "metadata": {},
   "source": [
    "- **purpose**: exiting the loop entirely if a certain condition is met -- expressed by a **break** statement\n",
    "    - if the condition is met, nothing in the loop is executed after the break statement!\n",
    "- **use with**: for and while loops\n",
    "- particularly useful if want to break out of loop if a NaN, 0, or other issue is encountered"
   ]
  },
  {
   "cell_type": "code",
   "execution_count": 7,
   "metadata": {},
   "outputs": [
    {
     "name": "stdout",
     "output_type": "stream",
     "text": [
      "1\n",
      "2\n",
      "3\n",
      "4\n",
      "5\n",
      "6\n",
      "7\n",
      "8\n",
      "9\n",
      "Done with loop, as reached first multiple of 10\n"
     ]
    }
   ],
   "source": [
    "# Example\n",
    "for a in range (1,100):\n",
    "    if a%10 == 0:\n",
    "        break\n",
    "    print(a)\n",
    "print(\"Done with loop, as reached first multiple of 10\")"
   ]
  },
  {
   "cell_type": "markdown",
   "metadata": {},
   "source": [
    "### (3) Creating an empty/do-nothing code block\n",
    "- **purpose**: if want to have an empty code block -- designated using the **pass** statement"
   ]
  },
  {
   "cell_type": "code",
   "execution_count": 9,
   "metadata": {},
   "outputs": [],
   "source": [
    "# Example\n",
    "a = 0\n",
    "if a > 0:\n",
    "    print(a)\n",
    "elif a ==0:\n",
    "    pass # do nothing if a = 0\n",
    "else: \n",
    "    print(abs(a))"
   ]
  },
  {
   "cell_type": "markdown",
   "metadata": {},
   "source": [
    "### (4) Handling errors\n",
    "- ####  overview\n",
    "  - sometimes, if Python encounters certain errors you don't want to necessarily end the execution of the code\n",
    "     - but this can be dangerous - be careful!\n",
    "- #### example: syntax for try-except construct \n",
    "\n",
    "try:<br>\n",
    "&nbsp;&nbsp;&nbsp;&nbsp;&nbsp;&nbsp;*code block*<br> \n",
    "except:<br>\n",
    "&nbsp;&nbsp;&nbsp;&nbsp;&nbsp;&nbsp;*alternative code block*<br>"
   ]
  }
 ],
 "metadata": {
  "kernelspec": {
   "display_name": "Python 3",
   "language": "python",
   "name": "python3"
  },
  "language_info": {
   "codemirror_mode": {
    "name": "ipython",
    "version": 3
   },
   "file_extension": ".py",
   "mimetype": "text/x-python",
   "name": "python",
   "nbconvert_exporter": "python",
   "pygments_lexer": "ipython3",
   "version": "3.8.11"
  }
 },
 "nbformat": 4,
 "nbformat_minor": 4
}
