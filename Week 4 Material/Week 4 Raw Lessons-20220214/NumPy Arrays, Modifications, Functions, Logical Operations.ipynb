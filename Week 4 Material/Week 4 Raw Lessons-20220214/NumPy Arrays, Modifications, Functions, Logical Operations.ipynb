{
 "cells": [
  {
   "cell_type": "markdown",
   "metadata": {},
   "source": [
    "## NUMPY ARRAYS: MODIFICATIONS\n",
    "  - useful ways to change an array, a, include: \n",
    "     - converting from multi-D to 1D\n",
    "     - reshaping\n",
    "     - adding elements\n",
    "     - removing elements\n",
    "     - reassigning elements\n",
    "     - combining arrays"
   ]
  },
  {
   "cell_type": "markdown",
   "metadata": {},
   "source": [
    "### (1) converting from multi-D to 1D: *a.flatten()*"
   ]
  },
  {
   "cell_type": "code",
   "execution_count": 2,
   "metadata": {},
   "outputs": [],
   "source": [
    "import numpy as np"
   ]
  },
  {
   "cell_type": "code",
   "execution_count": 3,
   "metadata": {},
   "outputs": [
    {
     "name": "stdout",
     "output_type": "stream",
     "text": [
      "[[ 5 10 15]\n",
      " [20 25 30]]\n",
      "    \n",
      "[ 5 10 15 20 25 30]\n"
     ]
    }
   ],
   "source": [
    "a = np.array([[5,10,15],[20,25,30]]) # 2D array\n",
    "print(a)\n",
    "print(\"    \")\n",
    "c = a.flatten() # convert to 1D array!\n",
    "print(c)"
   ]
  },
  {
   "cell_type": "markdown",
   "metadata": {},
   "source": [
    "### (2) reshaping: *np.reshape(a, new dims), np.transpose(a)*"
   ]
  },
  {
   "cell_type": "code",
   "execution_count": 4,
   "metadata": {},
   "outputs": [
    {
     "name": "stdout",
     "output_type": "stream",
     "text": [
      "a = [[ 5 10 15]\n",
      " [20 25 30]]\n",
      "\n",
      "\n",
      "[[ 5 10]\n",
      " [15 20]\n",
      " [25 30]]\n"
     ]
    }
   ],
   "source": [
    "print(\"a =\", a) # a is a 2x3 array\n",
    "print(\"\\n\")\n",
    "\n",
    "c = np.reshape(a,(3,2)) # say we want a 3x2 array\n",
    "print(c)"
   ]
  },
  {
   "cell_type": "code",
   "execution_count": 5,
   "metadata": {},
   "outputs": [
    {
     "name": "stdout",
     "output_type": "stream",
     "text": [
      "[[ 5 20]\n",
      " [10 25]\n",
      " [15 30]]\n"
     ]
    }
   ],
   "source": [
    "# If want transposition (switching the row and column indices)\n",
    "d = np.transpose(a)\n",
    "print(d)"
   ]
  },
  {
   "cell_type": "markdown",
   "metadata": {},
   "source": [
    "### (3) adding elements: *np.insert(a, index, element(s))*"
   ]
  },
  {
   "cell_type": "code",
   "execution_count": 6,
   "metadata": {},
   "outputs": [
    {
     "name": "stdout",
     "output_type": "stream",
     "text": [
      "a =  [0 2 4 6 8]\n",
      "\n",
      "\n",
      "[ 0  2  4 -8  6  8]\n",
      "\n",
      "\n",
      "[ 0  2 -2 -4  4  6  8]\n"
     ]
    }
   ],
   "source": [
    "a = np.arange(0,10,2)\n",
    "print(\"a = \",a)\n",
    "print(\"\\n\")\n",
    "\n",
    "b = np.insert(a,3,-8) # insert -8 as the fourth element\n",
    "print(b)\n",
    "print(\"\\n\")\n",
    "c = np.insert(a,2,[-2,-4]) # insert -2, then -4 beginning as the third element\n",
    "print(c)\n",
    "\n",
    "# np.append(array,element(s)) to tack on to the end instead!"
   ]
  },
  {
   "cell_type": "markdown",
   "metadata": {},
   "source": [
    "### (4) removing elements: *np.delete(a, index)*"
   ]
  },
  {
   "cell_type": "code",
   "execution_count": 7,
   "metadata": {},
   "outputs": [
    {
     "name": "stdout",
     "output_type": "stream",
     "text": [
      "[0 2 4 6 8]\n"
     ]
    }
   ],
   "source": [
    "# Let's get rid of the -2 and -4 we just added!\n",
    "d = np.delete(c,(2,3))\n",
    "print(d)"
   ]
  },
  {
   "cell_type": "markdown",
   "metadata": {},
   "source": [
    "### (5)  (re) assigning elements: *a[index] = value*"
   ]
  },
  {
   "cell_type": "code",
   "execution_count": 8,
   "metadata": {},
   "outputs": [
    {
     "name": "stdout",
     "output_type": "stream",
     "text": [
      "a =  [ 0  2  4  6  8 10]\n",
      "[ 0  2 15  6  8 10]\n",
      "[ 0  2 15 20 25 10]\n"
     ]
    }
   ],
   "source": [
    "a = np.arange(0,12,2)\n",
    "print(\"a = \",a)\n",
    "a[2] = 15 # replace the third value with 15\n",
    "print(a)\n",
    "a[3:5] = [20,25] # can even replace a range of values! Here, the 4th and 5th\n",
    "print(a)"
   ]
  },
  {
   "cell_type": "markdown",
   "metadata": {},
   "source": [
    "### (6)  combining arrays:  *np.concatenate((a,b,...), axis), np.hstack((a,b,...)), np.vstack((a,b,...))*"
   ]
  },
  {
   "cell_type": "code",
   "execution_count": 9,
   "metadata": {},
   "outputs": [
    {
     "name": "stdout",
     "output_type": "stream",
     "text": [
      "[[1 2 3]\n",
      " [4 5 6]] \n",
      "\n",
      "[[ 7  8  9]\n",
      " [10 11 12]]\n"
     ]
    }
   ],
   "source": [
    "a = np.array([[1,2,3],[4,5,6]])\n",
    "print(a,'\\n')\n",
    "b = np.array([[7,8,9],[10,11,12]])\n",
    "print(b)"
   ]
  },
  {
   "cell_type": "markdown",
   "metadata": {},
   "source": [
    "- #### np.concatenate\n",
    "  - arrays must have same shape, with the exception of the axis along which combining "
   ]
  },
  {
   "cell_type": "code",
   "execution_count": 10,
   "metadata": {},
   "outputs": [
    {
     "data": {
      "text/plain": [
       "array([[ 1,  2,  3],\n",
       "       [ 4,  5,  6],\n",
       "       [ 7,  8,  9],\n",
       "       [10, 11, 12]])"
      ]
     },
     "execution_count": 10,
     "metadata": {},
     "output_type": "execute_result"
    }
   ],
   "source": [
    "np.concatenate((a,b),axis=0) # Concatenate along rows (axis 0)"
   ]
  },
  {
   "cell_type": "code",
   "execution_count": 11,
   "metadata": {},
   "outputs": [
    {
     "data": {
      "text/plain": [
       "array([[ 1,  2,  3,  7,  8,  9],\n",
       "       [ 4,  5,  6, 10, 11, 12]])"
      ]
     },
     "execution_count": 11,
     "metadata": {},
     "output_type": "execute_result"
    }
   ],
   "source": [
    "np.concatenate((a,b),axis=1) # Concatenate along columns (axis 1)"
   ]
  },
  {
   "cell_type": "markdown",
   "metadata": {},
   "source": [
    "- #### np.vstack, np.hstack\n",
    "  - particularly useful if combining arrays of mixed dimensions\n",
    "  - arrays must have same shape except along first axis (vstack) or second axis (hstack)"
   ]
  },
  {
   "cell_type": "code",
   "execution_count": 12,
   "metadata": {},
   "outputs": [
    {
     "name": "stdout",
     "output_type": "stream",
     "text": [
      "[[1 2 3]\n",
      " [4 5 6]] \n",
      "\n",
      "[7 8 9]\n"
     ]
    }
   ],
   "source": [
    "print(a,'\\n')  # 2x3 array\n",
    "\n",
    "b = np.array([7,8,9]) # 1x3 array\n",
    "print(b)"
   ]
  },
  {
   "cell_type": "code",
   "execution_count": 13,
   "metadata": {},
   "outputs": [
    {
     "data": {
      "text/plain": [
       "array([[1, 2, 3],\n",
       "       [4, 5, 6],\n",
       "       [7, 8, 9]])"
      ]
     },
     "execution_count": 13,
     "metadata": {},
     "output_type": "execute_result"
    }
   ],
   "source": [
    "np.vstack((a,b))"
   ]
  },
  {
   "cell_type": "markdown",
   "metadata": {},
   "source": [
    "### (7)  merging two 1D arrays into 2D arrays (like coordinate arrays): *np.meshgrid(x, y)*\n",
    " - particularly handy for converting two 1D array of x and y coordinates (kilometers, lat/lon, etc.) into two 2D arrays \n",
    " - aka, producing a *rectangular* grid of points needed for many applications with spatial data "
   ]
  },
  {
   "cell_type": "code",
   "execution_count": 16,
   "metadata": {},
   "outputs": [
    {
     "name": "stdout",
     "output_type": "stream",
     "text": [
      "(361,)\n",
      "(721,)\n",
      "(361, 721)\n",
      "(361, 721)\n"
     ]
    },
    {
     "data": {
      "text/plain": [
       "Text(0, 0.5, 'Latitude')"
      ]
     },
     "execution_count": 16,
     "metadata": {},
     "output_type": "execute_result"
    },
    {
     "data": {
      "image/png": "[encoded data removed]",
      "text/plain": [
       "<Figure size 432x288 with 1 Axes>"
      ]
     },
     "metadata": {
      "needs_background": "light"
     },
     "output_type": "display_data"
    }
   ],
   "source": [
    "# Meshgrid Example\n",
    "import matplotlib.pyplot as plt\n",
    "lat = np.arange(-90,90.5,0.5)\n",
    "print(np.shape(lat))\n",
    "lon = np.arange(0,360.5,0.5)\n",
    "print(np.shape(lon))\n",
    "\n",
    "xx,yy = np.meshgrid(lon,lat)\n",
    "print(np.shape(xx))\n",
    "print(np.shape(yy))\n",
    "\n",
    "#Let's plot a subset of the grid\n",
    "plt.plot(xx[0:20,0:20], yy[0:20,0:20], marker='.', color='k', linestyle='none')\n",
    "plt.xlabel('Longitude')\n",
    "plt.ylabel('Latitude')"
   ]
  },
  {
   "cell_type": "markdown",
   "metadata": {},
   "source": [
    "## NUMPY ARRAYS, UNIVERSAL FUNCTIONS \n",
    "- **universal functions**:  vectorized operations that apply a given operation to each element of the array\n",
    "    - resulting in another array\n",
    "<br><br>\n",
    "- such operations are *implicit* loops, which are more efficient than *explicit* loops (for loops, while loops)\n",
    "<br><br>\n",
    "- here's an example of the distinct difference in efficiency:"
   ]
  },
  {
   "cell_type": "code",
   "execution_count": 17,
   "metadata": {},
   "outputs": [
    {
     "name": "stdout",
     "output_type": "stream",
     "text": [
      "It took the following times to complete the operation these two different ways:\n",
      "Vectorized operation:  0.005105018615722656\n",
      "For loop:  0.24722790718078613\n"
     ]
    }
   ],
   "source": [
    "import time  # time module \n",
    "\n",
    "a = np.arange(0,1000000,1) # create an array with a large number of elements\n",
    "\n",
    "# Time how long it takes to do each type of operation\n",
    "\n",
    "# First, broadcasting (implicit loop)\n",
    "start = time.time()\n",
    "# Add a value to each element of array \n",
    "# Via broadcasting - aka an implicit loop!  (Definition later!)\n",
    "b = a+10 # \"+' is a wrapper for np.add function!\n",
    "time1 = time.time()-start\n",
    "\n",
    "# Now, explicit loop version of this - one element per each iteration of the loop!\n",
    "d = np.zeros_like(a)\n",
    "start = time.time()\n",
    "for i in range(0,a.size-1):\n",
    "    d[i] = a[i]+10\n",
    "time2 = time.time()-start\n",
    "\n",
    "print('It took the following times to complete the operation these two different ways:')\n",
    "print('Vectorized operation: ',time1)\n",
    "print('For loop: ',time2)"
   ]
  },
  {
   "cell_type": "markdown",
   "metadata": {},
   "source": [
    "## NUMPY ARRAYS: BROADCASTING\n",
    "- broadcasting is another way to help vectorize operations\n",
    "<br><br>\n",
    "- broadcasting is a set of rules for using binary universal functions on differently-sized arrays\n",
    "  - example: adding a scalar to an array, or multiplying an array by a scalar!\n",
    "  - the scalar is broadcasted (stretched) to each array element "
   ]
  },
  {
   "cell_type": "code",
   "execution_count": 18,
   "metadata": {},
   "outputs": [
    {
     "name": "stdout",
     "output_type": "stream",
     "text": [
      "[     0      1      2 ... 999997 999998 999999]\n",
      "[      0      10      20 ... 9999970 9999980 9999990]\n"
     ]
    }
   ],
   "source": [
    "# Another example of broadcasting\n",
    "print(a)\n",
    "f = a*10 # multiplying array a by a scalar\n",
    "print(f)"
   ]
  },
  {
   "cell_type": "markdown",
   "metadata": {},
   "source": [
    "## NUMPY ARRAYS: MATH OPERATIONS"
   ]
  },
  {
   "cell_type": "code",
   "execution_count": 27,
   "metadata": {},
   "outputs": [
    {
     "name": "stdout",
     "output_type": "stream",
     "text": [
      "[ 2  4  6  8 10]\n",
      "[20 22 24 26 28]\n",
      "[-10  -8  -6  -4  -2]\n"
     ]
    }
   ],
   "source": [
    "import numpy as np\n",
    "a = np.arange(2,12,2)\n",
    "b = np.arange(20,30,2)\n",
    "c = np.arange(-10,0,2)\n",
    "\n",
    "print(a)\n",
    "print(b)\n",
    "print(c)"
   ]
  },
  {
   "cell_type": "code",
   "execution_count": 20,
   "metadata": {},
   "outputs": [
    {
     "name": "stdout",
     "output_type": "stream",
     "text": [
      "[22 26 30 34 38]\n",
      "[22 26 30 34 38]\n"
     ]
    }
   ],
   "source": [
    "# Basic: addition\n",
    "print(np.add(a,b)) # adding two arrays together\n",
    "print(a+b) # \"+\" symbol is a wrapper to np.add! Same result!"
   ]
  },
  {
   "cell_type": "code",
   "execution_count": 21,
   "metadata": {},
   "outputs": [
    {
     "data": {
      "text/plain": [
       "array([7.38905610e+00, 5.45981500e+01, 4.03428793e+02, 2.98095799e+03,\n",
       "       2.20264658e+04])"
      ]
     },
     "execution_count": 21,
     "metadata": {},
     "output_type": "execute_result"
    }
   ],
   "source": [
    "# Exponential\n",
    "np.exp(a) # exponential - e^x"
   ]
  },
  {
   "cell_type": "code",
   "execution_count": 22,
   "metadata": {},
   "outputs": [
    {
     "name": "stdout",
     "output_type": "stream",
     "text": [
      "[2 4 1 3 0]\n"
     ]
    }
   ],
   "source": [
    "# Modulus \n",
    "print(np.fmod(a,5)) # use this over '%' if have floats"
   ]
  },
  {
   "cell_type": "code",
   "execution_count": 23,
   "metadata": {},
   "outputs": [
    {
     "data": {
      "text/plain": [
       "array([0.69314718, 1.38629436, 1.79175947, 2.07944154, 2.30258509])"
      ]
     },
     "execution_count": 23,
     "metadata": {},
     "output_type": "execute_result"
    }
   ],
   "source": [
    "# Natural logarithm - ln(x)\n",
    "np.log(a)"
   ]
  },
  {
   "cell_type": "code",
   "execution_count": 24,
   "metadata": {},
   "outputs": [
    {
     "data": {
      "text/plain": [
       "3.141592653589793"
      ]
     },
     "execution_count": 24,
     "metadata": {},
     "output_type": "execute_result"
    }
   ],
   "source": [
    "# Value of pi\n",
    "np.pi"
   ]
  },
  {
   "cell_type": "code",
   "execution_count": 25,
   "metadata": {},
   "outputs": [
    {
     "name": "stdout",
     "output_type": "stream",
     "text": [
      "1.5707963267948966\n"
     ]
    }
   ],
   "source": [
    "# Radians to degrees\n",
    "angle = 90\n",
    "angle2 = np.radians(angle) # np.degrees for reverse \n",
    "print(angle2)"
   ]
  },
  {
   "cell_type": "code",
   "execution_count": 26,
   "metadata": {},
   "outputs": [
    {
     "data": {
      "text/plain": [
       "1.0"
      ]
     },
     "execution_count": 26,
     "metadata": {},
     "output_type": "execute_result"
    }
   ],
   "source": [
    "# Sine \n",
    "np.sin(angle2) # angle MUST be in radians!"
   ]
  },
  {
   "cell_type": "code",
   "execution_count": 28,
   "metadata": {},
   "outputs": [
    {
     "data": {
      "text/plain": [
       "array([10.,  8.,  6.,  4.,  2.])"
      ]
     },
     "execution_count": 28,
     "metadata": {},
     "output_type": "execute_result"
    }
   ],
   "source": [
    "# Absolute value\n",
    "np.fabs(c)"
   ]
  },
  {
   "cell_type": "code",
   "execution_count": 29,
   "metadata": {},
   "outputs": [
    {
     "name": "stdout",
     "output_type": "stream",
     "text": [
      "[0.   0.25 0.5  0.75 1.   1.25 1.5  1.75 2.  ]\n"
     ]
    },
    {
     "data": {
      "text/plain": [
       "array([0., 1., 1., 1., 1., 2., 2., 2., 2.])"
      ]
     },
     "execution_count": 29,
     "metadata": {},
     "output_type": "execute_result"
    }
   ],
   "source": [
    "# Rounding number up to nearest integer\n",
    "c = np.linspace(0,2,9)\n",
    "print(c)\n",
    "np.ceil(c)"
   ]
  },
  {
   "cell_type": "code",
   "execution_count": 30,
   "metadata": {},
   "outputs": [
    {
     "data": {
      "text/plain": [
       "array([0., 0., 0., 0., 1., 1., 1., 1., 2.])"
      ]
     },
     "execution_count": 30,
     "metadata": {},
     "output_type": "execute_result"
    }
   ],
   "source": [
    "# Rounding number down to nearest integer\n",
    "np.floor(c)"
   ]
  },
  {
   "cell_type": "markdown",
   "metadata": {},
   "source": [
    "## NUMPY ARRAYS: LOGICAL & COMPARISON OPERATIONS\n",
    "### (1) finding elements that meet a certain condition: *np.where(condition)*\n",
    "  - *result*: array of *index* locations of elements that meet this condition "
   ]
  },
  {
   "cell_type": "code",
   "execution_count": 31,
   "metadata": {},
   "outputs": [
    {
     "name": "stdout",
     "output_type": "stream",
     "text": [
      "a= [ 0  2  4  6  8 10 12 14 16 18 20 22]\n",
      "[12 14 16 18 20 22]\n",
      "[12 14 16 18 20 22]\n"
     ]
    }
   ],
   "source": [
    "a = np.arange(0,24,2)\n",
    "print('a=',a)\n",
    "\n",
    "# Single condition\n",
    "result = np.where(a>10) \n",
    "print(a[result]) # to get the actual elements in the array that met the conditions fed into np.where\n",
    "\n",
    "# Alternative syntax that gives us same result \n",
    "print(a[(a>10)]) # (a>10) results in a True/False array; a[the True/False array] will only return\n",
    "                 # elements that are 'True', i.e., are greater than 10 "
   ]
  },
  {
   "cell_type": "code",
   "execution_count": 33,
   "metadata": {},
   "outputs": [
    {
     "name": "stdout",
     "output_type": "stream",
     "text": [
      "[12 14]\n"
     ]
    }
   ],
   "source": [
    "# More complicated conditions\n",
    "# Can't use np.where(a>10 and a <16)\n",
    "result = np.where((a>10)*(a<16)) # multiplying conditions together means multiplying Boolean arrays\n",
    "                                 # True*True= True, and True*False = False, so this is the equivalent of\n",
    "                                 # requiring that both conditions are met\n",
    "print(a[result])"
   ]
  },
  {
   "cell_type": "markdown",
   "metadata": {},
   "source": [
    "### (2) how many elements meet a certain condition?"
   ]
  },
  {
   "cell_type": "code",
   "execution_count": 35,
   "metadata": {},
   "outputs": [
    {
     "name": "stdout",
     "output_type": "stream",
     "text": [
      "[ 0  2  4  6  8 10 12 14 16 18 20 22]\n",
      "6\n"
     ]
    },
    {
     "data": {
      "text/plain": [
       "6"
      ]
     },
     "execution_count": 35,
     "metadata": {},
     "output_type": "execute_result"
    }
   ],
   "source": [
    "print(a)\n",
    "# An additional use for sum!\n",
    "print(np.sum(a>10))  # Recall that a > 10 results in a Boolean array, so this \n",
    "              # function counts the numnber of 'True' in this array!\n",
    "\n",
    "#Alternatively\n",
    "np.count_nonzero(a>10)"
   ]
  },
  {
   "cell_type": "markdown",
   "metadata": {},
   "source": [
    "### (3) do any (or all) elements meet a certain condition?"
   ]
  },
  {
   "cell_type": "code",
   "execution_count": 36,
   "metadata": {},
   "outputs": [
    {
     "name": "stdout",
     "output_type": "stream",
     "text": [
      "[ 0  2  4  6  8 10 12 14 16 18 20 22]\n"
     ]
    },
    {
     "data": {
      "text/plain": [
       "True"
      ]
     },
     "execution_count": 36,
     "metadata": {},
     "output_type": "execute_result"
    }
   ],
   "source": [
    "print(a)\n",
    "# Are there any values greater than 16?\n",
    "np.any(a>16)  # Yep! "
   ]
  },
  {
   "cell_type": "code",
   "execution_count": 37,
   "metadata": {},
   "outputs": [
    {
     "name": "stdout",
     "output_type": "stream",
     "text": [
      "[ 0  2  4  6  8 10 12 14 16 18 20 22]\n"
     ]
    },
    {
     "data": {
      "text/plain": [
       "False"
      ]
     },
     "execution_count": 37,
     "metadata": {},
     "output_type": "execute_result"
    }
   ],
   "source": [
    "print(a)\n",
    "# Are all vales greater than or equal 2?\n",
    "np.all(a>=2) # Nope!  The first element in the array, 0, is not!"
   ]
  },
  {
   "cell_type": "code",
   "execution_count": null,
   "metadata": {},
   "outputs": [],
   "source": []
  }
 ],
 "metadata": {
  "kernelspec": {
   "display_name": "Python 3",
   "language": "python",
   "name": "python3"
  },
  "language_info": {
   "codemirror_mode": {
    "name": "ipython",
    "version": 3
   },
   "file_extension": ".py",
   "mimetype": "text/x-python",
   "name": "python",
   "nbconvert_exporter": "python",
   "pygments_lexer": "ipython3",
   "version": "3.8.11"
  }
 },
 "nbformat": 4,
 "nbformat_minor": 4
}
