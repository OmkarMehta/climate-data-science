{
 "cells": [
  {
   "cell_type": "markdown",
   "metadata": {},
   "source": [
    "## INPUT/OUTPUT: INTERACTIVE INPUT\n",
    "- #### syntax: input(\"Text you want displayed\")\n",
    "    - please ignore the \"raw_input\" in Decaria as that has been since updated!"
   ]
  },
  {
   "cell_type": "code",
   "execution_count": 1,
   "metadata": {},
   "outputs": [
    {
     "name": "stdout",
     "output_type": "stream",
     "text": [
      "75\n"
     ]
    }
   ],
   "source": [
    "s = input(\"Input the temperature \")\n",
    "print(s)"
   ]
  },
  {
   "cell_type": "markdown",
   "metadata": {},
   "source": [
    "  - #### the variable that holds the input is *always* a string - may need to convert for subsequent use"
   ]
  },
  {
   "cell_type": "code",
   "execution_count": 2,
   "metadata": {},
   "outputs": [
    {
     "name": "stdout",
     "output_type": "stream",
     "text": [
      "75\n",
      "<class 'str'>\n"
     ]
    }
   ],
   "source": [
    "print(s)\n",
    "print(type(s)) "
   ]
  },
  {
   "cell_type": "markdown",
   "metadata": {},
   "source": [
    "- #### can input multiple values on same line, using the split method"
   ]
  },
  {
   "cell_type": "code",
   "execution_count": 3,
   "metadata": {},
   "outputs": [
    {
     "name": "stdout",
     "output_type": "stream",
     "text": [
      "90\n",
      "30\n"
     ]
    }
   ],
   "source": [
    "t,rh = input(\"Input the temperature and relative humidity, separated by a space: \").split()\n",
    "print(t)\n",
    "print(rh)"
   ]
  },
  {
   "cell_type": "markdown",
   "metadata": {},
   "source": [
    "## FLOW CONTROL: OVERVIEW\n",
    "\n",
    "- In Python (and all programming langauges), you can choose one path or another based on a condition(s):\n",
    "<br><br>\n",
    "- Flow control consists of:\n",
    "  - Conditional statements (if-else construct)\n",
    "  - Loops (for and while)\n",
    "\n",
    "## FLOW CONTROL: IF-ELSE CONSTRUCT\n",
    "### (1) Overview\n",
    "- runs a block of code only if certain condition(s) are met\n",
    "\n",
    "### (2) Syntax, in order of increasingly complex constructs\n",
    "if condition: <br>\n",
    "&nbsp;&nbsp;&nbsp;&nbsp;&nbsp;&nbsp;block of code to run if condition evaluates to true\n",
    "<br><br>\n",
    "if condition: <br>\n",
    "&nbsp;&nbsp;&nbsp;&nbsp;&nbsp;&nbsp;block of code to run if condition evaluates to true<br>\n",
    "else:<br>\n",
    "&nbsp;&nbsp;&nbsp;&nbsp;&nbsp;&nbsp;block of code to run if condition does NOT evaluate to true\n",
    "\n",
    "if first-condition: <br>\n",
    "&nbsp;&nbsp;&nbsp;&nbsp;&nbsp;&nbsp;block of code to run if first condition evaluates to true <br>\n",
    "elif second-condition:<br>\n",
    "&nbsp;&nbsp;&nbsp;&nbsp;&nbsp;&nbsp;block of code to run if second condition evaluates to true<br>\n",
    "elif third-condition:<br>\n",
    "&nbsp;&nbsp;&nbsp;&nbsp;&nbsp;&nbsp;block of code to run if third condition evaluates to true<br>\n",
    "else:<br>\n",
    "&nbsp;&nbsp;&nbsp;&nbsp;&nbsp;&nbsp;block of code to run if none of the above conditions evaluate to true"
   ]
  },
  {
   "cell_type": "markdown",
   "metadata": {},
   "source": [
    "- #### key syntax considerations:\n",
    "  - the colon at the end of if, elif, or else lines\n",
    "  - the indentation of the block of code you want to run if a condition is met - FOUR SPACES \n",
    "     - note: unlike in other langauges, don't use an \"end\" or \"end-if\" statement \n",
    "     \n",
    "### (3) Examples of if-statements"
   ]
  },
  {
   "cell_type": "code",
   "execution_count": 4,
   "metadata": {},
   "outputs": [
    {
     "name": "stdout",
     "output_type": "stream",
     "text": [
      "It rained today\n"
     ]
    }
   ],
   "source": [
    "# The simplest example\n",
    "# With no else statement\n",
    "precip = 0.5 # inches\n",
    "if precip > 0.01:  # don't forget your colon!\n",
    "    print('It rained today')  # we indented by FOUR SPACES"
   ]
  },
  {
   "cell_type": "code",
   "execution_count": 5,
   "metadata": {},
   "outputs": [
    {
     "name": "stdout",
     "output_type": "stream",
     "text": [
      "It is above freezing with a temperature of 34\n",
      "34\n"
     ]
    }
   ],
   "source": [
    "# An example that also includes code to be executed if the original condition is NOT met\n",
    "temp = 34\n",
    "if temp < 32:\n",
    "    print(\"It is below freezing with a temperature of \"+str(temp))\n",
    "else:\n",
    "    print(\"It is above freezing with a temperature of \"+str(temp))\n",
    "print(temp)"
   ]
  },
  {
   "cell_type": "code",
   "execution_count": 5,
   "metadata": {},
   "outputs": [
    {
     "name": "stdout",
     "output_type": "stream",
     "text": [
      "Wear a spring jacket\n"
     ]
    }
   ],
   "source": [
    "# An example el-if structure\n",
    "temp = 50\n",
    "\n",
    "if temp <= 45 :\n",
    "    print(\"Wear a winter jacket\")\n",
    "elif temp>45 and temp <65:\n",
    "    print(\"Wear a spring jacket\")\n",
    "else:\n",
    "    print(\"Wear no jacket!\")  # Unless you are a freezy-cat like Prof Klees"
   ]
  },
  {
   "cell_type": "code",
   "execution_count": 6,
   "metadata": {},
   "outputs": [
    {
     "name": "stdout",
     "output_type": "stream",
     "text": [
      "Good day!\n"
     ]
    }
   ],
   "source": [
    "# the single-line conditional statement\n",
    "# [expression 1] if condition else [expression 2]\n",
    "\n",
    "time = 1300\n",
    "print(\"Good morning!\") if time < 1200 else print(\"Good day!\")"
   ]
  },
  {
   "cell_type": "code",
   "execution_count": null,
   "metadata": {},
   "outputs": [],
   "source": []
  }
 ],
 "metadata": {
  "kernelspec": {
   "display_name": "Python 3",
   "language": "python",
   "name": "python3"
  },
  "language_info": {
   "codemirror_mode": {
    "name": "ipython",
    "version": 3
   },
   "file_extension": ".py",
   "mimetype": "text/x-python",
   "name": "python",
   "nbconvert_exporter": "python",
   "pygments_lexer": "ipython3",
   "version": "3.8.11"
  }
 },
 "nbformat": 4,
 "nbformat_minor": 4
}
