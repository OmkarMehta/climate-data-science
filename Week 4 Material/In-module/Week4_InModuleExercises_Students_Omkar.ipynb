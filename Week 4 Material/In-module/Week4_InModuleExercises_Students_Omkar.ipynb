{
 "cells": [
  {
   "cell_type": "code",
   "execution_count": 1,
   "id": "statutory-classics",
   "metadata": {},
   "outputs": [],
   "source": [
    "import numpy as np"
   ]
  },
  {
   "cell_type": "markdown",
   "id": "subtle-birmingham",
   "metadata": {},
   "source": [
    "#### (1) FOR LOOP PRACTICE\n",
    "- (a.) Create a *list* consisting of the names of my three favorite cities:  Boulder, State College, and Urbana :) \n",
    "<br><br>\n",
    "- (b.) Write a for loop that prints out the name of each of these cities!\n",
    "<br><br>\n",
    "\n",
    "*Recall that this could be done as:*\n",
    "<br>\n",
    "&emsp;for i in range(3):<br>\n",
    "&emsp;&emsp;print(list[i])\n",
    "<br>\n",
    "\n",
    "where *range(3)* is the iterable object -> but in your lesson, we also talked about another, more Pythonic way to do this where the data itself is the *iterable object*"
   ]
  },
  {
   "cell_type": "code",
   "execution_count": 3,
   "id": "suited-absorption",
   "metadata": {},
   "outputs": [
    {
     "name": "stdout",
     "output_type": "stream",
     "text": [
      "['Boulder', 'State College', 'Urbana']\n"
     ]
    }
   ],
   "source": [
    "# Create a *list* consisting of the names of my three favorite cities:  Boulder, State College, and Urbana\n",
    "cities = ['Boulder', 'State College', 'Urbana']\n",
    "print(cities)"
   ]
  },
  {
   "cell_type": "code",
   "execution_count": 4,
   "id": "ideal-message",
   "metadata": {},
   "outputs": [
    {
     "name": "stdout",
     "output_type": "stream",
     "text": [
      "Boulder\n",
      "State College\n",
      "Urbana\n"
     ]
    }
   ],
   "source": [
    "# Write a for loop that prints out the name of each of these cities\n",
    "for city in cities:\n",
    "    print(city)"
   ]
  },
  {
   "cell_type": "markdown",
   "id": "composite-noise",
   "metadata": {},
   "source": [
    "#### (2) WHILE LOOP PRACTICE\n",
    "- (a.) construct a while loop to sum up the values of 1 through 9, and then print out the sum after the loop is done, as well as the value of i"
   ]
  },
  {
   "cell_type": "code",
   "execution_count": 5,
   "id": "entertaining-blocking",
   "metadata": {},
   "outputs": [
    {
     "name": "stdout",
     "output_type": "stream",
     "text": [
      "45\n",
      "10\n"
     ]
    }
   ],
   "source": [
    "# construct a while loop to sum up the values of 1 through 9, and then print out the sum after the loop is done, as well as the value of i\n",
    "i = 1\n",
    "sum = 0\n",
    "while i <= 9:\n",
    "    sum += i\n",
    "    i += 1\n",
    "# print out the sum after the loop is done, as well as the value of i\n",
    "print(sum)\n",
    "print(i)\n",
    "\n",
    "# Answer: 45!"
   ]
  },
  {
   "cell_type": "markdown",
   "id": "viral-withdrawal",
   "metadata": {},
   "source": [
    "#### (3) ARRAY OPERATIONS\n",
    "- (a.) Convert the temperatures in array d, which are in degrees Fahrenheit, to degrees Celsius, using array operations, and save to a new variable (i.e., *don't overwrite d*)\n",
    "<br><br>\n",
    "- (b.) Convert array d to an 1D array and save to a new variable (i.e., *don't overwrite d*)"
   ]
  },
  {
   "cell_type": "code",
   "execution_count": 6,
   "id": "adolescent-shoot",
   "metadata": {},
   "outputs": [
    {
     "name": "stdout",
     "output_type": "stream",
     "text": [
      "[[100  94  97  92  90  95]\n",
      " [ 93  87  98  96  93  89]]\n"
     ]
    }
   ],
   "source": [
    "# Temperatures on a grid on a summer's day \n",
    "d = np.array([[100,94,97,92,90,95],[93,87,98,96,93,89]])\n",
    "print(d)"
   ]
  },
  {
   "cell_type": "code",
   "execution_count": 7,
   "id": "closing-productivity",
   "metadata": {},
   "outputs": [
    {
     "name": "stdout",
     "output_type": "stream",
     "text": [
      "[[37.77777778 34.44444444 36.11111111 33.33333333 32.22222222 35.        ]\n",
      " [33.88888889 30.55555556 36.66666667 35.55555556 33.88888889 31.66666667]]\n"
     ]
    }
   ],
   "source": [
    "# Convert the temperatures in array d, which are in degrees Fahrenheit, to degrees Celsius, using array operations, and save to a new variable (i.e., *don't overwrite d*)\n",
    "d_celsius = (d - 32) * 5/9\n",
    "print(d_celsius)"
   ]
  },
  {
   "cell_type": "code",
   "execution_count": 8,
   "id": "specified-electronics",
   "metadata": {},
   "outputs": [
    {
     "name": "stdout",
     "output_type": "stream",
     "text": [
      "[100  94  97  92  90  95  93  87  98  96  93  89]\n"
     ]
    }
   ],
   "source": [
    "# Convert array d to an 1D array and save to a new variable (i.e., *don't overwrite d*)\n",
    "d_1d = d.flatten()\n",
    "print(d_1d)\n"
   ]
  },
  {
   "cell_type": "markdown",
   "id": "scheduled-dividend",
   "metadata": {},
   "source": [
    "#### (4) ARRAY COMPARISON + LOGICAL OPERATIONS \n",
    "***REMINDER: USE ARRAY IN DEGREES FAHRENHEIT FOR ALL QUESTIONS IN 4***\n",
    "- (a.) identify and print only elements in array d that are above 95"
   ]
  },
  {
   "cell_type": "code",
   "execution_count": 9,
   "id": "figured-honolulu",
   "metadata": {},
   "outputs": [
    {
     "name": "stdout",
     "output_type": "stream",
     "text": [
      "[100  97  98  96]\n"
     ]
    }
   ],
   "source": [
    "# identify and print only elements in array d that are above 95\n",
    "print(d[d > 95])"
   ]
  },
  {
   "cell_type": "markdown",
   "id": "composite-cancer",
   "metadata": {},
   "source": [
    "- (b.) identify and print elements in array d that are above 95 AND are divisble by 2"
   ]
  },
  {
   "cell_type": "code",
   "execution_count": 10,
   "id": "distributed-dominant",
   "metadata": {},
   "outputs": [
    {
     "name": "stdout",
     "output_type": "stream",
     "text": [
      "[100  98  96]\n"
     ]
    }
   ],
   "source": [
    "# identify and print elements in array d that are above 95 AND are divisble by 2\n",
    "print(d[(d > 95) & (d % 2 == 0)])"
   ]
  },
  {
   "cell_type": "markdown",
   "id": "republican-hamilton",
   "metadata": {},
   "source": [
    "- (c.) calculate how many elements in d are above 95"
   ]
  },
  {
   "cell_type": "code",
   "execution_count": 11,
   "id": "exciting-spanish",
   "metadata": {},
   "outputs": [
    {
     "name": "stdout",
     "output_type": "stream",
     "text": [
      "4\n"
     ]
    }
   ],
   "source": [
    "# calculate how many elements in d are above 95\n",
    "print(np.sum(d > 95))\n",
    "# Answer: 4 (using array in deg F)"
   ]
  },
  {
   "cell_type": "markdown",
   "id": "enabling-issue",
   "metadata": {},
   "source": [
    "- (d.) calculate the mean of all elements in d that are above 95"
   ]
  },
  {
   "cell_type": "code",
   "execution_count": 12,
   "id": "organizational-corporation",
   "metadata": {},
   "outputs": [
    {
     "name": "stdout",
     "output_type": "stream",
     "text": [
      "97.75\n"
     ]
    }
   ],
   "source": [
    "# calculate the mean of all elements in d that are above 95\n",
    "print(np.mean(d[d > 95]))\n",
    "# Answer: 97.75 (using array in deg F)"
   ]
  },
  {
   "cell_type": "markdown",
   "id": "5e061591",
   "metadata": {},
   "source": [
    "## Quiz: "
   ]
  },
  {
   "cell_type": "code",
   "execution_count": 2,
   "id": "c1d32ffd",
   "metadata": {},
   "outputs": [],
   "source": [
    "g = np.array([[2, 4, 6, 8, 10], [12, 14, 16, 18, 20]] )"
   ]
  },
  {
   "cell_type": "code",
   "execution_count": 3,
   "id": "73ab60ec",
   "metadata": {},
   "outputs": [
    {
     "name": "stdout",
     "output_type": "stream",
     "text": [
      "(2, 5)\n"
     ]
    }
   ],
   "source": [
    "# print the shape of g\n",
    "print(g.shape)"
   ]
  },
  {
   "cell_type": "code",
   "execution_count": 4,
   "id": "03f7b4f9",
   "metadata": {},
   "outputs": [
    {
     "data": {
      "text/plain": [
       "array([ 7.,  9., 11., 13., 15.])"
      ]
     },
     "execution_count": 4,
     "metadata": {},
     "output_type": "execute_result"
    }
   ],
   "source": [
    "np.mean(g, axis=0)"
   ]
  },
  {
   "cell_type": "code",
   "execution_count": 5,
   "id": "33a9c706",
   "metadata": {},
   "outputs": [
    {
     "data": {
      "text/plain": [
       "array([ 6., 16.])"
      ]
     },
     "execution_count": 5,
     "metadata": {},
     "output_type": "execute_result"
    }
   ],
   "source": [
    "np.mean(g, axis=1)"
   ]
  },
  {
   "cell_type": "code",
   "execution_count": 6,
   "id": "553b8c0e",
   "metadata": {},
   "outputs": [
    {
     "data": {
      "text/plain": [
       "11.0"
      ]
     },
     "execution_count": 6,
     "metadata": {},
     "output_type": "execute_result"
    }
   ],
   "source": [
    "np.mean(g)"
   ]
  },
  {
   "cell_type": "code",
   "execution_count": 7,
   "id": "9246d144",
   "metadata": {},
   "outputs": [
    {
     "data": {
      "text/plain": [
       "array([14, 16, 18, 20])"
      ]
     },
     "execution_count": 7,
     "metadata": {},
     "output_type": "execute_result"
    }
   ],
   "source": [
    "g[g>12]"
   ]
  },
  {
   "cell_type": "markdown",
   "id": "9253a186",
   "metadata": {},
   "source": [
    "### 2."
   ]
  },
  {
   "cell_type": "code",
   "execution_count": 8,
   "id": "520e5772",
   "metadata": {},
   "outputs": [
    {
     "name": "stdout",
     "output_type": "stream",
     "text": [
      "0\n",
      "1\n",
      "2\n",
      "3\n",
      "4\n"
     ]
    }
   ],
   "source": [
    "for a in np.arange(0, 5):\n",
    "    print(a)"
   ]
  },
  {
   "cell_type": "markdown",
   "id": "298e3457",
   "metadata": {},
   "source": [
    "# Broadcasting in Python\n",
    "\n",
    "Broadcasting is a way to make arrays of the same shape, but with different values. There are three rules for broadcasting. Rule 1 is "
   ]
  },
  {
   "cell_type": "code",
   "execution_count": 10,
   "id": "e3d0b27c",
   "metadata": {},
   "outputs": [
    {
     "name": "stdout",
     "output_type": "stream",
     "text": [
      "0\n",
      "1\n",
      "2\n",
      "3\n",
      "4\n",
      "5\n",
      "6\n",
      "7\n",
      "8\n",
      "9\n"
     ]
    }
   ],
   "source": [
    "i = 0\n",
    "\n",
    "while (i < 10):\n",
    "\n",
    "    print(i)\n",
    "\n",
    "    i = i+1\n",
    "\n",
    "\n"
   ]
  },
  {
   "cell_type": "code",
   "execution_count": 12,
   "id": "b312447e",
   "metadata": {},
   "outputs": [
    {
     "name": "stdout",
     "output_type": "stream",
     "text": [
      "We are done!\n"
     ]
    }
   ],
   "source": [
    "print(\"We are done!\")"
   ]
  },
  {
   "cell_type": "code",
   "execution_count": 13,
   "id": "cdb9bf9e",
   "metadata": {},
   "outputs": [
    {
     "name": "stdout",
     "output_type": "stream",
     "text": [
      "Tornado rating: EF1\n"
     ]
    }
   ],
   "source": [
    "wind_spd = 100\n",
    "if wind_spd >=65 and wind_spd <=85:\n",
    "    \n",
    "    print ('Tornado rating: EF0')\n",
    "\n",
    "elif wind_spd >=86 and wind_spd <=110:\n",
    "\n",
    "    print ('Tornado rating: EF1')\n",
    "\n",
    "elif wind_spd >=111 and wind_spd <=135:\n",
    "\n",
    "    print ('Tornado rating: EF2')\n",
    "\n",
    "elif wind_spd >=136 and wind_spd <=165:\n",
    "\n",
    "    print ('Tornado rating: EF3')\n",
    "\n",
    "elif wind_spd >=166 and wind_spd <=200:\n",
    "\n",
    "    print ('Tornado rating: EF4')\n",
    "\n",
    "elif wind_speed > 200:\n",
    "\n",
    "    print('Tornado rating: EF5')\n",
    "\n",
    "else:\n",
    "\n",
    "    print('No tornado')"
   ]
  },
  {
   "cell_type": "code",
   "execution_count": null,
   "id": "e7650e83",
   "metadata": {},
   "outputs": [],
   "source": []
  }
 ],
 "metadata": {
  "kernelspec": {
   "display_name": "Python 3",
   "language": "python",
   "name": "python3"
  },
  "language_info": {
   "codemirror_mode": {
    "name": "ipython",
    "version": 3
   },
   "file_extension": ".py",
   "mimetype": "text/x-python",
   "name": "python",
   "nbconvert_exporter": "python",
   "pygments_lexer": "ipython3",
   "version": "3.8.11"
  }
 },
 "nbformat": 4,
 "nbformat_minor": 5
}
