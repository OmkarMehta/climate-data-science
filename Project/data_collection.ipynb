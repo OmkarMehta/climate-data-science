{
  "cells": [
    {
      "cell_type": "code",
      "execution_count": 1,
      "metadata": {
        "colab": {
          "base_uri": "https://localhost:8080/"
        },
        "id": "CJ9ramhdd9l9",
        "outputId": "d4de4621-eee2-4f93-a5bc-3f99c9e2d56e"
      },
      "outputs": [
        {
          "name": "stdout",
          "output_type": "stream",
          "text": [
            "Collecting cdsapi\n",
            "  Downloading cdsapi-0.5.1.tar.gz (12 kB)\n",
            "Requirement already satisfied: requests>=2.5.0 in /usr/local/lib/python3.7/dist-packages (from cdsapi) (2.23.0)\n",
            "Requirement already satisfied: tqdm in /usr/local/lib/python3.7/dist-packages (from cdsapi) (4.63.0)\n",
            "Requirement already satisfied: chardet<4,>=3.0.2 in /usr/local/lib/python3.7/dist-packages (from requests>=2.5.0->cdsapi) (3.0.4)\n",
            "Requirement already satisfied: idna<3,>=2.5 in /usr/local/lib/python3.7/dist-packages (from requests>=2.5.0->cdsapi) (2.10)\n",
            "Requirement already satisfied: urllib3!=1.25.0,!=1.25.1,<1.26,>=1.21.1 in /usr/local/lib/python3.7/dist-packages (from requests>=2.5.0->cdsapi) (1.24.3)\n",
            "Requirement already satisfied: certifi>=2017.4.17 in /usr/local/lib/python3.7/dist-packages (from requests>=2.5.0->cdsapi) (2021.10.8)\n",
            "Building wheels for collected packages: cdsapi\n",
            "  Building wheel for cdsapi (setup.py) ... \u001b[?25l\u001b[?25hdone\n",
            "  Created wheel for cdsapi: filename=cdsapi-0.5.1-py2.py3-none-any.whl size=11699 sha256=af493bd15cee6eb00f24918c1b1374513500af3e178b5eab256e357e2fb98373\n",
            "  Stored in directory: /root/.cache/pip/wheels/1d/2e/3c/3746e0cd076320584d6f47b688da7b13a5d5d1a92606779ca4\n",
            "Successfully built cdsapi\n",
            "Installing collected packages: cdsapi\n",
            "Successfully installed cdsapi-0.5.1\n"
          ]
        }
      ],
      "source": [
        "!pip install cdsapi"
      ]
    },
    {
      "cell_type": "code",
      "execution_count": 2,
      "metadata": {
        "id": "CcOumuuud6jg"
      },
      "outputs": [],
      "source": [
        "import cdsapi"
      ]
    },
    {
      "cell_type": "code",
      "execution_count": 4,
      "metadata": {
        "id": "_wTiYfBxd6ji"
      },
      "outputs": [],
      "source": [
        "c = cdsapi.Client()"
      ]
    },
    {
      "cell_type": "code",
      "execution_count": 5,
      "metadata": {
        "colab": {
          "base_uri": "https://localhost:8080/"
        },
        "id": "qSzwteipd6ji",
        "outputId": "2e018710-4bbf-4d0e-a23b-60a2f464e3a2"
      },
      "outputs": [
        {
          "name": "stderr",
          "output_type": "stream",
          "text": [
            "2022-03-23 19:47:14,524 INFO Welcome to the CDS\n",
            "2022-03-23 19:47:14,526 INFO Sending request to https://cds.climate.copernicus.eu/api/v2/resources/reanalysis-era5-land\n",
            "2022-03-23 19:47:14,644 INFO Request is queued\n",
            "2022-03-23 19:47:15,756 INFO Request is running\n",
            "2022-03-23 20:03:37,152 INFO Request is completed\n",
            "2022-03-23 20:03:37,154 INFO Downloading https://download-0007-clone.copernicus-climate.eu/cache-compute-0007/cache/data8/adaptor.mars.internal-1648065712.1249936-1819-19-e5989e75-3dea-451f-b386-1f7c69024c10.nc to download.nc (32.7M)\n",
            "2022-03-23 20:03:40,175 INFO Download rate 10.8M/s\n"
          ]
        },
        {
          "data": {
            "text/plain": [
              "Result(content_length=34307376,content_type=application/x-netcdf,location=https://download-0007-clone.copernicus-climate.eu/cache-compute-0007/cache/data8/adaptor.mars.internal-1648065712.1249936-1819-19-e5989e75-3dea-451f-b386-1f7c69024c10.nc)"
            ]
          },
          "execution_count": 5,
          "metadata": {},
          "output_type": "execute_result"
        }
      ],
      "source": [
        "import cdsapi\n",
        "\n",
        "c = cdsapi.Client()\n",
        "\n",
        "c.retrieve(\n",
        "    'reanalysis-era5-land',\n",
        "    {\n",
        "        'format': 'netcdf',\n",
        "        'variable': [\n",
        "            '10m_v_component_of_wind', '2m_temperature', 'surface_net_solar_radiation',\n",
        "            'surface_pressure', 'total_precipitation',\n",
        "        ],\n",
        "        'year': [\n",
        "            '2019', '2020', '2021',\n",
        "        ],\n",
        "        'month': '07',\n",
        "        'day': [\n",
        "            '14', '15', '16',\n",
        "            '17', '18', '19',\n",
        "            '20', '21', '22',\n",
        "            '23', '24',\n",
        "        ],\n",
        "        'time': [\n",
        "            '00:00', '01:00', '02:00',\n",
        "            '03:00', '04:00', '05:00',\n",
        "            '06:00', '07:00', '08:00',\n",
        "            '09:00', '10:00', '11:00',\n",
        "            '12:00', '13:00', '14:00',\n",
        "            '15:00', '16:00', '17:00',\n",
        "            '18:00', '19:00', '20:00',\n",
        "            '21:00', '22:00', '23:00',\n",
        "        ],\n",
        "        'area': [\n",
        "            22, 72, 16,\n",
        "            79,\n",
        "        ],\n",
        "    },\n",
        "    'download.nc')"
      ]
    }
  ],
  "metadata": {
    "colab": {
      "collapsed_sections": [],
      "name": "data_collection.ipynb",
      "provenance": []
    },
    "interpreter": {
      "hash": "31f2aee4e71d21fbe5cf8b01ff0e069b9275f58929596ceb00d14d90e3e16cd6"
    },
    "kernelspec": {
      "display_name": "Python 3.8.2 64-bit",
      "name": "python3"
    },
    "language_info": {
      "codemirror_mode": {
        "name": "ipython",
        "version": 3
      },
      "file_extension": ".py",
      "mimetype": "text/x-python",
      "name": "python",
      "nbconvert_exporter": "python",
      "pygments_lexer": "ipython3",
      "version": "3.8.2"
    }
  },
  "nbformat": 4,
  "nbformat_minor": 0
}
