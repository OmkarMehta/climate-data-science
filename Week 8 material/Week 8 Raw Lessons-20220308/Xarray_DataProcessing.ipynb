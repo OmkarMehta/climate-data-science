{
 "cells": [
  {
   "cell_type": "code",
   "execution_count": 1,
   "metadata": {},
   "outputs": [],
   "source": [
    "import xarray as xr # typically alias with xr\n",
    "\n",
    "import numpy as np\n",
    "import matplotlib.pyplot as plt\n",
    "import cartopy.crs as ccrs # Cartopy map projections\n",
    "from matplotlib import cm # Colormap from matplotlib"
   ]
  },
  {
   "cell_type": "code",
   "execution_count": 2,
   "metadata": {},
   "outputs": [],
   "source": [
    "# You download this by running Xarray Data Structures notebook (changing downloading lines potentially if \n",
    "# using something other than urllib)\n",
    "\n",
    "# Example data array: of air temperatures\n",
    "da = xr.open_dataarray('air.mon.mean.nc')"
   ]
  },
  {
   "cell_type": "code",
   "execution_count": 3,
   "metadata": {
    "scrolled": true
   },
   "outputs": [],
   "source": [
    "# Example dataset: of land-surface characteristics - cool! \n",
    "ds = xr.open_dataset('GLDAS_NOAH025_M_EP.A202010.021.nc4')"
   ]
  },
  {
   "cell_type": "markdown",
   "metadata": {},
   "source": [
    "## INITIAL DATA PROCESSING\n",
    "\n",
    "###  CAVEAT: ALWAYS, ALWAYS, ALWAYS CAREFULLY EXAMINE YOUR METADATA\n",
    "   - units\n",
    "   - scaling\n",
    "   - missing data value\n",
    "   - dimensions\n",
    "   - coordinates, e.g.,\n",
    "     - what order?\n",
    "     - is longitude 0 to 360 or -180 to 180?\n",
    "\n",
    "### (1)  decoding time (later lesson)\n",
    "  - *decode_times = True* option when reading in file\n",
    "   - whether you want to decode times from file datetime format into datetime objects \n",
    "\n",
    "###  (2) dropping variables\n",
    "  - *drop_var = var or list of vars* option when reading in file\n",
    "  - if there are 'bad'/problematic variables you want to not even load into your data structure!\n",
    "\n",
    "### (3) handling variables that are scaled and/or have fill values\n",
    "  - *mask_and_scale=True* option when reading in file\n",
    "     - if your variable attributes contain '_FillValue', will set all values = _FillValue to missing\n",
    "     - if your variable attributes include information on 'scale' or 'add_offset' - will do so accordingly\n",
    "      \n",
    "### (4) renaming a variable\n",
    "- *ds.rename_vars(name_dict='orig_name':'new_name')*"
   ]
  },
  {
   "cell_type": "code",
   "execution_count": 4,
   "metadata": {},
   "outputs": [],
   "source": [
    "ds = ds.rename_vars(name_dict={'Albedo_inst':'albedo'})"
   ]
  },
  {
   "cell_type": "markdown",
   "metadata": {},
   "source": [
    "### (5) identifying and handling missing values\n",
    "- functionality very similar to Pandas!\n",
    "<br><br>\n",
    "- example of NaN identification:"
   ]
  },
  {
   "cell_type": "code",
   "execution_count": 5,
   "metadata": {},
   "outputs": [
    {
     "data": {
      "text/plain": [
       "<matplotlib.collections.QuadMesh at 0x1d6dbbb3048>"
      ]
     },
     "execution_count": 5,
     "metadata": {},
     "output_type": "execute_result"
    },
    {
     "data": {
      "image/png": "[encoded data removed]",
      "text/plain": [
       "<Figure size 432x288 with 2 Axes>"
      ]
     },
     "metadata": {
      "needs_background": "light"
     },
     "output_type": "display_data"
    }
   ],
   "source": [
    "# Missing values over ocean - only have albedo estimates over land in this dataset\n",
    "# In this plot, 1 is True (yes NaN), 0 is False (not NaN)\n",
    "\n",
    "# We could actually use this as a land-sea mask!\n",
    "ds['albedo'].isnull().plot()"
   ]
  },
  {
   "cell_type": "markdown",
   "metadata": {},
   "source": [
    "- in this example, we don't want to fill in missing values....as they are missing for a reason\n",
    "<br><br>\n",
    "- but if we had a different data set and wanted to fill in our missing values:\n",
    "<br><br>\n",
    "\n",
    "**fill in a specific value**: *da.fillna(value to fill all missing values in array with)*\n",
    "<br><br>\n",
    "\n",
    "**fill in via forward propagating values**: *da.ffill(dim to propagate along, n)* ; if there is a gap of more than 'n' consecutive values, don't fill in NaN! \n",
    "<br><br>\n",
    "\n",
    "**fill in via backward propagating values**: *da.bfill(dim to propagate along, n)*"
   ]
  },
  {
   "cell_type": "code",
   "execution_count": null,
   "metadata": {},
   "outputs": [],
   "source": []
  }
 ],
 "metadata": {
  "kernelspec": {
   "display_name": "Python 3",
   "language": "python",
   "name": "python3"
  },
  "language_info": {
   "codemirror_mode": {
    "name": "ipython",
    "version": 3
   },
   "file_extension": ".py",
   "mimetype": "text/x-python",
   "name": "python",
   "nbconvert_exporter": "python",
   "pygments_lexer": "ipython3",
   "version": "3.7.10"
  }
 },
 "nbformat": 4,
 "nbformat_minor": 4
}
