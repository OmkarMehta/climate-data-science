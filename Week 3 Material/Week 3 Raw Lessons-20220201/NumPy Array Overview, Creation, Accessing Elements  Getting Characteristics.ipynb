{
 "cells": [
  {
   "cell_type": "markdown",
   "metadata": {},
   "source": [
    "## NUMPY ARRAYS: OVERVIEW\n",
    "-  a 1D + collection of (typically) numerical values of the *same* data type\n",
    "  - unlike a list/tuple which can contain a mixture of data types\n",
    "<br><br>\n",
    "-  calculations using array operations can be *more efficient* than the equivalent using a loop\n",
    "<br><br>\n",
    "-  we'll focus on 1D and 2D arrays, but it's possible to have higher dimensioned arrays\n",
    "    - can run into memory storage issues -- careful!"
   ]
  },
  {
   "cell_type": "markdown",
   "metadata": {},
   "source": [
    "## NUMPY ARRAYS: DATA TYPES\n",
    "\n",
    "-   a bit different than in Python itself\n",
    "<br><br>\n",
    "- can specify data type when creating array using *dtype* option\n",
    "<br><br>\n",
    "- **KEY**:  numpy arrays have a **fixed** data type\n",
    "  - so pulling an float value into an integer array will *truncate* the value! \n",
    "<br><br> \n",
    "  \n",
    "-   most commonly used types:\n",
    "      - np.float64 or np.float_ (double precision float)\n",
    "      - np.int64 or np.int_ (64-bit integer)\n",
    "      - np.bool_ (Boolean - True or False)"
   ]
  },
  {
   "cell_type": "markdown",
   "metadata": {},
   "source": [
    "## NUMPY ARRAYS: CREATION\n",
    "### 1)  Creation, specific values: use *np.array* "
   ]
  },
  {
   "cell_type": "code",
   "execution_count": 1,
   "metadata": {
    "scrolled": true
   },
   "outputs": [
    {
     "name": "stdout",
     "output_type": "stream",
     "text": [
      "[2 3 4 5]\n"
     ]
    }
   ],
   "source": [
    "# Must always import numpy!\n",
    "import numpy as np\n",
    "\n",
    "# Example 1D array\n",
    "             # input argument is a list or tuple \n",
    "b = np.array([2,3,4,5]) # this will create a 1D array of length 4\n",
    "print(b)"
   ]
  },
  {
   "cell_type": "code",
   "execution_count": 2,
   "metadata": {},
   "outputs": [
    {
     "name": "stdout",
     "output_type": "stream",
     "text": [
      "[[2 3 4]\n",
      " [5 6 7]]\n"
     ]
    }
   ],
   "source": [
    "# Example 2D array\n",
    "# Use a nested list or tuple to create an array with two or more dimensions\n",
    "\n",
    "            # 1st row, 2nd row\n",
    "b = np.array([[2,3,4],[5,6,7]]) # this will create a 2D array that is \n",
    "                                # 2 rows x 3 columns \n",
    "print(b)"
   ]
  },
  {
   "cell_type": "markdown",
   "metadata": {},
   "source": [
    "### 2) Creation, all zeros or ones: use *np.zeros* or *np.ones*\n",
    "- recommended over using an array created by *np.empty* so you actually know what is in array!"
   ]
  },
  {
   "cell_type": "code",
   "execution_count": 3,
   "metadata": {},
   "outputs": [
    {
     "name": "stdout",
     "output_type": "stream",
     "text": [
      "[[0. 0. 0.]\n",
      " [0. 0. 0.]]\n"
     ]
    }
   ],
   "source": [
    "# Example\n",
    "a = np.zeros((2,3),dtype=np.float_)  # more on data type options soon!\n",
    "print(a)"
   ]
  },
  {
   "cell_type": "markdown",
   "metadata": {},
   "source": [
    "### 3) Creation, based on another array:  use *np.zeros_like()* or *np.ones_like()*"
   ]
  },
  {
   "cell_type": "code",
   "execution_count": 4,
   "metadata": {},
   "outputs": [
    {
     "name": "stdout",
     "output_type": "stream",
     "text": [
      "[[0 0 0]\n",
      " [0 0 0]]\n"
     ]
    }
   ],
   "source": [
    "# Example\n",
    "c = np.zeros_like(b) # same size and dimensions as b!\n",
    "print(c) # also a 2 row by 3 column array!"
   ]
  },
  {
   "cell_type": "markdown",
   "metadata": {},
   "source": [
    "### 4) Creation, sequential arrays: use *np.arange(), np.linspace(), np.logspace()*\n",
    "- #### np.arange()\n",
    "  - *produces*: an array of sequential integers or floats\n",
    "  - *you pick*: the beginning and end values (end value is NOT included), and the stride"
   ]
  },
  {
   "cell_type": "code",
   "execution_count": 5,
   "metadata": {},
   "outputs": [
    {
     "name": "stdout",
     "output_type": "stream",
     "text": [
      "[ 0  2  4  6  8 10 12 14 16 18]\n",
      "[0.  0.1 0.2 0.3 0.4 0.5 0.6 0.7 0.8 0.9]\n",
      "[9 6 3]\n"
     ]
    }
   ],
   "source": [
    "a = np.arange(0,20,2)\n",
    "print(a) # array will NOT include 20 as a value \n",
    "\n",
    "b = np.arange(0,1,0.1) \n",
    "print(b) # or 1\n",
    "\n",
    "c = np.arange(9,0,-3)\n",
    "print(c) # or 0"
   ]
  },
  {
   "cell_type": "markdown",
   "metadata": {},
   "source": [
    "- #### np.linspace()\n",
    "  - *produces*: an array of sequential integers or floats\n",
    "  - *you pick*: the beginning and end values (end value IS included) and number of array elements "
   ]
  },
  {
   "cell_type": "code",
   "execution_count": 6,
   "metadata": {},
   "outputs": [
    {
     "name": "stdout",
     "output_type": "stream",
     "text": [
      "[ 0.   0.5  1.   1.5  2.   2.5  3.   3.5  4.   4.5  5.   5.5  6.   6.5\n",
      "  7.   7.5  8.   8.5  9.   9.5 10. ]\n"
     ]
    }
   ],
   "source": [
    "a = np.linspace(0,10,21)\n",
    "print(a)\n",
    "\n",
    "# LOGSPACE is similar, except values produced are logarithmically spaced"
   ]
  },
  {
   "cell_type": "markdown",
   "metadata": {},
   "source": [
    "### 5) Creation, random number arrays:  functions in the random module\n",
    "- #### overview\n",
    "  - *pratical use*: when you need \"unpredictable\" numbers -e.g., in statistical data sampling, computer simulations (e.g., Monte Carlo simulations)\n",
    "  - \"random\" module in numpy! https://numpy.org/doc/stable/reference/random/index.html\n",
    "    - \"pseudo-random\" (truly random would be rooted in upredictable physical proccesses)\n",
    "    - can set a \"seed\" for the generation - *ra.seed()*\n",
    "    - create:\n",
    "      - uniformly distributed random integers\n",
    "      - uniformly distributed random floating-point values\n",
    "      - normally distributed random floating-point values"
   ]
  },
  {
   "cell_type": "markdown",
   "metadata": {},
   "source": [
    "- #### uniformly-distributed random integers: *randint()*"
   ]
  },
  {
   "cell_type": "code",
   "execution_count": 7,
   "metadata": {},
   "outputs": [
    {
     "data": {
      "text/plain": [
       "array([-72, -28, -67, -63, -36])"
      ]
     },
     "execution_count": 7,
     "metadata": {},
     "output_type": "execute_result"
    }
   ],
   "source": [
    "from numpy import random as ra\n",
    "\n",
    "# Random integers\n",
    "# The function in DeCaria has since been deprecated!\n",
    "# Use randint instead\n",
    "# randint(lower bound of range, upper bound of range, # of numbers to generate)\n",
    "ra.randint(-100,-17,5)"
   ]
  },
  {
   "cell_type": "markdown",
   "metadata": {},
   "source": [
    "- #### uniformly-distributed random floating-points: *random_sample()*"
   ]
  },
  {
   "cell_type": "code",
   "execution_count": 8,
   "metadata": {},
   "outputs": [
    {
     "data": {
      "text/plain": [
       "array([0.62516   , 0.53858693, 0.67247493, 0.82648048, 0.5081823 ,\n",
       "       0.46852248, 0.0939284 , 0.67229828, 0.31921911, 0.21082586])"
      ]
     },
     "execution_count": 8,
     "metadata": {},
     "output_type": "execute_result"
    }
   ],
   "source": [
    "# Uniformly distributed floating points\n",
    "# Default is from range 0 to 1\n",
    "# random_sample(# of numbers)\n",
    "ra.random_sample(10)"
   ]
  },
  {
   "cell_type": "code",
   "execution_count": 9,
   "metadata": {},
   "outputs": [
    {
     "data": {
      "text/plain": [
       "array([9.08517639, 9.21678238, 8.24138395, 8.81116528, 9.0173817 ,\n",
       "       8.04606401, 8.13827741, 9.88629916, 8.82615801, 8.72665154])"
      ]
     },
     "execution_count": 9,
     "metadata": {},
     "output_type": "execute_result"
    }
   ],
   "source": [
    "# You can modify to get larger range\n",
    "\n",
    "# Range between 8 and 10\n",
    "(10-8)*ra.random_sample(10) + 8"
   ]
  },
  {
   "cell_type": "markdown",
   "metadata": {},
   "source": [
    "- #### normally distributed random floating-point values: *normal*()"
   ]
  },
  {
   "cell_type": "code",
   "execution_count": 10,
   "metadata": {},
   "outputs": [
    {
     "data": {
      "text/plain": [
       "array([ 6.45357801,  9.98681061,  8.80570125, 11.8848245 ,  9.63310283,\n",
       "        9.38599539,  9.84864043,  9.52909929,  8.31444006, 11.32798575])"
      ]
     },
     "execution_count": 10,
     "metadata": {},
     "output_type": "execute_result"
    }
   ],
   "source": [
    "# Normally distributed\n",
    "# normal(mean, standard deviation, # of numbers)\n",
    "ra.normal(10,2,10)"
   ]
  },
  {
   "cell_type": "markdown",
   "metadata": {},
   "source": [
    "## NUMPY ARRAYS: ACCESSING ELEMENTS \n",
    "- reminder: indexing begins at **ZERO** and does NOT include the upper bound of the range you give\n",
    "<br><br>\n",
    "- accessing a subarray element is also known as *slicing*\n",
    "  - syntax: x[start:stop:optional step]\n",
    "<br><br>\n",
    "- **CAVEAT: ACCESSING ELEMENTS OF AN ARRAY AND SAVING TO A NEW ARRAY DOES *NOT* CREATE A SEPARATE COPY!  SO IF YOU CHANGE THE ORIGINAL ARRAY, YOU ALSO CHANGE THE NEW ARRAY....**\n",
    "  - if you want a separate copy: use np.copy() for a \"deep\" copy "
   ]
  },
  {
   "cell_type": "markdown",
   "metadata": {},
   "source": [
    "### (1) 1D Array"
   ]
  },
  {
   "cell_type": "code",
   "execution_count": 11,
   "metadata": {},
   "outputs": [
    {
     "name": "stdout",
     "output_type": "stream",
     "text": [
      "[ 0  2  4  6  8 10 12 14 16 18]\n",
      "10\n",
      "[0 2]\n",
      "[0 4]\n"
     ]
    }
   ],
   "source": [
    "# Example: 1D array  \n",
    "a = np.arange(0,20,2)\n",
    "print(a)\n",
    "\n",
    "b = a[5] # 6th element in a - result is single value \n",
    "print(b)\n",
    "\n",
    "# Time to slice!\n",
    "c = a[0:2] # first and second element of a - result is ARRAY\n",
    "print(c)\n",
    "\n",
    "d = a[0:3:2] # striding by 2 - skipping every other element \n",
    "print(d)"
   ]
  },
  {
   "cell_type": "markdown",
   "metadata": {},
   "source": [
    "### (2) 2D Array"
   ]
  },
  {
   "cell_type": "markdown",
   "metadata": {},
   "source": [
    "## NUMPY ARRAYS: OVERVIEW\n",
    "-  a 1D + collection of numerical values of the *same* data type\n",
    "  - unlike a list/tuple which can contain a mixture of data types\n",
    "<br><br>\n",
    "-  calculations using array operations can be *more efficient* than the equivalent using a loop\n",
    "<br><br>\n",
    "-  we'll focus on 1D and 2D arrays, but it's possible to have higher dimensioned arrays\n",
    "    - can run into memory storage issues -- careful!"
   ]
  },
  {
   "cell_type": "markdown",
   "metadata": {},
   "source": [
    "## NUMPY ARRAYS: DATA TYPES\n",
    "\n",
    "-   a bit different than in Python itself\n",
    "<br><br>\n",
    "- can specify data type when creating array using *dtype* option\n",
    "<br><br>\n",
    "- **KEY**:  numpy arrays have a **fixed** data type\n",
    "  - so pulling an float value into an integer array will *truncate* the value! \n",
    "<br><br> \n",
    "  \n",
    "-   most commonly used types:\n",
    "      - np.float64 or np.float_ (double precision float)\n",
    "      - np.int64 or np.int_ (64-bit integer)\n",
    "      - np.bool_ (Boolean - True or False)"
   ]
  },
  {
   "cell_type": "markdown",
   "metadata": {},
   "source": [
    "## NUMPY ARRAYS: CREATION\n",
    "### 1)  Creation, specific values: use *np.array* "
   ]
  },
  {
   "cell_type": "code",
   "execution_count": 12,
   "metadata": {
    "scrolled": true
   },
   "outputs": [
    {
     "name": "stdout",
     "output_type": "stream",
     "text": [
      "[2 3 4 5]\n"
     ]
    }
   ],
   "source": [
    "# Must always import numpy!\n",
    "import numpy as np\n",
    "\n",
    "# Example 1D array\n",
    "             # input argument is a list or tuple \n",
    "b = np.array([2,3,4,5]) # this will create a 1D array of length 4\n",
    "print(b)"
   ]
  },
  {
   "cell_type": "code",
   "execution_count": 13,
   "metadata": {},
   "outputs": [
    {
     "name": "stdout",
     "output_type": "stream",
     "text": [
      "[[2 3 4]\n",
      " [5 6 7]]\n"
     ]
    }
   ],
   "source": [
    "# Example 2D array\n",
    "# Use a nested list or tuple to create an array with two or more dimensions\n",
    "\n",
    "            # 1st row, 2nd row\n",
    "b = np.array([[2,3,4],[5,6,7]]) # this will create a 2D array that is \n",
    "                                # 2 rows x 3 columns \n",
    "print(b)"
   ]
  },
  {
   "cell_type": "markdown",
   "metadata": {},
   "source": [
    "### 2) Creation, all zeros or ones: use *np.zeros* or *np.ones*\n",
    "- recommended over using an array created by *np.empty* so you actually know what is in array!"
   ]
  },
  {
   "cell_type": "code",
   "execution_count": 14,
   "metadata": {},
   "outputs": [
    {
     "name": "stdout",
     "output_type": "stream",
     "text": [
      "[[0. 0. 0.]\n",
      " [0. 0. 0.]]\n"
     ]
    }
   ],
   "source": [
    "# Example\n",
    "a = np.zeros((2,3),dtype=np.float_)  # more on data type options soon!\n",
    "print(a)"
   ]
  },
  {
   "cell_type": "markdown",
   "metadata": {},
   "source": [
    "### 3) Creation, based on another array:  use *np.zeros_like()* or *np.ones_like()*"
   ]
  },
  {
   "cell_type": "code",
   "execution_count": 15,
   "metadata": {},
   "outputs": [
    {
     "name": "stdout",
     "output_type": "stream",
     "text": [
      "[[0 0 0]\n",
      " [0 0 0]]\n"
     ]
    }
   ],
   "source": [
    "# Example\n",
    "c = np.zeros_like(b) # same size and dimensions as b!\n",
    "print(c) # also a 2 row by 3 column array!"
   ]
  },
  {
   "cell_type": "markdown",
   "metadata": {},
   "source": [
    "### 4) Creation, sequential arrays: use *np.arange(), np.linspace(), np.logspace()*\n",
    "- #### np.arange()\n",
    "  - *produces*: an array of sequential integers or floats\n",
    "  - *you pick*: the beginning and end values (end value is NOT included), and the stride"
   ]
  },
  {
   "cell_type": "code",
   "execution_count": 16,
   "metadata": {},
   "outputs": [
    {
     "name": "stdout",
     "output_type": "stream",
     "text": [
      "[ 0  2  4  6  8 10 12 14 16 18]\n",
      "[0.  0.1 0.2 0.3 0.4 0.5 0.6 0.7 0.8 0.9]\n",
      "[9 6 3]\n"
     ]
    }
   ],
   "source": [
    "a = np.arange(0,20,2)\n",
    "print(a) # array will NOT include 20 as a value \n",
    "\n",
    "b = np.arange(0,1,0.1) \n",
    "print(b) # or 1\n",
    "\n",
    "c = np.arange(9,0,-3)\n",
    "print(c) # or 0"
   ]
  },
  {
   "cell_type": "markdown",
   "metadata": {},
   "source": [
    "- #### np.linspace()\n",
    "  - *produces*: an array of sequential integers or floats\n",
    "  - *you pick*: the beginning and end values (end value IS included) and number of array elements "
   ]
  },
  {
   "cell_type": "code",
   "execution_count": 17,
   "metadata": {},
   "outputs": [
    {
     "name": "stdout",
     "output_type": "stream",
     "text": [
      "[ 0.   0.5  1.   1.5  2.   2.5  3.   3.5  4.   4.5  5.   5.5  6.   6.5\n",
      "  7.   7.5  8.   8.5  9.   9.5 10. ]\n"
     ]
    }
   ],
   "source": [
    "a = np.linspace(0,10,21)\n",
    "print(a)\n",
    "\n",
    "# LOGSPACE is similar, except values produced are logarithmically spaced"
   ]
  },
  {
   "cell_type": "markdown",
   "metadata": {},
   "source": [
    "### 5) Creation, random number arrays:  functions in the random module\n",
    "- #### overview\n",
    "  - *pratical use*: when you need \"unpredictable\" numbers -e.g., in statistical data sampling, computer simulations (e.g., Monte Carlo simulations)\n",
    "  - \"random\" module in numpy! https://numpy.org/doc/stable/reference/random/index.html\n",
    "    - \"pseudo-random\" (truly random would be rooted in upredictable physical proccesses)\n",
    "    - can set a \"seed\" for the generation - *ra.seed()*\n",
    "    - create:\n",
    "      - uniformly distributed random integers\n",
    "      - uniformly distributed random floating-point values\n",
    "      - normally distributed random floating-point values"
   ]
  },
  {
   "cell_type": "markdown",
   "metadata": {},
   "source": [
    "- #### uniformly-distributed random integers: *randint()*"
   ]
  },
  {
   "cell_type": "code",
   "execution_count": 18,
   "metadata": {},
   "outputs": [
    {
     "data": {
      "text/plain": [
       "array([-21, -28, -96, -22, -31])"
      ]
     },
     "execution_count": 18,
     "metadata": {},
     "output_type": "execute_result"
    }
   ],
   "source": [
    "from numpy import random as ra\n",
    "\n",
    "# Random integers\n",
    "# The function in DeCaria has since been deprecated!\n",
    "# Use randint instead\n",
    "# randint(lower bound of range, upper bound of range, # of numbers to generate)\n",
    "ra.randint(-100,-17,5)"
   ]
  },
  {
   "cell_type": "markdown",
   "metadata": {},
   "source": [
    "- #### uniformly-distributed random floating-points: *random_sample()*"
   ]
  },
  {
   "cell_type": "code",
   "execution_count": 19,
   "metadata": {},
   "outputs": [
    {
     "data": {
      "text/plain": [
       "array([0.05265187, 0.70752409, 0.95121486, 0.11686867, 0.59371218,\n",
       "       0.92424236, 0.80634241, 0.11782267, 0.1137101 , 0.00150616])"
      ]
     },
     "execution_count": 19,
     "metadata": {},
     "output_type": "execute_result"
    }
   ],
   "source": [
    "# Uniformly distributed floating points\n",
    "# Default is from range 0 to 1\n",
    "# random_sample(# of numbers)\n",
    "ra.random_sample(10)"
   ]
  },
  {
   "cell_type": "code",
   "execution_count": 20,
   "metadata": {},
   "outputs": [
    {
     "data": {
      "text/plain": [
       "array([8.6732928 , 8.71916192, 9.28810744, 8.29007514, 8.34403652,\n",
       "       8.36113825, 8.67193103, 9.67102609, 9.73502614, 8.50962963])"
      ]
     },
     "execution_count": 20,
     "metadata": {},
     "output_type": "execute_result"
    }
   ],
   "source": [
    "# You can modify to get larger range\n",
    "\n",
    "# Range between 8 and 10\n",
    "(10-8)*ra.random_sample(10) + 8"
   ]
  },
  {
   "cell_type": "markdown",
   "metadata": {},
   "source": [
    "- #### normally distributed random floating-point values: *normal*()"
   ]
  },
  {
   "cell_type": "code",
   "execution_count": 21,
   "metadata": {},
   "outputs": [
    {
     "data": {
      "text/plain": [
       "array([ 6.15246815,  8.16563114,  8.19577393, 12.5780694 ,  8.0948772 ,\n",
       "       13.95659027, 11.80986166,  8.29980606, 11.49359039,  9.66560473])"
      ]
     },
     "execution_count": 21,
     "metadata": {},
     "output_type": "execute_result"
    }
   ],
   "source": [
    "# Normally distributed\n",
    "# normal(mean, standard deviation, # of numbers)\n",
    "ra.normal(10,2,10)"
   ]
  },
  {
   "cell_type": "markdown",
   "metadata": {},
   "source": [
    "## NUMPY ARRAYS: ACCESSING ELEMENTS \n",
    "- reminder: indexing begins at **ZERO** and does NOT include the upper bound of the range you give\n",
    "<br><br>\n",
    "- accessing a subarray element is also known as *slicing*\n",
    "  - syntax: x[start:stop:optional step]\n",
    "<br><br>\n",
    "- **CAVEAT: ACCESSING ELEMENTS OF AN ARRAY AND SAVING TO A NEW ARRAY DOES *NOT* CREATE A SEPARATE COPY!  SO IF YOU CHANGE THE ORIGINAL ARRAY, YOU ALSO CHANGE THE NEW ARRAY....**\n",
    "  - if you want a separate copy: use np.copy() for a \"deep\" copy "
   ]
  },
  {
   "cell_type": "markdown",
   "metadata": {},
   "source": [
    "### (1) 1D Array"
   ]
  },
  {
   "cell_type": "code",
   "execution_count": 22,
   "metadata": {},
   "outputs": [
    {
     "name": "stdout",
     "output_type": "stream",
     "text": [
      "[ 0  2  4  6  8 10 12 14 16 18]\n",
      "10\n",
      "[0 2]\n",
      "[0 4]\n"
     ]
    }
   ],
   "source": [
    "# Example: 1D array  \n",
    "a = np.arange(0,20,2)\n",
    "print(a)\n",
    "\n",
    "b = a[5] # 6th element in a - result is single value \n",
    "print(b)\n",
    "\n",
    "# Time to slice!\n",
    "c = a[0:2] # first and second element of a - result is ARRAY\n",
    "print(c)\n",
    "\n",
    "d = a[0:3:2] # striding by 2 - skipping every other element \n",
    "print(d)"
   ]
  },
  {
   "cell_type": "markdown",
   "metadata": {},
   "source": [
    "### (2) 2D Array"
   ]
  },
  {
   "cell_type": "code",
   "execution_count": 23,
   "metadata": {},
   "outputs": [
    {
     "name": "stdout",
     "output_type": "stream",
     "text": [
      "[[ 5 10 15]\n",
      " [20 25 30]]\n",
      "5\n",
      "30\n",
      "[ 5 10]\n",
      "[15 30]\n"
     ]
    }
   ],
   "source": [
    "# Example: accessing elements in 2D array\n",
    "# DIFFERENT SYNTAX THAN FOR LISTS\n",
    "# For 3D+ arrays, just extend the indexing syntax\n",
    "\n",
    "a = np.array([[5,10,15],[20,25,30]])\n",
    "print(a)\n",
    "\n",
    "b = a[0,0]  # first row, first column - result is single value: 5\n",
    "print(b)\n",
    "\n",
    "c = a[1,2]  # last (second) row, third column - result is single value: 30\n",
    "print(c)\n",
    "\n",
    "#Time to slice!\n",
    "d = a[0,0:2] # first row, first two columns - result is ARRAY: [5 10]\n",
    "print(d)\n",
    "\n",
    "e = a[:,2] # all rows, just third column: [15 30]\n",
    "print(e)"
   ]
  },
  {
   "cell_type": "markdown",
   "metadata": {},
   "source": [
    "## NUMPY ARRAYS: GETTING CHARACTERISTICS\n",
    "### (1) shape/size: *np.shape(a), np.size(a)*"
   ]
  },
  {
   "cell_type": "code",
   "execution_count": 24,
   "metadata": {
    "scrolled": true
   },
   "outputs": [
    {
     "name": "stdout",
     "output_type": "stream",
     "text": [
      "(2, 3)\n"
     ]
    }
   ],
   "source": [
    "# Shape\n",
    "a = np.array([[2,3,4],[5,6,7]])\n",
    "s = np.shape(a)\n",
    "print(s) # a tuple of (number rows, number cols)"
   ]
  },
  {
   "cell_type": "code",
   "execution_count": 25,
   "metadata": {
    "scrolled": true
   },
   "outputs": [
    {
     "name": "stdout",
     "output_type": "stream",
     "text": [
      "6\n"
     ]
    }
   ],
   "source": [
    "# Size\n",
    "z = np.size(a)\n",
    "print(z) # total number of elements in array"
   ]
  },
  {
   "cell_type": "markdown",
   "metadata": {},
   "source": [
    "### (2) summary statistics: *np.min(a), np.max(a), np.sum(a), np.mean(a), etc.*\n"
   ]
  },
  {
   "cell_type": "code",
   "execution_count": 26,
   "metadata": {},
   "outputs": [
    {
     "data": {
      "text/plain": [
       "2"
      ]
     },
     "execution_count": 26,
     "metadata": {},
     "output_type": "execute_result"
    }
   ],
   "source": [
    "# Minimum value in array \n",
    "np.min(a)"
   ]
  },
  {
   "cell_type": "code",
   "execution_count": 27,
   "metadata": {},
   "outputs": [
    {
     "data": {
      "text/plain": [
       "7"
      ]
     },
     "execution_count": 27,
     "metadata": {},
     "output_type": "execute_result"
    }
   ],
   "source": [
    "# Maximum value in array\n",
    "np.max(a)"
   ]
  },
  {
   "cell_type": "code",
   "execution_count": 28,
   "metadata": {},
   "outputs": [
    {
     "data": {
      "text/plain": [
       "27"
      ]
     },
     "execution_count": 28,
     "metadata": {},
     "output_type": "execute_result"
    }
   ],
   "source": [
    "# Sum\n",
    "np.sum(a)"
   ]
  },
  {
   "cell_type": "code",
   "execution_count": 29,
   "metadata": {},
   "outputs": [
    {
     "data": {
      "text/plain": [
       "4.5"
      ]
     },
     "execution_count": 29,
     "metadata": {},
     "output_type": "execute_result"
    }
   ],
   "source": [
    "# Mean\n",
    "np.mean(a)"
   ]
  },
  {
   "cell_type": "code",
   "execution_count": 30,
   "metadata": {},
   "outputs": [
    {
     "data": {
      "text/plain": [
       "1.707825127659933"
      ]
     },
     "execution_count": 30,
     "metadata": {},
     "output_type": "execute_result"
    }
   ],
   "source": [
    "# Standard deviation\n",
    "np.std(a)"
   ]
  },
  {
   "cell_type": "markdown",
   "metadata": {},
   "source": [
    "  - #### helpfully, many operations will have a version that ignores NaNs!"
   ]
  },
  {
   "cell_type": "code",
   "execution_count": 31,
   "metadata": {},
   "outputs": [
    {
     "name": "stdout",
     "output_type": "stream",
     "text": [
      "[[nan  3.  4.]\n",
      " [ 5.  6.  7.]]\n"
     ]
    },
    {
     "data": {
      "text/plain": [
       "5.0"
      ]
     },
     "execution_count": 31,
     "metadata": {},
     "output_type": "execute_result"
    }
   ],
   "source": [
    "# For this example, we first need to insert a NaN into an array\n",
    "\n",
    "b = np.copy(a) # We don't want to change the array a at all\n",
    "\n",
    "# Handy operation 'astype' to cast arrays to a different data type \n",
    "c = b.astype(np.float64) # If we're going to change a element value to NaN,\n",
    "                         # we can't do that in an integer array\n",
    "\n",
    "c[0,0] = np.nan\n",
    "print(c)\n",
    "\n",
    "# Alternative version of mean that will ignore NaNs\n",
    "np.nanmean(c)\n",
    "# np.mean(c) would result in NaN"
   ]
  },
  {
   "cell_type": "markdown",
   "metadata": {},
   "source": [
    "- #### doing operations (statistical and other types) over a specific \"axis\" (dimension) - effectively *collapses* this axis\n",
    "  - designate via the \"axis\" option"
   ]
  },
  {
   "cell_type": "code",
   "execution_count": 32,
   "metadata": {
    "scrolled": true
   },
   "outputs": [
    {
     "name": "stdout",
     "output_type": "stream",
     "text": [
      "[[2 3 4]\n",
      " [5 6 7]]\n"
     ]
    },
    {
     "data": {
      "text/plain": [
       "array([3.5, 4.5, 5.5])"
      ]
     },
     "execution_count": 32,
     "metadata": {},
     "output_type": "execute_result"
    }
   ],
   "source": [
    "print(a)\n",
    "\n",
    "# To get a *column* average in a 2D array, you'll use axis=0, as you are averaging over all the *rows* in that column\n",
    "# (and rows are the *first* dimension in the array, thus the \"0\")\n",
    "\n",
    "np.mean(b,axis=0) # Result is column averages!"
   ]
  }
 ],
 "metadata": {
  "kernelspec": {
   "display_name": "Python 3",
   "language": "python",
   "name": "python3"
  },
  "language_info": {
   "codemirror_mode": {
    "name": "ipython",
    "version": 3
   },
   "file_extension": ".py",
   "mimetype": "text/x-python",
   "name": "python",
   "nbconvert_exporter": "python",
   "pygments_lexer": "ipython3",
   "version": "3.7.6"
  }
 },
 "nbformat": 4,
 "nbformat_minor": 4
}
