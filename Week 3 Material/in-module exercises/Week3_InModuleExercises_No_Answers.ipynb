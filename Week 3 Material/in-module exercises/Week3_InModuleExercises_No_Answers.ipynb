{
  "cells": [
    {
      "cell_type": "markdown",
      "metadata": {
        "id": "JOEwFjissp1x"
      },
      "source": [
        "- import numpy package as alias 'np'"
      ]
    },
    {
      "cell_type": "code",
      "execution_count": 1,
      "metadata": {
        "id": "c7I3OUxKsp1y"
      },
      "outputs": [],
      "source": [
        "import numpy as np"
      ]
    },
    {
      "cell_type": "markdown",
      "metadata": {
        "id": "QxdicyIxsp1y"
      },
      "source": [
        "# Array creation:\n",
        "*please use NumPy functions rather than doing so manually*\n",
        "- Create a 1D array, a, that consists of elements 1 through 10 (inclusive)\n",
        "- Create a 1D array, b, that consists of elements 11 through 20 (inclusive)"
      ]
    },
    {
      "cell_type": "code",
      "execution_count": 12,
      "metadata": {
        "colab": {
          "base_uri": "https://localhost:8080/"
        },
        "id": "p0kN2ZuEsp1y",
        "outputId": "a9edab58-4965-43d2-d19b-a0467ac99edf"
      },
      "outputs": [
        {
          "output_type": "stream",
          "name": "stdout",
          "text": [
            "[ 1  2  3  4  5  6  7  8  9 10]\n"
          ]
        }
      ],
      "source": [
        "# Create a 1D array, a, that consists of elements 1 through 10 (inclusive)\n",
        "a = np.arange(1, 11)\n",
        "print(a)"
      ]
    },
    {
      "cell_type": "code",
      "execution_count": 13,
      "metadata": {
        "colab": {
          "base_uri": "https://localhost:8080/"
        },
        "id": "eI0KfEcssp1z",
        "outputId": "11682723-af96-4005-cf1a-698eacd36a7c"
      },
      "outputs": [
        {
          "output_type": "stream",
          "name": "stdout",
          "text": [
            "[11 12 13 14 15 16 17 18 19 20]\n"
          ]
        }
      ],
      "source": [
        "# Create a 1D array, b, that consists of elements 11 through 20 (inclusive)\n",
        "b = np.arange(11, 21)\n",
        "print(b)"
      ]
    },
    {
      "cell_type": "markdown",
      "metadata": {
        "id": "mHMuQ6Dgsp1z"
      },
      "source": [
        "- Add arrays a and b together and save the result in array c\n",
        "  - Can use built-in Python operations, although you'll learn more options next week about mathematical operations in NumPy!"
      ]
    },
    {
      "cell_type": "code",
      "execution_count": 4,
      "metadata": {
        "colab": {
          "base_uri": "https://localhost:8080/"
        },
        "id": "gtB_Mbe8sp1z",
        "outputId": "0ca9bb5b-6043-416f-bfe6-a96342356b7e"
      },
      "outputs": [
        {
          "output_type": "stream",
          "name": "stdout",
          "text": [
            "[12 14 16 18 20 22 24 26 28 30]\n"
          ]
        }
      ],
      "source": [
        "# Add arrays a and b together and save the result in array c\n",
        "c = a + b\n",
        "print(c)"
      ]
    },
    {
      "cell_type": "markdown",
      "metadata": {
        "id": "omKPaAeWsp1z"
      },
      "source": [
        "# Array indexing"
      ]
    },
    {
      "cell_type": "code",
      "execution_count": 5,
      "metadata": {
        "colab": {
          "base_uri": "https://localhost:8080/"
        },
        "id": "2iaqbTGjsp1z",
        "outputId": "765c3d05-4859-4549-e143-4dae52136713"
      },
      "outputs": [
        {
          "output_type": "stream",
          "name": "stdout",
          "text": [
            "[[100  94  96  92  90]\n",
            " [ 95  87  98  96  93]]\n"
          ]
        }
      ],
      "source": [
        "# Temperatures on a grid on a summer's day \n",
        "d = np.array([[100,94,96,92,90],[95,87,98,96,93]])\n",
        "print(d)"
      ]
    },
    {
      "cell_type": "markdown",
      "metadata": {
        "id": "hLZGCG9Fsp1z"
      },
      "source": [
        "- Access and print the element in the first row, third column of d\n"
      ]
    },
    {
      "cell_type": "code",
      "execution_count": 6,
      "metadata": {
        "colab": {
          "base_uri": "https://localhost:8080/"
        },
        "id": "0mP0XfXpsp10",
        "outputId": "50ce07f8-afc9-484c-b3f3-581772e1f659"
      },
      "outputs": [
        {
          "output_type": "stream",
          "name": "stdout",
          "text": [
            "96\n"
          ]
        }
      ],
      "source": [
        "# Access and print the element in the first row, third column of d\n",
        "print(d[0,2])"
      ]
    },
    {
      "cell_type": "markdown",
      "metadata": {
        "id": "Fppffg9Ksp10"
      },
      "source": [
        "- Access and print the elements in the second row, and the first through fourth (inclusive) columns of d"
      ]
    },
    {
      "cell_type": "code",
      "execution_count": 7,
      "metadata": {
        "colab": {
          "base_uri": "https://localhost:8080/"
        },
        "id": "CuUK4BLVsp10",
        "outputId": "fe1daf17-7abc-4bd1-8e21-9c25f186122b"
      },
      "outputs": [
        {
          "output_type": "stream",
          "name": "stdout",
          "text": [
            "[95 87 98 96]\n"
          ]
        }
      ],
      "source": [
        "# Access and print the elements in the second row, and the first through fourth (inclusive) columns of d\n",
        "print(d[1,:4])"
      ]
    },
    {
      "cell_type": "markdown",
      "metadata": {
        "id": "gIZ8vvqOsp10"
      },
      "source": [
        "# Array Characteristics\n",
        "- calculate and print the maximum and minimum values in d"
      ]
    },
    {
      "cell_type": "code",
      "execution_count": 8,
      "metadata": {
        "colab": {
          "base_uri": "https://localhost:8080/"
        },
        "id": "g35NzTmesp10",
        "outputId": "7f3f157e-e399-40c6-d3b2-3b15c154ec2c"
      },
      "outputs": [
        {
          "output_type": "stream",
          "name": "stdout",
          "text": [
            "Maximum value in d: 100\n",
            "Minimum value in d: 87\n"
          ]
        }
      ],
      "source": [
        "# calculate and print the maximum and minimum values in d\n",
        "print(f\"Maximum value in d: {np.max(d)}\")\n",
        "print(f\"Minimum value in d: {np.min(d)}\")"
      ]
    },
    {
      "cell_type": "markdown",
      "metadata": {
        "id": "6S2DsfDtsp10"
      },
      "source": [
        "- calculate and print the shape of d\n",
        "- in a comment, describe how many rows and columns d has"
      ]
    },
    {
      "cell_type": "code",
      "execution_count": 10,
      "metadata": {
        "colab": {
          "base_uri": "https://localhost:8080/"
        },
        "id": "8V_VMcB_sp10",
        "outputId": "f343d2cb-4502-4164-f7b6-c512eb942956"
      },
      "outputs": [
        {
          "output_type": "stream",
          "name": "stdout",
          "text": [
            "Shape of d: (2, 5)\n"
          ]
        }
      ],
      "source": [
        "# calculate and print the shape of d\n",
        "# in a comment, describe how many rows and columns d has\n",
        "print(f\"Shape of d: {d.shape}\")  # d has 2 rows and 5 columns"
      ]
    },
    {
      "cell_type": "markdown",
      "metadata": {
        "id": "X1_4KfF6sp10"
      },
      "source": [
        "- calculate the size of d"
      ]
    },
    {
      "cell_type": "code",
      "execution_count": 11,
      "metadata": {
        "colab": {
          "base_uri": "https://localhost:8080/"
        },
        "id": "8ZDqTNyosp10",
        "outputId": "477f2ac1-3111-4d6b-81cd-123ef77bed04"
      },
      "outputs": [
        {
          "output_type": "stream",
          "name": "stdout",
          "text": [
            "Size of d: 10\n"
          ]
        }
      ],
      "source": [
        "# calculate the size of d\n",
        "print(f\"Size of d: {d.size}\")"
      ]
    },
    {
      "cell_type": "markdown",
      "metadata": {
        "id": "uyWEFDpDsp11"
      },
      "source": [
        ""
      ]
    }
  ],
  "metadata": {
    "kernelspec": {
      "display_name": "Python 3",
      "language": "python",
      "name": "python3"
    },
    "language_info": {
      "codemirror_mode": {
        "name": "ipython",
        "version": 3
      },
      "file_extension": ".py",
      "mimetype": "text/x-python",
      "name": "python",
      "nbconvert_exporter": "python",
      "pygments_lexer": "ipython3",
      "version": "3.7.10"
    },
    "colab": {
      "name": "Week3_InModuleExercises_No_Answers.ipynb",
      "provenance": [],
      "collapsed_sections": []
    }
  },
  "nbformat": 4,
  "nbformat_minor": 0
}