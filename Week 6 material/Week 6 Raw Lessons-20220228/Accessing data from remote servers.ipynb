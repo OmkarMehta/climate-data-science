{
 "cells": [
  {
   "cell_type": "markdown",
   "id": "c906131b",
   "metadata": {},
   "source": [
    "## Moving forward in this class, you’ll sometimes access data files for lessons, assignments, etc. by downloading from rfd.atmos.uiuc.edu (a server in the ATMS department) or other servers\n",
    "\n",
    "### (1) One option for Jupyter notebook or Colab:"
   ]
  },
  {
   "cell_type": "code",
   "execution_count": null,
   "id": "c2d11ab2",
   "metadata": {},
   "outputs": [],
   "source": [
    "import urllib.request # module for downloading data from URLs, may need to install\n",
    "\n",
    "url = 'http://rfd.atmos.uiuc.edu/Atms517/week4/air.mon.mean_levs.nc'\n",
    "# this particular data file is           \u000b\n",
    "                                                                                                                                      # 300 mb in size, fyi\n",
    "filename = 'air.mon.mean_levs.nc'\n",
    "  \n",
    " # Downloads what is at the address passed in as 'url' and saves as what you passed in as 'filename’\n",
    "urllib.request.urlretrieve(url, filename)\n",
    "\n",
    "\n",
    "# you may need to install netcdf4 module if you haven’t already when you go to read in this file"
   ]
  },
  {
   "attachments": {},
   "cell_type": "markdown",
   "id": "c0e8a5ee",
   "metadata": {},
   "source": [
    "### (2) Another option for Colab:"
   ]
  },
  {
   "cell_type": "code",
   "execution_count": null,
   "id": "f515dced",
   "metadata": {},
   "outputs": [],
   "source": [
    "!wget http://rfd.atmos.uiuc.edu/Atms517/week4/air.mon.mean_levs.nc\n",
    "\n",
    "# you may need to install netcdf4 module if you haven’t already when you go to read in this file"
   ]
  },
  {
   "cell_type": "code",
   "execution_count": 1,
   "id": "3d62bd48",
   "metadata": {},
   "outputs": [],
   "source": [
    "import pandas as pd\n",
    "import numpy as np\n",
    "data_np = np.array(\n",
    "    [\n",
    "     [34, 25, 12, 310],\n",
    "     [32, 25, 9, 290],\n",
    "     [32, 19, 10, 270],\n",
    "     [36, 25, 10, 290]\n",
    "    ]\n",
    ")\n",
    "\n",
    "data_index = ['Champaign', 'Danville', 'Bloomington', 'Decatur']\n",
    "data_colummns = ['temperature', 'dew point', 'wind speed', 'wind direction']\n",
    "\n",
    "# create a dataframe from the numpy array\n",
    "data_df = pd.DataFrame(data_np, index=data_index, columns=data_colummns)\n"
   ]
  },
  {
   "cell_type": "code",
   "execution_count": 2,
   "id": "6c2700ca",
   "metadata": {},
   "outputs": [
    {
     "data": {
      "text/html": [
       "<div>\n",
       "<style scoped>\n",
       "    .dataframe tbody tr th:only-of-type {\n",
       "        vertical-align: middle;\n",
       "    }\n",
       "\n",
       "    .dataframe tbody tr th {\n",
       "        vertical-align: top;\n",
       "    }\n",
       "\n",
       "    .dataframe thead th {\n",
       "        text-align: right;\n",
       "    }\n",
       "</style>\n",
       "<table border=\"1\" class=\"dataframe\">\n",
       "  <thead>\n",
       "    <tr style=\"text-align: right;\">\n",
       "      <th></th>\n",
       "      <th>temperature</th>\n",
       "      <th>dew point</th>\n",
       "      <th>wind speed</th>\n",
       "      <th>wind direction</th>\n",
       "    </tr>\n",
       "  </thead>\n",
       "  <tbody>\n",
       "    <tr>\n",
       "      <th>Champaign</th>\n",
       "      <td>34</td>\n",
       "      <td>25</td>\n",
       "      <td>12</td>\n",
       "      <td>310</td>\n",
       "    </tr>\n",
       "    <tr>\n",
       "      <th>Danville</th>\n",
       "      <td>32</td>\n",
       "      <td>25</td>\n",
       "      <td>9</td>\n",
       "      <td>290</td>\n",
       "    </tr>\n",
       "    <tr>\n",
       "      <th>Bloomington</th>\n",
       "      <td>32</td>\n",
       "      <td>19</td>\n",
       "      <td>10</td>\n",
       "      <td>270</td>\n",
       "    </tr>\n",
       "    <tr>\n",
       "      <th>Decatur</th>\n",
       "      <td>36</td>\n",
       "      <td>25</td>\n",
       "      <td>10</td>\n",
       "      <td>290</td>\n",
       "    </tr>\n",
       "  </tbody>\n",
       "</table>\n",
       "</div>"
      ],
      "text/plain": [
       "             temperature  dew point  wind speed  wind direction\n",
       "Champaign             34         25          12             310\n",
       "Danville              32         25           9             290\n",
       "Bloomington           32         19          10             270\n",
       "Decatur               36         25          10             290"
      ]
     },
     "execution_count": 2,
     "metadata": {},
     "output_type": "execute_result"
    }
   ],
   "source": [
    "data_df"
   ]
  },
  {
   "cell_type": "code",
   "execution_count": 3,
   "id": "b532487e",
   "metadata": {},
   "outputs": [
    {
     "data": {
      "text/plain": [
       "10"
      ]
     },
     "execution_count": 3,
     "metadata": {},
     "output_type": "execute_result"
    }
   ],
   "source": [
    "# access the wind speed in Bloomington using loc\n",
    "data_df.loc['Bloomington', 'wind speed']"
   ]
  },
  {
   "cell_type": "code",
   "execution_count": 4,
   "id": "c3f118c0",
   "metadata": {},
   "outputs": [
    {
     "data": {
      "text/plain": [
       "10"
      ]
     },
     "execution_count": 4,
     "metadata": {},
     "output_type": "execute_result"
    }
   ],
   "source": [
    "#  access the wind speed in Bloomington using iloc \n",
    "data_df.iloc[2, 2]"
   ]
  },
  {
   "cell_type": "code",
   "execution_count": 7,
   "id": "44df3eaf",
   "metadata": {},
   "outputs": [
    {
     "name": "stdout",
     "output_type": "stream",
     "text": [
      "[1 2 3 4 5 6 7 8 9]\n"
     ]
    },
    {
     "data": {
      "text/plain": [
       "33"
      ]
     },
     "execution_count": 7,
     "metadata": {},
     "output_type": "execute_result"
    }
   ],
   "source": [
    "numbers =  np.arange(1,10,1)\n",
    "print(numbers)\n",
    "def func_ex(vals):  \n",
    "\n",
    "    nsum = 0\n",
    "\n",
    "    for x in vals:        \n",
    "\n",
    "        if (x>=6) | (x%3==0):\n",
    "\n",
    "            nsum = nsum+x            \n",
    "\n",
    "    return nsum  \n",
    "\n",
    "func_ex(numbers)"
   ]
  },
  {
   "cell_type": "code",
   "execution_count": 8,
   "id": "ad5bd904",
   "metadata": {},
   "outputs": [
    {
     "data": {
      "text/plain": [
       "array([34., 24., 23.])"
      ]
     },
     "execution_count": 8,
     "metadata": {},
     "output_type": "execute_result"
    }
   ],
   "source": [
    "data_np = np.array(\n",
    "    [[42,\t26],\n",
    "    [30,\t18],\n",
    "    [31,\t15]\n",
    "    ]\n",
    ")\n",
    "data_np.mean(axis=1)"
   ]
  },
  {
   "cell_type": "code",
   "execution_count": null,
   "id": "bc226784",
   "metadata": {},
   "outputs": [],
   "source": []
  }
 ],
 "metadata": {
  "kernelspec": {
   "display_name": "Python 3",
   "language": "python",
   "name": "python3"
  },
  "language_info": {
   "codemirror_mode": {
    "name": "ipython",
    "version": 3
   },
   "file_extension": ".py",
   "mimetype": "text/x-python",
   "name": "python",
   "nbconvert_exporter": "python",
   "pygments_lexer": "ipython3",
   "version": "3.8.11"
  }
 },
 "nbformat": 4,
 "nbformat_minor": 5
}
