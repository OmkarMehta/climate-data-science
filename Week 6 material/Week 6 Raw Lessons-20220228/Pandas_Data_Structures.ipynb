{
 "cells": [
  {
   "cell_type": "markdown",
   "metadata": {},
   "source": [
    "## INSTALLATION AND LOADING OF PANDAS\n",
    "**Tips**\n",
    "- To install Pandas, need to have NumPy already installed!\n",
    "- For Pandas help: *pd?*\n"
   ]
  },
  {
   "cell_type": "code",
   "execution_count": 12,
   "metadata": {},
   "outputs": [],
   "source": [
    "import pandas as pd # Typically import under the alias pd"
   ]
  },
  {
   "cell_type": "markdown",
   "metadata": {},
   "source": [
    "## DATA STRUCTURES IN PANDAS: OVERVIEW\n",
    "- Data structures in Pandas are analogous to NumPy arrays, only in Pandas we will identify rows and columns with labels instead of the solely integer indices used in NumPy\n",
    "  - Also have some analogies to Python dictionaries!\n",
    "<br><br>\n",
    "- Label indices are not limited to being integers - strings are common and useful labels!\n",
    "<br><br>\n",
    "- Two data structures: \n",
    "  - Series\n",
    "  - Dataframe\n",
    "<br><br>\n",
    "- The data structures have special attributes and methods!\n",
    "<br><br>\n",
    "- We'll often read from files into data structures, but you can also create from scratch - using a NumPy array or otherwise!\n",
    "  \n",
    "## PANDAS SERIES: OVERVIEW\n",
    "\n",
    "**Definition**: a 1D array of data that is *explicitly* indexed\n",
    "  - analogous in many ways to a 1D NumPy array with flexible indices\n",
    "\n",
    "### (1) SYNTAX\n",
    "- *create from scratch*: pd.Series(data,index)\n",
    "<br><br>\n",
    "- *read in from file*:  pd.read_csv('filename')\n",
    "<br><br>"
   ]
  },
  {
   "cell_type": "code",
   "execution_count": 13,
   "metadata": {},
   "outputs": [
    {
     "name": "stdout",
     "output_type": "stream",
     "text": [
      "Champaign      85\n",
      "Anchorage      60\n",
      "Miami          89\n",
      "Los Angeles    80\n",
      "dtype: int64\n"
     ]
    }
   ],
   "source": [
    "# Let's create a simple series \n",
    "\n",
    "# High temperature on a summer day at a few locations \n",
    "            # Define the values first   # Then the named indices (the data labels)\n",
    "                                        # We used strings as indices!  This is permitted!\n",
    "data = pd.Series([85,60,89,80],index=['Champaign','Anchorage','Miami','Los Angeles']) # in deg F\n",
    "print(data)"
   ]
  },
  {
   "cell_type": "markdown",
   "metadata": {},
   "source": [
    "### (2) CHARACTERISTICS\n",
    "- data.values = values of the Series\n",
    "- data.index = indices of the Series "
   ]
  },
  {
   "cell_type": "code",
   "execution_count": 14,
   "metadata": {},
   "outputs": [
    {
     "data": {
      "text/plain": [
       "array([85, 60, 89, 80], dtype=int64)"
      ]
     },
     "execution_count": 14,
     "metadata": {},
     "output_type": "execute_result"
    }
   ],
   "source": [
    "data.values "
   ]
  },
  {
   "cell_type": "code",
   "execution_count": 15,
   "metadata": {
    "scrolled": true
   },
   "outputs": [
    {
     "data": {
      "text/plain": [
       "Index(['Champaign', 'Anchorage', 'Miami', 'Los Angeles'], dtype='object')"
      ]
     },
     "execution_count": 15,
     "metadata": {},
     "output_type": "execute_result"
    }
   ],
   "source": [
    "data.index #  We used STRINGS as indices!  Does not have to be integer! #power "
   ]
  },
  {
   "cell_type": "markdown",
   "metadata": {},
   "source": [
    "## PANDAS DATAFRAME: OVERVIEW\n",
    "- **Definition**: a 2D array of data that is *explicitly* indexed\n",
    "    - analogous in many ways to a 2D NumPy array with flexible row and column indices \n",
    "<br><br>\n",
    "- Link to Series:  a DataFrame is a sequence of \"aligned\" Series -- sharing the same index!\n",
    "\n",
    "\n",
    "### (1) SYNTAX\n",
    "\n",
    "- *creation from scratch*: pd.DataFrame(data,index)\n",
    "<br><br>\n",
    "- *reading in from file*:  pd.read_csv('filename')"
   ]
  },
  {
   "cell_type": "code",
   "execution_count": 16,
   "metadata": {},
   "outputs": [],
   "source": [
    "# Let's create another series for these cities\n",
    "# This time for dewpoint\n",
    "data2 = pd.Series([68,47,70,60],index=['Champaign','Anchorage','Miami','Los Angeles']) # note the SHARED index "
   ]
  },
  {
   "cell_type": "code",
   "execution_count": 17,
   "metadata": {},
   "outputs": [
    {
     "name": "stdout",
     "output_type": "stream",
     "text": [
      "             temperature  dewpoint\n",
      "Champaign             85        68\n",
      "Anchorage             60        47\n",
      "Miami                 89        70\n",
      "Los Angeles           80        60\n",
      "<class 'pandas.core.frame.DataFrame'>\n"
     ]
    }
   ],
   "source": [
    "# Let's put these two Series together to create a DataFrame!\n",
    "#  Look familiar?  There are dictionary analogies for these data structures, too!\n",
    "tdata = pd.DataFrame({'temperature': data,'dewpoint': data2})\n",
    "print(tdata)\n",
    "print(type(tdata))"
   ]
  },
  {
   "cell_type": "code",
   "execution_count": 18,
   "metadata": {},
   "outputs": [
    {
     "name": "stdout",
     "output_type": "stream",
     "text": [
      "<class 'pandas.core.series.Series'>\n"
     ]
    }
   ],
   "source": [
    "print(type(tdata['temperature'])) # proving to ourselves that a column of a DataFrame is a Series!"
   ]
  },
  {
   "cell_type": "markdown",
   "metadata": {},
   "source": [
    "### (2) CHARACTERISTICS\n",
    "- data.values - the values of the DataFrame as a ~Numpy array\n",
    "- data.index - the indices of the DataFrame\n",
    "- data.columns - the labels of the columns"
   ]
  },
  {
   "cell_type": "code",
   "execution_count": 19,
   "metadata": {
    "scrolled": true
   },
   "outputs": [
    {
     "data": {
      "text/plain": [
       "array([[85, 68],\n",
       "       [60, 47],\n",
       "       [89, 70],\n",
       "       [80, 60]], dtype=int64)"
      ]
     },
     "execution_count": 19,
     "metadata": {},
     "output_type": "execute_result"
    }
   ],
   "source": [
    "tdata.values # the values of the elements themselves"
   ]
  },
  {
   "cell_type": "code",
   "execution_count": 20,
   "metadata": {},
   "outputs": [
    {
     "data": {
      "text/plain": [
       "array([85, 60, 89, 80], dtype=int64)"
      ]
     },
     "execution_count": 20,
     "metadata": {},
     "output_type": "execute_result"
    }
   ],
   "source": [
    "tdata['temperature'].values # values of the elements in a specific column"
   ]
  },
  {
   "cell_type": "code",
   "execution_count": 21,
   "metadata": {},
   "outputs": [
    {
     "data": {
      "text/plain": [
       "Index(['Champaign', 'Anchorage', 'Miami', 'Los Angeles'], dtype='object')"
      ]
     },
     "execution_count": 21,
     "metadata": {},
     "output_type": "execute_result"
    }
   ],
   "source": [
    "tdata.index # the indices, aka the city names"
   ]
  },
  {
   "cell_type": "code",
   "execution_count": 22,
   "metadata": {
    "scrolled": true
   },
   "outputs": [
    {
     "data": {
      "text/plain": [
       "Index(['temperature', 'dewpoint'], dtype='object')"
      ]
     },
     "execution_count": 22,
     "metadata": {},
     "output_type": "execute_result"
    }
   ],
   "source": [
    "tdata.columns # the column labels"
   ]
  },
  {
   "cell_type": "markdown",
   "metadata": {},
   "source": [
    "**IMPORTANT NOTE**: <br>\n",
    "- use of df['column_name'] is recommended over df.column_name\n",
    "  - can sometimes be used interchangeably, but not *always*\n",
    "    - example:  if the column name has spaces, latter will not work"
   ]
  }
 ],
 "metadata": {
  "kernelspec": {
   "display_name": "Python 3",
   "language": "python",
   "name": "python3"
  },
  "language_info": {
   "codemirror_mode": {
    "name": "ipython",
    "version": 3
   },
   "file_extension": ".py",
   "mimetype": "text/x-python",
   "name": "python",
   "nbconvert_exporter": "python",
   "pygments_lexer": "ipython3",
   "version": "3.7.6"
  }
 },
 "nbformat": 4,
 "nbformat_minor": 4
}
