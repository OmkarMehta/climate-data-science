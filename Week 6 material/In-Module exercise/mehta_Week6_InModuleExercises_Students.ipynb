{
  "cells": [
    {
      "cell_type": "code",
      "execution_count": 2,
      "id": "a5132126",
      "metadata": {
        "id": "a5132126"
      },
      "outputs": [],
      "source": [
        "# Obviously, import needed packages\n",
        "# Hint: this time, you'll also need Seaborn!\n",
        "import urllib.request # module for downloading data from URLs\n",
        "import seaborn as sb\n",
        "import pandas as pd\n",
        "import numpy as np\n",
        "from matplotlib import pyplot as plt"
      ]
    },
    {
      "cell_type": "markdown",
      "id": "7d780229",
      "metadata": {
        "id": "7d780229"
      },
      "source": [
        "##  Time to pratice some basics in Pandas using cute data about penguins :)\n",
        "#### (1) Download (from rfd.atmos.uiuc.edu/Atms517/week7/penguins_size.csv'), using Python, the needed file\n",
        "- yes, that link is correct\n",
        "- a simplified version of a traditional data science dataset\n",
        "- https://github.com/allisonhorst/palmerpenguins/blob/master/README.md  if you're in the mood for cute diagrams of penguins and their features...people are so creative! :)"
      ]
    },
    {
      "cell_type": "code",
      "execution_count": 3,
      "id": "7d1bb1db",
      "metadata": {
        "colab": {
          "base_uri": "https://localhost:8080/"
        },
        "id": "7d1bb1db",
        "outputId": "917dba81-0e7e-4f20-ae03-04d3c4135aeb"
      },
      "outputs": [
        {
          "data": {
            "text/plain": [
              "('penguins_size.csv', <http.client.HTTPMessage at 0x7f2608d7c8d0>)"
            ]
          },
          "execution_count": 3,
          "metadata": {},
          "output_type": "execute_result"
        }
      ],
      "source": [
        "filename = 'penguins_size.csv'\n",
        "url = 'http://rfd.atmos.uiuc.edu/Atms517/week7/penguins_size.csv'\n",
        "\n",
        "# download what is in the url and save it to the filename\n",
        "urllib.request.urlretrieve(url, filename)"
      ]
    },
    {
      "cell_type": "markdown",
      "id": "f6eaf0ad",
      "metadata": {
        "id": "f6eaf0ad"
      },
      "source": [
        "#### (2) Read in 'penguins_size.csv' using Pandas "
      ]
    },
    {
      "cell_type": "code",
      "execution_count": 4,
      "id": "2035bcec",
      "metadata": {
        "id": "2035bcec"
      },
      "outputs": [],
      "source": [
        "# read the file into a dataframe\n",
        "df = pd.read_csv(filename)"
      ]
    },
    {
      "cell_type": "code",
      "execution_count": 8,
      "id": "-6aEV6uxocaf",
      "metadata": {
        "colab": {
          "base_uri": "https://localhost:8080/"
        },
        "id": "-6aEV6uxocaf",
        "outputId": "f654ac8e-a98d-40fe-97bf-25ba6e693e00"
      },
      "outputs": [
        {
          "data": {
            "text/plain": [
              "Index(['species', 'island', 'culmen_length_mm', 'culmen_depth_mm',\n",
              "       'flipper_length_mm', 'body_mass_g', 'sex'],\n",
              "      dtype='object')"
            ]
          },
          "execution_count": 8,
          "metadata": {},
          "output_type": "execute_result"
        }
      ],
      "source": [
        "df.columns"
      ]
    },
    {
      "cell_type": "code",
      "execution_count": 15,
      "id": "EhChOlmurekO",
      "metadata": {
        "colab": {
          "base_uri": "https://localhost:8080/"
        },
        "id": "EhChOlmurekO",
        "outputId": "979db9af-b890-4baf-f7d1-7e04432d33be"
      },
      "outputs": [
        {
          "name": "stdout",
          "output_type": "stream",
          "text": [
            "<class 'pandas.core.frame.DataFrame'>\n",
            "Int64Index: 146 entries, 0 to 151\n",
            "Data columns (total 7 columns):\n",
            " #   Column             Non-Null Count  Dtype  \n",
            "---  ------             --------------  -----  \n",
            " 0   species            146 non-null    object \n",
            " 1   island             146 non-null    object \n",
            " 2   beak_length_mm     146 non-null    float64\n",
            " 3   beak_depth_mm      146 non-null    float64\n",
            " 4   flipper_length_mm  146 non-null    float64\n",
            " 5   body_mass_g        146 non-null    float64\n",
            " 6   sex                146 non-null    object \n",
            "dtypes: float64(4), object(3)\n",
            "memory usage: 9.1+ KB\n"
          ]
        }
      ],
      "source": [
        "df.info()"
      ]
    },
    {
      "cell_type": "markdown",
      "id": "e404ba8b",
      "metadata": {
        "id": "e404ba8b"
      },
      "source": [
        "#### (3) Print the first four and last four rows of this file (separately) using a specific method you learned in your lessons, to get a feel for your dataset."
      ]
    },
    {
      "cell_type": "code",
      "execution_count": 5,
      "id": "38be061e",
      "metadata": {
        "colab": {
          "base_uri": "https://localhost:8080/"
        },
        "id": "38be061e",
        "outputId": "1123613d-fce2-41d7-be26-51869cc3837a"
      },
      "outputs": [
        {
          "name": "stdout",
          "output_type": "stream",
          "text": [
            "  species     island  culmen_length_mm  ...  flipper_length_mm  body_mass_g     sex\n",
            "0  Adelie  Torgersen              39.1  ...              181.0       3750.0    MALE\n",
            "1  Adelie  Torgersen              39.5  ...              186.0       3800.0  FEMALE\n",
            "2  Adelie  Torgersen              40.3  ...              195.0       3250.0  FEMALE\n",
            "3  Adelie  Torgersen               NaN  ...                NaN          NaN     NaN\n",
            "\n",
            "[4 rows x 7 columns]\n",
            "\n",
            "\n",
            "    species island  culmen_length_mm  ...  flipper_length_mm  body_mass_g     sex\n",
            "148  Adelie  Dream              36.0  ...              195.0       3450.0  FEMALE\n",
            "149  Adelie  Dream              37.8  ...              193.0       3750.0    MALE\n",
            "150  Adelie  Dream              36.0  ...              187.0       3700.0  FEMALE\n",
            "151  Adelie  Dream              41.5  ...              201.0       4000.0    MALE\n",
            "\n",
            "[4 rows x 7 columns]\n"
          ]
        }
      ],
      "source": [
        "# Print the first four and last four rows of this file (separately) using a specific method you learned in your lessons, to get a feel for your dataset.\n",
        "print(df.head(4))\n",
        "print('\\n')\n",
        "print(df.tail(4))"
      ]
    },
    {
      "cell_type": "markdown",
      "id": "f50f6f72",
      "metadata": {
        "id": "f50f6f72"
      },
      "source": [
        "#### (4) In one line of code, access only the species, body_mass_g, and sex columns and save to a new variable. Print out this new variable!\n",
        "- there is more than one way to do this\n",
        "- feel free to show multiple ways if you'd like"
      ]
    },
    {
      "cell_type": "code",
      "execution_count": 7,
      "id": "ce4da478",
      "metadata": {
        "colab": {
          "base_uri": "https://localhost:8080/",
          "height": 424
        },
        "id": "ce4da478",
        "outputId": "a5ba3c04-525b-46b7-b764-9606b5d1ab2a"
      },
      "outputs": [
        {
          "data": {
            "text/html": [
              "\n",
              "  <div id=\"df-7844a891-5550-45b8-843e-b801c049ce41\">\n",
              "    <div class=\"colab-df-container\">\n",
              "      <div>\n",
              "<style scoped>\n",
              "    .dataframe tbody tr th:only-of-type {\n",
              "        vertical-align: middle;\n",
              "    }\n",
              "\n",
              "    .dataframe tbody tr th {\n",
              "        vertical-align: top;\n",
              "    }\n",
              "\n",
              "    .dataframe thead th {\n",
              "        text-align: right;\n",
              "    }\n",
              "</style>\n",
              "<table border=\"1\" class=\"dataframe\">\n",
              "  <thead>\n",
              "    <tr style=\"text-align: right;\">\n",
              "      <th></th>\n",
              "      <th>species</th>\n",
              "      <th>body_mass_g</th>\n",
              "      <th>sex</th>\n",
              "    </tr>\n",
              "  </thead>\n",
              "  <tbody>\n",
              "    <tr>\n",
              "      <th>0</th>\n",
              "      <td>Adelie</td>\n",
              "      <td>3750.0</td>\n",
              "      <td>MALE</td>\n",
              "    </tr>\n",
              "    <tr>\n",
              "      <th>1</th>\n",
              "      <td>Adelie</td>\n",
              "      <td>3800.0</td>\n",
              "      <td>FEMALE</td>\n",
              "    </tr>\n",
              "    <tr>\n",
              "      <th>2</th>\n",
              "      <td>Adelie</td>\n",
              "      <td>3250.0</td>\n",
              "      <td>FEMALE</td>\n",
              "    </tr>\n",
              "    <tr>\n",
              "      <th>3</th>\n",
              "      <td>Adelie</td>\n",
              "      <td>NaN</td>\n",
              "      <td>NaN</td>\n",
              "    </tr>\n",
              "    <tr>\n",
              "      <th>4</th>\n",
              "      <td>Adelie</td>\n",
              "      <td>3450.0</td>\n",
              "      <td>FEMALE</td>\n",
              "    </tr>\n",
              "    <tr>\n",
              "      <th>...</th>\n",
              "      <td>...</td>\n",
              "      <td>...</td>\n",
              "      <td>...</td>\n",
              "    </tr>\n",
              "    <tr>\n",
              "      <th>147</th>\n",
              "      <td>Adelie</td>\n",
              "      <td>3475.0</td>\n",
              "      <td>FEMALE</td>\n",
              "    </tr>\n",
              "    <tr>\n",
              "      <th>148</th>\n",
              "      <td>Adelie</td>\n",
              "      <td>3450.0</td>\n",
              "      <td>FEMALE</td>\n",
              "    </tr>\n",
              "    <tr>\n",
              "      <th>149</th>\n",
              "      <td>Adelie</td>\n",
              "      <td>3750.0</td>\n",
              "      <td>MALE</td>\n",
              "    </tr>\n",
              "    <tr>\n",
              "      <th>150</th>\n",
              "      <td>Adelie</td>\n",
              "      <td>3700.0</td>\n",
              "      <td>FEMALE</td>\n",
              "    </tr>\n",
              "    <tr>\n",
              "      <th>151</th>\n",
              "      <td>Adelie</td>\n",
              "      <td>4000.0</td>\n",
              "      <td>MALE</td>\n",
              "    </tr>\n",
              "  </tbody>\n",
              "</table>\n",
              "<p>152 rows × 3 columns</p>\n",
              "</div>\n",
              "      <button class=\"colab-df-convert\" onclick=\"convertToInteractive('df-7844a891-5550-45b8-843e-b801c049ce41')\"\n",
              "              title=\"Convert this dataframe to an interactive table.\"\n",
              "              style=\"display:none;\">\n",
              "        \n",
              "  <svg xmlns=\"http://www.w3.org/2000/svg\" height=\"24px\"viewBox=\"0 0 24 24\"\n",
              "       width=\"24px\">\n",
              "    <path d=\"M0 0h24v24H0V0z\" fill=\"none\"/>\n",
              "    <path d=\"M18.56 5.44l.94 2.06.94-2.06 2.06-.94-2.06-.94-.94-2.06-.94 2.06-2.06.94zm-11 1L8.5 8.5l.94-2.06 2.06-.94-2.06-.94L8.5 2.5l-.94 2.06-2.06.94zm10 10l.94 2.06.94-2.06 2.06-.94-2.06-.94-.94-2.06-.94 2.06-2.06.94z\"/><path d=\"M17.41 7.96l-1.37-1.37c-.4-.4-.92-.59-1.43-.59-.52 0-1.04.2-1.43.59L10.3 9.45l-7.72 7.72c-.78.78-.78 2.05 0 2.83L4 21.41c.39.39.9.59 1.41.59.51 0 1.02-.2 1.41-.59l7.78-7.78 2.81-2.81c.8-.78.8-2.07 0-2.86zM5.41 20L4 18.59l7.72-7.72 1.47 1.35L5.41 20z\"/>\n",
              "  </svg>\n",
              "      </button>\n",
              "      \n",
              "  <style>\n",
              "    .colab-df-container {\n",
              "      display:flex;\n",
              "      flex-wrap:wrap;\n",
              "      gap: 12px;\n",
              "    }\n",
              "\n",
              "    .colab-df-convert {\n",
              "      background-color: #E8F0FE;\n",
              "      border: none;\n",
              "      border-radius: 50%;\n",
              "      cursor: pointer;\n",
              "      display: none;\n",
              "      fill: #1967D2;\n",
              "      height: 32px;\n",
              "      padding: 0 0 0 0;\n",
              "      width: 32px;\n",
              "    }\n",
              "\n",
              "    .colab-df-convert:hover {\n",
              "      background-color: #E2EBFA;\n",
              "      box-shadow: 0px 1px 2px rgba(60, 64, 67, 0.3), 0px 1px 3px 1px rgba(60, 64, 67, 0.15);\n",
              "      fill: #174EA6;\n",
              "    }\n",
              "\n",
              "    [theme=dark] .colab-df-convert {\n",
              "      background-color: #3B4455;\n",
              "      fill: #D2E3FC;\n",
              "    }\n",
              "\n",
              "    [theme=dark] .colab-df-convert:hover {\n",
              "      background-color: #434B5C;\n",
              "      box-shadow: 0px 1px 3px 1px rgba(0, 0, 0, 0.15);\n",
              "      filter: drop-shadow(0px 1px 2px rgba(0, 0, 0, 0.3));\n",
              "      fill: #FFFFFF;\n",
              "    }\n",
              "  </style>\n",
              "\n",
              "      <script>\n",
              "        const buttonEl =\n",
              "          document.querySelector('#df-7844a891-5550-45b8-843e-b801c049ce41 button.colab-df-convert');\n",
              "        buttonEl.style.display =\n",
              "          google.colab.kernel.accessAllowed ? 'block' : 'none';\n",
              "\n",
              "        async function convertToInteractive(key) {\n",
              "          const element = document.querySelector('#df-7844a891-5550-45b8-843e-b801c049ce41');\n",
              "          const dataTable =\n",
              "            await google.colab.kernel.invokeFunction('convertToInteractive',\n",
              "                                                     [key], {});\n",
              "          if (!dataTable) return;\n",
              "\n",
              "          const docLinkHtml = 'Like what you see? Visit the ' +\n",
              "            '<a target=\"_blank\" href=https://colab.research.google.com/notebooks/data_table.ipynb>data table notebook</a>'\n",
              "            + ' to learn more about interactive tables.';\n",
              "          element.innerHTML = '';\n",
              "          dataTable['output_type'] = 'display_data';\n",
              "          await google.colab.output.renderOutput(dataTable, element);\n",
              "          const docLink = document.createElement('div');\n",
              "          docLink.innerHTML = docLinkHtml;\n",
              "          element.appendChild(docLink);\n",
              "        }\n",
              "      </script>\n",
              "    </div>\n",
              "  </div>\n",
              "  "
            ],
            "text/plain": [
              "    species  body_mass_g     sex\n",
              "0    Adelie       3750.0    MALE\n",
              "1    Adelie       3800.0  FEMALE\n",
              "2    Adelie       3250.0  FEMALE\n",
              "3    Adelie          NaN     NaN\n",
              "4    Adelie       3450.0  FEMALE\n",
              "..      ...          ...     ...\n",
              "147  Adelie       3475.0  FEMALE\n",
              "148  Adelie       3450.0  FEMALE\n",
              "149  Adelie       3750.0    MALE\n",
              "150  Adelie       3700.0  FEMALE\n",
              "151  Adelie       4000.0    MALE\n",
              "\n",
              "[152 rows x 3 columns]"
            ]
          },
          "execution_count": 7,
          "metadata": {},
          "output_type": "execute_result"
        }
      ],
      "source": [
        "data = df.loc[:, ['species', 'body_mass_g', 'sex']]\n",
        "data"
      ]
    },
    {
      "cell_type": "markdown",
      "id": "ca83fc41",
      "metadata": {
        "id": "ca83fc41"
      },
      "source": [
        "#### (5)  Using the dataframe that you read into in (2):  Culmen length and depth are unfamiliar animal characteristics to many of us.  Rename culmen_length_mm to beak_length_mm, and culmen_depth_mm to beak_depth_mm.\n",
        "- You MUST ensure that after running this cell you've 'updated' your dataframe in a way that SAVES those updates and uses this updated version moving forward.  You can do this via either:\n",
        "  - forcing an update to the current dataframe using the inplace=True argument when you call your function (PREFERRED) - modifies the dataframe 'in place'\n",
        "  - overwriting your dataframe....i.e., if your dataframe's name is 'data'\n",
        "     - data = data.nameoffunctionthat willrenamecolumns(necessary arguments to function) - this ovewrites your current data dataframe"
      ]
    },
    {
      "cell_type": "code",
      "execution_count": 9,
      "id": "93a5a85c",
      "metadata": {
        "colab": {
          "base_uri": "https://localhost:8080/",
          "height": 424
        },
        "id": "93a5a85c",
        "outputId": "5401c620-ccf8-45b8-ab0f-85ed719ac31d"
      },
      "outputs": [
        {
          "data": {
            "text/html": [
              "\n",
              "  <div id=\"df-7e0f2d63-75cd-4f05-b247-2132094dbd6f\">\n",
              "    <div class=\"colab-df-container\">\n",
              "      <div>\n",
              "<style scoped>\n",
              "    .dataframe tbody tr th:only-of-type {\n",
              "        vertical-align: middle;\n",
              "    }\n",
              "\n",
              "    .dataframe tbody tr th {\n",
              "        vertical-align: top;\n",
              "    }\n",
              "\n",
              "    .dataframe thead th {\n",
              "        text-align: right;\n",
              "    }\n",
              "</style>\n",
              "<table border=\"1\" class=\"dataframe\">\n",
              "  <thead>\n",
              "    <tr style=\"text-align: right;\">\n",
              "      <th></th>\n",
              "      <th>species</th>\n",
              "      <th>island</th>\n",
              "      <th>beak_length_mm</th>\n",
              "      <th>beak_depth_mm</th>\n",
              "      <th>flipper_length_mm</th>\n",
              "      <th>body_mass_g</th>\n",
              "      <th>sex</th>\n",
              "    </tr>\n",
              "  </thead>\n",
              "  <tbody>\n",
              "    <tr>\n",
              "      <th>0</th>\n",
              "      <td>Adelie</td>\n",
              "      <td>Torgersen</td>\n",
              "      <td>39.1</td>\n",
              "      <td>18.7</td>\n",
              "      <td>181.0</td>\n",
              "      <td>3750.0</td>\n",
              "      <td>MALE</td>\n",
              "    </tr>\n",
              "    <tr>\n",
              "      <th>1</th>\n",
              "      <td>Adelie</td>\n",
              "      <td>Torgersen</td>\n",
              "      <td>39.5</td>\n",
              "      <td>17.4</td>\n",
              "      <td>186.0</td>\n",
              "      <td>3800.0</td>\n",
              "      <td>FEMALE</td>\n",
              "    </tr>\n",
              "    <tr>\n",
              "      <th>2</th>\n",
              "      <td>Adelie</td>\n",
              "      <td>Torgersen</td>\n",
              "      <td>40.3</td>\n",
              "      <td>18.0</td>\n",
              "      <td>195.0</td>\n",
              "      <td>3250.0</td>\n",
              "      <td>FEMALE</td>\n",
              "    </tr>\n",
              "    <tr>\n",
              "      <th>3</th>\n",
              "      <td>Adelie</td>\n",
              "      <td>Torgersen</td>\n",
              "      <td>NaN</td>\n",
              "      <td>NaN</td>\n",
              "      <td>NaN</td>\n",
              "      <td>NaN</td>\n",
              "      <td>NaN</td>\n",
              "    </tr>\n",
              "    <tr>\n",
              "      <th>4</th>\n",
              "      <td>Adelie</td>\n",
              "      <td>Torgersen</td>\n",
              "      <td>36.7</td>\n",
              "      <td>19.3</td>\n",
              "      <td>193.0</td>\n",
              "      <td>3450.0</td>\n",
              "      <td>FEMALE</td>\n",
              "    </tr>\n",
              "    <tr>\n",
              "      <th>...</th>\n",
              "      <td>...</td>\n",
              "      <td>...</td>\n",
              "      <td>...</td>\n",
              "      <td>...</td>\n",
              "      <td>...</td>\n",
              "      <td>...</td>\n",
              "      <td>...</td>\n",
              "    </tr>\n",
              "    <tr>\n",
              "      <th>147</th>\n",
              "      <td>Adelie</td>\n",
              "      <td>Dream</td>\n",
              "      <td>36.6</td>\n",
              "      <td>18.4</td>\n",
              "      <td>184.0</td>\n",
              "      <td>3475.0</td>\n",
              "      <td>FEMALE</td>\n",
              "    </tr>\n",
              "    <tr>\n",
              "      <th>148</th>\n",
              "      <td>Adelie</td>\n",
              "      <td>Dream</td>\n",
              "      <td>36.0</td>\n",
              "      <td>17.8</td>\n",
              "      <td>195.0</td>\n",
              "      <td>3450.0</td>\n",
              "      <td>FEMALE</td>\n",
              "    </tr>\n",
              "    <tr>\n",
              "      <th>149</th>\n",
              "      <td>Adelie</td>\n",
              "      <td>Dream</td>\n",
              "      <td>37.8</td>\n",
              "      <td>18.1</td>\n",
              "      <td>193.0</td>\n",
              "      <td>3750.0</td>\n",
              "      <td>MALE</td>\n",
              "    </tr>\n",
              "    <tr>\n",
              "      <th>150</th>\n",
              "      <td>Adelie</td>\n",
              "      <td>Dream</td>\n",
              "      <td>36.0</td>\n",
              "      <td>17.1</td>\n",
              "      <td>187.0</td>\n",
              "      <td>3700.0</td>\n",
              "      <td>FEMALE</td>\n",
              "    </tr>\n",
              "    <tr>\n",
              "      <th>151</th>\n",
              "      <td>Adelie</td>\n",
              "      <td>Dream</td>\n",
              "      <td>41.5</td>\n",
              "      <td>18.5</td>\n",
              "      <td>201.0</td>\n",
              "      <td>4000.0</td>\n",
              "      <td>MALE</td>\n",
              "    </tr>\n",
              "  </tbody>\n",
              "</table>\n",
              "<p>152 rows × 7 columns</p>\n",
              "</div>\n",
              "      <button class=\"colab-df-convert\" onclick=\"convertToInteractive('df-7e0f2d63-75cd-4f05-b247-2132094dbd6f')\"\n",
              "              title=\"Convert this dataframe to an interactive table.\"\n",
              "              style=\"display:none;\">\n",
              "        \n",
              "  <svg xmlns=\"http://www.w3.org/2000/svg\" height=\"24px\"viewBox=\"0 0 24 24\"\n",
              "       width=\"24px\">\n",
              "    <path d=\"M0 0h24v24H0V0z\" fill=\"none\"/>\n",
              "    <path d=\"M18.56 5.44l.94 2.06.94-2.06 2.06-.94-2.06-.94-.94-2.06-.94 2.06-2.06.94zm-11 1L8.5 8.5l.94-2.06 2.06-.94-2.06-.94L8.5 2.5l-.94 2.06-2.06.94zm10 10l.94 2.06.94-2.06 2.06-.94-2.06-.94-.94-2.06-.94 2.06-2.06.94z\"/><path d=\"M17.41 7.96l-1.37-1.37c-.4-.4-.92-.59-1.43-.59-.52 0-1.04.2-1.43.59L10.3 9.45l-7.72 7.72c-.78.78-.78 2.05 0 2.83L4 21.41c.39.39.9.59 1.41.59.51 0 1.02-.2 1.41-.59l7.78-7.78 2.81-2.81c.8-.78.8-2.07 0-2.86zM5.41 20L4 18.59l7.72-7.72 1.47 1.35L5.41 20z\"/>\n",
              "  </svg>\n",
              "      </button>\n",
              "      \n",
              "  <style>\n",
              "    .colab-df-container {\n",
              "      display:flex;\n",
              "      flex-wrap:wrap;\n",
              "      gap: 12px;\n",
              "    }\n",
              "\n",
              "    .colab-df-convert {\n",
              "      background-color: #E8F0FE;\n",
              "      border: none;\n",
              "      border-radius: 50%;\n",
              "      cursor: pointer;\n",
              "      display: none;\n",
              "      fill: #1967D2;\n",
              "      height: 32px;\n",
              "      padding: 0 0 0 0;\n",
              "      width: 32px;\n",
              "    }\n",
              "\n",
              "    .colab-df-convert:hover {\n",
              "      background-color: #E2EBFA;\n",
              "      box-shadow: 0px 1px 2px rgba(60, 64, 67, 0.3), 0px 1px 3px 1px rgba(60, 64, 67, 0.15);\n",
              "      fill: #174EA6;\n",
              "    }\n",
              "\n",
              "    [theme=dark] .colab-df-convert {\n",
              "      background-color: #3B4455;\n",
              "      fill: #D2E3FC;\n",
              "    }\n",
              "\n",
              "    [theme=dark] .colab-df-convert:hover {\n",
              "      background-color: #434B5C;\n",
              "      box-shadow: 0px 1px 3px 1px rgba(0, 0, 0, 0.15);\n",
              "      filter: drop-shadow(0px 1px 2px rgba(0, 0, 0, 0.3));\n",
              "      fill: #FFFFFF;\n",
              "    }\n",
              "  </style>\n",
              "\n",
              "      <script>\n",
              "        const buttonEl =\n",
              "          document.querySelector('#df-7e0f2d63-75cd-4f05-b247-2132094dbd6f button.colab-df-convert');\n",
              "        buttonEl.style.display =\n",
              "          google.colab.kernel.accessAllowed ? 'block' : 'none';\n",
              "\n",
              "        async function convertToInteractive(key) {\n",
              "          const element = document.querySelector('#df-7e0f2d63-75cd-4f05-b247-2132094dbd6f');\n",
              "          const dataTable =\n",
              "            await google.colab.kernel.invokeFunction('convertToInteractive',\n",
              "                                                     [key], {});\n",
              "          if (!dataTable) return;\n",
              "\n",
              "          const docLinkHtml = 'Like what you see? Visit the ' +\n",
              "            '<a target=\"_blank\" href=https://colab.research.google.com/notebooks/data_table.ipynb>data table notebook</a>'\n",
              "            + ' to learn more about interactive tables.';\n",
              "          element.innerHTML = '';\n",
              "          dataTable['output_type'] = 'display_data';\n",
              "          await google.colab.output.renderOutput(dataTable, element);\n",
              "          const docLink = document.createElement('div');\n",
              "          docLink.innerHTML = docLinkHtml;\n",
              "          element.appendChild(docLink);\n",
              "        }\n",
              "      </script>\n",
              "    </div>\n",
              "  </div>\n",
              "  "
            ],
            "text/plain": [
              "    species     island  beak_length_mm  ...  flipper_length_mm  body_mass_g     sex\n",
              "0    Adelie  Torgersen            39.1  ...              181.0       3750.0    MALE\n",
              "1    Adelie  Torgersen            39.5  ...              186.0       3800.0  FEMALE\n",
              "2    Adelie  Torgersen            40.3  ...              195.0       3250.0  FEMALE\n",
              "3    Adelie  Torgersen             NaN  ...                NaN          NaN     NaN\n",
              "4    Adelie  Torgersen            36.7  ...              193.0       3450.0  FEMALE\n",
              "..      ...        ...             ...  ...                ...          ...     ...\n",
              "147  Adelie      Dream            36.6  ...              184.0       3475.0  FEMALE\n",
              "148  Adelie      Dream            36.0  ...              195.0       3450.0  FEMALE\n",
              "149  Adelie      Dream            37.8  ...              193.0       3750.0    MALE\n",
              "150  Adelie      Dream            36.0  ...              187.0       3700.0  FEMALE\n",
              "151  Adelie      Dream            41.5  ...              201.0       4000.0    MALE\n",
              "\n",
              "[152 rows x 7 columns]"
            ]
          },
          "execution_count": 9,
          "metadata": {},
          "output_type": "execute_result"
        }
      ],
      "source": [
        "# rename culmen_length_mm to beak_length_mm and culmen_depth_mm to beak_depth_mm\n",
        "df = df.rename(columns={\"culmen_length_mm\": \"beak_length_mm\", \"culmen_depth_mm\": \"beak_depth_mm\"})\n",
        "df"
      ]
    },
    {
      "cell_type": "markdown",
      "id": "47081e99",
      "metadata": {
        "id": "47081e99"
      },
      "source": [
        "#### (6) Count the # of NaNs in each column.  Which column has the most?"
      ]
    },
    {
      "cell_type": "code",
      "execution_count": 10,
      "id": "faad8c00",
      "metadata": {
        "colab": {
          "base_uri": "https://localhost:8080/"
        },
        "id": "faad8c00",
        "outputId": "8cfb1b95-dc72-4439-de21-eb5ae58ee6a8"
      },
      "outputs": [
        {
          "data": {
            "text/plain": [
              "species              0\n",
              "island               0\n",
              "beak_length_mm       1\n",
              "beak_depth_mm        1\n",
              "flipper_length_mm    1\n",
              "body_mass_g          1\n",
              "sex                  6\n",
              "dtype: int64"
            ]
          },
          "execution_count": 10,
          "metadata": {},
          "output_type": "execute_result"
        }
      ],
      "source": [
        "# count the number of NaNs in each column. \n",
        "df.isnull().sum()\n"
      ]
    },
    {
      "cell_type": "code",
      "execution_count": 11,
      "id": "uaTG9yjHpbIM",
      "metadata": {
        "colab": {
          "base_uri": "https://localhost:8080/",
          "height": 35
        },
        "id": "uaTG9yjHpbIM",
        "outputId": "74dfc39f-adc9-4d7a-ea44-b635626fbcd1"
      },
      "outputs": [
        {
          "data": {
            "application/vnd.google.colaboratory.intrinsic+json": {
              "type": "string"
            },
            "text/plain": [
              "'sex'"
            ]
          },
          "execution_count": 11,
          "metadata": {},
          "output_type": "execute_result"
        }
      ],
      "source": [
        "# which column has the most number of NaNs?\n",
        "df.isnull().sum().idxmax()"
      ]
    },
    {
      "cell_type": "markdown",
      "id": "f4014cb9",
      "metadata": {
        "id": "f4014cb9"
      },
      "source": [
        "#### (7) Drop any rows that have at least one NaN, and then confirm that you have removed all NaNs"
      ]
    },
    {
      "cell_type": "code",
      "execution_count": 12,
      "id": "cd0cf489",
      "metadata": {
        "colab": {
          "base_uri": "https://localhost:8080/"
        },
        "id": "cd0cf489",
        "outputId": "e900d49d-9b34-4638-d1c6-58b590aa21f8"
      },
      "outputs": [
        {
          "data": {
            "text/plain": [
              "species              0\n",
              "island               0\n",
              "beak_length_mm       0\n",
              "beak_depth_mm        0\n",
              "flipper_length_mm    0\n",
              "body_mass_g          0\n",
              "sex                  0\n",
              "dtype: int64"
            ]
          },
          "execution_count": 12,
          "metadata": {},
          "output_type": "execute_result"
        }
      ],
      "source": [
        "# Drop any rows that have at least one NaN, and then confirm that you have removed all NaNs\n",
        "df.dropna(inplace=True)\n",
        "df.isnull().sum()"
      ]
    },
    {
      "cell_type": "markdown",
      "id": "a79f971a",
      "metadata": {
        "id": "a79f971a"
      },
      "source": [
        "#### (8) For each numerical column, which you can think of as variables, each a characteristic of penguin, what is the maximum value? The minimum value?\n"
      ]
    },
    {
      "cell_type": "code",
      "execution_count": 27,
      "id": "0bbeb249",
      "metadata": {
        "colab": {
          "base_uri": "https://localhost:8080/"
        },
        "id": "0bbeb249",
        "outputId": "59ab203c-062f-487a-bbab-54abbcb79d3a"
      },
      "outputs": [
        {
          "name": "stdout",
          "output_type": "stream",
          "text": [
            "Max and Min of df[beak_length_mm] is 46.0 and 32.1\n",
            "Max and Min of df[beak_depth_mm] is 21.5 and 15.5\n",
            "Max and Min of df[flipper_length_mm] is 210.0 and 172.0\n",
            "Max and Min of df[body_mass_g] is 4775.0 and 2850.0\n"
          ]
        }
      ],
      "source": [
        "# For each numerical column, which you can think of as variables, each a characteristic of penguin, what is the maximum value? The minimum value?\n",
        "# get max and min of each column, except species, island, sex columns\n",
        "for column in df.columns:\n",
        "    if column == 'species' or column == 'island' or column == 'sex':\n",
        "        pass\n",
        "    else:\n",
        "        print(f\"Max and Min of df[{column}] is {df[column].max()} and {df[column].min()}\")"
      ]
    },
    {
      "cell_type": "markdown",
      "id": "f7145ab9",
      "metadata": {
        "id": "f7145ab9"
      },
      "source": [
        "#### (9) Create a box-and-whisker plot (https://pandas.pydata.org/pandas-docs/stable/reference/api/pandas.DataFrame.boxplot.html), using Pandas built-in plotting functionality, of a penguin characteristic of your choice.  "
      ]
    },
    {
      "cell_type": "code",
      "execution_count": 32,
      "id": "1c98c0c1",
      "metadata": {
        "colab": {
          "base_uri": "https://localhost:8080/",
          "height": 300
        },
        "id": "1c98c0c1",
        "outputId": "74566ded-04f5-4f15-aa84-71c66f132803"
      },
      "outputs": [
        {
          "data": {
            "text/plain": [
              "<matplotlib.axes._subplots.AxesSubplot at 0x7f2606127690>"
            ]
          },
          "execution_count": 32,
          "metadata": {},
          "output_type": "execute_result"
        },
        {
          "data": {
            "image/png": "[encoded data removed]",
            "text/plain": [
              "<Figure size 432x288 with 1 Axes>"
            ]
          },
          "metadata": {
            "needs_background": "light"
          },
          "output_type": "display_data"
        }
      ],
      "source": [
        "# Create a box-and-whisker plot (https://pandas.pydata.org/pandas-docs/stable/reference/api/pandas.DataFrame.boxplot.html), using Pandas built-in plotting functionality, of a penguin characteristic of your choice. \n",
        "df['body_mass_g'].plot.box(\n",
        "    title='Body Mass of Penguins',\n",
        "    showfliers=False,\n",
        "    showmeans=True,\n",
        "    meanline=True,\n",
        "    meanprops={'color': 'red'},\n",
        "    whiskerprops={'color': 'green'},\n",
        "    flierprops={'color': 'orange'},\n",
        "    boxprops={'color': 'black'},\n",
        ")"
      ]
    },
    {
      "cell_type": "markdown",
      "id": "d9b04505",
      "metadata": {
        "id": "d9b04505"
      },
      "source": [
        "#### (10)  Describe the distribution of this characteristic, based on the box-and-whisker plot you created\n",
        "\n",
        "The distribution of the body mass is a normal distribution. The median is around 3750g, the first quartile is around 3300g, and the third quartile is around 4000g. The maximum value is 4750, and the minimum value is around 2750. The interquartile range is about 700g. The distribution is slight right skewed, but it can be considered normal. There are no outliers."
      ]
    },
    {
      "cell_type": "code",
      "execution_count": 32,
      "id": "f4daef96",
      "metadata": {
        "id": "f4daef96"
      },
      "outputs": [],
      "source": []
    },
    {
      "cell_type": "code",
      "execution_count": null,
      "id": "87b2b2fd",
      "metadata": {
        "id": "87b2b2fd"
      },
      "outputs": [],
      "source": []
    }
  ],
  "metadata": {
    "colab": {
      "collapsed_sections": [],
      "name": "Week6_InModuleExercises_Students.ipynb",
      "provenance": []
    },
    "kernelspec": {
      "display_name": "Python 3",
      "language": "python",
      "name": "python3"
    },
    "language_info": {
      "codemirror_mode": {
        "name": "ipython",
        "version": 3
      },
      "file_extension": ".py",
      "mimetype": "text/x-python",
      "name": "python",
      "nbconvert_exporter": "python",
      "pygments_lexer": "ipython3",
      "version": "3.7.10"
    }
  },
  "nbformat": 4,
  "nbformat_minor": 5
}
