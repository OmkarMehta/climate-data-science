{
 "cells": [
  {
   "cell_type": "markdown",
   "metadata": {},
   "source": [
    "## REMINDER: STATEMENT VS. EXPRESSION\n",
    "- **Statement**:  instruction that is executed by Python\n",
    "    - examples:\n",
    "        - assignment of a variable\n",
    "        - for, if, while statement\n",
    "        - and many more!\n",
    "<br><br>\n",
    "- **Expression**: values, operators, variables, function calls, etc. that are *evaluated* by Python to a value \n",
    "    - technically are part of statements \n",
    "    - examples:\n",
    "        - a + b\n",
    "        - log(a)"
   ]
  },
  {
   "cell_type": "markdown",
   "metadata": {},
   "source": [
    "## FUNCTIONS: OVERVIEW\n",
    "- **Definiton**: an organized block of code that only executes when called\n",
    "<br><br>\n",
    "- **When do we write functions?**\n",
    "   - if there's code you'll want to execute more than once in your Python script\n",
    "   - and/or if the code is very complex and it is helpful to offset it \n",
    "<br><br>\n",
    "\n",
    "## FUNCTIONS: SYNTAX\n",
    "- **Basic syntax**:\n",
    "<br><br>\n",
    "def function_name(*args*)\n",
    "<br><br>\n",
    "&nbsp;&nbsp;&nbsp;&nbsp;code block\n",
    "<br><br>\n",
    "&nbsp;&nbsp;&nbsp;&nbsp;return *value(s) to be returned*\n",
    "<br><br>\n",
    "- **Special argument syntax**: \n",
    "    - to pass in an array of arguments to be considered as separate arguments, use *args\n",
    "    - arguments you pass in must be in exact order the function will expect \n",
    "    - *keyword arguments* - Boolean arguments that can be used in a condition within the function\n",
    "<br><br>\n",
    "\n",
    "## FUNCTION VS. METHOD\n",
    "- **Function vs. method**\n",
    "   - **Method**: function that *belongs* to an object and operates on the object's attributes\n",
    "      - **syntax**: object.method() (or with arguments, if required)\n",
    "      \n",
    "## SIMPLE EXAMPLE OF FUNCTION"
   ]
  },
  {
   "cell_type": "code",
   "execution_count": 1,
   "metadata": {},
   "outputs": [],
   "source": [
    "# Let's create a function that converts a temperature (in Fahrenheit or Celsius) into Kelvin!\n",
    "\n",
    "def T_kelvin(t,celsius=True): # celsius is a keyword argument \n",
    "\n",
    "    if not celsius: \n",
    "        t = (t-32)*(5/9) # if in Fahrenheit, need to convert first to Celsius\n",
    "\n",
    "    t_k = round(t+273.15)  # conversion from Celsius to Kelvin \n",
    "\n",
    "    return t_k"
   ]
  },
  {
   "cell_type": "code",
   "execution_count": 2,
   "metadata": {},
   "outputs": [
    {
     "data": {
      "text/plain": [
       "305"
      ]
     },
     "execution_count": 2,
     "metadata": {},
     "output_type": "execute_result"
    }
   ],
   "source": [
    "T_kelvin(90,False) # 90 degree Fahrenheit"
   ]
  },
  {
   "cell_type": "markdown",
   "metadata": {},
   "source": [
    "## LAMBDA FUNCTION\n",
    "- **Definition**: a unnamed, anonymous \"function\" consisting of ONE expression and no statements \n",
    "  - no return statement in the lambda function itself \n",
    "<br><br>\n",
    "- **Use**: particularly useful if need to use a function within a function\n",
    "<br><br>\n",
    "- **Caveat**: not suitable for doing complex things"
   ]
  },
  {
   "cell_type": "code",
   "execution_count": 3,
   "metadata": {},
   "outputs": [
    {
     "data": {
      "text/plain": [
       "14"
      ]
     },
     "execution_count": 3,
     "metadata": {},
     "output_type": "execute_result"
    }
   ],
   "source": [
    "# Example use of lambda function\n",
    "# Returns function from within the function\n",
    "def transform(n):\n",
    "    return lambda x: x + n\n",
    "\n",
    "f = transform(4) # n = 4\n",
    "f(10) # x = 10"
   ]
  },
  {
   "cell_type": "markdown",
   "metadata": {},
   "source": [
    "## FUNCTIONS: CAVEATS\n",
    "**Local vs. global variables**\n",
    "- defining a variable in the function means the variable is **local** to the function and isn't defined outside of it\n",
    "  - in example above, print(t_k) after the function is defined would lead to an undefined error\n",
    "<br><br>\n",
    "- a *global* variable, if defined prior to calling the function, is available to the function, even if it wasn't passed directly to the function\n",
    "<br><br>\n",
    "\n",
    "**Return statements**\n",
    "- can have multiple return statements, but only one will be executed during a call - you leave the function and return to main code once first return is encountered\n",
    "<br><br>\n",
    "\n",
    "**Will a function change my variables?**\n",
    "- if using int, string, float variables as arguments to function, function won't change them - \"passing by value\"\n",
    "<br><br>\n",
    "- if using arrays or lists, function will change them - \"passing by reference\"\n",
    "   - **key**: pass a *deep* copy = np.copy(a)"
   ]
  },
  {
   "cell_type": "markdown",
   "metadata": {},
   "source": [
    "## MODULES\n",
    "- **Definition**:  a (related) collection of Python functions, constants, and/or classes stored in one file\n",
    "<br><br>\n",
    "- **Naming convention**:  name of module = name of file\n",
    "  - ex: Tornadoes.py - module name is 'Tornadoes'\n",
    "<br><br>\n",
    "- **Importing a module**: import module_name as alias\n",
    "  - PACKAGES ARE COLLECTIONS OF MODULES "
   ]
  }
 ],
 "metadata": {
  "kernelspec": {
   "display_name": "Python 3",
   "language": "python",
   "name": "python3"
  },
  "language_info": {
   "codemirror_mode": {
    "name": "ipython",
    "version": 3
   },
   "file_extension": ".py",
   "mimetype": "text/x-python",
   "name": "python",
   "nbconvert_exporter": "python",
   "pygments_lexer": "ipython3",
   "version": "3.7.6"
  }
 },
 "nbformat": 4,
 "nbformat_minor": 4
}
