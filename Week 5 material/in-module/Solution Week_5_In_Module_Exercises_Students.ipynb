{
  "cells": [
    {
      "cell_type": "code",
      "execution_count": 1,
      "id": "J9GTV69mou1x",
      "metadata": {
        "colab": {
          "base_uri": "https://localhost:8080/"
        },
        "id": "J9GTV69mou1x",
        "outputId": "99a8027a-d763-4e80-c640-1f42db1e41c6"
      },
      "outputs": [
        {
          "name": "stdout",
          "output_type": "stream",
          "text": [
            "Requirement already satisfied: xarray in /usr/local/lib/python3.7/dist-packages (0.18.2)\n",
            "Requirement already satisfied: pandas>=1.0 in /usr/local/lib/python3.7/dist-packages (from xarray) (1.3.5)\n",
            "Requirement already satisfied: setuptools>=40.4 in /usr/local/lib/python3.7/dist-packages (from xarray) (57.4.0)\n",
            "Requirement already satisfied: numpy>=1.17 in /usr/local/lib/python3.7/dist-packages (from xarray) (1.21.5)\n",
            "Requirement already satisfied: pytz>=2017.3 in /usr/local/lib/python3.7/dist-packages (from pandas>=1.0->xarray) (2018.9)\n",
            "Requirement already satisfied: python-dateutil>=2.7.3 in /usr/local/lib/python3.7/dist-packages (from pandas>=1.0->xarray) (2.8.2)\n",
            "Requirement already satisfied: six>=1.5 in /usr/local/lib/python3.7/dist-packages (from python-dateutil>=2.7.3->pandas>=1.0->xarray) (1.15.0)\n"
          ]
        }
      ],
      "source": [
        "!pip install xarray"
      ]
    },
    {
      "cell_type": "code",
      "execution_count": 2,
      "id": "XDQrgyVho05n",
      "metadata": {
        "colab": {
          "base_uri": "https://localhost:8080/"
        },
        "id": "XDQrgyVho05n",
        "outputId": "932e81e5-8684-47cf-8a42-6594b27c05a4"
      },
      "outputs": [
        {
          "name": "stdout",
          "output_type": "stream",
          "text": [
            "Collecting cartopy\n",
            "  Downloading Cartopy-0.20.2.tar.gz (10.8 MB)\n",
            "\u001b[K     |████████████████████████████████| 10.8 MB 4.5 MB/s \n",
            "\u001b[?25h  Installing build dependencies ... \u001b[?25l\u001b[?25hdone\n",
            "  Getting requirements to build wheel ... \u001b[?25l\u001b[?25herror\n",
            "\u001b[33mWARNING: Discarding https://files.pythonhosted.org/packages/f6/55/1e1c737dc9436b320deead73d1c455ddbb74b8b6992081863492f6f6378a/Cartopy-0.20.2.tar.gz#sha256=4d08c198ecaa50a6a6b109d0f14c070e813defc046a83ac5d7ab494f85599e35 (from https://pypi.org/simple/cartopy/) (requires-python:>=3.7). Command errored out with exit status 1: /usr/bin/python3 /usr/local/lib/python3.7/dist-packages/pip/_vendor/pep517/in_process/_in_process.py get_requires_for_build_wheel /tmp/tmp237brnoh Check the logs for full command output.\u001b[0m\n",
            "  Downloading Cartopy-0.20.1.tar.gz (10.8 MB)\n",
            "\u001b[K     |████████████████████████████████| 10.8 MB 22.0 MB/s \n",
            "\u001b[?25h  Installing build dependencies ... \u001b[?25l\u001b[?25hdone\n",
            "  Getting requirements to build wheel ... \u001b[?25l\u001b[?25herror\n",
            "\u001b[33mWARNING: Discarding https://files.pythonhosted.org/packages/fc/59/aa52698e3838f4cd0e7eaa75bd86837e9e0b05041dbdaee3cda2fffced06/Cartopy-0.20.1.tar.gz#sha256=91f87b130e2574547a20cd634498df97d797abd12dcfd0235bc0cdbcec8b05e3 (from https://pypi.org/simple/cartopy/) (requires-python:>=3.7). Command errored out with exit status 1: /usr/bin/python3 /usr/local/lib/python3.7/dist-packages/pip/_vendor/pep517/in_process/_in_process.py get_requires_for_build_wheel /tmp/tmp02fska23 Check the logs for full command output.\u001b[0m\n",
            "  Downloading Cartopy-0.20.0.tar.gz (10.8 MB)\n",
            "\u001b[K     |████████████████████████████████| 10.8 MB 22.5 MB/s \n",
            "\u001b[?25h  Installing build dependencies ... \u001b[?25l\u001b[?25hdone\n",
            "  Getting requirements to build wheel ... \u001b[?25l\u001b[?25herror\n",
            "\u001b[33mWARNING: Discarding https://files.pythonhosted.org/packages/0f/c0/58453b036e79046d211f083880d58dcce787e7e07647ac25dc46c6555099/Cartopy-0.20.0.tar.gz#sha256=eae58aff26806e63cf115b2bce9477cedc4aa9f578c5e477b2c25cfa404f2b7a (from https://pypi.org/simple/cartopy/) (requires-python:>=3.7). Command errored out with exit status 1: /usr/bin/python3 /usr/local/lib/python3.7/dist-packages/pip/_vendor/pep517/in_process/_in_process.py get_requires_for_build_wheel /tmp/tmp12ndpst6 Check the logs for full command output.\u001b[0m\n",
            "  Downloading Cartopy-0.19.0.post1.tar.gz (12.1 MB)\n",
            "\u001b[K     |████████████████████████████████| 12.1 MB 800 kB/s \n",
            "\u001b[?25h  Installing build dependencies ... \u001b[?25l\u001b[?25hdone\n",
            "  Getting requirements to build wheel ... \u001b[?25l\u001b[?25hdone\n",
            "    Preparing wheel metadata ... \u001b[?25l\u001b[?25hdone\n",
            "Requirement already satisfied: numpy>=1.13.3 in /usr/local/lib/python3.7/dist-packages (from cartopy) (1.21.5)\n",
            "Requirement already satisfied: shapely>=1.5.6 in /usr/local/lib/python3.7/dist-packages (from cartopy) (1.8.0)\n",
            "Collecting pyshp>=2\n",
            "  Downloading pyshp-2.2.0-py3-none-any.whl (44 kB)\n",
            "\u001b[K     |████████████████████████████████| 44 kB 2.6 MB/s \n",
            "\u001b[?25hBuilding wheels for collected packages: cartopy\n",
            "  Building wheel for cartopy (PEP 517) ... \u001b[?25l\u001b[?25hdone\n",
            "  Created wheel for cartopy: filename=Cartopy-0.19.0.post1-cp37-cp37m-linux_x86_64.whl size=12516305 sha256=83c318197c31659d523188c12a5f15ef8c41b73bf7f45ef306e252dae6ba0414\n",
            "  Stored in directory: /root/.cache/pip/wheels/98/01/f7/bd10aeb96fe4b518cde5f7c4f5e12c7202f85b7353a5017847\n",
            "Successfully built cartopy\n",
            "Installing collected packages: pyshp, cartopy\n",
            "Successfully installed cartopy-0.19.0.post1 pyshp-2.2.0\n"
          ]
        }
      ],
      "source": [
        "!pip install cartopy"
      ]
    },
    {
      "cell_type": "markdown",
      "id": "Gcbe6FNT9cJr",
      "metadata": {
        "id": "Gcbe6FNT9cJr"
      },
      "source": [
        "# [Contourf and cartopy issues resolved](https://linuxtut.com/en/8f0d69169dc6ab753e08/)\n",
        "\n",
        "I was not able to recreate the plot in (d). The error was resolved using the following code."
      ]
    },
    {
      "cell_type": "code",
      "execution_count": 3,
      "id": "TrHn5Guyxx3T",
      "metadata": {
        "colab": {
          "base_uri": "https://localhost:8080/"
        },
        "id": "TrHn5Guyxx3T",
        "outputId": "ed83a55b-958e-4f04-d66f-2865efb1fc1d"
      },
      "outputs": [
        {
          "name": "stdout",
          "output_type": "stream",
          "text": [
            "deb-src http://archive.ubuntu.com/ubuntu/ bionic main restricted\n",
            "deb-src http://archive.ubuntu.com/ubuntu/ bionic-updates main restricted\n",
            "deb-src http://archive.ubuntu.com/ubuntu/ bionic universe\n",
            "deb-src http://archive.ubuntu.com/ubuntu/ bionic-updates universe\n",
            "deb-src http://archive.ubuntu.com/ubuntu/ bionic multiverse\n",
            "deb-src http://archive.ubuntu.com/ubuntu/ bionic-updates multiverse\n",
            "deb-src http://archive.ubuntu.com/ubuntu/ bionic-backports main restricted universe multiverse\n",
            "deb-src http://security.ubuntu.com/ubuntu/ bionic-security main restricted\n",
            "deb-src http://security.ubuntu.com/ubuntu/ bionic-security universe\n",
            "deb-src http://security.ubuntu.com/ubuntu/ bionic-security multiverse\n",
            "deb-src https://cloud.r-project.org/bin/linux/ubuntu bionic-cran40/\n"
          ]
        }
      ],
      "source": [
        "!grep '^deb ' /etc/apt/sources.list | \\\n",
        "  sed 's/^deb /deb-src /g' | \\\n",
        "  tee /etc/apt/sources.list.d/deb-src.list\n",
        "!apt-get -qq update"
      ]
    },
    {
      "cell_type": "code",
      "execution_count": 4,
      "id": "TMM2xxBMx4lK",
      "metadata": {
        "colab": {
          "base_uri": "https://localhost:8080/"
        },
        "id": "TMM2xxBMx4lK",
        "outputId": "7fcb61a5-c2e9-4891-c726-d12d70c39729"
      },
      "outputs": [
        {
          "name": "stdout",
          "output_type": "stream",
          "text": [
            "deb-src http://archive.ubuntu.com/ubuntu/ bionic main restricted\n",
            "deb-src http://archive.ubuntu.com/ubuntu/ bionic-updates main restricted\n",
            "deb-src http://archive.ubuntu.com/ubuntu/ bionic universe\n",
            "deb-src http://archive.ubuntu.com/ubuntu/ bionic-updates universe\n",
            "deb-src http://archive.ubuntu.com/ubuntu/ bionic multiverse\n",
            "deb-src http://archive.ubuntu.com/ubuntu/ bionic-updates multiverse\n",
            "deb-src http://archive.ubuntu.com/ubuntu/ bionic-backports main restricted universe multiverse\n",
            "deb-src http://security.ubuntu.com/ubuntu/ bionic-security main restricted\n",
            "deb-src http://security.ubuntu.com/ubuntu/ bionic-security universe\n",
            "deb-src http://security.ubuntu.com/ubuntu/ bionic-security multiverse\n",
            "deb-src https://cloud.r-project.org/bin/linux/ubuntu bionic-cran40/\n",
            "Hit:1 http://security.ubuntu.com/ubuntu bionic-security InRelease\n",
            "Hit:2 https://cloud.r-project.org/bin/linux/ubuntu bionic-cran40/ InRelease\n",
            "Ign:3 https://developer.download.nvidia.com/compute/cuda/repos/ubuntu1804/x86_64  InRelease\n",
            "Ign:4 https://developer.download.nvidia.com/compute/machine-learning/repos/ubuntu1804/x86_64  InRelease\n",
            "Hit:5 https://developer.download.nvidia.com/compute/cuda/repos/ubuntu1804/x86_64  Release\n",
            "Hit:6 https://developer.download.nvidia.com/compute/machine-learning/repos/ubuntu1804/x86_64  Release\n",
            "Hit:7 http://archive.ubuntu.com/ubuntu bionic InRelease\n",
            "Hit:8 http://ppa.launchpad.net/c2d4u.team/c2d4u4.0+/ubuntu bionic InRelease\n",
            "Hit:9 http://archive.ubuntu.com/ubuntu bionic-updates InRelease\n",
            "Hit:10 http://archive.ubuntu.com/ubuntu bionic-backports InRelease\n",
            "Hit:13 http://ppa.launchpad.net/cran/libgit2/ubuntu bionic InRelease\n",
            "Hit:14 http://ppa.launchpad.net/deadsnakes/ppa/ubuntu bionic InRelease\n",
            "Hit:15 http://ppa.launchpad.net/graphics-drivers/ppa/ubuntu bionic InRelease\n",
            "Reading package lists... Done\n",
            "Extracting templates from packages: 100%\n",
            "Selecting previously unselected package libmagic-mgc.\n",
            "(Reading database ... 155113 files and directories currently installed.)\n",
            "Preparing to unpack .../00-libmagic-mgc_1%3a5.32-2ubuntu0.4_amd64.deb ...\n",
            "Unpacking libmagic-mgc (1:5.32-2ubuntu0.4) ...\n",
            "Selecting previously unselected package libmagic1:amd64.\n",
            "Preparing to unpack .../01-libmagic1_1%3a5.32-2ubuntu0.4_amd64.deb ...\n",
            "Unpacking libmagic1:amd64 (1:5.32-2ubuntu0.4) ...\n",
            "Selecting previously unselected package file.\n",
            "Preparing to unpack .../02-file_1%3a5.32-2ubuntu0.4_amd64.deb ...\n",
            "Unpacking file (1:5.32-2ubuntu0.4) ...\n",
            "Selecting previously unselected package gettext-base.\n",
            "Preparing to unpack .../03-gettext-base_0.19.8.1-6ubuntu0.3_amd64.deb ...\n",
            "Unpacking gettext-base (0.19.8.1-6ubuntu0.3) ...\n",
            "Selecting previously unselected package libsigsegv2:amd64.\n",
            "Preparing to unpack .../04-libsigsegv2_2.12-1_amd64.deb ...\n",
            "Unpacking libsigsegv2:amd64 (2.12-1) ...\n",
            "Selecting previously unselected package m4.\n",
            "Preparing to unpack .../05-m4_1.4.18-1_amd64.deb ...\n",
            "Unpacking m4 (1.4.18-1) ...\n",
            "Selecting previously unselected package autoconf.\n",
            "Preparing to unpack .../06-autoconf_2.69-11_all.deb ...\n",
            "Unpacking autoconf (2.69-11) ...\n",
            "Selecting previously unselected package autotools-dev.\n",
            "Preparing to unpack .../07-autotools-dev_20180224.1_all.deb ...\n",
            "Unpacking autotools-dev (20180224.1) ...\n",
            "Selecting previously unselected package automake.\n",
            "Preparing to unpack .../08-automake_1%3a1.15.1-3ubuntu2_all.deb ...\n",
            "Unpacking automake (1:1.15.1-3ubuntu2) ...\n",
            "Selecting previously unselected package autopoint.\n",
            "Preparing to unpack .../09-autopoint_0.19.8.1-6ubuntu0.3_all.deb ...\n",
            "Unpacking autopoint (0.19.8.1-6ubuntu0.3) ...\n",
            "Selecting previously unselected package cython.\n",
            "Preparing to unpack .../10-cython_0.26.1-0.4_amd64.deb ...\n",
            "Unpacking cython (0.26.1-0.4) ...\n",
            "Selecting previously unselected package cython3.\n",
            "Preparing to unpack .../11-cython3_0.26.1-0.4_amd64.deb ...\n",
            "Unpacking cython3 (0.26.1-0.4) ...\n",
            "Selecting previously unselected package libtool.\n",
            "Preparing to unpack .../12-libtool_2.4.6-2_all.deb ...\n",
            "Unpacking libtool (2.4.6-2) ...\n",
            "Selecting previously unselected package dh-autoreconf.\n",
            "Preparing to unpack .../13-dh-autoreconf_17_all.deb ...\n",
            "Unpacking dh-autoreconf (17) ...\n",
            "Selecting previously unselected package libarchive-zip-perl.\n",
            "Preparing to unpack .../14-libarchive-zip-perl_1.60-1ubuntu0.1_all.deb ...\n",
            "Unpacking libarchive-zip-perl (1.60-1ubuntu0.1) ...\n",
            "Selecting previously unselected package libfile-stripnondeterminism-perl.\n",
            "Preparing to unpack .../15-libfile-stripnondeterminism-perl_0.040-1.1~build1_all.deb ...\n",
            "Unpacking libfile-stripnondeterminism-perl (0.040-1.1~build1) ...\n",
            "Selecting previously unselected package libtimedate-perl.\n",
            "Preparing to unpack .../16-libtimedate-perl_2.3000-2_all.deb ...\n",
            "Unpacking libtimedate-perl (2.3000-2) ...\n",
            "Selecting previously unselected package dh-strip-nondeterminism.\n",
            "Preparing to unpack .../17-dh-strip-nondeterminism_0.040-1.1~build1_all.deb ...\n",
            "Unpacking dh-strip-nondeterminism (0.040-1.1~build1) ...\n",
            "Selecting previously unselected package gettext.\n",
            "Preparing to unpack .../18-gettext_0.19.8.1-6ubuntu0.3_amd64.deb ...\n",
            "Unpacking gettext (0.19.8.1-6ubuntu0.3) ...\n",
            "Selecting previously unselected package intltool-debian.\n",
            "Preparing to unpack .../19-intltool-debian_0.35.0+20060710.4_all.deb ...\n",
            "Unpacking intltool-debian (0.35.0+20060710.4) ...\n",
            "Selecting previously unselected package po-debconf.\n",
            "Preparing to unpack .../20-po-debconf_1.0.20_all.deb ...\n",
            "Unpacking po-debconf (1.0.20) ...\n",
            "Selecting previously unselected package debhelper.\n",
            "Preparing to unpack .../21-debhelper_11.1.6ubuntu2_all.deb ...\n",
            "Unpacking debhelper (11.1.6ubuntu2) ...\n",
            "Selecting previously unselected package libpython-all-dev:amd64.\n",
            "Preparing to unpack .../22-libpython-all-dev_2.7.15~rc1-1_amd64.deb ...\n",
            "Unpacking libpython-all-dev:amd64 (2.7.15~rc1-1) ...\n",
            "Selecting previously unselected package libpython3-all-dev:amd64.\n",
            "Preparing to unpack .../23-libpython3-all-dev_3.6.7-1~18.04_amd64.deb ...\n",
            "Unpacking libpython3-all-dev:amd64 (3.6.7-1~18.04) ...\n",
            "Selecting previously unselected package python-all.\n",
            "Preparing to unpack .../24-python-all_2.7.15~rc1-1_amd64.deb ...\n",
            "Unpacking python-all (2.7.15~rc1-1) ...\n",
            "Selecting previously unselected package python-all-dev.\n",
            "Preparing to unpack .../25-python-all-dev_2.7.15~rc1-1_amd64.deb ...\n",
            "Unpacking python-all-dev (2.7.15~rc1-1) ...\n",
            "Selecting previously unselected package python-pkg-resources.\n",
            "Preparing to unpack .../26-python-pkg-resources_39.0.1-2_all.deb ...\n",
            "Unpacking python-pkg-resources (39.0.1-2) ...\n",
            "Selecting previously unselected package python-nose.\n",
            "Preparing to unpack .../27-python-nose_1.3.7-3_all.deb ...\n",
            "Unpacking python-nose (1.3.7-3) ...\n",
            "Selecting previously unselected package python-setuptools.\n",
            "Preparing to unpack .../28-python-setuptools_39.0.1-2_all.deb ...\n",
            "Unpacking python-setuptools (39.0.1-2) ...\n",
            "Selecting previously unselected package python-shapely.\n",
            "Preparing to unpack .../29-python-shapely_1.6.4-1_amd64.deb ...\n",
            "Unpacking python-shapely (1.6.4-1) ...\n",
            "Selecting previously unselected package python-six.\n",
            "Preparing to unpack .../30-python-six_1.11.0-2_all.deb ...\n",
            "Unpacking python-six (1.11.0-2) ...\n",
            "Selecting previously unselected package python3-all.\n",
            "Preparing to unpack .../31-python3-all_3.6.7-1~18.04_amd64.deb ...\n",
            "Unpacking python3-all (3.6.7-1~18.04) ...\n",
            "Selecting previously unselected package python3-all-dev.\n",
            "Preparing to unpack .../32-python3-all-dev_3.6.7-1~18.04_amd64.deb ...\n",
            "Unpacking python3-all-dev (3.6.7-1~18.04) ...\n",
            "Selecting previously unselected package python3-pkg-resources.\n",
            "Preparing to unpack .../33-python3-pkg-resources_39.0.1-2_all.deb ...\n",
            "Unpacking python3-pkg-resources (39.0.1-2) ...\n",
            "Selecting previously unselected package python3-nose.\n",
            "Preparing to unpack .../34-python3-nose_1.3.7-3_all.deb ...\n",
            "Unpacking python3-nose (1.3.7-3) ...\n",
            "Selecting previously unselected package python3-numpy.\n",
            "Preparing to unpack .../35-python3-numpy_1%3a1.13.3-2ubuntu1_amd64.deb ...\n",
            "Unpacking python3-numpy (1:1.13.3-2ubuntu1) ...\n",
            "Selecting previously unselected package python3-setuptools.\n",
            "Preparing to unpack .../36-python3-setuptools_39.0.1-2_all.deb ...\n",
            "Unpacking python3-setuptools (39.0.1-2) ...\n",
            "Selecting previously unselected package python3-shapely.\n",
            "Preparing to unpack .../37-python3-shapely_1.6.4-1_amd64.deb ...\n",
            "Unpacking python3-shapely (1.6.4-1) ...\n",
            "Selecting previously unselected package python3-six.\n",
            "Preparing to unpack .../38-python3-six_1.11.0-2_all.deb ...\n",
            "Unpacking python3-six (1.11.0-2) ...\n",
            "Selecting previously unselected package proj-bin.\n",
            "Preparing to unpack .../39-proj-bin_4.9.3-2_amd64.deb ...\n",
            "Unpacking proj-bin (4.9.3-2) ...\n",
            "Selecting previously unselected package python-pyshp.\n",
            "Preparing to unpack .../40-python-pyshp_1.2.12+ds-1_all.deb ...\n",
            "Unpacking python-pyshp (1.2.12+ds-1) ...\n",
            "Selecting previously unselected package python3-pyshp.\n",
            "Preparing to unpack .../41-python3-pyshp_1.2.12+ds-1_all.deb ...\n",
            "Unpacking python3-pyshp (1.2.12+ds-1) ...\n",
            "Setting up python-shapely (1.6.4-1) ...\n",
            "Setting up libarchive-zip-perl (1.60-1ubuntu0.1) ...\n",
            "Setting up python-pyshp (1.2.12+ds-1) ...\n",
            "Setting up libtimedate-perl (2.3000-2) ...\n",
            "Setting up libsigsegv2:amd64 (2.12-1) ...\n",
            "Setting up python3-numpy (1:1.13.3-2ubuntu1) ...\n",
            "Setting up python3-six (1.11.0-2) ...\n",
            "Setting up libpython-all-dev:amd64 (2.7.15~rc1-1) ...\n",
            "Setting up gettext-base (0.19.8.1-6ubuntu0.3) ...\n",
            "Setting up python3-shapely (1.6.4-1) ...\n",
            "Setting up python3-pyshp (1.2.12+ds-1) ...\n",
            "Setting up m4 (1.4.18-1) ...\n",
            "Setting up python3-pkg-resources (39.0.1-2) ...\n",
            "Setting up python-pkg-resources (39.0.1-2) ...\n",
            "Setting up cython (0.26.1-0.4) ...\n",
            "Setting up libmagic-mgc (1:5.32-2ubuntu0.4) ...\n",
            "Setting up libmagic1:amd64 (1:5.32-2ubuntu0.4) ...\n",
            "Setting up python-six (1.11.0-2) ...\n",
            "Setting up libpython3-all-dev:amd64 (3.6.7-1~18.04) ...\n",
            "Setting up autotools-dev (20180224.1) ...\n",
            "Setting up python3-nose (1.3.7-3) ...\n",
            "Setting up proj-bin (4.9.3-2) ...\n",
            "Setting up python3-all (3.6.7-1~18.04) ...\n",
            "Setting up cython3 (0.26.1-0.4) ...\n",
            "Setting up python3-setuptools (39.0.1-2) ...\n",
            "Setting up python-nose (1.3.7-3) ...\n",
            "Setting up python-all (2.7.15~rc1-1) ...\n",
            "Setting up autopoint (0.19.8.1-6ubuntu0.3) ...\n",
            "Setting up libfile-stripnondeterminism-perl (0.040-1.1~build1) ...\n",
            "Setting up python-setuptools (39.0.1-2) ...\n",
            "Setting up gettext (0.19.8.1-6ubuntu0.3) ...\n",
            "Setting up python3-all-dev (3.6.7-1~18.04) ...\n",
            "Setting up autoconf (2.69-11) ...\n",
            "Setting up file (1:5.32-2ubuntu0.4) ...\n",
            "Setting up intltool-debian (0.35.0+20060710.4) ...\n",
            "Setting up python-all-dev (2.7.15~rc1-1) ...\n",
            "Setting up automake (1:1.15.1-3ubuntu2) ...\n",
            "update-alternatives: using /usr/bin/automake-1.15 to provide /usr/bin/automake (automake) in auto mode\n",
            "Setting up libtool (2.4.6-2) ...\n",
            "Setting up po-debconf (1.0.20) ...\n",
            "Setting up dh-autoreconf (17) ...\n",
            "Setting up debhelper (11.1.6ubuntu2) ...\n",
            "Setting up dh-strip-nondeterminism (0.040-1.1~build1) ...\n",
            "Processing triggers for libc-bin (2.27-3ubuntu1.3) ...\n",
            "/sbin/ldconfig.real: /usr/local/lib/python3.7/dist-packages/ideep4py/lib/libmkldnn.so.0 is not a symbolic link\n",
            "\n",
            "Processing triggers for man-db (2.8.3-2ubuntu0.1) ...\n",
            "(Reading database ... 158024 files and directories currently installed.)\n",
            "Removing python-shapely (1.6.4-1) ...\n",
            "Removing python3-shapely (1.6.4-1) ...\n",
            "Collecting shapely\n",
            "  Downloading Shapely-1.8.1.post1.tar.gz (198 kB)\n",
            "\u001b[K     |████████████████████████████████| 198 kB 5.4 MB/s \n",
            "\u001b[?25h  Installing build dependencies ... \u001b[?25l\u001b[?25hdone\n",
            "  Getting requirements to build wheel ... \u001b[?25l\u001b[?25hdone\n",
            "    Preparing wheel metadata ... \u001b[?25l\u001b[?25hdone\n",
            "Building wheels for collected packages: shapely\n",
            "  Building wheel for shapely (PEP 517) ... \u001b[?25l\u001b[?25hdone\n",
            "  Created wheel for shapely: filename=Shapely-1.8.1.post1-cp37-cp37m-linux_x86_64.whl size=665630 sha256=f535a62c475c8de328886d58aead421914eecfe433762e4537c2cfd2db1274c2\n",
            "  Stored in directory: /root/.cache/pip/wheels/ea/8d/2f/ab748b8a432b3c6cd72e751b3bca17c5a9ed4538b1e78467e6\n",
            "Successfully built shapely\n",
            "Installing collected packages: shapely\n",
            "  Attempting uninstall: shapely\n",
            "    Found existing installation: Shapely 1.8.0\n",
            "    Uninstalling Shapely-1.8.0:\n",
            "      Successfully uninstalled Shapely-1.8.0\n",
            "\u001b[31mERROR: pip's dependency resolver does not currently take into account all the packages that are installed. This behaviour is the source of the following dependency conflicts.\n",
            "albumentations 0.1.12 requires imgaug<0.2.7,>=0.2.5, but you have imgaug 0.2.9 which is incompatible.\u001b[0m\n",
            "Successfully installed shapely-1.8.1.post1\n",
            "Collecting cartopy==0.17.0\n",
            "  Downloading Cartopy-0.17.0.tar.gz (8.9 MB)\n",
            "\u001b[K     |████████████████████████████████| 8.9 MB 4.8 MB/s \n",
            "\u001b[?25h  Installing build dependencies ... \u001b[?25l\u001b[?25hdone\n",
            "  Getting requirements to build wheel ... \u001b[?25l\u001b[?25hdone\n",
            "    Preparing wheel metadata ... \u001b[?25l\u001b[?25hdone\n",
            "Requirement already satisfied: six>=1.3.0 in /usr/local/lib/python3.7/dist-packages (from cartopy==0.17.0) (1.15.0)\n",
            "Requirement already satisfied: pyshp>=1.1.4 in /usr/local/lib/python3.7/dist-packages (from cartopy==0.17.0) (2.2.0)\n",
            "Requirement already satisfied: numpy>=1.10 in /usr/local/lib/python3.7/dist-packages (from cartopy==0.17.0) (1.21.5)\n",
            "Requirement already satisfied: setuptools>=0.7.2 in /usr/local/lib/python3.7/dist-packages (from cartopy==0.17.0) (57.4.0)\n",
            "Requirement already satisfied: shapely>=1.5.6 in /usr/local/lib/python3.7/dist-packages (from cartopy==0.17.0) (1.8.1.post1)\n",
            "Building wheels for collected packages: cartopy\n",
            "  Building wheel for cartopy (PEP 517) ... \u001b[?25l\u001b[?25hdone\n",
            "  Created wheel for cartopy: filename=Cartopy-0.17.0-cp37-cp37m-linux_x86_64.whl size=9700222 sha256=93e16514706b3bc96fa4de0de0f9d69acde4d922de43e5b8b96e8c82d9d471bb\n",
            "  Stored in directory: /root/.cache/pip/wheels/01/59/80/25fe1226e2ab9a7c9a3f88e3ced2a0f656555bde1d96e1fede\n",
            "Successfully built cartopy\n",
            "Installing collected packages: cartopy\n",
            "  Attempting uninstall: cartopy\n",
            "    Found existing installation: Cartopy 0.19.0.post1\n",
            "    Uninstalling Cartopy-0.19.0.post1:\n",
            "      Successfully uninstalled Cartopy-0.19.0.post1\n",
            "Successfully installed cartopy-0.17.0\n"
          ]
        }
      ],
      "source": [
        "!grep '^deb ' /etc/apt/sources.list | \\\n",
        "  sed 's/^deb /deb-src /g' | \\\n",
        "  tee /etc/apt/sources.list.d/deb-src.list\n",
        "!apt-get update\n",
        "\n",
        "!apt-get -qq build-dep python3-cartopy\n",
        "!apt-get -qq remove python-shapely python3-shapely\n",
        "\n",
        "!pip install --no-binary shapely shapely --force\n",
        "!pip install --no-binary cartopy cartopy==0.17.0"
      ]
    },
    {
      "cell_type": "code",
      "execution_count": 5,
      "id": "cGIf-3Ibxfz9",
      "metadata": {
        "colab": {
          "base_uri": "https://localhost:8080/"
        },
        "id": "cGIf-3Ibxfz9",
        "outputId": "939a9a06-d21a-4285-cca9-3dfea04a416b"
      },
      "outputs": [
        {
          "name": "stdout",
          "output_type": "stream",
          "text": [
            "Shapely                       1.8.1.post1\n"
          ]
        }
      ],
      "source": [
        "!pip list | grep Shapely"
      ]
    },
    {
      "cell_type": "code",
      "execution_count": 6,
      "id": "7b0376d9",
      "metadata": {
        "id": "7b0376d9"
      },
      "outputs": [],
      "source": [
        "import xarray as xr\n",
        "import matplotlib.pyplot as plt # function in matplotlib that produces quick and easy plots\n",
        "import cartopy.crs as ccrs # for projection\n",
        "import cartopy.feature as cfeature # for map features \n",
        "from cartopy.util import add_cyclic_point\n",
        "import numpy as np\n",
        "import cartopy\n",
        "import warnings \n",
        "warnings.filterwarnings('ignore')"
      ]
    },
    {
      "cell_type": "code",
      "execution_count": 18,
      "id": "trQc516VxJqY",
      "metadata": {
        "colab": {
          "base_uri": "https://localhost:8080/"
        },
        "id": "trQc516VxJqY",
        "outputId": "9add84eb-7395-4578-eb84-52eeed8dfa6e"
      },
      "outputs": [
        {
          "name": "stdout",
          "output_type": "stream",
          "text": [
            "NAME=\"Ubuntu\"\n",
            "VERSION=\"18.04.5 LTS (Bionic Beaver)\"\n",
            "ID=ubuntu\n",
            "ID_LIKE=debian\n",
            "PRETTY_NAME=\"Ubuntu 18.04.5 LTS\"\n",
            "VERSION_ID=\"18.04\"\n",
            "HOME_URL=\"https://www.ubuntu.com/\"\n",
            "SUPPORT_URL=\"https://help.ubuntu.com/\"\n",
            "BUG_REPORT_URL=\"https://bugs.launchpad.net/ubuntu/\"\n",
            "PRIVACY_POLICY_URL=\"https://www.ubuntu.com/legal/terms-and-policies/privacy-policy\"\n",
            "VERSION_CODENAME=bionic\n",
            "UBUNTU_CODENAME=bionic\n"
          ]
        }
      ],
      "source": [
        "cartopy.__version__\n",
        "!cat /etc/os-release"
      ]
    },
    {
      "cell_type": "markdown",
      "id": "7975c9b7",
      "metadata": {
        "id": "7975c9b7"
      },
      "source": [
        "## (1) Writing a simple function (including some additional practice with flow control)\n",
        "### Write a simple function, such that\n",
        "- You pass a numpy array of four numbers into it – chilly winter temperatures of 20.4, 21.6, 19.8, 22.2 (degrees F, but you don't have to worry about units)\n",
        "<br><br>\n",
        "- It will return the maximum value of those numbers\n",
        "  - Yes, we have actual built-in functions for this - but this is good practice\n",
        "<br><br>\n",
        "- You cannot use any pre-existing functions in doing this (except range, arange, etc)\n",
        "<br><br>\n",
        "- Do not hardwire anything in this function - this function should also work if you pass in an array of a different size than that of the winter temperatures in this example\n",
        "<br><br>\n",
        "- Actually, prove this to me by creating an array of FIVE winter temperatures of your choice and showing me that your function still works!\n",
        "<br><br>\n",
        "- For this Q, you will use logical/comparison operations, as well as flow control structures"
      ]
    },
    {
      "cell_type": "code",
      "execution_count": 7,
      "id": "c344685d",
      "metadata": {
        "id": "c344685d"
      },
      "outputs": [],
      "source": [
        "def max_value(arr):\n",
        "    max_val = 0\n",
        "    for i in range(len(arr)):\n",
        "        if arr[i] > max_val:\n",
        "            max_val = arr[i]\n",
        "    return max_val"
      ]
    },
    {
      "cell_type": "code",
      "execution_count": 8,
      "id": "5c9d9288",
      "metadata": {
        "colab": {
          "base_uri": "https://localhost:8080/"
        },
        "id": "5c9d9288",
        "outputId": "4a16b6c9-e244-4406-f00b-02a7bb86d907"
      },
      "outputs": [
        {
          "name": "stdout",
          "output_type": "stream",
          "text": [
            "22.2\n"
          ]
        }
      ],
      "source": [
        "temp1 = np.array([20.4, 21.6, 19.8, 22.2])\n",
        "print(max_value(temp1))"
      ]
    },
    {
      "cell_type": "code",
      "execution_count": 9,
      "id": "fcfcee99",
      "metadata": {
        "colab": {
          "base_uri": "https://localhost:8080/"
        },
        "id": "fcfcee99",
        "outputId": "d7aeed8d-b72e-4f76-ecd3-b9a0383b8225"
      },
      "outputs": [
        {
          "name": "stdout",
          "output_type": "stream",
          "text": [
            "22.2\n"
          ]
        }
      ],
      "source": [
        "temp2 = np.array([20.4, 21.6, 19.8, 22.2, 21.2])\n",
        "print(max_value(temp2))"
      ]
    },
    {
      "cell_type": "code",
      "execution_count": 9,
      "id": "bd40009b",
      "metadata": {
        "id": "bd40009b"
      },
      "outputs": [],
      "source": []
    },
    {
      "cell_type": "markdown",
      "id": "9be8ca3d",
      "metadata": {
        "id": "9be8ca3d"
      },
      "source": [
        "## (2) Practice with some spatial data using basic Xarray!\n",
        "- You were just briefly acquainted with the Xarray package this week\n",
        "<br><br>\n",
        "- We'll do much more in Xarray in a few weeks, but for now I just want you to start thinking about, and working a bit with, spatial data using this package\n",
        "<br><br>\n",
        "- In this Q, you'll read in oceanography data - some metadata here: https://www.metoffice.gov.uk/hadobs/en4/en4-2-2-analysis-file-format.html\n",
        "<br><br> \n",
        "- And evaluate a few basic characteristics of the structure of it, access elements, and then I'll create a plot for you"
      ]
    },
    {
      "cell_type": "markdown",
      "id": "2e1e5042",
      "metadata": {
        "id": "2e1e5042"
      },
      "source": [
        "#### Read in 'EN.4.2.2.f.analysis.g10.202001.nc' - this is a DATASET as there are multiple data variables in it - temperature, salinity, measures of uncertainty for both, etc."
      ]
    },
    {
      "cell_type": "code",
      "execution_count": 11,
      "id": "a165357b",
      "metadata": {
        "id": "a165357b"
      },
      "outputs": [],
      "source": [
        "data = xr.open_dataset('EN.4.2.2.f.analysis.g10.202001.nc')"
      ]
    },
    {
      "cell_type": "markdown",
      "id": "254b355f",
      "metadata": {
        "id": "254b355f"
      },
      "source": [
        "#### (a.)  Print the data variables in this netcdf file, using the specific function (see your Intro to Xarray lesson)"
      ]
    },
    {
      "cell_type": "code",
      "execution_count": 12,
      "id": "04d3c719",
      "metadata": {
        "colab": {
          "base_uri": "https://localhost:8080/"
        },
        "id": "04d3c719",
        "outputId": "4d4503f3-2ef9-449e-8213-c70c5c9d8cf5"
      },
      "outputs": [
        {
          "data": {
            "text/plain": [
              "Data variables:\n",
              "    temperature                      (time, depth, lat, lon) float32 ...\n",
              "    salinity                         (time, depth, lat, lon) float32 ...\n",
              "    temperature_uncertainty          (time, depth, lat, lon) float32 ...\n",
              "    salinity_uncertainty             (time, depth, lat, lon) float32 ...\n",
              "    temperature_observation_weights  (time, depth, lat, lon) float32 ...\n",
              "    salinity_observation_weights     (time, depth, lat, lon) float32 ...\n",
              "    time_bnds                        (time, bnds) datetime64[ns] ...\n",
              "    depth_bnds                       (depth, bnds) float32 ..."
            ]
          },
          "execution_count": 12,
          "metadata": {},
          "output_type": "execute_result"
        }
      ],
      "source": [
        "data.data_vars"
      ]
    },
    {
      "cell_type": "markdown",
      "id": "959e48a1",
      "metadata": {
        "id": "959e48a1"
      },
      "source": [
        "#### (b.)  Print the coordinates in this netcdf file"
      ]
    },
    {
      "cell_type": "code",
      "execution_count": 13,
      "id": "0bfeff55",
      "metadata": {
        "colab": {
          "base_uri": "https://localhost:8080/"
        },
        "id": "0bfeff55",
        "outputId": "a9390e4e-f8b8-4edb-c9da-13abf3764468",
        "scrolled": true
      },
      "outputs": [
        {
          "data": {
            "text/plain": [
              "Coordinates:\n",
              "  * depth    (depth) float32 5.022 15.08 25.16 ... 4.752e+03 5.051e+03 5.35e+03\n",
              "  * lat      (lat) float32 -83.0 -82.0 -81.0 -80.0 -79.0 ... 86.0 87.0 88.0 89.0\n",
              "  * lon      (lon) float32 1.0 2.0 3.0 4.0 5.0 ... 356.0 357.0 358.0 359.0 360.0\n",
              "  * time     (time) datetime64[ns] 2020-01-16T12:00:00"
            ]
          },
          "execution_count": 13,
          "metadata": {},
          "output_type": "execute_result"
        }
      ],
      "source": [
        "data.coords"
      ]
    },
    {
      "cell_type": "markdown",
      "id": "f8365a13",
      "metadata": {
        "id": "f8365a13"
      },
      "source": [
        "#### (c.)   Let's focus just on temperature. \n",
        "\n",
        "- (i.) How many dimensions does temperature have? \n",
        "\n",
        "        Ans. 4\n",
        "<br><br>\n",
        "- (ii.) What are these dimensions, and in what order are they in this variable's structure?\n",
        "\n",
        "        Ans. The dimensions in order are (time, depth, lat, lon)\n",
        "<br><br>\n",
        "- (iii.) Access just the temperature data for the first and only time, and the first depth (aka, the vertical level of 5 m below the surface), but all latitudes and longitudes and save it to a new variable called 'temperature'.  \n",
        "   - Do this using NumPy array indexing!  \n",
        "   - Later, we'll use special functionality for indexing in Xarray that will allow us to no longer need to keep track of dimension order :)\n",
        "<br><br>\n",
        "\n",
        "**NOTES**\n",
        "- Keep in mind: if a dimension is of length ONE, that would technically not count towards your total # of dimensions. BUT, when you index this variable in (iii.), you'll use '0' to access the one and only value of this 'dimension of length 1', since it is still part of the temperature data structure"
      ]
    },
    {
      "cell_type": "code",
      "execution_count": 14,
      "id": "r6wgYewGtD0s",
      "metadata": {
        "colab": {
          "base_uri": "https://localhost:8080/",
          "height": 420
        },
        "id": "r6wgYewGtD0s",
        "outputId": "8df090dc-b7de-4c4c-ac31-a0981503c512"
      },
      "outputs": [
        {
          "data": {
            "text/html": [
              "<div><svg style=\"position: absolute; width: 0; height: 0; overflow: hidden\">\n",
              "<defs>\n",
              "<symbol id=\"icon-database\" viewBox=\"0 0 32 32\">\n",
              "<path d=\"M16 0c-8.837 0-16 2.239-16 5v4c0 2.761 7.163 5 16 5s16-2.239 16-5v-4c0-2.761-7.163-5-16-5z\"></path>\n",
              "<path d=\"M16 17c-8.837 0-16-2.239-16-5v6c0 2.761 7.163 5 16 5s16-2.239 16-5v-6c0 2.761-7.163 5-16 5z\"></path>\n",
              "<path d=\"M16 26c-8.837 0-16-2.239-16-5v6c0 2.761 7.163 5 16 5s16-2.239 16-5v-6c0 2.761-7.163 5-16 5z\"></path>\n",
              "</symbol>\n",
              "<symbol id=\"icon-file-text2\" viewBox=\"0 0 32 32\">\n",
              "<path d=\"M28.681 7.159c-0.694-0.947-1.662-2.053-2.724-3.116s-2.169-2.030-3.116-2.724c-1.612-1.182-2.393-1.319-2.841-1.319h-15.5c-1.378 0-2.5 1.121-2.5 2.5v27c0 1.378 1.122 2.5 2.5 2.5h23c1.378 0 2.5-1.122 2.5-2.5v-19.5c0-0.448-0.137-1.23-1.319-2.841zM24.543 5.457c0.959 0.959 1.712 1.825 2.268 2.543h-4.811v-4.811c0.718 0.556 1.584 1.309 2.543 2.268zM28 29.5c0 0.271-0.229 0.5-0.5 0.5h-23c-0.271 0-0.5-0.229-0.5-0.5v-27c0-0.271 0.229-0.5 0.5-0.5 0 0 15.499-0 15.5 0v7c0 0.552 0.448 1 1 1h7v19.5z\"></path>\n",
              "<path d=\"M23 26h-14c-0.552 0-1-0.448-1-1s0.448-1 1-1h14c0.552 0 1 0.448 1 1s-0.448 1-1 1z\"></path>\n",
              "<path d=\"M23 22h-14c-0.552 0-1-0.448-1-1s0.448-1 1-1h14c0.552 0 1 0.448 1 1s-0.448 1-1 1z\"></path>\n",
              "<path d=\"M23 18h-14c-0.552 0-1-0.448-1-1s0.448-1 1-1h14c0.552 0 1 0.448 1 1s-0.448 1-1 1z\"></path>\n",
              "</symbol>\n",
              "</defs>\n",
              "</svg>\n",
              "<style>/* CSS stylesheet for displaying xarray objects in jupyterlab.\n",
              " *\n",
              " */\n",
              "\n",
              ":root {\n",
              "  --xr-font-color0: var(--jp-content-font-color0, rgba(0, 0, 0, 1));\n",
              "  --xr-font-color2: var(--jp-content-font-color2, rgba(0, 0, 0, 0.54));\n",
              "  --xr-font-color3: var(--jp-content-font-color3, rgba(0, 0, 0, 0.38));\n",
              "  --xr-border-color: var(--jp-border-color2, #e0e0e0);\n",
              "  --xr-disabled-color: var(--jp-layout-color3, #bdbdbd);\n",
              "  --xr-background-color: var(--jp-layout-color0, white);\n",
              "  --xr-background-color-row-even: var(--jp-layout-color1, white);\n",
              "  --xr-background-color-row-odd: var(--jp-layout-color2, #eeeeee);\n",
              "}\n",
              "\n",
              "html[theme=dark],\n",
              "body.vscode-dark {\n",
              "  --xr-font-color0: rgba(255, 255, 255, 1);\n",
              "  --xr-font-color2: rgba(255, 255, 255, 0.54);\n",
              "  --xr-font-color3: rgba(255, 255, 255, 0.38);\n",
              "  --xr-border-color: #1F1F1F;\n",
              "  --xr-disabled-color: #515151;\n",
              "  --xr-background-color: #111111;\n",
              "  --xr-background-color-row-even: #111111;\n",
              "  --xr-background-color-row-odd: #313131;\n",
              "}\n",
              "\n",
              ".xr-wrap {\n",
              "  display: block;\n",
              "  min-width: 300px;\n",
              "  max-width: 700px;\n",
              "}\n",
              "\n",
              ".xr-text-repr-fallback {\n",
              "  /* fallback to plain text repr when CSS is not injected (untrusted notebook) */\n",
              "  display: none;\n",
              "}\n",
              "\n",
              ".xr-header {\n",
              "  padding-top: 6px;\n",
              "  padding-bottom: 6px;\n",
              "  margin-bottom: 4px;\n",
              "  border-bottom: solid 1px var(--xr-border-color);\n",
              "}\n",
              "\n",
              ".xr-header > div,\n",
              ".xr-header > ul {\n",
              "  display: inline;\n",
              "  margin-top: 0;\n",
              "  margin-bottom: 0;\n",
              "}\n",
              "\n",
              ".xr-obj-type,\n",
              ".xr-array-name {\n",
              "  margin-left: 2px;\n",
              "  margin-right: 10px;\n",
              "}\n",
              "\n",
              ".xr-obj-type {\n",
              "  color: var(--xr-font-color2);\n",
              "}\n",
              "\n",
              ".xr-sections {\n",
              "  padding-left: 0 !important;\n",
              "  display: grid;\n",
              "  grid-template-columns: 150px auto auto 1fr 20px 20px;\n",
              "}\n",
              "\n",
              ".xr-section-item {\n",
              "  display: contents;\n",
              "}\n",
              "\n",
              ".xr-section-item input {\n",
              "  display: none;\n",
              "}\n",
              "\n",
              ".xr-section-item input + label {\n",
              "  color: var(--xr-disabled-color);\n",
              "}\n",
              "\n",
              ".xr-section-item input:enabled + label {\n",
              "  cursor: pointer;\n",
              "  color: var(--xr-font-color2);\n",
              "}\n",
              "\n",
              ".xr-section-item input:enabled + label:hover {\n",
              "  color: var(--xr-font-color0);\n",
              "}\n",
              "\n",
              ".xr-section-summary {\n",
              "  grid-column: 1;\n",
              "  color: var(--xr-font-color2);\n",
              "  font-weight: 500;\n",
              "}\n",
              "\n",
              ".xr-section-summary > span {\n",
              "  display: inline-block;\n",
              "  padding-left: 0.5em;\n",
              "}\n",
              "\n",
              ".xr-section-summary-in:disabled + label {\n",
              "  color: var(--xr-font-color2);\n",
              "}\n",
              "\n",
              ".xr-section-summary-in + label:before {\n",
              "  display: inline-block;\n",
              "  content: '►';\n",
              "  font-size: 11px;\n",
              "  width: 15px;\n",
              "  text-align: center;\n",
              "}\n",
              "\n",
              ".xr-section-summary-in:disabled + label:before {\n",
              "  color: var(--xr-disabled-color);\n",
              "}\n",
              "\n",
              ".xr-section-summary-in:checked + label:before {\n",
              "  content: '▼';\n",
              "}\n",
              "\n",
              ".xr-section-summary-in:checked + label > span {\n",
              "  display: none;\n",
              "}\n",
              "\n",
              ".xr-section-summary,\n",
              ".xr-section-inline-details {\n",
              "  padding-top: 4px;\n",
              "  padding-bottom: 4px;\n",
              "}\n",
              "\n",
              ".xr-section-inline-details {\n",
              "  grid-column: 2 / -1;\n",
              "}\n",
              "\n",
              ".xr-section-details {\n",
              "  display: none;\n",
              "  grid-column: 1 / -1;\n",
              "  margin-bottom: 5px;\n",
              "}\n",
              "\n",
              ".xr-section-summary-in:checked ~ .xr-section-details {\n",
              "  display: contents;\n",
              "}\n",
              "\n",
              ".xr-array-wrap {\n",
              "  grid-column: 1 / -1;\n",
              "  display: grid;\n",
              "  grid-template-columns: 20px auto;\n",
              "}\n",
              "\n",
              ".xr-array-wrap > label {\n",
              "  grid-column: 1;\n",
              "  vertical-align: top;\n",
              "}\n",
              "\n",
              ".xr-preview {\n",
              "  color: var(--xr-font-color3);\n",
              "}\n",
              "\n",
              ".xr-array-preview,\n",
              ".xr-array-data {\n",
              "  padding: 0 5px !important;\n",
              "  grid-column: 2;\n",
              "}\n",
              "\n",
              ".xr-array-data,\n",
              ".xr-array-in:checked ~ .xr-array-preview {\n",
              "  display: none;\n",
              "}\n",
              "\n",
              ".xr-array-in:checked ~ .xr-array-data,\n",
              ".xr-array-preview {\n",
              "  display: inline-block;\n",
              "}\n",
              "\n",
              ".xr-dim-list {\n",
              "  display: inline-block !important;\n",
              "  list-style: none;\n",
              "  padding: 0 !important;\n",
              "  margin: 0;\n",
              "}\n",
              "\n",
              ".xr-dim-list li {\n",
              "  display: inline-block;\n",
              "  padding: 0;\n",
              "  margin: 0;\n",
              "}\n",
              "\n",
              ".xr-dim-list:before {\n",
              "  content: '(';\n",
              "}\n",
              "\n",
              ".xr-dim-list:after {\n",
              "  content: ')';\n",
              "}\n",
              "\n",
              ".xr-dim-list li:not(:last-child):after {\n",
              "  content: ',';\n",
              "  padding-right: 5px;\n",
              "}\n",
              "\n",
              ".xr-has-index {\n",
              "  font-weight: bold;\n",
              "}\n",
              "\n",
              ".xr-var-list,\n",
              ".xr-var-item {\n",
              "  display: contents;\n",
              "}\n",
              "\n",
              ".xr-var-item > div,\n",
              ".xr-var-item label,\n",
              ".xr-var-item > .xr-var-name span {\n",
              "  background-color: var(--xr-background-color-row-even);\n",
              "  margin-bottom: 0;\n",
              "}\n",
              "\n",
              ".xr-var-item > .xr-var-name:hover span {\n",
              "  padding-right: 5px;\n",
              "}\n",
              "\n",
              ".xr-var-list > li:nth-child(odd) > div,\n",
              ".xr-var-list > li:nth-child(odd) > label,\n",
              ".xr-var-list > li:nth-child(odd) > .xr-var-name span {\n",
              "  background-color: var(--xr-background-color-row-odd);\n",
              "}\n",
              "\n",
              ".xr-var-name {\n",
              "  grid-column: 1;\n",
              "}\n",
              "\n",
              ".xr-var-dims {\n",
              "  grid-column: 2;\n",
              "}\n",
              "\n",
              ".xr-var-dtype {\n",
              "  grid-column: 3;\n",
              "  text-align: right;\n",
              "  color: var(--xr-font-color2);\n",
              "}\n",
              "\n",
              ".xr-var-preview {\n",
              "  grid-column: 4;\n",
              "}\n",
              "\n",
              ".xr-var-name,\n",
              ".xr-var-dims,\n",
              ".xr-var-dtype,\n",
              ".xr-preview,\n",
              ".xr-attrs dt {\n",
              "  white-space: nowrap;\n",
              "  overflow: hidden;\n",
              "  text-overflow: ellipsis;\n",
              "  padding-right: 10px;\n",
              "}\n",
              "\n",
              ".xr-var-name:hover,\n",
              ".xr-var-dims:hover,\n",
              ".xr-var-dtype:hover,\n",
              ".xr-attrs dt:hover {\n",
              "  overflow: visible;\n",
              "  width: auto;\n",
              "  z-index: 1;\n",
              "}\n",
              "\n",
              ".xr-var-attrs,\n",
              ".xr-var-data {\n",
              "  display: none;\n",
              "  background-color: var(--xr-background-color) !important;\n",
              "  padding-bottom: 5px !important;\n",
              "}\n",
              "\n",
              ".xr-var-attrs-in:checked ~ .xr-var-attrs,\n",
              ".xr-var-data-in:checked ~ .xr-var-data {\n",
              "  display: block;\n",
              "}\n",
              "\n",
              ".xr-var-data > table {\n",
              "  float: right;\n",
              "}\n",
              "\n",
              ".xr-var-name span,\n",
              ".xr-var-data,\n",
              ".xr-attrs {\n",
              "  padding-left: 25px !important;\n",
              "}\n",
              "\n",
              ".xr-attrs,\n",
              ".xr-var-attrs,\n",
              ".xr-var-data {\n",
              "  grid-column: 1 / -1;\n",
              "}\n",
              "\n",
              "dl.xr-attrs {\n",
              "  padding: 0;\n",
              "  margin: 0;\n",
              "  display: grid;\n",
              "  grid-template-columns: 125px auto;\n",
              "}\n",
              "\n",
              ".xr-attrs dt,\n",
              ".xr-attrs dd {\n",
              "  padding: 0;\n",
              "  margin: 0;\n",
              "  float: left;\n",
              "  padding-right: 10px;\n",
              "  width: auto;\n",
              "}\n",
              "\n",
              ".xr-attrs dt {\n",
              "  font-weight: normal;\n",
              "  grid-column: 1;\n",
              "}\n",
              "\n",
              ".xr-attrs dt:hover span {\n",
              "  display: inline-block;\n",
              "  background: var(--xr-background-color);\n",
              "  padding-right: 10px;\n",
              "}\n",
              "\n",
              ".xr-attrs dd {\n",
              "  grid-column: 2;\n",
              "  white-space: pre-wrap;\n",
              "  word-break: break-all;\n",
              "}\n",
              "\n",
              ".xr-icon-database,\n",
              ".xr-icon-file-text2 {\n",
              "  display: inline-block;\n",
              "  vertical-align: middle;\n",
              "  width: 1em;\n",
              "  height: 1.5em !important;\n",
              "  stroke-width: 0;\n",
              "  stroke: currentColor;\n",
              "  fill: currentColor;\n",
              "}\n",
              "</style><pre class='xr-text-repr-fallback'>&lt;xarray.DataArray &#x27;temperature&#x27; (lat: 173, lon: 360)&gt;\n",
              "array([[      nan,       nan,       nan, ...,       nan,       nan,       nan],\n",
              "       [      nan,       nan,       nan, ...,       nan,       nan,       nan],\n",
              "       [      nan,       nan,       nan, ...,       nan,       nan,       nan],\n",
              "       ...,\n",
              "       [270.8986 , 270.8844 , 270.87384, ..., 270.89236, 270.89273, 270.89426],\n",
              "       [271.1029 , 271.10422, 271.10413, ..., 271.1012 , 271.10117, 271.10156],\n",
              "       [271.27527, 271.2756 , 271.27515, ..., 271.27475, 271.27448, 271.27466]],\n",
              "      dtype=float32)\n",
              "Coordinates:\n",
              "    depth    float32 5.022\n",
              "  * lat      (lat) float32 -83.0 -82.0 -81.0 -80.0 -79.0 ... 86.0 87.0 88.0 89.0\n",
              "  * lon      (lon) float32 1.0 2.0 3.0 4.0 5.0 ... 356.0 357.0 358.0 359.0 360.0\n",
              "    time     datetime64[ns] 2020-01-16T12:00:00\n",
              "Attributes:\n",
              "    long_name:      temperature\n",
              "    standard_name:  sea_water_potential_temperature\n",
              "    units:          kelvin\n",
              "    valid_min:      -5.0\n",
              "    valid_max:      45.0</pre><div class='xr-wrap' hidden><div class='xr-header'><div class='xr-obj-type'>xarray.DataArray</div><div class='xr-array-name'>'temperature'</div><ul class='xr-dim-list'><li><span class='xr-has-index'>lat</span>: 173</li><li><span class='xr-has-index'>lon</span>: 360</li></ul></div><ul class='xr-sections'><li class='xr-section-item'><div class='xr-array-wrap'><input id='section-aca1b5b0-5e18-4ed5-bd8b-653ab7c300c4' class='xr-array-in' type='checkbox' checked><label for='section-aca1b5b0-5e18-4ed5-bd8b-653ab7c300c4' title='Show/hide data repr'><svg class='icon xr-icon-database'><use xlink:href='#icon-database'></use></svg></label><div class='xr-array-preview xr-preview'><span>nan nan nan nan nan nan nan ... 271.3 271.3 271.3 271.3 271.3 271.3</span></div><div class='xr-array-data'><pre>array([[      nan,       nan,       nan, ...,       nan,       nan,       nan],\n",
              "       [      nan,       nan,       nan, ...,       nan,       nan,       nan],\n",
              "       [      nan,       nan,       nan, ...,       nan,       nan,       nan],\n",
              "       ...,\n",
              "       [270.8986 , 270.8844 , 270.87384, ..., 270.89236, 270.89273, 270.89426],\n",
              "       [271.1029 , 271.10422, 271.10413, ..., 271.1012 , 271.10117, 271.10156],\n",
              "       [271.27527, 271.2756 , 271.27515, ..., 271.27475, 271.27448, 271.27466]],\n",
              "      dtype=float32)</pre></div></div></li><li class='xr-section-item'><input id='section-c2f7eb79-acfa-420d-8da8-23c2b9cd21ef' class='xr-section-summary-in' type='checkbox'  checked><label for='section-c2f7eb79-acfa-420d-8da8-23c2b9cd21ef' class='xr-section-summary' >Coordinates: <span>(4)</span></label><div class='xr-section-inline-details'></div><div class='xr-section-details'><ul class='xr-var-list'><li class='xr-var-item'><div class='xr-var-name'><span>depth</span></div><div class='xr-var-dims'>()</div><div class='xr-var-dtype'>float32</div><div class='xr-var-preview xr-preview'>5.022</div><input id='attrs-d71fa6a0-d647-4b3a-a817-38a3f52b8be8' class='xr-var-attrs-in' type='checkbox' ><label for='attrs-d71fa6a0-d647-4b3a-a817-38a3f52b8be8' title='Show/Hide attributes'><svg class='icon xr-icon-file-text2'><use xlink:href='#icon-file-text2'></use></svg></label><input id='data-5986b706-627d-47db-b062-2aed231adeb8' class='xr-var-data-in' type='checkbox'><label for='data-5986b706-627d-47db-b062-2aed231adeb8' title='Show/Hide data repr'><svg class='icon xr-icon-database'><use xlink:href='#icon-database'></use></svg></label><div class='xr-var-attrs'><dl class='xr-attrs'><dt><span>long_name :</span></dt><dd>depth</dd><dt><span>units :</span></dt><dd>metres</dd><dt><span>positive :</span></dt><dd>down</dd><dt><span>standard_name :</span></dt><dd>depth</dd><dt><span>bounds :</span></dt><dd>depth_bnds</dd></dl></div><div class='xr-var-data'><pre>array(5.0215898, dtype=float32)</pre></div></li><li class='xr-var-item'><div class='xr-var-name'><span class='xr-has-index'>lat</span></div><div class='xr-var-dims'>(lat)</div><div class='xr-var-dtype'>float32</div><div class='xr-var-preview xr-preview'>-83.0 -82.0 -81.0 ... 88.0 89.0</div><input id='attrs-3df569bf-b20f-49aa-976e-4df8ee956abd' class='xr-var-attrs-in' type='checkbox' ><label for='attrs-3df569bf-b20f-49aa-976e-4df8ee956abd' title='Show/Hide attributes'><svg class='icon xr-icon-file-text2'><use xlink:href='#icon-file-text2'></use></svg></label><input id='data-78259313-fe45-42bc-8c43-550d563f8e6e' class='xr-var-data-in' type='checkbox'><label for='data-78259313-fe45-42bc-8c43-550d563f8e6e' title='Show/Hide data repr'><svg class='icon xr-icon-database'><use xlink:href='#icon-database'></use></svg></label><div class='xr-var-attrs'><dl class='xr-attrs'><dt><span>long_name :</span></dt><dd>latitude</dd><dt><span>units :</span></dt><dd>degrees_north</dd><dt><span>standard_name :</span></dt><dd>latitude</dd></dl></div><div class='xr-var-data'><pre>array([-83., -82., -81., -80., -79., -78., -77., -76., -75., -74., -73., -72.,\n",
              "       -71., -70., -69., -68., -67., -66., -65., -64., -63., -62., -61., -60.,\n",
              "       -59., -58., -57., -56., -55., -54., -53., -52., -51., -50., -49., -48.,\n",
              "       -47., -46., -45., -44., -43., -42., -41., -40., -39., -38., -37., -36.,\n",
              "       -35., -34., -33., -32., -31., -30., -29., -28., -27., -26., -25., -24.,\n",
              "       -23., -22., -21., -20., -19., -18., -17., -16., -15., -14., -13., -12.,\n",
              "       -11., -10.,  -9.,  -8.,  -7.,  -6.,  -5.,  -4.,  -3.,  -2.,  -1.,   0.,\n",
              "         1.,   2.,   3.,   4.,   5.,   6.,   7.,   8.,   9.,  10.,  11.,  12.,\n",
              "        13.,  14.,  15.,  16.,  17.,  18.,  19.,  20.,  21.,  22.,  23.,  24.,\n",
              "        25.,  26.,  27.,  28.,  29.,  30.,  31.,  32.,  33.,  34.,  35.,  36.,\n",
              "        37.,  38.,  39.,  40.,  41.,  42.,  43.,  44.,  45.,  46.,  47.,  48.,\n",
              "        49.,  50.,  51.,  52.,  53.,  54.,  55.,  56.,  57.,  58.,  59.,  60.,\n",
              "        61.,  62.,  63.,  64.,  65.,  66.,  67.,  68.,  69.,  70.,  71.,  72.,\n",
              "        73.,  74.,  75.,  76.,  77.,  78.,  79.,  80.,  81.,  82.,  83.,  84.,\n",
              "        85.,  86.,  87.,  88.,  89.], dtype=float32)</pre></div></li><li class='xr-var-item'><div class='xr-var-name'><span class='xr-has-index'>lon</span></div><div class='xr-var-dims'>(lon)</div><div class='xr-var-dtype'>float32</div><div class='xr-var-preview xr-preview'>1.0 2.0 3.0 ... 358.0 359.0 360.0</div><input id='attrs-bab63f06-3f7b-4634-8f88-0551cdbc7de7' class='xr-var-attrs-in' type='checkbox' ><label for='attrs-bab63f06-3f7b-4634-8f88-0551cdbc7de7' title='Show/Hide attributes'><svg class='icon xr-icon-file-text2'><use xlink:href='#icon-file-text2'></use></svg></label><input id='data-5a4958b4-891d-4c93-b890-1de79353c7f4' class='xr-var-data-in' type='checkbox'><label for='data-5a4958b4-891d-4c93-b890-1de79353c7f4' title='Show/Hide data repr'><svg class='icon xr-icon-database'><use xlink:href='#icon-database'></use></svg></label><div class='xr-var-attrs'><dl class='xr-attrs'><dt><span>long_name :</span></dt><dd>longitude</dd><dt><span>units :</span></dt><dd>degrees_east</dd><dt><span>standard_name :</span></dt><dd>longitude</dd></dl></div><div class='xr-var-data'><pre>array([  1.,   2.,   3., ..., 358., 359., 360.], dtype=float32)</pre></div></li><li class='xr-var-item'><div class='xr-var-name'><span>time</span></div><div class='xr-var-dims'>()</div><div class='xr-var-dtype'>datetime64[ns]</div><div class='xr-var-preview xr-preview'>2020-01-16T12:00:00</div><input id='attrs-6cfa23eb-62ee-4bed-8f72-02b3287170f9' class='xr-var-attrs-in' type='checkbox' ><label for='attrs-6cfa23eb-62ee-4bed-8f72-02b3287170f9' title='Show/Hide attributes'><svg class='icon xr-icon-file-text2'><use xlink:href='#icon-file-text2'></use></svg></label><input id='data-c386fd29-8f6b-4a4c-8d20-ed4cde8431e7' class='xr-var-data-in' type='checkbox'><label for='data-c386fd29-8f6b-4a4c-8d20-ed4cde8431e7' title='Show/Hide data repr'><svg class='icon xr-icon-database'><use xlink:href='#icon-database'></use></svg></label><div class='xr-var-attrs'><dl class='xr-attrs'><dt><span>standard_name :</span></dt><dd>time</dd><dt><span>bounds :</span></dt><dd>time_bnds</dd></dl></div><div class='xr-var-data'><pre>array(&#x27;2020-01-16T12:00:00.000000000&#x27;, dtype=&#x27;datetime64[ns]&#x27;)</pre></div></li></ul></div></li><li class='xr-section-item'><input id='section-0d9c35be-78bb-479a-bc6c-995be54399b2' class='xr-section-summary-in' type='checkbox'  checked><label for='section-0d9c35be-78bb-479a-bc6c-995be54399b2' class='xr-section-summary' >Attributes: <span>(5)</span></label><div class='xr-section-inline-details'></div><div class='xr-section-details'><dl class='xr-attrs'><dt><span>long_name :</span></dt><dd>temperature</dd><dt><span>standard_name :</span></dt><dd>sea_water_potential_temperature</dd><dt><span>units :</span></dt><dd>kelvin</dd><dt><span>valid_min :</span></dt><dd>-5.0</dd><dt><span>valid_max :</span></dt><dd>45.0</dd></dl></div></li></ul></div></div>"
            ],
            "text/plain": [
              "<xarray.DataArray 'temperature' (lat: 173, lon: 360)>\n",
              "array([[      nan,       nan,       nan, ...,       nan,       nan,       nan],\n",
              "       [      nan,       nan,       nan, ...,       nan,       nan,       nan],\n",
              "       [      nan,       nan,       nan, ...,       nan,       nan,       nan],\n",
              "       ...,\n",
              "       [270.8986 , 270.8844 , 270.87384, ..., 270.89236, 270.89273, 270.89426],\n",
              "       [271.1029 , 271.10422, 271.10413, ..., 271.1012 , 271.10117, 271.10156],\n",
              "       [271.27527, 271.2756 , 271.27515, ..., 271.27475, 271.27448, 271.27466]],\n",
              "      dtype=float32)\n",
              "Coordinates:\n",
              "    depth    float32 5.022\n",
              "  * lat      (lat) float32 -83.0 -82.0 -81.0 -80.0 -79.0 ... 86.0 87.0 88.0 89.0\n",
              "  * lon      (lon) float32 1.0 2.0 3.0 4.0 5.0 ... 356.0 357.0 358.0 359.0 360.0\n",
              "    time     datetime64[ns] 2020-01-16T12:00:00\n",
              "Attributes:\n",
              "    long_name:      temperature\n",
              "    standard_name:  sea_water_potential_temperature\n",
              "    units:          kelvin\n",
              "    valid_min:      -5.0\n",
              "    valid_max:      45.0"
            ]
          },
          "execution_count": 14,
          "metadata": {},
          "output_type": "execute_result"
        }
      ],
      "source": [
        "data['temperature'][0][0]"
      ]
    },
    {
      "cell_type": "code",
      "execution_count": 15,
      "id": "15bcf4a4",
      "metadata": {
        "colab": {
          "base_uri": "https://localhost:8080/"
        },
        "id": "15bcf4a4",
        "outputId": "14ccb1fd-65c7-4059-a296-44d19cde2693"
      },
      "outputs": [
        {
          "name": "stdout",
          "output_type": "stream",
          "text": [
            "(173, 360)\n"
          ]
        }
      ],
      "source": [
        "temperature = data['temperature'][0, 0, :, :]\n",
        "print(temperature.shape)"
      ]
    },
    {
      "cell_type": "markdown",
      "id": "63cb99b2",
      "metadata": {
        "id": "63cb99b2"
      },
      "source": [
        "#### (d.)  I create your contour plot of Jan 2020 average temperature at depth = 5 m on a map for you. \n",
        "#### YOUR TASK: CAREFULLY REVIEW EACH STEP OF THIS AND ASK IF ANYTHING IS UNCLEAR AS YOU'LL BE DOING SOMETHING VERY SIMILAR ON YOUR WEEK 5 ASSIGNMENT!  PLEASE ALSO CAREFULLY WATCH YOUR 2D PLOTTING, PART II LESSON, OR RE-WATCH. MAPPING IS IMPORTANT STUFF!"
      ]
    },
    {
      "cell_type": "code",
      "execution_count": 15,
      "id": "59788b5e",
      "metadata": {
        "colab": {
          "base_uri": "https://localhost:8080/",
          "height": 715
        },
        "id": "59788b5e",
        "outputId": "5510523b-f278-42f7-8253-10ebb7e3afc3"
      },
      "outputs": [
        {
          "name": "stderr",
          "output_type": "stream",
          "text": [
            "/usr/local/lib/python3.7/dist-packages/cartopy/crs.py:238: ShapelyDeprecationWarning: Setting custom attributes on geometry objects is deprecated, and will raise an AttributeError in Shapely 2.0\n",
            "  src_crs, self)\n",
            "/usr/local/lib/python3.7/dist-packages/cartopy/crs.py:245: ShapelyDeprecationWarning: __len__ for multi-part geometries is deprecated and will be removed in Shapely 2.0. Check the length of the `geoms` property instead to get the  number of parts of a multi-part geometry.\n",
            "  if len(multi_line_string) > 1:\n",
            "/usr/local/lib/python3.7/dist-packages/cartopy/crs.py:256: ShapelyDeprecationWarning: Iteration over multi-part geometries is deprecated and will be removed in Shapely 2.0. Use the `geoms` property to access the constituent parts of a multi-part geometry.\n",
            "  line_strings = list(multi_line_string)\n",
            "/usr/local/lib/python3.7/dist-packages/cartopy/crs.py:256: ShapelyDeprecationWarning: __len__ for multi-part geometries is deprecated and will be removed in Shapely 2.0. Check the length of the `geoms` property instead to get the  number of parts of a multi-part geometry.\n",
            "  line_strings = list(multi_line_string)\n",
            "/usr/local/lib/python3.7/dist-packages/cartopy/crs.py:297: ShapelyDeprecationWarning: Iteration over multi-part geometries is deprecated and will be removed in Shapely 2.0. Use the `geoms` property to access the constituent parts of a multi-part geometry.\n",
            "  for line in multi_line_string:\n",
            "/usr/local/lib/python3.7/dist-packages/cartopy/crs.py:364: ShapelyDeprecationWarning: __len__ for multi-part geometries is deprecated and will be removed in Shapely 2.0. Check the length of the `geoms` property instead to get the  number of parts of a multi-part geometry.\n",
            "  if len(p_mline) > 0:\n",
            "/usr/local/lib/python3.7/dist-packages/cartopy/crs.py:402: ShapelyDeprecationWarning: Iteration over multi-part geometries is deprecated and will be removed in Shapely 2.0. Use the `geoms` property to access the constituent parts of a multi-part geometry.\n",
            "  line_strings.extend(multi_line_string)\n",
            "/usr/local/lib/python3.7/dist-packages/cartopy/crs.py:402: ShapelyDeprecationWarning: __len__ for multi-part geometries is deprecated and will be removed in Shapely 2.0. Check the length of the `geoms` property instead to get the  number of parts of a multi-part geometry.\n",
            "  line_strings.extend(multi_line_string)\n"
          ]
        },
        {
          "data": {
            "text/plain": [
              "Text(0.5, 1.0, 'Ocean temperature at 5 m below the surface, Jan 2020')"
            ]
          },
          "execution_count": 15,
          "metadata": {},
          "output_type": "execute_result"
        },
        {
          "name": "stderr",
          "output_type": "stream",
          "text": [
            "/usr/local/lib/python3.7/dist-packages/cartopy/crs.py:224: ShapelyDeprecationWarning: Setting custom attributes on geometry objects is deprecated, and will raise an AttributeError in Shapely 2.0\n",
            "  return cartopy.trace.project_linear(geometry, src_crs, self)\n"
          ]
        },
        {
          "data": {
            "image/png": "[encoded data removed]",
            "text/plain": [
              "<Figure size 1080x1080 with 2 Axes>"
            ]
          },
          "metadata": {
            "needs_background": "light"
          },
          "output_type": "display_data"
        }
      ],
      "source": [
        "proj=ccrs.PlateCarree() # this is a very common projection, but not the only one!\n",
        "\n",
        "#Create a figure with an axes object on which we will plot. Pass the projection to that axes\n",
        "fig, ax = plt.subplots(figsize=(15,15),subplot_kw=dict(projection=proj))\n",
        "\n",
        "# Grab our lat and lon coordinate variables from the Netcdf file\n",
        "lon = data['lon']\n",
        "lat = data['lat'] \n",
        "\n",
        "# Add cyclic point since there's a data gap in this data set at the Prime Meridian\n",
        "temperature2, lon2 = add_cyclic_point(temperature, coord=lon)\n",
        "# use a new variable for our now-modified temperature and longitude variables b/c if we don't and re-run just this cell\n",
        "# multiple times, you'll keep adding a longitude point (oops!)\n",
        "\n",
        "# Create our grid\n",
        "# contourf needs this so it understands the grid it is plotting on\n",
        "X, Y = np.meshgrid(lon2, lat) # using our slightly modified longitude\n",
        "\n",
        "# Create our contour plot!\n",
        "cs = ax.contourf(X,Y,temperature2,transform=proj) # good practice to also specify the transform, as otherwise\n",
        "                                                  # Cartopy assumes your transform is whatever your projection is\n",
        "                                                  # this may not always be true\n",
        "                                                  # more on this later\n",
        "\n",
        "# Create our colorbar\n",
        "cb=fig.colorbar(cs,shrink=0.4) # shrink option does what it sounds like to the colorbar!\n",
        "cb.set_label(\"Temperature (K)\") # set the colorbar label\n",
        "# The temperature is in Kelvin\n",
        "\n",
        "# Some options involving the gridlines\n",
        "gl = ax.gridlines(draw_labels=True)\n",
        "gl.top_labels = False\n",
        "gl.right_labels = False\n",
        "\n",
        "# Add coastlines!\n",
        "ax.coastlines()\n",
        "\n",
        "# Add a title!\n",
        "ax.set_title('Ocean temperature at 5 m below the surface, Jan 2020')"
      ]
    },
    {
      "cell_type": "code",
      "execution_count": null,
      "id": "3idH4lXftvOC",
      "metadata": {
        "id": "3idH4lXftvOC"
      },
      "outputs": [],
      "source": []
    }
  ],
  "metadata": {
    "accelerator": "GPU",
    "colab": {
      "collapsed_sections": [],
      "name": "Week 5 In Module Exercises Students.ipynb",
      "provenance": []
    },
    "kernelspec": {
      "display_name": "Python 3",
      "language": "python",
      "name": "python3"
    },
    "language_info": {
      "codemirror_mode": {
        "name": "ipython",
        "version": 3
      },
      "file_extension": ".py",
      "mimetype": "text/x-python",
      "name": "python",
      "nbconvert_exporter": "python",
      "pygments_lexer": "ipython3",
      "version": "3.7.10"
    }
  },
  "nbformat": 4,
  "nbformat_minor": 5
}
