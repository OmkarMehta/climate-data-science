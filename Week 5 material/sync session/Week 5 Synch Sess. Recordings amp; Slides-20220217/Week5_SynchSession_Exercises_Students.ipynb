{
 "cells": [
  {
   "cell_type": "code",
   "execution_count": 1,
   "id": "desperate-virtue",
   "metadata": {},
   "outputs": [],
   "source": [
    "import numpy as np\n",
    "from matplotlib import pyplot as plt"
   ]
  },
  {
   "cell_type": "code",
   "execution_count": 2,
   "id": "55d965f8",
   "metadata": {},
   "outputs": [],
   "source": [
    "# Read in the data from the text file\n",
    "# Into a NumPy array called 'temperature'\n",
    "temperature = np.genfromtxt('nhb_temperature_obs.txt')"
   ]
  },
  {
   "cell_type": "code",
   "execution_count": 3,
   "id": "sunrise-simpson",
   "metadata": {},
   "outputs": [],
   "source": [
    "# Create a 1D NumPy array consisting of the values 1, 2, 3, 4 \n",
    "a = np.arange(1, 5)\n"
   ]
  },
  {
   "cell_type": "code",
   "execution_count": 6,
   "id": "color-accent",
   "metadata": {},
   "outputs": [
    {
     "name": "stdout",
     "output_type": "stream",
     "text": [
      "The heights are [1 2 3 4]\n",
      "The temperature variables are 11am and 3 pm\n"
     ]
    }
   ],
   "source": [
    "# Print out each the heights and the temperature variables\n",
    "print(f\"The heights are {a}\")\n",
    "print(f\"The temperature variables are 11am and 3 pm\")\n",
    "eleven_am = temperature[:, 0]\n",
    "three_pm = temperature[:, 1]\n"
   ]
  },
  {
   "cell_type": "code",
   "execution_count": 7,
   "id": "charitable-clock",
   "metadata": {},
   "outputs": [
    {
     "name": "stdout",
     "output_type": "stream",
     "text": [
      "The shape of eleven_am is (4,)\n",
      "The shape of three_pm is (4,)\n"
     ]
    }
   ],
   "source": [
    "# What is the shape/dimensions of the temperature variable?\n",
    "print(f\"The shape of eleven_am is {eleven_am.shape}\")\n",
    "print(f\"The shape of three_pm is {three_pm.shape}\")\n",
    "\n",
    "\n"
   ]
  },
  {
   "cell_type": "code",
   "execution_count": 8,
   "id": "critical-tribe",
   "metadata": {},
   "outputs": [
    {
     "name": "stdout",
     "output_type": "stream",
     "text": [
      "The average temperature at each height is [92.5 87.5 85.5 81. ]\n"
     ]
    }
   ],
   "source": [
    "# Evaluate the temperature averaged over time, at each height\n",
    "avg_temp = (eleven_am + three_pm) / 2\n",
    "print(f\"The average temperature at each height is {avg_temp}\")\n",
    "\n",
    "\n"
   ]
  },
  {
   "cell_type": "code",
   "execution_count": 11,
   "id": "confused-document",
   "metadata": {},
   "outputs": [
    {
     "name": "stdout",
     "output_type": "stream",
     "text": [
      "The average temperature at each time is [85.5  87.75]\n"
     ]
    }
   ],
   "source": [
    "#Evaluate the temperature averaged over all heights, at each time.\n",
    "avg_temp_all = np.mean(temperature, axis=0)\n",
    "print(f\"The average temperature at each time is {avg_temp_all}\")\n"
   ]
  },
  {
   "cell_type": "code",
   "execution_count": null,
   "id": "0a553973",
   "metadata": {},
   "outputs": [],
   "source": [
    "# By how much did the temperature change per hour at each height (i.e., at each vertical level?) \n",
    "# Remember: Time 1 is 11 AM, and Time 2 is 3 PM\n",
    "print(f\"The temperature change per hour at each height is {(eleven_am - three_pm)/4}\")\n",
    "\n",
    "# At which vertical level did the temperature change the most between 11 AM and 3 PM?\n",
    "\n",
    "\n",
    "\n"
   ]
  },
  {
   "cell_type": "code",
   "execution_count": null,
   "id": "pediatric-rover",
   "metadata": {},
   "outputs": [],
   "source": [
    "# Plot the temperature profile, at each time on the same plot\n",
    "# y-axis being vertical level\n",
    "# x-axis being temperature\n",
    "\n",
    "\n",
    "\n",
    "\n",
    "\n",
    "\n",
    "\n",
    "\n",
    "\n",
    "\n",
    "\n",
    "\n",
    "\n"
   ]
  },
  {
   "cell_type": "markdown",
   "id": "d63b1d1c",
   "metadata": {},
   "source": [
    "## DONE WITH THESE EXERCISES WITH TIME REMAINING?\n",
    "- work on Week 4 Assignment and/or help your peers with their Qs!\n",
    "- review solutions to Week 3 Assignment, Week 4 In-Module Exercises\n",
    "- start looking at Week 5!"
   ]
  },
  {
   "cell_type": "code",
   "execution_count": 1,
   "id": "668ae55e",
   "metadata": {},
   "outputs": [],
   "source": [
    "import numpy as np"
   ]
  },
  {
   "cell_type": "code",
   "execution_count": 2,
   "id": "402ff9c0",
   "metadata": {},
   "outputs": [
    {
     "name": "stdout",
     "output_type": "stream",
     "text": [
      "[1 2 3 4 5]\n"
     ]
    }
   ],
   "source": [
    "numbers =  np.arange(1,6,1)\n",
    "print(numbers)"
   ]
  },
  {
   "cell_type": "code",
   "execution_count": 3,
   "id": "7e499dd5",
   "metadata": {},
   "outputs": [],
   "source": [
    "def func_ex(vals):  \n",
    "\n",
    "    total = 1\n",
    "\n",
    "    for x in vals:\n",
    "\n",
    "        total=total*x\n",
    "\n",
    "    return total  "
   ]
  },
  {
   "cell_type": "code",
   "execution_count": 4,
   "id": "05b5a3db",
   "metadata": {},
   "outputs": [
    {
     "data": {
      "text/plain": [
       "120"
      ]
     },
     "execution_count": 4,
     "metadata": {},
     "output_type": "execute_result"
    }
   ],
   "source": [
    "func_ex(numbers)"
   ]
  },
  {
   "cell_type": "code",
   "execution_count": 5,
   "id": "2697b65d",
   "metadata": {},
   "outputs": [
    {
     "name": "stdout",
     "output_type": "stream",
     "text": [
      "[[ 6 12  4]\n",
      " [ 7  5  6]]\n"
     ]
    }
   ],
   "source": [
    "g = np.array([[6, 12, 4], [7, 5, 6]])\n",
    "print(g)"
   ]
  },
  {
   "cell_type": "code",
   "execution_count": 6,
   "id": "7d180fde",
   "metadata": {},
   "outputs": [
    {
     "name": "stdout",
     "output_type": "stream",
     "text": [
      "4\n"
     ]
    }
   ],
   "source": [
    "# minimum value in g\n",
    "print(np.min(g))"
   ]
  },
  {
   "cell_type": "code",
   "execution_count": 8,
   "id": "bd42c8bd",
   "metadata": {},
   "outputs": [
    {
     "name": "stdout",
     "output_type": "stream",
     "text": [
      "[6 5 4]\n"
     ]
    }
   ],
   "source": [
    "# minimum value in g, along axis 0\n",
    "print(np.min(g, axis=0))"
   ]
  },
  {
   "cell_type": "code",
   "execution_count": 9,
   "id": "b0ab4493",
   "metadata": {},
   "outputs": [
    {
     "name": "stdout",
     "output_type": "stream",
     "text": [
      "[4 5]\n"
     ]
    }
   ],
   "source": [
    "# minimum value in g, along axis 1\n",
    "print(np.min(g, axis=1))"
   ]
  },
  {
   "cell_type": "code",
   "execution_count": null,
   "id": "513e646f",
   "metadata": {},
   "outputs": [],
   "source": []
  }
 ],
 "metadata": {
  "kernelspec": {
   "display_name": "Python 3",
   "language": "python",
   "name": "python3"
  },
  "language_info": {
   "codemirror_mode": {
    "name": "ipython",
    "version": 3
   },
   "file_extension": ".py",
   "mimetype": "text/x-python",
   "name": "python",
   "nbconvert_exporter": "python",
   "pygments_lexer": "ipython3",
   "version": "3.8.11"
  }
 },
 "nbformat": 4,
 "nbformat_minor": 5
}
