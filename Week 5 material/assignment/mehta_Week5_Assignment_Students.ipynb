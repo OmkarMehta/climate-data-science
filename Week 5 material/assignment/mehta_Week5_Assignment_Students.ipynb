{
  "cells": [
    {
      "cell_type": "markdown",
      "source": [
        "# Install required libraries and [Contourf and cartopy issues resolved](https://linuxtut.com/en/8f0d69169dc6ab753e08/)\n"
      ],
      "metadata": {
        "id": "nsl7SE_FNFfg"
      },
      "id": "nsl7SE_FNFfg"
    },
    {
      "cell_type": "code",
      "source": [
        "!pip install xarray\n",
        "!pip install cartopy\n",
        "\n",
        "!grep '^deb ' /etc/apt/sources.list | \\\n",
        "  sed 's/^deb /deb-src /g' | \\\n",
        "  tee /etc/apt/sources.list.d/deb-src.list\n",
        "!apt-get -qq update\n",
        "\n",
        "!grep '^deb ' /etc/apt/sources.list | \\\n",
        "  sed 's/^deb /deb-src /g' | \\\n",
        "  tee /etc/apt/sources.list.d/deb-src.list\n",
        "!apt-get update\n",
        "\n",
        "!apt-get -qq build-dep python3-cartopy\n",
        "!apt-get -qq remove python-shapely python3-shapely\n",
        "\n",
        "!pip install --no-binary shapely shapely --force\n",
        "!pip install --no-binary cartopy cartopy==0.19.0\n",
        "\n",
        "!pip list | grep Shapely"
      ],
      "metadata": {
        "colab": {
          "base_uri": "https://localhost:8080/",
          "height": 1000
        },
        "id": "qjxIJDLzNOjW",
        "outputId": "8e7b5b52-2255-47da-ca94-23cd4bfae49a"
      },
      "id": "qjxIJDLzNOjW",
      "execution_count": 53,
      "outputs": [
        {
          "output_type": "stream",
          "name": "stdout",
          "text": [
            "Requirement already satisfied: xarray in /usr/local/lib/python3.7/dist-packages (0.18.2)\n",
            "Requirement already satisfied: pandas>=1.0 in /usr/local/lib/python3.7/dist-packages (from xarray) (1.3.5)\n",
            "Requirement already satisfied: setuptools>=40.4 in /usr/local/lib/python3.7/dist-packages (from xarray) (57.4.0)\n",
            "Requirement already satisfied: numpy>=1.17 in /usr/local/lib/python3.7/dist-packages (from xarray) (1.21.5)\n",
            "Requirement already satisfied: pytz>=2017.3 in /usr/local/lib/python3.7/dist-packages (from pandas>=1.0->xarray) (2018.9)\n",
            "Requirement already satisfied: python-dateutil>=2.7.3 in /usr/local/lib/python3.7/dist-packages (from pandas>=1.0->xarray) (2.8.2)\n",
            "Requirement already satisfied: six>=1.5 in /usr/local/lib/python3.7/dist-packages (from python-dateutil>=2.7.3->pandas>=1.0->xarray) (1.15.0)\n",
            "Requirement already satisfied: cartopy in /usr/local/lib/python3.7/dist-packages (0.17.0)\n",
            "Requirement already satisfied: setuptools>=0.7.2 in /usr/local/lib/python3.7/dist-packages (from cartopy) (57.4.0)\n",
            "Requirement already satisfied: shapely>=1.5.6 in /usr/local/lib/python3.7/dist-packages (from cartopy) (1.8.1.post1)\n",
            "Requirement already satisfied: six>=1.3.0 in /usr/local/lib/python3.7/dist-packages (from cartopy) (1.15.0)\n",
            "Requirement already satisfied: pyshp>=1.1.4 in /usr/local/lib/python3.7/dist-packages (from cartopy) (2.2.0)\n",
            "Requirement already satisfied: numpy>=1.10 in /usr/local/lib/python3.7/dist-packages (from cartopy) (1.21.5)\n",
            "deb-src http://archive.ubuntu.com/ubuntu/ bionic main restricted\n",
            "deb-src http://archive.ubuntu.com/ubuntu/ bionic-updates main restricted\n",
            "deb-src http://archive.ubuntu.com/ubuntu/ bionic universe\n",
            "deb-src http://archive.ubuntu.com/ubuntu/ bionic-updates universe\n",
            "deb-src http://archive.ubuntu.com/ubuntu/ bionic multiverse\n",
            "deb-src http://archive.ubuntu.com/ubuntu/ bionic-updates multiverse\n",
            "deb-src http://archive.ubuntu.com/ubuntu/ bionic-backports main restricted universe multiverse\n",
            "deb-src http://security.ubuntu.com/ubuntu/ bionic-security main restricted\n",
            "deb-src http://security.ubuntu.com/ubuntu/ bionic-security universe\n",
            "deb-src http://security.ubuntu.com/ubuntu/ bionic-security multiverse\n",
            "deb-src https://cloud.r-project.org/bin/linux/ubuntu bionic-cran40/\n",
            "deb-src http://archive.ubuntu.com/ubuntu/ bionic main restricted\n",
            "deb-src http://archive.ubuntu.com/ubuntu/ bionic-updates main restricted\n",
            "deb-src http://archive.ubuntu.com/ubuntu/ bionic universe\n",
            "deb-src http://archive.ubuntu.com/ubuntu/ bionic-updates universe\n",
            "deb-src http://archive.ubuntu.com/ubuntu/ bionic multiverse\n",
            "deb-src http://archive.ubuntu.com/ubuntu/ bionic-updates multiverse\n",
            "deb-src http://archive.ubuntu.com/ubuntu/ bionic-backports main restricted universe multiverse\n",
            "deb-src http://security.ubuntu.com/ubuntu/ bionic-security main restricted\n",
            "deb-src http://security.ubuntu.com/ubuntu/ bionic-security universe\n",
            "deb-src http://security.ubuntu.com/ubuntu/ bionic-security multiverse\n",
            "deb-src https://cloud.r-project.org/bin/linux/ubuntu bionic-cran40/\n",
            "Hit:1 http://ppa.launchpad.net/c2d4u.team/c2d4u4.0+/ubuntu bionic InRelease\n",
            "Hit:2 http://archive.ubuntu.com/ubuntu bionic InRelease\n",
            "Hit:3 http://archive.ubuntu.com/ubuntu bionic-updates InRelease\n",
            "Hit:4 https://cloud.r-project.org/bin/linux/ubuntu bionic-cran40/ InRelease\n",
            "Hit:5 http://ppa.launchpad.net/cran/libgit2/ubuntu bionic InRelease\n",
            "Hit:6 http://archive.ubuntu.com/ubuntu bionic-backports InRelease\n",
            "Hit:7 http://ppa.launchpad.net/deadsnakes/ppa/ubuntu bionic InRelease\n",
            "Hit:8 http://ppa.launchpad.net/graphics-drivers/ppa/ubuntu bionic InRelease\n",
            "Hit:9 http://security.ubuntu.com/ubuntu bionic-security InRelease\n",
            "Ign:10 https://developer.download.nvidia.com/compute/cuda/repos/ubuntu1804/x86_64  InRelease\n",
            "Ign:11 https://developer.download.nvidia.com/compute/machine-learning/repos/ubuntu1804/x86_64  InRelease\n",
            "Hit:12 https://developer.download.nvidia.com/compute/cuda/repos/ubuntu1804/x86_64  Release\n",
            "Hit:13 https://developer.download.nvidia.com/compute/machine-learning/repos/ubuntu1804/x86_64  Release\n",
            "Reading package lists... Done\n",
            "Selecting previously unselected package python-shapely.\n",
            "(Reading database ... 158112 files and directories currently installed.)\n",
            "Preparing to unpack .../python-shapely_1.6.4-1_amd64.deb ...\n",
            "Unpacking python-shapely (1.6.4-1) ...\n",
            "Selecting previously unselected package python3-shapely.\n",
            "Preparing to unpack .../python3-shapely_1.6.4-1_amd64.deb ...\n",
            "Unpacking python3-shapely (1.6.4-1) ...\n",
            "Setting up python-shapely (1.6.4-1) ...\n",
            "Setting up python3-shapely (1.6.4-1) ...\n",
            "(Reading database ... 158231 files and directories currently installed.)\n",
            "Removing python-shapely (1.6.4-1) ...\n",
            "Removing python3-shapely (1.6.4-1) ...\n",
            "Collecting shapely\n",
            "  Using cached Shapely-1.8.1.post1.tar.gz (198 kB)\n",
            "  Installing build dependencies ... \u001b[?25l\u001b[?25hdone\n",
            "  Getting requirements to build wheel ... \u001b[?25l\u001b[?25hdone\n",
            "    Preparing wheel metadata ... \u001b[?25l\u001b[?25hdone\n",
            "Building wheels for collected packages: shapely\n",
            "  Building wheel for shapely (PEP 517) ... \u001b[?25l\u001b[?25hdone\n",
            "  Created wheel for shapely: filename=Shapely-1.8.1.post1-cp37-cp37m-linux_x86_64.whl size=665651 sha256=7901d0016782fb6c13b13bef3c05f3ff3f7baf48a1014611e90c8e8d15ca7c69\n",
            "  Stored in directory: /root/.cache/pip/wheels/ea/8d/2f/ab748b8a432b3c6cd72e751b3bca17c5a9ed4538b1e78467e6\n",
            "Successfully built shapely\n",
            "Installing collected packages: shapely\n",
            "  Attempting uninstall: shapely\n",
            "    Found existing installation: Shapely 1.8.1.post1\n",
            "    Uninstalling Shapely-1.8.1.post1:\n",
            "      Successfully uninstalled Shapely-1.8.1.post1\n",
            "\u001b[31mERROR: pip's dependency resolver does not currently take into account all the packages that are installed. This behaviour is the source of the following dependency conflicts.\n",
            "albumentations 0.1.12 requires imgaug<0.2.7,>=0.2.5, but you have imgaug 0.2.9 which is incompatible.\u001b[0m\n",
            "Successfully installed shapely-1.8.1.post1\n"
          ]
        },
        {
          "output_type": "display_data",
          "data": {
            "application/vnd.colab-display-data+json": {
              "pip_warning": {
                "packages": [
                  "shapely"
                ]
              }
            }
          },
          "metadata": {}
        },
        {
          "output_type": "stream",
          "name": "stdout",
          "text": [
            "\u001b[31mERROR: Could not find a version that satisfies the requirement cartopy==0.19.0 (from versions: 0.11.0, 0.12.0.4, 0.12.0.5, 0.13.0, 0.13.1, 0.14.0, 0.14.2, 0.15.1, 0.16.0, 0.17.0, 0.18.0b1, 0.18.0b2, 0.18.0rc1, 0.18.0, 0.19.0rc1, 0.19.0.post1, 0.20.0, 0.20.1, 0.20.2)\u001b[0m\n",
            "\u001b[31mERROR: No matching distribution found for cartopy==0.19.0\u001b[0m\n",
            "Shapely                       1.8.1.post1\n"
          ]
        }
      ]
    },
    {
      "cell_type": "code",
      "source": [
        "import xarray as xr\n",
        "import matplotlib.pyplot as plt # function in matplotlib that produces quick and easy plots\n",
        "import cartopy.crs as ccrs # for projection\n",
        "import cartopy.feature as cfeature # for map features \n",
        "from cartopy.util import add_cyclic_point\n",
        "import numpy as np\n",
        "import cartopy\n",
        "import warnings \n",
        "warnings.filterwarnings('ignore')"
      ],
      "metadata": {
        "id": "6zl-uWwRcMr6"
      },
      "id": "6zl-uWwRcMr6",
      "execution_count": 54,
      "outputs": []
    },
    {
      "cell_type": "code",
      "source": [
        "cartopy.__version__\n",
        "!cat /etc/os-release"
      ],
      "metadata": {
        "colab": {
          "base_uri": "https://localhost:8080/"
        },
        "id": "kaxcVKNAcO3E",
        "outputId": "816ac181-c68e-4136-91a1-f87bf6d26d50"
      },
      "id": "kaxcVKNAcO3E",
      "execution_count": 55,
      "outputs": [
        {
          "output_type": "stream",
          "name": "stdout",
          "text": [
            "NAME=\"Ubuntu\"\n",
            "VERSION=\"18.04.5 LTS (Bionic Beaver)\"\n",
            "ID=ubuntu\n",
            "ID_LIKE=debian\n",
            "PRETTY_NAME=\"Ubuntu 18.04.5 LTS\"\n",
            "VERSION_ID=\"18.04\"\n",
            "HOME_URL=\"https://www.ubuntu.com/\"\n",
            "SUPPORT_URL=\"https://help.ubuntu.com/\"\n",
            "BUG_REPORT_URL=\"https://bugs.launchpad.net/ubuntu/\"\n",
            "PRIVACY_POLICY_URL=\"https://www.ubuntu.com/legal/terms-and-policies/privacy-policy\"\n",
            "VERSION_CODENAME=bionic\n",
            "UBUNTU_CODENAME=bionic\n"
          ]
        }
      ]
    },
    {
      "cell_type": "markdown",
      "id": "overhead-pearl",
      "metadata": {
        "id": "overhead-pearl"
      },
      "source": [
        "# Precipitation Analysis - Part II!\n",
        "- In this assignment, you'll use the same data as your last assignment\n",
        "<br><br>\n",
        "- First, you'll pick up right where you left off in the last assignment, and do some comparison operations using UIUC data (precipitation, over time, just at one location)\n",
        "<br><br>\n",
        "- Then, we'll switch gears\n",
        "<br><br>\n",
        "- To considering United-States-wide data instead of UIUC data....so now our data that has a spatial component, among others. So, now we're working with more dimensions than we were when just looking at precipitation for the UIUC gridpoint, yes?\n",
        "<br><br>\n",
        "- This will include doing additional logical/comparisons operations\n",
        "<br><br>\n",
        "- AND creating maps of the results of those operations!\n",
        "\n",
        "## First things first: copy and paste your cells from Week 4 Assignment to the start of this assignment, before this assignment's questions!"
      ]
    },
    {
      "cell_type": "code",
      "execution_count": 56,
      "id": "fe159149",
      "metadata": {
        "colab": {
          "base_uri": "https://localhost:8080/"
        },
        "id": "fe159149",
        "outputId": "2bccf3e2-fc53-439f-c297-2b195e5c6995"
      },
      "outputs": [
        {
          "output_type": "stream",
          "name": "stdout",
          "text": [
            "<xarray.DataArray 'lat' (lat: 120)>\n",
            "array([20.125, 20.375, 20.625, 20.875, 21.125, 21.375, 21.625, 21.875, 22.125,\n",
            "       22.375, 22.625, 22.875, 23.125, 23.375, 23.625, 23.875, 24.125, 24.375,\n",
            "       24.625, 24.875, 25.125, 25.375, 25.625, 25.875, 26.125, 26.375, 26.625,\n",
            "       26.875, 27.125, 27.375, 27.625, 27.875, 28.125, 28.375, 28.625, 28.875,\n",
            "       29.125, 29.375, 29.625, 29.875, 30.125, 30.375, 30.625, 30.875, 31.125,\n",
            "       31.375, 31.625, 31.875, 32.125, 32.375, 32.625, 32.875, 33.125, 33.375,\n",
            "       33.625, 33.875, 34.125, 34.375, 34.625, 34.875, 35.125, 35.375, 35.625,\n",
            "       35.875, 36.125, 36.375, 36.625, 36.875, 37.125, 37.375, 37.625, 37.875,\n",
            "       38.125, 38.375, 38.625, 38.875, 39.125, 39.375, 39.625, 39.875, 40.125,\n",
            "       40.375, 40.625, 40.875, 41.125, 41.375, 41.625, 41.875, 42.125, 42.375,\n",
            "       42.625, 42.875, 43.125, 43.375, 43.625, 43.875, 44.125, 44.375, 44.625,\n",
            "       44.875, 45.125, 45.375, 45.625, 45.875, 46.125, 46.375, 46.625, 46.875,\n",
            "       47.125, 47.375, 47.625, 47.875, 48.125, 48.375, 48.625, 48.875, 49.125,\n",
            "       49.375, 49.625, 49.875], dtype=float32)\n",
            "Coordinates:\n",
            "  * lat      (lat) float32 20.12 20.38 20.62 20.88 ... 49.12 49.38 49.62 49.88\n",
            "Attributes:\n",
            "    units:          degrees_north\n",
            "    long_name:      Latitude\n",
            "    actual_range:   [20.125 49.875]\n",
            "    standard_name:  latitude\n",
            "    axis:           Y\n",
            "<xarray.DataArray 'lon' (lon: 300)>\n",
            "array([230.125, 230.375, 230.625, ..., 304.375, 304.625, 304.875],\n",
            "      dtype=float32)\n",
            "Coordinates:\n",
            "  * lon      (lon) float32 230.1 230.4 230.6 230.9 ... 304.1 304.4 304.6 304.9\n",
            "Attributes:\n",
            "    units:          degrees_east\n",
            "    long_name:      Longitude\n",
            "    actual_range:   [230.125 304.875]\n",
            "    standard_name:  longitude\n",
            "    axis:           X\n",
            "<xarray.DataArray 'time' (time: 366)>\n",
            "array(['2020-01-01T00:00:00.000000000', '2020-01-02T00:00:00.000000000',\n",
            "       '2020-01-03T00:00:00.000000000', ..., '2020-12-29T00:00:00.000000000',\n",
            "       '2020-12-30T00:00:00.000000000', '2020-12-31T00:00:00.000000000'],\n",
            "      dtype='datetime64[ns]')\n",
            "Coordinates:\n",
            "  * time     (time) datetime64[ns] 2020-01-01 2020-01-02 ... 2020-12-31\n",
            "Attributes:\n",
            "    long_name:      Time\n",
            "    delta_t:        0000-00-01 00:00:00\n",
            "    avg_period:     0000-00-01 00:00:00\n",
            "    standard_name:  time\n",
            "    axis:           T\n",
            "    actual_range:   [1928472. 1937232.]\n",
            "The precip array in inches is: [[[nan nan nan ... nan nan nan]\n",
            "  [nan nan nan ... nan nan nan]\n",
            "  [nan nan nan ... nan nan nan]\n",
            "  ...\n",
            "  [nan nan nan ... nan nan nan]\n",
            "  [nan nan nan ... nan nan nan]\n",
            "  [nan nan nan ... nan nan nan]]\n",
            "\n",
            " [[nan nan nan ... nan nan nan]\n",
            "  [nan nan nan ... nan nan nan]\n",
            "  [nan nan nan ... nan nan nan]\n",
            "  ...\n",
            "  [nan nan nan ... nan nan nan]\n",
            "  [nan nan nan ... nan nan nan]\n",
            "  [nan nan nan ... nan nan nan]]\n",
            "\n",
            " [[nan nan nan ... nan nan nan]\n",
            "  [nan nan nan ... nan nan nan]\n",
            "  [nan nan nan ... nan nan nan]\n",
            "  ...\n",
            "  [nan nan nan ... nan nan nan]\n",
            "  [nan nan nan ... nan nan nan]\n",
            "  [nan nan nan ... nan nan nan]]\n",
            "\n",
            " ...\n",
            "\n",
            " [[nan nan nan ... nan nan nan]\n",
            "  [nan nan nan ... nan nan nan]\n",
            "  [nan nan nan ... nan nan nan]\n",
            "  ...\n",
            "  [nan nan nan ... nan nan nan]\n",
            "  [nan nan nan ... nan nan nan]\n",
            "  [nan nan nan ... nan nan nan]]\n",
            "\n",
            " [[nan nan nan ... nan nan nan]\n",
            "  [nan nan nan ... nan nan nan]\n",
            "  [nan nan nan ... nan nan nan]\n",
            "  ...\n",
            "  [nan nan nan ... nan nan nan]\n",
            "  [nan nan nan ... nan nan nan]\n",
            "  [nan nan nan ... nan nan nan]]\n",
            "\n",
            " [[nan nan nan ... nan nan nan]\n",
            "  [nan nan nan ... nan nan nan]\n",
            "  [nan nan nan ... nan nan nan]\n",
            "  ...\n",
            "  [nan nan nan ... nan nan nan]\n",
            "  [nan nan nan ... nan nan nan]\n",
            "  [nan nan nan ... nan nan nan]]]\n",
            "The index of the nearest gridpoint to the uiuc lat and lon is: 80, 167\n"
          ]
        }
      ],
      "source": [
        "# open_dataarray is one of the main functions in Xarray to open a Netcdf file!\n",
        "# the other function is open_dataset.  If our netcdf file contained MULTIPLE variables\n",
        "# say, precip, and temperature, etc.\n",
        "# we would instead open it as a dataset, and access specific variables separately\n",
        "data = xr.open_dataset('precip.V1.0.2020.nc')\n",
        "\n",
        "lat2 = data['lat'] # these are *coordinate* variables in the Netcdf file\n",
        "                          # they are affiliated with the data array, 'data'\n",
        "                          # and thus we can access them like this!\n",
        "print(lat2)\n",
        "lon2 = data['lon']\n",
        "print(lon2)\n",
        "times2 = data['time']\n",
        "print(times2)\n",
        "\n",
        "precip = data['precip'].values # nifty function that converts the Xarray data array variable into a NumPy array\n",
        "# 'precip' contains all the precip data, fyi\n",
        "lat = lat2.values # values of the latitude coordinate variable\n",
        "lon = lon2.values # values of the longitude coordinate variable\n",
        "\n",
        "# (a.) Convert from mm of daily precip to inches using an array operation (i.e., not a loop, of course, and simply a SINGLE line of code!)\n",
        "precip = precip * 0.0393701 # 0.0393701 is the conversion factor from mm to inches\n",
        "print(f\"The precip array in inches is: {precip}\")\n",
        "\n",
        "# (a.) Find, using code and NO HARDWIRING/MANUAL WORK, the indices of the nearest gridpoint to the UIUC campus. Save these indices to new variables, and print out the values. \n",
        "lat_uiuc = 40.1\n",
        "# lon of uiuc in eastward direction\n",
        "lon_uiuc = -88.2 + 360\n",
        "# find the index of the nearest gridpoint to the uiuc lat and lon from the lat and lon arrays\n",
        "index_lat = np.abs(lat - lat_uiuc).argmin()\n",
        "index_lon = np.abs(lon - lon_uiuc).argmin()\n",
        "# print the index of the nearest gridpoint to the uiuc lat and lon\n",
        "print(f\"The index of the nearest gridpoint to the uiuc lat and lon is: {index_lat}, {index_lon}\")\n",
        "\n",
        "# (c.) Index your precip array so that you are only accessing data at this special location.\n",
        "#      (i.e., at the gridpoint nearest to the UIUC campus)\n",
        "# precip has dimensions time, lat, lon\n",
        "precip_uiuc = precip[:, index_lat, index_lon]\n"
      ]
    },
    {
      "cell_type": "markdown",
      "id": "58d3625c",
      "metadata": {
        "id": "58d3625c"
      },
      "source": [
        "#### (1)  USING ONLY DATA FOR THAT SINGLE GRIDPOINT NEAREST URBANA-CHAMPAIGN, calculate the following statistics for precip:\n",
        "  - (a.) How many days did no precip fall?\n",
        "<br><br>\n",
        "  - (b.) How many days did more than one inch fall?\n",
        "<br><br>\n",
        "  - (c.) What was the maximum amount of precip that fell?\n",
        "<br><br>\n",
        "  - (d.) What day did this maximum amount of precip fall?"
      ]
    },
    {
      "cell_type": "code",
      "source": [
        "np.sum(precip_uiuc == 0)"
      ],
      "metadata": {
        "colab": {
          "base_uri": "https://localhost:8080/"
        },
        "id": "-pb03ZBedg0_",
        "outputId": "adbcf92e-cdf0-44e0-f78c-0542e01ee06c"
      },
      "id": "-pb03ZBedg0_",
      "execution_count": 57,
      "outputs": [
        {
          "output_type": "execute_result",
          "data": {
            "text/plain": [
              "210"
            ]
          },
          "metadata": {},
          "execution_count": 57
        }
      ]
    },
    {
      "cell_type": "code",
      "execution_count": 58,
      "id": "62be3039",
      "metadata": {
        "colab": {
          "base_uri": "https://localhost:8080/"
        },
        "id": "62be3039",
        "outputId": "4b534059-867c-42aa-afa8-e1e6bb70ddf8"
      },
      "outputs": [
        {
          "output_type": "stream",
          "name": "stdout",
          "text": [
            "The number of days with no precip is: 210\n"
          ]
        }
      ],
      "source": [
        "# (a.) how many days did no precip fall for the precip_uiuc?\n",
        "print(f\"The number of days with no precip is: {np.count_nonzero(precip_uiuc == 0)}\")"
      ]
    },
    {
      "cell_type": "code",
      "execution_count": 59,
      "id": "9c37f569",
      "metadata": {
        "colab": {
          "base_uri": "https://localhost:8080/"
        },
        "id": "9c37f569",
        "outputId": "d757cba3-2104-4351-ca90-668eb3fb06df"
      },
      "outputs": [
        {
          "output_type": "stream",
          "name": "stdout",
          "text": [
            "The number of days with more than one inch of precip is: 8\n"
          ]
        }
      ],
      "source": [
        "#  (b.) how many days did more than one inch fall?\n",
        "print(f\"The number of days with more than one inch of precip is: {np.count_nonzero(precip_uiuc > 1)}\")\n"
      ]
    },
    {
      "cell_type": "code",
      "execution_count": 60,
      "id": "4140152f",
      "metadata": {
        "colab": {
          "base_uri": "https://localhost:8080/"
        },
        "id": "4140152f",
        "outputId": "67feaffd-cb40-4144-f727-4d0bfee60d4d"
      },
      "outputs": [
        {
          "output_type": "stream",
          "name": "stdout",
          "text": [
            "The maximum amount of precip that fell is: 2.5155837535858154 inches\n"
          ]
        }
      ],
      "source": [
        "# (c.) what was the maximum amount of precip that fell?\n",
        "print(f\"The maximum amount of precip that fell is: {np.max(precip_uiuc)} inches\")    "
      ]
    },
    {
      "cell_type": "code",
      "execution_count": 61,
      "id": "ae083215",
      "metadata": {
        "scrolled": true,
        "colab": {
          "base_uri": "https://localhost:8080/"
        },
        "id": "ae083215",
        "outputId": "668728f5-5e56-4baf-95aa-d22ee3d09427"
      },
      "outputs": [
        {
          "output_type": "stream",
          "name": "stdout",
          "text": [
            "The day of the maximum amount of precip that fell is: 2020-06-04T00:00:00.000000000\n"
          ]
        }
      ],
      "source": [
        "# (d.) what day did it occur on?\n",
        "index_max_precip = np.argmax(precip_uiuc)\n",
        "print(f\"The day of the maximum amount of precip that fell is: {times2[index_max_precip].values}\") "
      ]
    },
    {
      "cell_type": "markdown",
      "id": "relative-tomorrow",
      "metadata": {
        "id": "relative-tomorrow"
      },
      "source": [
        "### !!!!!!!!!!!!!!!!!!!!!!!!!!!!!!!!!!!!!!!!!!!\n",
        "### FOR THE REST OF THIS ASSIGNMENT YOU ARE USING YOUR FULL PRECIPITATION DATASET, I.E., THE 3D DATA, NOT A 1D TIME SERIES OF PRECIPITATION DATA FROM UIUC LIKE YOU USED IN Q1\n",
        "### !!!!!!!!!!!!!!!!!!!!!!!!!!!!!!!!!!!!!!!!!!!\n",
        "#### (2)  As you may have noticed if you've played around with outputting some precip values, our array consists of NaNs in the ocean locations\n",
        "- (a.) create a mask that identifies and masks out NaNs, and save your masked variable to a new variable - *you learned a formal way to do this in your lessons this week!*\n",
        "<br><br>\n",
        "- (b.) print out the masked variable, the mask itself, and your original data\n",
        "<br><br>\n",
        "- (c.) this is prep for the next question, when we're considering data in all locations, not just at UIUC where there is no missing data, and don't want to deal with NaNs"
      ]
    },
    {
      "cell_type": "code",
      "execution_count": 62,
      "id": "a739c3f8",
      "metadata": {
        "id": "a739c3f8"
      },
      "outputs": [],
      "source": [
        "# - (a.) create a mask that identifies and masks out NaNs, and save your masked variable to a new variable - *you learned a formal way to do this in your lessons this week!*\n",
        "masked_precip = np.ma.masked_invalid(precip)\n"
      ]
    },
    {
      "cell_type": "code",
      "execution_count": 63,
      "id": "c38e0942",
      "metadata": {
        "colab": {
          "base_uri": "https://localhost:8080/"
        },
        "id": "c38e0942",
        "outputId": "9be05ca4-e57d-42db-f295-46e41478b535"
      },
      "outputs": [
        {
          "output_type": "stream",
          "name": "stdout",
          "text": [
            "The masked precip array is: [[[-- -- -- ... -- -- --]\n",
            "  [-- -- -- ... -- -- --]\n",
            "  [-- -- -- ... -- -- --]\n",
            "  ...\n",
            "  [-- -- -- ... -- -- --]\n",
            "  [-- -- -- ... -- -- --]\n",
            "  [-- -- -- ... -- -- --]]\n",
            "\n",
            " [[-- -- -- ... -- -- --]\n",
            "  [-- -- -- ... -- -- --]\n",
            "  [-- -- -- ... -- -- --]\n",
            "  ...\n",
            "  [-- -- -- ... -- -- --]\n",
            "  [-- -- -- ... -- -- --]\n",
            "  [-- -- -- ... -- -- --]]\n",
            "\n",
            " [[-- -- -- ... -- -- --]\n",
            "  [-- -- -- ... -- -- --]\n",
            "  [-- -- -- ... -- -- --]\n",
            "  ...\n",
            "  [-- -- -- ... -- -- --]\n",
            "  [-- -- -- ... -- -- --]\n",
            "  [-- -- -- ... -- -- --]]\n",
            "\n",
            " ...\n",
            "\n",
            " [[-- -- -- ... -- -- --]\n",
            "  [-- -- -- ... -- -- --]\n",
            "  [-- -- -- ... -- -- --]\n",
            "  ...\n",
            "  [-- -- -- ... -- -- --]\n",
            "  [-- -- -- ... -- -- --]\n",
            "  [-- -- -- ... -- -- --]]\n",
            "\n",
            " [[-- -- -- ... -- -- --]\n",
            "  [-- -- -- ... -- -- --]\n",
            "  [-- -- -- ... -- -- --]\n",
            "  ...\n",
            "  [-- -- -- ... -- -- --]\n",
            "  [-- -- -- ... -- -- --]\n",
            "  [-- -- -- ... -- -- --]]\n",
            "\n",
            " [[-- -- -- ... -- -- --]\n",
            "  [-- -- -- ... -- -- --]\n",
            "  [-- -- -- ... -- -- --]\n",
            "  ...\n",
            "  [-- -- -- ... -- -- --]\n",
            "  [-- -- -- ... -- -- --]\n",
            "  [-- -- -- ... -- -- --]]]\n",
            "The mask of the masked precip array is: [[[ True  True  True ...  True  True  True]\n",
            "  [ True  True  True ...  True  True  True]\n",
            "  [ True  True  True ...  True  True  True]\n",
            "  ...\n",
            "  [ True  True  True ...  True  True  True]\n",
            "  [ True  True  True ...  True  True  True]\n",
            "  [ True  True  True ...  True  True  True]]\n",
            "\n",
            " [[ True  True  True ...  True  True  True]\n",
            "  [ True  True  True ...  True  True  True]\n",
            "  [ True  True  True ...  True  True  True]\n",
            "  ...\n",
            "  [ True  True  True ...  True  True  True]\n",
            "  [ True  True  True ...  True  True  True]\n",
            "  [ True  True  True ...  True  True  True]]\n",
            "\n",
            " [[ True  True  True ...  True  True  True]\n",
            "  [ True  True  True ...  True  True  True]\n",
            "  [ True  True  True ...  True  True  True]\n",
            "  ...\n",
            "  [ True  True  True ...  True  True  True]\n",
            "  [ True  True  True ...  True  True  True]\n",
            "  [ True  True  True ...  True  True  True]]\n",
            "\n",
            " ...\n",
            "\n",
            " [[ True  True  True ...  True  True  True]\n",
            "  [ True  True  True ...  True  True  True]\n",
            "  [ True  True  True ...  True  True  True]\n",
            "  ...\n",
            "  [ True  True  True ...  True  True  True]\n",
            "  [ True  True  True ...  True  True  True]\n",
            "  [ True  True  True ...  True  True  True]]\n",
            "\n",
            " [[ True  True  True ...  True  True  True]\n",
            "  [ True  True  True ...  True  True  True]\n",
            "  [ True  True  True ...  True  True  True]\n",
            "  ...\n",
            "  [ True  True  True ...  True  True  True]\n",
            "  [ True  True  True ...  True  True  True]\n",
            "  [ True  True  True ...  True  True  True]]\n",
            "\n",
            " [[ True  True  True ...  True  True  True]\n",
            "  [ True  True  True ...  True  True  True]\n",
            "  [ True  True  True ...  True  True  True]\n",
            "  ...\n",
            "  [ True  True  True ...  True  True  True]\n",
            "  [ True  True  True ...  True  True  True]\n",
            "  [ True  True  True ...  True  True  True]]]\n",
            "The original precip array is: [[[nan nan nan ... nan nan nan]\n",
            "  [nan nan nan ... nan nan nan]\n",
            "  [nan nan nan ... nan nan nan]\n",
            "  ...\n",
            "  [nan nan nan ... nan nan nan]\n",
            "  [nan nan nan ... nan nan nan]\n",
            "  [nan nan nan ... nan nan nan]]\n",
            "\n",
            " [[nan nan nan ... nan nan nan]\n",
            "  [nan nan nan ... nan nan nan]\n",
            "  [nan nan nan ... nan nan nan]\n",
            "  ...\n",
            "  [nan nan nan ... nan nan nan]\n",
            "  [nan nan nan ... nan nan nan]\n",
            "  [nan nan nan ... nan nan nan]]\n",
            "\n",
            " [[nan nan nan ... nan nan nan]\n",
            "  [nan nan nan ... nan nan nan]\n",
            "  [nan nan nan ... nan nan nan]\n",
            "  ...\n",
            "  [nan nan nan ... nan nan nan]\n",
            "  [nan nan nan ... nan nan nan]\n",
            "  [nan nan nan ... nan nan nan]]\n",
            "\n",
            " ...\n",
            "\n",
            " [[nan nan nan ... nan nan nan]\n",
            "  [nan nan nan ... nan nan nan]\n",
            "  [nan nan nan ... nan nan nan]\n",
            "  ...\n",
            "  [nan nan nan ... nan nan nan]\n",
            "  [nan nan nan ... nan nan nan]\n",
            "  [nan nan nan ... nan nan nan]]\n",
            "\n",
            " [[nan nan nan ... nan nan nan]\n",
            "  [nan nan nan ... nan nan nan]\n",
            "  [nan nan nan ... nan nan nan]\n",
            "  ...\n",
            "  [nan nan nan ... nan nan nan]\n",
            "  [nan nan nan ... nan nan nan]\n",
            "  [nan nan nan ... nan nan nan]]\n",
            "\n",
            " [[nan nan nan ... nan nan nan]\n",
            "  [nan nan nan ... nan nan nan]\n",
            "  [nan nan nan ... nan nan nan]\n",
            "  ...\n",
            "  [nan nan nan ... nan nan nan]\n",
            "  [nan nan nan ... nan nan nan]\n",
            "  [nan nan nan ... nan nan nan]]]\n"
          ]
        }
      ],
      "source": [
        "# - (b.) print out the masked variable, the mask itself, and your original data\n",
        "print(f\"The masked precip array is: {masked_precip}\")\n",
        "print(f\"The mask of the masked precip array is: {masked_precip.mask}\")\n",
        "print(f\"The original precip array is: {masked_precip.data}\")\n"
      ]
    },
    {
      "cell_type": "code",
      "execution_count": 64,
      "id": "mature-observer",
      "metadata": {
        "colab": {
          "base_uri": "https://localhost:8080/"
        },
        "id": "mature-observer",
        "outputId": "08567cee-684c-40b1-a362-4475e5c4e20a"
      },
      "outputs": [
        {
          "output_type": "execute_result",
          "data": {
            "text/plain": [
              "(366, 120, 300)"
            ]
          },
          "metadata": {},
          "execution_count": 64
        }
      ],
      "source": [
        "# get the shape of the masked precip array\n",
        "masked_precip.shape"
      ]
    },
    {
      "cell_type": "markdown",
      "id": "municipal-coordination",
      "metadata": {
        "id": "municipal-coordination"
      },
      "source": [
        "#### (3)  Now, calculate and plot each of the following (on a 2D, shaded contour plot that includes a map), USING YOUR MASKED DATA FROM 2(a)\n",
        "  - (a.) the average Jan precip at each location \n",
        "<br><br>\n",
        "  - (b.) cumulative precipitation in 2020 at each location - i.e., the TOTAL precipitation that fell during the year 2020 at each location\n",
        "<br><br>\n",
        "  - (c.) the number of days in 2020 when no precipitation was recorded, at each location  \n",
        "\n",
        "***Do not use any for loops!***\n",
        "\n",
        "*Specific plotting requirements. For each plot, you should*:\n",
        " - use object-oriented plotting \n",
        " - create a filled contour plot of the given quantity that you calculate earlier in this Q\n",
        " - on a *map* using Cartopy \n",
        " - with a colorbar, using a colormap of your choice that you explicitly set\n",
        " - and labels for colorbar, plot axes, title, etc.\n",
        "\n",
        "####  Then - don't forget to do some interpretation of your plots in (d.) and (e.)!\n",
        "\n",
        "  - (d.) *Interpret*: which parts of the country experience the greatest total (cumulative) January precipitation? \n",
        "<br><br>\n",
        "  - (e.)  *Interpret*: which parts of the country experience the most days with NO precipitation?  Comment on how this does or does not line up with your understanding of United States geography and features.\n"
      ]
    },
    {
      "cell_type": "code",
      "execution_count": 65,
      "id": "unsigned-strengthening",
      "metadata": {
        "colab": {
          "base_uri": "https://localhost:8080/"
        },
        "id": "unsigned-strengthening",
        "outputId": "78050f1a-3fdc-428d-c89c-28ba6a9b14d5"
      },
      "outputs": [
        {
          "output_type": "stream",
          "name": "stdout",
          "text": [
            "The shape of the jan_precip array is: (120, 300)\n",
            "The jan_precip array is: [[-- -- -- ... -- -- --]\n",
            " [-- -- -- ... -- -- --]\n",
            " [-- -- -- ... -- -- --]\n",
            " ...\n",
            " [-- -- -- ... -- -- --]\n",
            " [-- -- -- ... -- -- --]\n",
            " [-- -- -- ... -- -- --]]\n"
          ]
        }
      ],
      "source": [
        "# Now, calculate and plot each of the following (on a 2D, shaded contour plot that includes a map), USING YOUR MASKED DATA FROM 2(a)\n",
        "# - (a.) the average Jan precip at each location \n",
        "# the masked precip array has dimensions time, lat, lon\n",
        "# the january month has 31 days. So, the average would be the sum of the masked precip array divided by 31\n",
        "jan_precip = np.sum(masked_precip[:31, :, :], axis=0) / 31\n",
        "# print the shape of the jan_precip array\n",
        "print(f\"The shape of the jan_precip array is: {jan_precip.shape}\")\n",
        "print(f\"The jan_precip array is: {jan_precip}\")"
      ]
    },
    {
      "cell_type": "code",
      "execution_count": 68,
      "id": "assured-klein",
      "metadata": {
        "colab": {
          "base_uri": "https://localhost:8080/",
          "height": 367
        },
        "id": "assured-klein",
        "outputId": "7d4d5aaf-07b7-471e-93c6-3c3ffc803fcd"
      },
      "outputs": [
        {
          "output_type": "display_data",
          "data": {
            "image/png": "[encoded data removed]",
            "text/plain": [
              "<Figure size 1080x1080 with 2 Axes>"
            ]
          },
          "metadata": {
            "needs_background": "light"
          }
        }
      ],
      "source": [
        "proj=ccrs.PlateCarree() # this is a very common projection, but not the only one!\n",
        "\n",
        "#Create a figure with an axes object on which we will plot. Pass the projection to that axes\n",
        "fig, ax = plt.subplots(figsize=(15,15),subplot_kw=dict(projection=proj))\n",
        "\n",
        "# Grab our lat and lon coordinate variables from the Netcdf file\n",
        "lon = data['lon']\n",
        "lat = data['lat'] \n",
        "\n",
        "# Add cyclic point since there's a data gap in this data set at the Prime Meridian\n",
        "jan_precip2, lon2 = add_cyclic_point(jan_precip, coord=lon)\n",
        "# use a new variable for our now-modified temperature and longitude variables b/c if we don't and re-run just this cell\n",
        "# multiple times, you'll keep adding a longitude point (oops!)\n",
        "\n",
        "# Create our grid\n",
        "# contourf needs this so it understands the grid it is plotting on\n",
        "X, Y = np.meshgrid(lon2, lat) # using our slightly modified longitude\n",
        "\n",
        "# Create our contour plot!\n",
        "cs = ax.contourf(X,Y,jan_precip2,transform=proj) # good practice to also specify the transform, as otherwise\n",
        "                                                  # Cartopy assumes your transform is whatever your projection is\n",
        "                                                  # this may not always be true\n",
        "                                                  # more on this later\n",
        "\n",
        "# Create our colorbar\n",
        "cb=fig.colorbar(cs,shrink=0.4) # shrink option does what it sounds like to the colorbar!\n",
        " # set the colorbar label\n",
        "cb.set_label(\"Average Precipitation (inches)\")\n",
        "\n",
        "# The temperature is in Kelvin\n",
        "\n",
        "# Some options involving the gridlines\n",
        "gl = ax.gridlines(draw_labels=True)\n",
        "gl.top_labels = False\n",
        "gl.right_labels = False\n",
        "\n",
        "# Add coastlines!\n",
        "ax.coastlines()\n",
        "\n",
        "# Add a title!\n",
        "ax.set_title('Average Jan Precipitation')\n",
        "# Make title a bit bigger and a bit more readable and keep its location to the top\n",
        "ax.title.set_position([.5, 1.05])\n",
        "ax.set_xlabel('Longitude')\n",
        "ax.set_ylabel('Latitude')\n",
        "\n",
        "plt.tight_layout()"
      ]
    },
    {
      "cell_type": "code",
      "execution_count": 69,
      "id": "personalized-revision",
      "metadata": {
        "colab": {
          "base_uri": "https://localhost:8080/"
        },
        "id": "personalized-revision",
        "outputId": "2b5e3fd0-65bd-4218-ca74-d330cc2d5872"
      },
      "outputs": [
        {
          "output_type": "stream",
          "name": "stdout",
          "text": [
            "The shape of the cumulative_precip array is: (120, 300)\n"
          ]
        }
      ],
      "source": [
        "#   - (b.) cumulative precipitation in 2020 at each location - i.e., the TOTAL precipitation that fell during the year 2020 at each location\n",
        "cumulative_precip = np.sum(masked_precip, axis=0)\n",
        "print(f\"The shape of the cumulative_precip array is: {cumulative_precip.shape}\")"
      ]
    },
    {
      "cell_type": "code",
      "execution_count": 70,
      "id": "collaborative-placement",
      "metadata": {
        "colab": {
          "base_uri": "https://localhost:8080/",
          "height": 367
        },
        "id": "collaborative-placement",
        "outputId": "6787e1bd-9516-45e8-9bea-85f215d88307"
      },
      "outputs": [
        {
          "output_type": "display_data",
          "data": {
            "image/png": "[encoded data removed]",
            "text/plain": [
              "<Figure size 1080x1080 with 2 Axes>"
            ]
          },
          "metadata": {
            "needs_background": "light"
          }
        }
      ],
      "source": [
        "proj=ccrs.PlateCarree() # this is a very common projection, but not the only one!\n",
        "\n",
        "#Create a figure with an axes object on which we will plot. Pass the projection to that axes\n",
        "fig, ax = plt.subplots(figsize=(15,15),subplot_kw=dict(projection=proj))\n",
        "\n",
        "# Grab our lat and lon coordinate variables from the Netcdf file\n",
        "lon = data['lon']\n",
        "lat = data['lat'] \n",
        "\n",
        "# Add cyclic point since there's a data gap in this data set at the Prime Meridian\n",
        "cumulative_precip2, lon2 = add_cyclic_point(cumulative_precip, coord=lon)\n",
        "# use a new variable for our now-modified temperature and longitude variables b/c if we don't and re-run just this cell\n",
        "# multiple times, you'll keep adding a longitude point (oops!)\n",
        "\n",
        "# Create our grid\n",
        "# contourf needs this so it understands the grid it is plotting on\n",
        "X, Y = np.meshgrid(lon2, lat) # using our slightly modified longitude\n",
        "\n",
        "# Create our contour plot!\n",
        "cs = ax.contourf(X,Y,cumulative_precip2,transform=proj) # good practice to also specify the transform, as otherwise\n",
        "                                                  # Cartopy assumes your transform is whatever your projection is\n",
        "                                                  # this may not always be true\n",
        "                                                  # more on this later\n",
        "\n",
        "# Create our colorbar\n",
        "cb=fig.colorbar(cs,shrink=0.4) # shrink option does what it sounds like to the colorbar!\n",
        " # set the colorbar label\n",
        "cb.set_label(\"Cumulative Precipitation (inches)\")\n",
        "# The temperature is in Kelvin\n",
        "\n",
        "# Some options involving the gridlines\n",
        "gl = ax.gridlines(draw_labels=True)\n",
        "gl.top_labels = False\n",
        "gl.right_labels = False\n",
        "\n",
        "# Add coastlines!\n",
        "ax.coastlines()\n",
        "\n",
        "# Add a title!\n",
        "ax.set_title('Cumulative Precipitation')\n",
        "# Make title a bit bigger and a bit more readable and keep its location to the top\n",
        "ax.title.set_position([.5, 1.05])\n",
        "ax.set_xlabel('Longitude')\n",
        "ax.set_ylabel('Latitude')\n",
        "\n",
        "plt.tight_layout()\n",
        "plt.show()"
      ]
    },
    {
      "cell_type": "code",
      "execution_count": 72,
      "id": "varying-oxide",
      "metadata": {
        "colab": {
          "base_uri": "https://localhost:8080/"
        },
        "id": "varying-oxide",
        "outputId": "c2824b4e-b4da-4a88-ac40-8fa6cdf73541"
      },
      "outputs": [
        {
          "output_type": "stream",
          "name": "stdout",
          "text": [
            "The shape of the days_no_precip array is: (120, 300)\n"
          ]
        }
      ],
      "source": [
        "#   - (c.) the number of days in 2020 when no precipitation was recorded, at each location  \n",
        "days_no_precip = np.count_nonzero(masked_precip == 0, axis=0)\n",
        "print(f\"The shape of the days_no_precip array is: {days_no_precip.shape}\")"
      ]
    },
    {
      "cell_type": "code",
      "execution_count": 73,
      "id": "higher-average",
      "metadata": {
        "colab": {
          "base_uri": "https://localhost:8080/",
          "height": 367
        },
        "id": "higher-average",
        "outputId": "ad1ac6ab-a56f-4112-822f-6431554a816a"
      },
      "outputs": [
        {
          "output_type": "display_data",
          "data": {
            "image/png": "[encoded data removed]",
            "text/plain": [
              "<Figure size 1080x1080 with 2 Axes>"
            ]
          },
          "metadata": {
            "needs_background": "light"
          }
        }
      ],
      "source": [
        "proj=ccrs.PlateCarree() # this is a very common projection, but not the only one!\n",
        "\n",
        "#Create a figure with an axes object on which we will plot. Pass the projection to that axes\n",
        "fig, ax = plt.subplots(figsize=(15,15),subplot_kw=dict(projection=proj))\n",
        "\n",
        "# Grab our lat and lon coordinate variables from the Netcdf file\n",
        "lon = data['lon']\n",
        "lat = data['lat'] \n",
        "\n",
        "# Add cyclic point since there's a data gap in this data set at the Prime Meridian\n",
        "days_no_precip2, lon2 = add_cyclic_point(days_no_precip, coord=lon)\n",
        "# use a new variable for our now-modified temperature and longitude variables b/c if we don't and re-run just this cell\n",
        "# multiple times, you'll keep adding a longitude point (oops!)\n",
        "\n",
        "# Create our grid\n",
        "# contourf needs this so it understands the grid it is plotting on\n",
        "X, Y = np.meshgrid(lon2, lat) # using our slightly modified longitude\n",
        "\n",
        "# Create our contour plot!\n",
        "cs = ax.contourf(X,Y,days_no_precip2,transform=proj) # good practice to also specify the transform, as otherwise\n",
        "                                                  # Cartopy assumes your transform is whatever your projection is\n",
        "                                                  # this may not always be true\n",
        "                                                  # more on this later\n",
        "\n",
        "# Create our colorbar\n",
        "cb=fig.colorbar(cs,shrink=0.4) # shrink option does what it sounds like to the colorbar!\n",
        " # set the colorbar label\n",
        "cb.set_label(\"Days without Precipitation\")\n",
        "\n",
        "# Some options involving the gridlines\n",
        "gl = ax.gridlines(draw_labels=True)\n",
        "gl.top_labels = False\n",
        "gl.right_labels = False\n",
        "\n",
        "# Add coastlines!\n",
        "ax.coastlines()\n",
        "\n",
        "# Add a title!\n",
        "ax.set_title('Days without Precipitation')\n",
        "# Make title a bit bigger and a bit more readable and keep its location to the top\n",
        "ax.title.set_position([.5, 1.05])\n",
        "ax.set_xlabel('Longitude')\n",
        "ax.set_ylabel('Latitude')\n",
        "\n",
        "plt.tight_layout()"
      ]
    },
    {
      "cell_type": "markdown",
      "source": [
        "- (d.) *Interpret*: which parts of the country experience the greatest total (cumulative) precipitation? \n",
        "<br><br>\n",
        "\n",
        "By looking at the plot of (b.) above, we can see that the most total precipitation is in the southern part of the country, especially in the south-east. I could also see that the most total precipitation also occurs in the north-west part of the country (Seattle, I have heard from my friends that it's always raining in Seattle)."
      ],
      "metadata": {
        "id": "Hy3dEKfSrb7C"
      },
      "id": "Hy3dEKfSrb7C"
    },
    {
      "cell_type": "markdown",
      "source": [
        "<br><br>\n",
        "  - (e.)  *Interpret*: which parts of the country experience the most days with NO precipitation?  Comment on how this does or does not line up with your understanding of United States geography and features.\n",
        "\n",
        "  By looking at the plot of (c.) above, we can see that the most days with no precipitation occurs from south-west, middle-west. This is consistent with my observation that the dry states are in the south-west of the country like Nevada, Utah, Arizona, California and Texas."
      ],
      "metadata": {
        "id": "Vyw-ryr5rf4R"
      },
      "id": "Vyw-ryr5rf4R"
    },
    {
      "cell_type": "code",
      "execution_count": null,
      "id": "protected-resident",
      "metadata": {
        "id": "protected-resident"
      },
      "outputs": [],
      "source": [
        ""
      ]
    },
    {
      "cell_type": "code",
      "execution_count": null,
      "id": "foreign-layout",
      "metadata": {
        "id": "foreign-layout"
      },
      "outputs": [],
      "source": [
        ""
      ]
    },
    {
      "cell_type": "code",
      "execution_count": null,
      "id": "advisory-canadian",
      "metadata": {
        "id": "advisory-canadian"
      },
      "outputs": [],
      "source": [
        ""
      ]
    }
  ],
  "metadata": {
    "kernelspec": {
      "display_name": "Python 3",
      "language": "python",
      "name": "python3"
    },
    "language_info": {
      "codemirror_mode": {
        "name": "ipython",
        "version": 3
      },
      "file_extension": ".py",
      "mimetype": "text/x-python",
      "name": "python",
      "nbconvert_exporter": "python",
      "pygments_lexer": "ipython3",
      "version": "3.7.10"
    },
    "colab": {
      "name": "Week5_Assignment_Students.ipynb",
      "provenance": [],
      "collapsed_sections": []
    }
  },
  "nbformat": 4,
  "nbformat_minor": 5
}