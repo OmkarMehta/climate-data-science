{
 "cells": [
  {
   "cell_type": "code",
   "execution_count": null,
   "metadata": {},
   "outputs": [],
   "source": [
    "# Just this time, I will include this already for you in your assignment\n",
    "# INSTALL NUMPY AND MATPLOTLIB IF THEY ARE NOT ALREADY INSTALLED, FIRST\n",
    "import numpy as np  # import numpy package \n",
    "import matplotlib.pyplot as plt # function in matplotlib that produces quick and easy plots"
   ]
  },
  {
   "cell_type": "markdown",
   "metadata": {},
   "source": [
    "# Question 1:  Reading in and plotting data from a text file\n",
    "**Data**: \n",
    "  - tidal height (in cm) from the SYOWA Station, Antarctica on Dec 26, 2004, observed every 30 seconds\n",
    "\n",
    "**Context**:  \n",
    "   - a magnitude ~9.1 earthquake occured off the coast of Sumatra, Indonesia, generating a series of devastating tsunami waves\n",
    "   - maximum wave height of 100 ft (!!), and noticeable effects thousands of miles away \n",
    "   - nearly 230,000 fatalities in total :( \n",
    "   - the motivation for the development of the Indian Ocean Tsunami Warning System\n",
    "   \n",
    "**Further info for the interested**\n",
    "  - https://www.usgs.gov/centers/pcmsc/science/tsunami-generation-2004-m91-sumatra-andaman-earthquake?qt-science_center_objects=0#qt-science_center_objects (technical, but has some excellent animations!)"
   ]
  },
  {
   "cell_type": "markdown",
   "metadata": {},
   "source": [
    "#### (a.)  \n",
    "#### 1. Create a string variable consisting of 'heights.txt'\n",
    "#### 2.  Create another string variable consisting of '20041226_'\n",
    "#### 3.  Concatenate these two variables together and save in a new variable, such that your result is the name of file: 20041226_heights.txt"
   ]
  },
  {
   "cell_type": "code",
   "execution_count": 1,
   "metadata": {},
   "outputs": [],
   "source": [
    "# 1. Create a string variable consisting of 'heights.txt'\n",
    "str1 = 'heights.txt'\n",
    "# 2.  Create another string variable consisting of '20041226_' \n",
    "str2 = '20041226_'\n",
    "# 3.  Concatenate these two variables together and save in a new variable, such that your result is the name of file: 20041226_heights.txt\n",
    "str3 = str2 + str1\n",
    "# print(str3)\n",
    "print(str3)"
   ]
  },
  {
   "cell_type": "markdown",
   "metadata": {},
   "source": [
    "#### (b.)  \n",
    "#### 1. Open the file '20041226_heights.txt' using your variable created in (a.), step 3.\n",
    "#### 2. Read the contents of this file into a list of strings\n",
    "#### 3. Close the file"
   ]
  },
  {
   "cell_type": "code",
   "execution_count": null,
   "metadata": {},
   "outputs": [],
   "source": [
    "# 1. Open the file '20041226_heights.txt' using your variable created in (a.), step 3.\n",
    "f = open(str3, 'r')\n",
    "# 2. Read the contents of this file into a list of strings\n",
    "lines = f.readlines()\n",
    "# 3. Close the file\n",
    "f.close()"
   ]
  },
  {
   "cell_type": "markdown",
   "metadata": {},
   "source": [
    "#### (c.)  Determine and print the type of the variable you created in (b.), step 2"
   ]
  },
  {
   "cell_type": "code",
   "execution_count": null,
   "metadata": {},
   "outputs": [],
   "source": [
    "# Determine and print the type of the variable you created in (b.), step 2\n",
    "print(type(lines))"
   ]
  },
  {
   "cell_type": "markdown",
   "metadata": {},
   "source": [
    "#### (d.)  Print the values of this variable."
   ]
  },
  {
   "cell_type": "code",
   "execution_count": null,
   "metadata": {},
   "outputs": [],
   "source": [
    "# Print the values of this variable.\n",
    "print(lines)"
   ]
  },
  {
   "cell_type": "markdown",
   "metadata": {},
   "source": [
    "#### (e.)  Access and print out the value of the TENTH element in this variable"
   ]
  },
  {
   "cell_type": "code",
   "execution_count": null,
   "metadata": {},
   "outputs": [],
   "source": [
    "# Access and print out the value of the TENTH element in this variable\n",
    "print(lines[9])"
   ]
  },
  {
   "cell_type": "markdown",
   "metadata": {},
   "source": [
    "#### (f.) Evaluate and print out the number of elements in this variable"
   ]
  },
  {
   "cell_type": "code",
   "execution_count": null,
   "metadata": {},
   "outputs": [],
   "source": [
    "# Evaluate and print out the number of elements in this variable\n",
    "print(len(lines))"
   ]
  },
  {
   "cell_type": "markdown",
   "metadata": {},
   "source": [
    "#### (g.)  Can you change the value of an element in this variable?  Please show an example that demonstrates this either way. "
   ]
  },
  {
   "cell_type": "code",
   "execution_count": null,
   "metadata": {},
   "outputs": [],
   "source": [
    "# Can you change the value of an element in this variable? Please show an example that demonstrates this either way.\n",
    "print(f\"The value of the TENTH element earlier in this variable is {lines[9]}\")\n",
    "lines[9] = '100'\n",
    "print(f\"The value of the TENTH element now in this variable is {lines[9]}\")"
   ]
  },
  {
   "cell_type": "markdown",
   "metadata": {},
   "source": [
    "#### (h.)  \n",
    "#### - We could use some list functions/methods to convert each element in this list to a numerical data type\n",
    "#### - But, this week, you've learned another way that is more suitable for reading in *numerical* data from text files, np.genfromtxt('filename')\n",
    "#### - Read in the data using this other way into a variable called *anything BUT 'xdata'*"
   ]
  },
  {
   "cell_type": "code",
   "execution_count": null,
   "metadata": {},
   "outputs": [],
   "source": [
    "# - We could use some list functions/methods to convert each element in this list to a numerical data type\n",
    "# - But, this week, you've learned another way that is more suitable for reading in numerical data from text files, np.genfromtxt('filename')\n",
    "# - Read in the data using this other way into a variable called anything BUT 'xdata'\n",
    "data = np.genfromtxt(str3, delimiter=',')\n",
    "# - Print out the type of this variable\n",
    "print(type(data))"
   ]
  },
  {
   "cell_type": "markdown",
   "metadata": {},
   "source": [
    "#### (i.)  Determine and print the type of this new variable"
   ]
  },
  {
   "cell_type": "code",
   "execution_count": null,
   "metadata": {},
   "outputs": [],
   "source": [
    "# Determine and print the type of this new variable\n",
    "print(type(data))"
   ]
  },
  {
   "cell_type": "markdown",
   "metadata": {},
   "source": [
    "#### (j.)  Create a 1D line plot of this tidal height data!  Specifically, you must:\n",
    "- Use the x-values I created for you in the new variable xdata (tidal height data were collected every 30 seconds, from 00:00:00 to 23:59:30). Know that this time data is in hours, and is in LOCAL time. \n",
    "- Include informative x and y axis labels and a title\n",
    "- Specify a color for the line - your choice which!\n",
    "<br><br>\n",
    "- *Keep in mind that passing the x-values into plt.plot in general is optional...if you don't, and only pass in y-values, Matplotlib will create its own x-values based on observation #.*"
   ]
  },
  {
   "cell_type": "code",
   "execution_count": null,
   "metadata": {},
   "outputs": [],
   "source": [
    "                        # 30 seconds = 1/120 of an hour\n",
    "xdata = np.arange(0,24,1/120)\n",
    "# Your code here!\n",
    "# Create a 1D line plot of this tidal height data! Specifically, you must:\n",
    "# Use the x-values I created for you in the new variable xdata (tidal height data were collected every 30 seconds, from 00:00:00 to 23:59:30). Know that this time data is in hours, and is in LOCAL time.\n",
    "# Include informative x and y axis labels and a title\n",
    "# Specify a color for the line - your choice which!\n",
    "\n",
    "plt.plot(xdata, data, color='red')\n",
    "plt.xlabel('Time (hours)')\n",
    "plt.ylabel('Tidal Height (m)')\n",
    "plt.title('Tidal Height Data')\n",
    "plt.show()\n"
   ]
  },
  {
   "cell_type": "markdown",
   "metadata": {},
   "source": [
    "# Question 2:  Creating a dictionary \n",
    "#### (a.)  Use the annual average data for Urbana, IL contained in the table linked below to create a dictionary in Python\n",
    "- For your reference, T_high is average high temperature, and T_low is average low temperature, both in degrees F.  Average precipitation and snowfall are both in inches.  (You do not need to include units in your dictionary).\n",
    "\n",
    "https://drive.google.com/file/d/1zjdXeG61cJ-GdhmAkU-EH_JPztmzr3XO/view?usp=sharing"
   ]
  },
  {
   "cell_type": "code",
   "execution_count": null,
   "metadata": {},
   "outputs": [],
   "source": [
    "# Use the annual average data for Urbana, IL contained in the table linked below to create a dictionary in Python\n",
    "# For your reference, T_high is average high temperature, and T_low is average low temperature, both in degrees F. Average precipitation and snowfall are both in inches. (You do not need to include units in your dictionary).\n",
    "data_urbana_dict = dict(T_high=61.7, T_low=41.7, Precip=41.4, Snow=23.2)"
   ]
  },
  {
   "cell_type": "markdown",
   "metadata": {},
   "source": [
    "#### (b.)  In one line of code, print out ALL *values* in your dictionary"
   ]
  },
  {
   "cell_type": "code",
   "execution_count": null,
   "metadata": {},
   "outputs": [],
   "source": [
    "# In one line of code, print out ALL values in your dictionary\n",
    "print(data_urbana_dict)"
   ]
  },
  {
   "cell_type": "markdown",
   "metadata": {},
   "source": [
    "#### (c.) Print out just the ONE *value* in your dictionary associated with 'Precip'"
   ]
  },
  {
   "cell_type": "code",
   "execution_count": null,
   "metadata": {},
   "outputs": [],
   "source": [
    "# Print out just the ONE value in your dictionary associated with 'Precip'\n",
    "print(data_urbana_dict['Precip'])"
   ]
  },
  {
   "cell_type": "markdown",
   "metadata": {},
   "source": [
    "# Question 3:  Install Python packages necessary for this class, if they aren't already installed, on whatever Python platform you are using\n",
    "- see 'Python, Statistics,  & Data Science Resources' tab on Moodle for links if you want more information on specific packages\n",
    "- see 'Basics of Packages and Syntax\" in Week 2 Lessons for tips on installing Python packages \n",
    "- post on Slack or email me if you run into errors you can't solve after searching on Google/StackOverflow\n",
    "\n",
    "*Packages include*\n",
    "- numpy\n",
    "- matplotlib\n",
    "- scipy\n",
    "- scikit-learn\n",
    "- seaborn\n",
    "- pandas\n",
    "- xarray\n",
    "- cartopy "
   ]
  },
  {
   "cell_type": "code",
   "execution_count": 2,
   "metadata": {},
   "outputs": [],
   "source": [
    "# Attest in this block that you have completed this\n",
    "# Don't forget to use start your line with #\n",
    "# As this is a code block!\n",
    "# Install Python packages necessary for this class, if they aren't already installed, on whatever Python platform you are using\n",
    "# Install the following packages:\n",
    "# numpy\n",
    "# matplotlib\n",
    "# scipy\n",
    "# scikit-learn\n",
    "# seaborn\n",
    "# pandas\n",
    "# xarray\n",
    "# cartopy\n",
    "\n",
    "!pip install numpy\n",
    "!pip install matplotlib\n",
    "!pip install scipy\n",
    "!pip install scikit-learn\n",
    "!pip install seaborn\n",
    "!pip install pandas\n",
    "!pip install xarray\n",
    "!pip install cartopy\n",
    "\n"
   ]
  },
  {
   "cell_type": "markdown",
   "metadata": {},
   "source": [
    "# Question 4: Start looking for a dataset that you'd potentially want to do your project on, and then submit, here, a few sentence description of ONE dataset that you identify, as well as the website link (or an additional description if it's not publicly accessible, i.e., if it's lab group data).  \n",
    "\n",
    "# Some requirements, so that you could realistically use this dataset for your project:\n",
    "- it should be geoscience data - weather, climate, geology, environmental, energy, oceanography, etc. data.  Being a geoscience course I do need to require this, but there are LOTS of options within the geosciences\n",
    "<br><br>\n",
    "- the two main packages we'll be using in this class are Pandas and Xarray.  Pandas is most useful for text-based, database formatted data.  Xarray is most useful for spatial data of binary formats like Netcdf (and has capabilities for some other binary formats).  You are NOT limited to these data formats, but when it comes to your project, you'll have to justify why you are choosing different, and identify what other Python packages you'd use to faciliate the reading in of those other types of data (e.g., radar, satellite, etc.)....and have potentially limited support from me/your peers in those other packages not covered in this class\n",
    "<br><br>\n",
    "- what you submit for this Q DOES NOT commit you to using this dataset for your project...I just want you to start brainstorming and exploring data!"
   ]
  },
  {
   "cell_type": "markdown",
   "metadata": {},
   "source": [
    "# Dataset and website link:\n",
    "\n",
    "* Dataset: ERA5 monthly averaged data on single levels from 1979 to present\n",
    "* Website Link: https://cds.climate.copernicus.eu/cdsapp#!/dataset/reanalysis-era5-single-levels-monthly-means?tab=form\n",
    "\n",
    "## Dataset Description:\n",
    "\n",
    "ERA5 monthly averaged data on single levels from 1979 to present. The data collected will be in 'netcdf' format. The data is collected from the ECMWF Reanalysis (ERA5) and is available for the following atmospheric variables: \n",
    "* Surface pressure (Pa)\n",
    "* Surface temperature (K)\n",
    "* Surface specific humidity (kg/kg)\n",
    "* Surface wind speed (m/s)\n",
    "* Surface wind direction (degrees)\n",
    "* Surface geopotential height (m)\n",
    "* Surface geopotential height anomaly (m)\n",
    "and many more...\n",
    "\n",
    "We can use this data to study the climate of the Earth, and to understand the processes that are driving the climate change.\n",
    "\n",
    "We can specify the year, month, and day of the month to get the data for a specific day. We can even specify the geographical area of interest. \n"
   ]
  },
  {
   "cell_type": "markdown",
   "metadata": {},
   "source": []
  }
 ],
 "metadata": {
  "kernelspec": {
   "display_name": "Python 3",
   "language": "python",
   "name": "python3"
  },
  "language_info": {
   "codemirror_mode": {
    "name": "ipython",
    "version": 3
   },
   "file_extension": ".py",
   "mimetype": "text/x-python",
   "name": "python",
   "nbconvert_exporter": "python",
   "pygments_lexer": "ipython3",
   "version": "3.8.11"
  }
 },
 "nbformat": 4,
 "nbformat_minor": 4
}
