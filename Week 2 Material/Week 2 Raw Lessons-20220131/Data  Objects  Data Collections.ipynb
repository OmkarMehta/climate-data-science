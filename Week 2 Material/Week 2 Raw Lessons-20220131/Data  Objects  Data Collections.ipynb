{
 "cells": [
  {
   "cell_type": "markdown",
   "metadata": {},
   "source": [
    "## DATA TYPES IN PYTHON: OVERVIEW\n",
    "\n",
    "There are multiple types of numeric and non-numeric data types in Python\n",
    "\n",
    "*Numeric:*\n",
    "  - Boolean \n",
    "  - Integer\n",
    "  - Float\n",
    "  - Complex\n",
    "\n",
    "*Non-Numeric:*\n",
    "  - String"
   ]
  },
  {
   "cell_type": "markdown",
   "metadata": {},
   "source": [
    "## NUMERIC DATA TYPES\n",
    "\n",
    "### (1) Boolean\n",
    "\n",
    "- Boolean variables are only assigned True (1) or False (0) \n",
    "- Very useful in evaluating conditions, masking, etc."
   ]
  },
  {
   "cell_type": "code",
   "execution_count": 1,
   "metadata": {},
   "outputs": [
    {
     "name": "stdout",
     "output_type": "stream",
     "text": [
      "True\n",
      "<class 'bool'>\n"
     ]
    }
   ],
   "source": [
    "HurricaneLandfall = True  # example use: if certain condition met, HurricaneLandfall = True\n",
    "print(HurricaneLandfall)\n",
    "print(type(HurricaneLandfall))  # \"type\" identifies variable...type!"
   ]
  },
  {
   "cell_type": "markdown",
   "metadata": {},
   "source": [
    "### (2) Integer\n",
    "\n",
    "   - Python will store whole numbers as integers unless you tell it otherwise \n",
    "   - Two types: \n",
    "      - *integer* (up to +/-200 x 10^6)\n",
    "      - *long integer* (can hold bigger integers, but uses more memory)"
   ]
  },
  {
   "cell_type": "code",
   "execution_count": 2,
   "metadata": {},
   "outputs": [
    {
     "name": "stdout",
     "output_type": "stream",
     "text": [
      "5\n",
      "<class 'int'>\n"
     ]
    }
   ],
   "source": [
    "m = 5\n",
    "print(m)\n",
    "print(type(m))"
   ]
  },
  {
   "cell_type": "markdown",
   "metadata": {},
   "source": [
    "### (3) Float\n",
    "- Represented as 64-bit–-what other languages would call \"double precision\""
   ]
  },
  {
   "cell_type": "code",
   "execution_count": 3,
   "metadata": {},
   "outputs": [
    {
     "name": "stdout",
     "output_type": "stream",
     "text": [
      "5.0\n",
      "<class 'float'>\n"
     ]
    }
   ],
   "source": [
    "m = 5.0\n",
    "print(m)\n",
    "print(type(m))"
   ]
  },
  {
   "cell_type": "markdown",
   "metadata": {},
   "source": [
    "### (4) Converting between numeric variable types: *float(x), int(x)*\n",
    "  - can force conversion from float to integer or vice-versa - very handy!"
   ]
  },
  {
   "cell_type": "code",
   "execution_count": 4,
   "metadata": {},
   "outputs": [
    {
     "data": {
      "text/plain": [
       "4.0"
      ]
     },
     "execution_count": 4,
     "metadata": {},
     "output_type": "execute_result"
    }
   ],
   "source": [
    "float(4) # integer to float"
   ]
  },
  {
   "cell_type": "code",
   "execution_count": 5,
   "metadata": {},
   "outputs": [
    {
     "data": {
      "text/plain": [
       "4"
      ]
     },
     "execution_count": 5,
     "metadata": {},
     "output_type": "execute_result"
    }
   ],
   "source": [
    "int(4.5) # float to integer "
   ]
  },
  {
   "cell_type": "markdown",
   "metadata": {},
   "source": [
    "## NON-NUMERIC DATA TYPES\n",
    "\n",
    "### (1) Strings\n",
    "- definition: a collection of characters in quotation marks\n",
    "\n",
    "- #### syntax: \"string\" or 'string'"
   ]
  },
  {
   "cell_type": "code",
   "execution_count": 6,
   "metadata": {},
   "outputs": [
    {
     "name": "stdout",
     "output_type": "stream",
     "text": [
      "hello\n"
     ]
    }
   ],
   "source": [
    "a = \"hello\" # just need to start and end with same type of quotation mark \n",
    "print(a)"
   ]
  },
  {
   "cell_type": "code",
   "execution_count": 7,
   "metadata": {},
   "outputs": [
    {
     "name": "stdout",
     "output_type": "stream",
     "text": [
      "hello\n"
     ]
    }
   ],
   "source": [
    "b = 'hello'\n",
    "print(b)"
   ]
  },
  {
   "cell_type": "code",
   "execution_count": 8,
   "metadata": {},
   "outputs": [
    {
     "name": "stdout",
     "output_type": "stream",
     "text": [
      "\"hello\", she said\n"
     ]
    }
   ],
   "source": [
    "c = '\"hello\", she said' # can use quotes embedded within quotes \n",
    "print(c)"
   ]
  },
  {
   "cell_type": "markdown",
   "metadata": {},
   "source": [
    "- #### accessing elements: string[index]"
   ]
  },
  {
   "cell_type": "code",
   "execution_count": 9,
   "metadata": {},
   "outputs": [
    {
     "name": "stdout",
     "output_type": "stream",
     "text": [
      "h\n",
      "o\n",
      "el\n"
     ]
    }
   ],
   "source": [
    "a = \"hello\"\n",
    "b = \"world\"\n",
    "\n",
    "# REMEMBER INDEXING BEGINS AT \"0\" IN PYTHON\n",
    "print(a[0]) # index [0] is the first character of the string\n",
    "print(a[-1]) # index [-1] is the last character of the string\n",
    "print(a[1:3]) # index [m:n] references the mth to the nth-1 characters"
   ]
  },
  {
   "cell_type": "markdown",
   "metadata": {},
   "source": [
    "- #### concatenating strings: using the + operator"
   ]
  },
  {
   "cell_type": "code",
   "execution_count": 10,
   "metadata": {},
   "outputs": [
    {
     "name": "stdout",
     "output_type": "stream",
     "text": [
      "helloworld\n",
      "hello world\n"
     ]
    }
   ],
   "source": [
    "c = a+b  # the \"+\" symbol concatenates strings \n",
    "print(c) \n",
    "c = a+' '+b # add a space in the concatenation \n",
    "print(c) "
   ]
  },
  {
   "cell_type": "markdown",
   "metadata": {},
   "source": [
    "- #### functions for strings "
   ]
  },
  {
   "cell_type": "code",
   "execution_count": 11,
   "metadata": {},
   "outputs": [
    {
     "data": {
      "text/plain": [
       "6"
      ]
     },
     "execution_count": 11,
     "metadata": {},
     "output_type": "execute_result"
    }
   ],
   "source": [
    "c.find(\"world\") # the substring 'world' begins at index 6\n",
    "# plenty more in the book!"
   ]
  },
  {
   "cell_type": "markdown",
   "metadata": {},
   "source": [
    "- #### formatting strings for printing using special characters \n",
    "  - *Newline*: \\n --- this is carriage return + line feed, in a printer\n",
    "   <br><br>\n",
    "  - *Return*: \\r --- carriage return, no line feed\n",
    "  <br><br>\n",
    "  - *Tab*: \\t"
   ]
  },
  {
   "cell_type": "code",
   "execution_count": 12,
   "metadata": {},
   "outputs": [
    {
     "name": "stdout",
     "output_type": "stream",
     "text": [
      "Hello, world!\n",
      "How are you today?\n"
     ]
    }
   ],
   "source": [
    "a = \"Hello, world!\\n\"  # Printing two separate lines!\n",
    "b = \"How are you today?\"\n",
    "print(a+b)"
   ]
  },
  {
   "cell_type": "markdown",
   "metadata": {},
   "source": [
    "- ####  converting string to numeric data type"
   ]
  },
  {
   "cell_type": "code",
   "execution_count": 13,
   "metadata": {},
   "outputs": [
    {
     "name": "stdout",
     "output_type": "stream",
     "text": [
      "6\n",
      "<class 'str'>\n",
      "6.0\n",
      "<class 'float'>\n"
     ]
    }
   ],
   "source": [
    "a = \"6\" # a is initially a string!\n",
    "print(a)\n",
    "print(type(a))\n",
    "\n",
    "b = float(a) # convert to a float!\n",
    "print(b)\n",
    "print(type(b))"
   ]
  },
  {
   "cell_type": "markdown",
   "metadata": {},
   "source": [
    "## DATA COLLECTIONS: OVERVIEW\n",
    "\n",
    "There are various types of data collections (structures) in Python:\n",
    "- Lists\n",
    "- Tuples\n",
    "- Dictionaries \n",
    "- (Sets)\n",
    "- (Arrays - covered extensively in NumPy)"
   ]
  },
  {
   "cell_type": "markdown",
   "metadata": {},
   "source": [
    "## DATA COLLECTIONS: LISTS AND TUPLES\n",
    "\n",
    "### (1) overview\n",
    "- both are collections of values\n",
    "<br><br>\n",
    "- **key**:  you can store varied data types within both lists and tuples!\n",
    "<br><br>\n",
    "- lists are defined using *brackets*\n",
    "<br><br>\n",
    "- tuples are defined using *parantheses*\n",
    "<br><br>"
   ]
  },
  {
   "cell_type": "code",
   "execution_count": 14,
   "metadata": {
    "scrolled": true
   },
   "outputs": [
    {
     "name": "stdout",
     "output_type": "stream",
     "text": [
      "[4.5, -7.8, 'pickle', True, 5, None, 5]\n"
     ]
    }
   ],
   "source": [
    "# Example of a list\n",
    "L1 = [4.5, -7.8, 'pickle', True, 5, None, 5] # None is a type of data too! \n",
    "print(L1)"
   ]
  },
  {
   "cell_type": "code",
   "execution_count": 15,
   "metadata": {},
   "outputs": [
    {
     "name": "stdout",
     "output_type": "stream",
     "text": [
      "(4.5, -7.8, 'pickle', True, None, 5)\n"
     ]
    }
   ],
   "source": [
    "# Example of a tuple\n",
    "L2 = (4.5, -7.8, 'pickle', True, None, 5) # None is a type of data too! \n",
    "print(L2)"
   ]
  },
  {
   "cell_type": "markdown",
   "metadata": {},
   "source": [
    "### (2) acessing elements (aka, indexing tuples/lists):  \n",
    "  - if more than one element, result is a list or a tuple!\n",
    "  - syntax:"
   ]
  },
  {
   "cell_type": "code",
   "execution_count": 16,
   "metadata": {},
   "outputs": [
    {
     "name": "stdout",
     "output_type": "stream",
     "text": [
      "[4.5, -7.8, 'pickle', True, 5, None, 5]\n",
      "4.5\n",
      "5\n"
     ]
    }
   ],
   "source": [
    "print(L1)\n",
    "# Same indexing idea as we saw in strings!\n",
    "print(L1[0]) # first element in L1\n",
    "print(L1[-1]) # last element in L1"
   ]
  },
  {
   "cell_type": "code",
   "execution_count": 17,
   "metadata": {},
   "outputs": [
    {
     "name": "stdout",
     "output_type": "stream",
     "text": [
      "[-7.8, 'pickle']\n"
     ]
    }
   ],
   "source": [
    "# Slicing - accessing multiple elements - results in a list\n",
    "print(L1[1:3]) # second and third elements"
   ]
  },
  {
   "cell_type": "code",
   "execution_count": 18,
   "metadata": {},
   "outputs": [
    {
     "name": "stdout",
     "output_type": "stream",
     "text": [
      "(-7.8, 'pickle')\n"
     ]
    }
   ],
   "source": [
    "# Same for the tuple\n",
    "print(L2[1:3]) # except result is a tuple"
   ]
  },
  {
   "cell_type": "code",
   "execution_count": 19,
   "metadata": {},
   "outputs": [
    {
     "name": "stdout",
     "output_type": "stream",
     "text": [
      "[[10, 20, 30], [40, 50, 60]]\n"
     ]
    },
    {
     "data": {
      "text/plain": [
       "30"
      ]
     },
     "execution_count": 19,
     "metadata": {},
     "output_type": "execute_result"
    }
   ],
   "source": [
    "# If have nested elements in list or tuple\n",
    "# Access using list[][]\n",
    "\n",
    "L3 = [[10,20,30],[40,50,60]]\n",
    "print(L3)\n",
    "L3[0][2]"
   ]
  },
  {
   "cell_type": "markdown",
   "metadata": {},
   "source": [
    "### (3) difference between lists and tuples \n",
    "  - lists can be changed (*mutable*)\n",
    "  - tuples cannot be changed (*inmutable*)"
   ]
  },
  {
   "cell_type": "code",
   "execution_count": 20,
   "metadata": {},
   "outputs": [
    {
     "name": "stdout",
     "output_type": "stream",
     "text": [
      "[4.5, -7.8, 'pickle', True, 5, None, 5]\n",
      "['Chewbacca', -7.8, 'pickle', True, 5, None, 5]\n"
     ]
    }
   ],
   "source": [
    "print(L1)\n",
    "L1[0] = 'Chewbacca'\n",
    "print(L1)"
   ]
  },
  {
   "cell_type": "code",
   "execution_count": 21,
   "metadata": {},
   "outputs": [],
   "source": [
    "# If we tried: \n",
    "# L2[0] = 'Chewbacca'\n",
    "# We'd get \"TypeError: 'tuple' object does not support item assignment \""
   ]
  },
  {
   "cell_type": "markdown",
   "metadata": {},
   "source": [
    "### (4) example list + tuple functions - *see Decaria for more!*"
   ]
  },
  {
   "cell_type": "code",
   "execution_count": 22,
   "metadata": {},
   "outputs": [
    {
     "name": "stdout",
     "output_type": "stream",
     "text": [
      "['Chewbacca', -7.8, 'pickle', True, 5, None, 5]\n",
      "7\n"
     ]
    }
   ],
   "source": [
    "# Get number of items in list\n",
    "print(L1)\n",
    "d = len(L1)\n",
    "print(d)"
   ]
  },
  {
   "cell_type": "code",
   "execution_count": 23,
   "metadata": {},
   "outputs": [
    {
     "name": "stdout",
     "output_type": "stream",
     "text": [
      "2\n"
     ]
    }
   ],
   "source": [
    "# Or more specifically, number of times a certain value is contained in list\n",
    "d = L1.count(5)\n",
    "print(d)"
   ]
  },
  {
   "cell_type": "code",
   "execution_count": 24,
   "metadata": {},
   "outputs": [
    {
     "name": "stdout",
     "output_type": "stream",
     "text": [
      "4\n"
     ]
    }
   ],
   "source": [
    "# Or when the certain value is first found in the list\n",
    "d = L1.index(5)\n",
    "print(d)"
   ]
  },
  {
   "cell_type": "code",
   "execution_count": 25,
   "metadata": {},
   "outputs": [
    {
     "name": "stdout",
     "output_type": "stream",
     "text": [
      "['Chewbacca', -7.8, 'pickle', True, 5, None, 5, 20]\n"
     ]
    }
   ],
   "source": [
    "# Add element to list -- at the end\n",
    "L1.append(20)\n",
    "print(L1)"
   ]
  },
  {
   "cell_type": "code",
   "execution_count": 26,
   "metadata": {},
   "outputs": [
    {
     "name": "stdout",
     "output_type": "stream",
     "text": [
      "['Chewbacca', -7.8, 20, 'pickle', True, 5, None, 5, 20]\n"
     ]
    }
   ],
   "source": [
    "# Or at a specific location\n",
    "L1.insert(2,20) # insert '20' as the third element \n",
    "print(L1)"
   ]
  },
  {
   "cell_type": "code",
   "execution_count": 27,
   "metadata": {},
   "outputs": [
    {
     "name": "stdout",
     "output_type": "stream",
     "text": [
      "[-7.8, 20, 'pickle', True, 5, None, 5, 20]\n"
     ]
    }
   ],
   "source": [
    "# Or, delete certain items\n",
    "del L1[0]\n",
    "print(L1)  # we deleted the first entry!"
   ]
  },
  {
   "cell_type": "markdown",
   "metadata": {},
   "source": [
    "## DATA COLLECTIONS: DICTIONARIES\n",
    "### (1) Overview\n",
    "- Like a list, only with values tied to a key rather than an index (as is the case in lists/tuples)\n",
    "<br><br>\n",
    "- Mutable\n",
    "<br><br>\n",
    "- Syntax"
   ]
  },
  {
   "cell_type": "code",
   "execution_count": 28,
   "metadata": {},
   "outputs": [
    {
     "name": "stdout",
     "output_type": "stream",
     "text": [
      "{'Species': 'Wookie', 'Name': 'Chewbacca', 'Height': '90'}\n"
     ]
    }
   ],
   "source": [
    "# One of multiple ways to create a dictionary\n",
    "d ={'Species': 'Wookie','Name':'Chewbacca', 'Height':'90'}  # Species, name, and height are the keys\n",
    "print(d)"
   ]
  },
  {
   "cell_type": "markdown",
   "metadata": {},
   "source": [
    "### (2) Accesing, creating, and modifying elements (see 2.8 in Decaria for more functions)"
   ]
  },
  {
   "cell_type": "code",
   "execution_count": 29,
   "metadata": {},
   "outputs": [
    {
     "name": "stdout",
     "output_type": "stream",
     "text": [
      "Wookie\n"
     ]
    }
   ],
   "source": [
    "# Accessing element\n",
    "print(d['Species'])  # Chewbacca's species "
   ]
  },
  {
   "cell_type": "code",
   "execution_count": 30,
   "metadata": {},
   "outputs": [
    {
     "name": "stdout",
     "output_type": "stream",
     "text": [
      "{'Species': 'Wookie', 'Name': 'Chewbacca', 'Height': '90', 'Hometown': 'Kashyyyk'}\n"
     ]
    }
   ],
   "source": [
    "# Adding a new element\n",
    "d['Hometown'] = 'Kashyyyk' # new hometown key and value pair!\n",
    "print(d)"
   ]
  },
  {
   "cell_type": "code",
   "execution_count": 31,
   "metadata": {},
   "outputs": [
    {
     "name": "stdout",
     "output_type": "stream",
     "text": [
      "{'Species': 'Wookie', 'Name': 'Chewbacca', 'Hometown': 'Kashyyyk'}\n"
     ]
    }
   ],
   "source": [
    "# Deleting element \n",
    "del d['Height'] # delete the 'Height' key and value \n",
    "print(d)"
   ]
  },
  {
   "cell_type": "code",
   "execution_count": 32,
   "metadata": {},
   "outputs": [
    {
     "name": "stdout",
     "output_type": "stream",
     "text": [
      "dict_keys(['Species', 'Name', 'Hometown'])\n"
     ]
    }
   ],
   "source": [
    "# Print all the keys - same syntax for values \n",
    "print(d.keys())"
   ]
  },
  {
   "cell_type": "markdown",
   "metadata": {},
   "source": [
    "## DATA COLLECTIONS: SETS AND ARRAYS\n",
    "### (1) Sets\n",
    " - collections of objects that are unordered and do not contain duplicate members\n",
    " - pass a list or tuple into set() to create\n",
    " \n",
    "### (2) Arrays\n",
    "  - collections of values that all must be of the same data type\n",
    "  - we'll spend significant time on NumPy arrays - numerical "
   ]
  }
 ],
 "metadata": {
  "kernelspec": {
   "display_name": "Python 3",
   "language": "python",
   "name": "python3"
  },
  "language_info": {
   "codemirror_mode": {
    "name": "ipython",
    "version": 3
   },
   "file_extension": ".py",
   "mimetype": "text/x-python",
   "name": "python",
   "nbconvert_exporter": "python",
   "pygments_lexer": "ipython3",
   "version": "3.7.6"
  }
 },
 "nbformat": 4,
 "nbformat_minor": 4
}
