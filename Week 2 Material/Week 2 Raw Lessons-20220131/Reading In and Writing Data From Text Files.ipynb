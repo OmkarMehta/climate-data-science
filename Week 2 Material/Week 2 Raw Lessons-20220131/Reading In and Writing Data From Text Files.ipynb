{
 "cells": [
  {
   "cell_type": "markdown",
   "metadata": {},
   "source": [
    "## OPENING AND CLOSING FILES\n",
    "- **syntax for opening**: f = open(file_name, mode)\n",
    "  - example modes: 'r' (read-only), 'w' (write-only)\n",
    "- **syntax for closing**: f.close()\n",
    "   - ALWAYS close open files prior to ending your Python program"
   ]
  },
  {
   "cell_type": "code",
   "execution_count": 1,
   "metadata": {},
   "outputs": [],
   "source": [
    "# Open file\n",
    "f = open('text_example.txt','r') # read-only\n",
    "\n",
    "# Close file\n",
    "f.close()"
   ]
  },
  {
   "cell_type": "markdown",
   "metadata": {},
   "source": [
    "## READING IN FROM A TEXT FILE\n",
    "- **syntax**: read in line-by-line: using *readline()*"
   ]
  },
  {
   "cell_type": "code",
   "execution_count": 2,
   "metadata": {},
   "outputs": [
    {
     "data": {
      "text/plain": [
       "'Rogue One is probably\\n'"
      ]
     },
     "execution_count": 2,
     "metadata": {},
     "output_type": "execute_result"
    }
   ],
   "source": [
    "f = open('text_example.txt','r')\n",
    "\n",
    "# Let's read in this text file, line-by-line!\n",
    "f.readline() # could save this to a variable!"
   ]
  },
  {
   "cell_type": "code",
   "execution_count": 3,
   "metadata": {},
   "outputs": [
    {
     "data": {
      "text/plain": [
       "'The best Star Wars movie ever made\\n'"
      ]
     },
     "execution_count": 3,
     "metadata": {},
     "output_type": "execute_result"
    }
   ],
   "source": [
    "f.readline() # "
   ]
  },
  {
   "cell_type": "code",
   "execution_count": 4,
   "metadata": {},
   "outputs": [
    {
     "data": {
      "text/plain": [
       "'Convince me otherwise!'"
      ]
     },
     "execution_count": 4,
     "metadata": {},
     "output_type": "execute_result"
    }
   ],
   "source": [
    "f.readline()"
   ]
  },
  {
   "cell_type": "markdown",
   "metadata": {},
   "source": [
    "  - **shortcut**: you can iterate over a file object!"
   ]
  },
  {
   "cell_type": "code",
   "execution_count": 5,
   "metadata": {},
   "outputs": [
    {
     "name": "stdout",
     "output_type": "stream",
     "text": [
      "Rogue One is probably\n",
      "\n",
      "The best Star Wars movie ever made\n",
      "\n",
      "Convince me otherwise!\n"
     ]
    }
   ],
   "source": [
    "# Or line-by-line, but using a loop:\n",
    "f = open(\"text_example.txt\",\"r\")\n",
    "for line in f: # can iterate over the file object\n",
    "    print(line) # could also save line in a variable"
   ]
  },
  {
   "cell_type": "markdown",
   "metadata": {},
   "source": [
    "- **syntax**: read in all at once using *readlines()*"
   ]
  },
  {
   "cell_type": "code",
   "execution_count": 6,
   "metadata": {},
   "outputs": [
    {
     "name": "stdout",
     "output_type": "stream",
     "text": [
      "['Rogue One is probably\\n', 'The best Star Wars movie ever made\\n', 'Convince me otherwise!']\n",
      "Rogue One is probably\n",
      "\n"
     ]
    }
   ],
   "source": [
    "# Or read entire file into a list of strings\n",
    "f = open(\"text_example.txt\",\"r\")  # alternative syntax:  with open(\"test_data.txt\",\"r\") as f:\n",
    "data = f.readlines()\n",
    "print(data)\n",
    "print(data[0]) # the first string element in this list!\n",
    "f.close()"
   ]
  },
  {
   "cell_type": "markdown",
   "metadata": {},
   "source": [
    "## WRITING OUT TO A TEXT FILE\n",
    "- **syntax**: use the *write()* or *writelines()* functions\n",
    "  - explicitly add newline character if needed\n",
    "  - if writing out numbers, must first cast as *strings*\n",
    "- **caveat**: remember to open file with WRITE permissions!"
   ]
  },
  {
   "cell_type": "code",
   "execution_count": 7,
   "metadata": {},
   "outputs": [],
   "source": [
    "# Output line by line \n",
    "f = open(\"text_output.txt\",\"w\")\n",
    "f.write('But The Empire Strikes Back\\n')\n",
    "f.write('Will always be considered\\n')\n",
    "f.write('Quite the classic!\\n')\n",
    "f.close()"
   ]
  },
  {
   "cell_type": "code",
   "execution_count": 8,
   "metadata": {},
   "outputs": [],
   "source": [
    "# Output a list of strings\n",
    "text_out = ['But the Empire Strikes Back\\n','Will always be considered\\n','Quite the classic!\\n']"
   ]
  },
  {
   "cell_type": "code",
   "execution_count": 9,
   "metadata": {},
   "outputs": [],
   "source": [
    "# A special way to open a file that ensures the file automatically closes at the end!\n",
    "# Could have used this previously!\n",
    "with open('text_output.txt','w') as f:\n",
    "    f.writelines(text_out)"
   ]
  }
 ],
 "metadata": {
  "kernelspec": {
   "display_name": "Python 3",
   "language": "python",
   "name": "python3"
  },
  "language_info": {
   "codemirror_mode": {
    "name": "ipython",
    "version": 3
   },
   "file_extension": ".py",
   "mimetype": "text/x-python",
   "name": "python",
   "nbconvert_exporter": "python",
   "pygments_lexer": "ipython3",
   "version": "3.7.6"
  }
 },
 "nbformat": 4,
 "nbformat_minor": 4
}
